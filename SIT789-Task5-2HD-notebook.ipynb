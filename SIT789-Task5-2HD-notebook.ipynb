{
 "cells": [
  {
   "cell_type": "markdown",
   "metadata": {},
   "source": [
    "# Task 5.2HD - Minor research project\n",
    "**Demonstration**"
   ]
  },
  {
   "cell_type": "markdown",
   "metadata": {},
   "source": [
    "The following notebook contains the code and demonstration for SIT789 Task 5.2HD “minor research project”. The chosen paper was [*Multi-Metric Optimization using Generative Adversarial Networks for Near-End Speech Intelligibility Enhancement*](https://arxiv.org/pdf/2104.08499.pdf) on the topic of speech intelligibility enhancement.\n",
    "\n",
    "For the associated report and discussion, please see the attached pdf document."
   ]
  },
  {
   "cell_type": "markdown",
   "metadata": {},
   "source": []
  },
  {
   "cell_type": "markdown",
   "metadata": {},
   "source": [
    "---"
   ]
  },
  {
   "cell_type": "markdown",
   "metadata": {},
   "source": [
    "# Set-up\n",
    "\n",
    "Note the current notebook is being run on a Google Cloud VM. This is due to the requirement for CUDA (GPU) in the original papers model. The specifications have been chosen to be compatible with the software versions specified in https://github.com/nii-yamagishilab/NELE-GAN/tree/master\n",
    "\n",
    "The specifications of the VM are:\n",
    "| Property | Value |\n",
    "| -- | -- |\n",
    "| Machine Type | n1-standard-4 |\n",
    "| Operating System| Debian 10 |\n",
    "| CPU Platform | Intel Broadwell |\n",
    "| CPU | 4 vCPU 16Gb RAM |\n",
    "| GPU | 1 x NVIDIA T4 |\n",
    "\n",
    "The following code is used to set-up the environment to mimic the original paper and install all dependencies."
   ]
  },
  {
   "cell_type": "code",
   "execution_count": 1,
   "metadata": {},
   "outputs": [
    {
     "name": "stdout",
     "output_type": "stream",
     "text": [
      "Python 3.7.12\n"
     ]
    }
   ],
   "source": [
    "# Check the python version\n",
    "!python -V"
   ]
  },
  {
   "cell_type": "code",
   "execution_count": null,
   "metadata": {},
   "outputs": [],
   "source": [
    "!pip install librosa==0.7.1 numpy==1.17.2 numba==0.48 matplotlib==3.1.1 pandas==1.0.0 --force-reinstall"
   ]
  },
  {
   "cell_type": "code",
   "execution_count": null,
   "metadata": {},
   "outputs": [],
   "source": [
    "# Install requirements for Intelligibility and Quality metrics\n",
    "!pip install git+https://github.com/kamo-naoyuki/pySIIB.git\n",
    "!pip install pystoi\n",
    "!pip install pypesq"
   ]
  },
  {
   "cell_type": "code",
   "execution_count": 3,
   "metadata": {},
   "outputs": [
    {
     "name": "stdout",
     "output_type": "stream",
     "text": [
      "Cloning into 'visqol'...\n",
      "remote: Enumerating objects: 728, done.\u001b[K\n",
      "remote: Counting objects: 100% (228/228), done.\u001b[K\n",
      "remote: Compressing objects: 100% (93/93), done.\u001b[K\n",
      "remote: Total 728 (delta 155), reused 164 (delta 131), pack-reused 500\u001b[K\n",
      "Receiving objects: 100% (728/728), 68.21 MiB | 15.28 MiB/s, done.\n",
      "Resolving deltas: 100% (410/410), done.\n"
     ]
    }
   ],
   "source": [
    "# Must manually build the VISQOL metric\n",
    "!git clone https://github.com/google/visqol.git"
   ]
  },
  {
   "cell_type": "code",
   "execution_count": 1,
   "metadata": {},
   "outputs": [],
   "source": [
    "# Once bazel is installed as per visqol README run the following in the command line under the visqol directory\n",
    "# Note you must set you python path correctly\n",
    "# NOTE: Had to change line 54 of .bazelrc from `build --linkopt=-ldl` to `build --linkopt=-lstdc++fs`\n",
    "# To avoid \n",
    "!bazel build :visqol -c opt --action_env PYTHON_BIN_PATH=\"/opt/conda/bin/python\""
   ]
  },
  {
   "cell_type": "code",
   "execution_count": 2,
   "metadata": {},
   "outputs": [
    {
     "name": "stdout",
     "output_type": "stream",
     "text": [
      "Cloning into 'NELE-GAN'...\n",
      "remote: Enumerating objects: 131, done.\u001b[K\n",
      "remote: Counting objects: 100% (131/131), done.\u001b[K\n",
      "remote: Compressing objects: 100% (115/115), done.\u001b[K\n",
      "remote: Total 131 (delta 52), reused 62 (delta 11), pack-reused 0\u001b[K\n",
      "Receiving objects: 100% (131/131), 10.52 MiB | 17.44 MiB/s, done.\n",
      "Resolving deltas: 100% (52/52), done.\n"
     ]
    }
   ],
   "source": [
    "# Clone the NELE-GAN repository\n",
    "!git clone https://github.com/nii-yamagishilab/NELE-GAN.git"
   ]
  },
  {
   "cell_type": "markdown",
   "metadata": {},
   "source": [
    "# Import Modules"
   ]
  },
  {
   "cell_type": "code",
   "execution_count": 46,
   "metadata": {},
   "outputs": [],
   "source": [
    "import os\n",
    "import glob\n",
    "import random\n",
    "\n",
    "import numpy as np\n",
    "import librosa\n",
    "import soundfile as sf\n",
    "import matplotlib.pyplot as plt"
   ]
  },
  {
   "cell_type": "markdown",
   "metadata": {},
   "source": [
    "# Data Preparation"
   ]
  },
  {
   "cell_type": "markdown",
   "metadata": {},
   "source": [
    "In this section we will source and prepare the data to be used for training and testing the model. The speech samples required are\n",
    "- Clean speech signals\n",
    "- Noise signals\n",
    "\n",
    "Each clean speech sample will be combined with a noise sample, and split into training, validation, and test datasets.\n",
    "\n",
    "The training signals will also be used to train a reference algorithm as per the original paper.\n",
    "\n",
    "The original model was trained on 1200 clean sentences (600 x 2 genders)."
   ]
  },
  {
   "cell_type": "markdown",
   "metadata": {},
   "source": [
    "## Data Sourcing"
   ]
  },
  {
   "cell_type": "markdown",
   "metadata": {},
   "source": [
    "The clean data set will be based off the *development* version of the LibriSpeech ASR corpus found [here](https://www.openslr.org/12).\n",
    "\n",
    ">Panayotov, V., Chen, G., Povey, D. and Khudanpur, S., 2015, April. Librispeech: an asr corpus based on public domain audio books. In 2015 IEEE international conference on acoustics, speech and signal processing (ICASSP) (pp. 5206-5210). IEEE."
   ]
  },
  {
   "cell_type": "code",
   "execution_count": 2,
   "metadata": {},
   "outputs": [
    {
     "name": "stdout",
     "output_type": "stream",
     "text": [
      "--2023-09-26 01:59:53--  http://www.openslr.org/resources/12/dev-clean.tar.gz\n",
      "Resolving www.openslr.org (www.openslr.org)... 46.101.158.64\n",
      "Connecting to www.openslr.org (www.openslr.org)|46.101.158.64|:80... connected.\n",
      "HTTP request sent, awaiting response... 302 Found\n",
      "Location: https://us.openslr.org/resources/12/dev-clean.tar.gz [following]\n",
      "--2023-09-26 01:59:54--  https://us.openslr.org/resources/12/dev-clean.tar.gz\n",
      "Resolving us.openslr.org (us.openslr.org)... 46.101.158.64\n",
      "Connecting to us.openslr.org (us.openslr.org)|46.101.158.64|:443... connected.\n",
      "HTTP request sent, awaiting response... 200 OK\n",
      "Length: 337926286 (322M) [application/x-gzip]\n",
      "Saving to: ‘source-data/dev-clean.tar.gz’\n",
      "\n",
      "dev-clean.tar.gz    100%[===================>] 322.27M  11.0MB/s    in 32s     \n",
      "\n",
      "2023-09-26 02:00:26 (10.2 MB/s) - ‘source-data/dev-clean.tar.gz’ saved [337926286/337926286]\n",
      "\n"
     ]
    }
   ],
   "source": [
    "# Download the dataset\n",
    "!mkdir -p source-data\n",
    "!wget -c --tries=0 --read-timeout=20 http://www.openslr.org/resources/12/dev-clean.tar.gz -P source-data\n",
    "!tar -xzf source-data/dev-clean.tar.gz -C source-data\n",
    "!rm -rf source-data/dev-clean.tar.gz"
   ]
  },
  {
   "cell_type": "code",
   "execution_count": 4,
   "metadata": {},
   "outputs": [
    {
     "name": "stdout",
     "output_type": "stream",
     "text": [
      "The number of audio files in the source data is: 2800\n"
     ]
    }
   ],
   "source": [
    "number_audio_files = sum([len(files) for r, d, files in os.walk(\"source-data/LibriSpeech/dev-clean/\")])\n",
    "print(f\"The number of audio files in the source data is: {number_audio_files}\")"
   ]
  },
  {
   "cell_type": "markdown",
   "metadata": {},
   "source": [
    "This gives us slightly more clean audio samples than what was used in the original paper."
   ]
  },
  {
   "cell_type": "code",
   "execution_count": 6,
   "metadata": {},
   "outputs": [
    {
     "data": {
      "image/png": "[encoded data removed]",
      "text/plain": [
       "<Figure size 640x480 with 1 Axes>"
      ]
     },
     "metadata": {},
     "output_type": "display_data"
    }
   ],
   "source": [
    "# Display the distribution of lengths of the audio samples\n",
    "# Function to get audio file lengths\n",
    "def get_audio_lengths(root_dir):\n",
    "    audio_lengths = []\n",
    "\n",
    "    for subdir, _, files in os.walk(root_dir):\n",
    "        for file in files:\n",
    "            if file.endswith(('.wav', '.mp3', '.flac')):\n",
    "                file_path = os.path.join(subdir, file)\n",
    "                try:\n",
    "                    y, sr = librosa.load(file_path, sr=None)\n",
    "                    duration = librosa.get_duration(y=y, sr=sr)\n",
    "                    audio_lengths.append(duration)\n",
    "                except Exception as e:\n",
    "                    print(f\"Error processing {file_path}: {e}\")\n",
    "\n",
    "    return audio_lengths\n",
    "\n",
    "root_directory = \"./source-data/LibriSpeech/dev-clean/\"\n",
    "audio_lengths = get_audio_lengths(root_directory)\n",
    "# Create a histogram\n",
    "plt.hist(audio_lengths, bins=50, alpha=0.7, color='b', edgecolor='black')\n",
    "plt.xlabel(\"Audio Duration (seconds)\")\n",
    "plt.ylabel(\"Frequency\")\n",
    "plt.title(\"Audio File Length Histogram\")\n",
    "plt.show()"
   ]
  },
  {
   "cell_type": "markdown",
   "metadata": {},
   "source": [
    "Next we will source the noise samples to be used.\n",
    "\n",
    "Like the original paper, we will source our noise samples from the [MS-SNSD](https://github.com/microsoft/MS-SNSD/tree/master) dataset however we will chose 6 different noise types than those chosen in the original paper.\n",
    "\n",
    ">Reddy, C.K., Beyrami, E., Pool, J., Cutler, R., Srinivasan, S. and Gehrke, J., 2019. A scalable noisy speech dataset and online subjective test framework. arXiv preprint arXiv:1909.08050."
   ]
  },
  {
   "cell_type": "code",
   "execution_count": 7,
   "metadata": {},
   "outputs": [
    {
     "name": "stdout",
     "output_type": "stream",
     "text": [
      "Cloning into 'MS-SNSD'...\n",
      "remote: Enumerating objects: 29924, done.\u001b[K\n",
      "remote: Counting objects: 100% (9/9), done.\u001b[K\n",
      "remote: Compressing objects: 100% (9/9), done.\u001b[K\n",
      "remote: Total 29924 (delta 2), reused 0 (delta 0), pack-reused 29915\u001b[K\n",
      "Receiving objects: 100% (29924/29924), 3.93 GiB | 19.35 MiB/s, done.\n",
      "Resolving deltas: 100% (80/80), done.\n",
      "Checking out files: 100% (24399/24399), done.\n"
     ]
    }
   ],
   "source": [
    "# Clone the repository\n",
    "!git clone https://github.com/microsoft/MS-SNSD.git"
   ]
  },
  {
   "cell_type": "code",
   "execution_count": 11,
   "metadata": {},
   "outputs": [
    {
     "name": "stdout",
     "output_type": "stream",
     "text": [
      "Unique Noise Types: AirConditioner, AirportAnnouncement, AirportAnnouncements, Babble, Bus, Cafe, CafeTeria, Car, CopyMachine, Field, Hallway, Kitchen, LivingRoom, Metro, Munching, Neighbor, NeighborSpeaking, Office, Park, Restaurant, ShuttingDoor, Square, SqueakyChair, Station, Traffic, Typing, VacuumCleaner, WasherDryer, Washing\n"
     ]
    }
   ],
   "source": [
    "# Define the directories to search for .wav files\n",
    "directories = [\"MS-SNSD/noise_test\", \"MS-SNSD/noise_train\"]\n",
    "\n",
    "# Initialize a set to store unique noise types\n",
    "unique_noise_types = set()\n",
    "\n",
    "# Loop through directories\n",
    "for directory in directories:\n",
    "    # Use glob to get a list of .wav files in the directory\n",
    "    wav_files = glob.glob(os.path.join(directory, \"*.wav\"))\n",
    "    \n",
    "    # Loop through .wav files and extract noise types\n",
    "    for wav_file in wav_files:\n",
    "        file_name = os.path.basename(wav_file)\n",
    "        # Split the file name by '_' and get the noise type\n",
    "        noise_type = file_name.split('_')[0]\n",
    "        unique_noise_types.add(noise_type)\n",
    "\n",
    "# Convert the set to a sorted list of unique noise types\n",
    "unique_noise_types_list = sorted(list(unique_noise_types))\n",
    "\n",
    "# Print the list of unique noise types\n",
    "print(f\"Unique Noise Types: {', '.join(unique_noise_types_list)}\")"
   ]
  },
  {
   "cell_type": "markdown",
   "metadata": {},
   "source": [
    "## Data Processing"
   ]
  },
  {
   "cell_type": "markdown",
   "metadata": {},
   "source": [
    "In this section we will split the data into train, validation, and test splits as well as generate the noise for each audio sample of the correct length and signal to noise ratio.\n",
    "\n",
    "These samples will be placed into a directory structure which is expected by the NELE-GAN model. That is:\n",
    "```\n",
    "├── Test\n",
    "│   ├── Clean\n",
    "│   │   ├── sample_name#noise_type#SNR.wav\n",
    "│   ├── Noise\n",
    "│   │   ├── sample_name#noise_type#SNR.wav\n",
    "├── Train\n",
    "│   ├── Clean\n",
    "│   │   ├── sample_name2#noise_type#SNR.wav\n",
    "│   ├── MultiEnh\n",
    "│   │   ├── sample_name2#noise_type#SNR.wav\n",
    "│   ├── Noise\n",
    "└── └── └── sample_name2#noise_type#SNR.wav\n",
    "```\n"
   ]
  },
  {
   "cell_type": "code",
   "execution_count": 69,
   "metadata": {},
   "outputs": [],
   "source": [
    "# Define some helper functions that will help generate the noise files\n",
    "\n",
    "def snr_mixer(clean, noise, snr):\n",
    "    # Normalizing to -25 dB FS\n",
    "    rmsclean = (clean**2).mean()**0.5\n",
    "    scalarclean = 10 ** (-25 / 20) / rmsclean\n",
    "    clean = clean * scalarclean\n",
    "    rmsclean = (clean**2).mean()**0.5\n",
    "\n",
    "    rmsnoise = (noise**2).mean()**0.5\n",
    "    scalarnoise = 10 ** (-25 / 20) /rmsnoise\n",
    "    noise = noise * scalarnoise\n",
    "    rmsnoise = (noise**2).mean()**0.5\n",
    "    \n",
    "    # Set the noise level for a given SNR\n",
    "    noisescalar = np.sqrt(rmsclean / (10**(snr/20)) / rmsnoise)\n",
    "    noisenewlevel = noise * noisescalar\n",
    "    \n",
    "    # return noise that is the same length as clean signal (NELE-GAN code does not check this)\n",
    "    if len(noisenewlevel) > len(clean):\n",
    "        # Truncate noisenewlevel if it is longer than clean\n",
    "        noisenewlevel = noisenewlevel[:len(clean)]\n",
    "    else:\n",
    "        # Repeat noisenewlevel to match the length of clean using numpy broadcasting\n",
    "        repetitions = -(-len(clean) // len(noisenewlevel))  # Calculate how many times to repeat noisenewlevel\n",
    "        noisenewlevel = np.tile(noisenewlevel, repetitions)[:len(clean)]  # Repeat noisenewlevel and truncate to the desired length\n",
    "    \n",
    "    assert len(noisenewlevel)==len(clean), f\"Length of noise is {len(noisenewlevel)} but length of clean is {len(clean)}\"\n",
    "    return clean, noisenewlevel\n",
    "\n",
    "eps = 1e-4\n",
    "# Function to read audio\n",
    "def audioread(path, norm = True, start=0, stop=None):\n",
    "    path = os.path.abspath(path)\n",
    "    if not os.path.exists(path):\n",
    "        raise ValueError(\"[{}] does not exist!\".format(path))\n",
    "    try:\n",
    "        x, sr = sf.read(path, start=start, stop=stop)\n",
    "    except RuntimeError:  # fix for sph pcm-embedded shortened v2\n",
    "        print('WARNING: Audio type not supported')\n",
    "\n",
    "    if len(x.shape) == 1:  # mono\n",
    "        if norm:\n",
    "            rms = (x ** 2).mean() ** 0.5\n",
    "            scalar = 10 ** (-25 / 20) / (rms)\n",
    "            x = x * scalar\n",
    "        return x, sr\n",
    "    else:  # multi-channel\n",
    "        x = x.T\n",
    "        x = x.sum(axis=0)/x.shape[0]\n",
    "        if norm:\n",
    "            rms = (x ** 2).mean() ** 0.5\n",
    "            scalar = 10 ** (-25 / 20) / (rms)\n",
    "            x = x * scalar\n",
    "        return x, sr\n",
    "    \n",
    "# Funtion to write audio    \n",
    "def audiowrite(data, fs, destpath, norm=False):\n",
    "    if norm:\n",
    "        rms = (data ** 2).mean() ** 0.5\n",
    "        scalar = 10 ** (-25 / 10) / (rms+eps)\n",
    "        data = data * scalar\n",
    "        if max(abs(data))>=1:\n",
    "            data = data/max(abs(data), eps)\n",
    "    \n",
    "    destpath = os.path.abspath(destpath)\n",
    "    destdir = os.path.dirname(destpath)\n",
    "    \n",
    "    if not os.path.exists(destdir):\n",
    "        os.makedirs(destdir)\n",
    "    \n",
    "    sf.write(destpath, data, fs)\n",
    "    return"
   ]
  },
  {
   "cell_type": "code",
   "execution_count": 70,
   "metadata": {},
   "outputs": [],
   "source": [
    "test_speech, test_speech_sr = audioread(\"source-data/LibriSpeech/dev-clean/174/84280/174-84280-0013.flac\")\n",
    "test_noise, test_noise_sr = audioread(\"MS-SNSD/noise_train/NeighborSpeaking_14.wav\")\n",
    "\n",
    "test_clean, test_newnoise = snr_mixer(test_speech, test_noise, -13)\n",
    "\n",
    "# audiowrite(test_clean, test_speech_sr, \"test_clean.wav\")\n",
    "# audiowrite(test_newnoise, test_noise_sr, \"test_noise.wav\")"
   ]
  },
  {
   "cell_type": "code",
   "execution_count": 48,
   "metadata": {},
   "outputs": [],
   "source": [
    "def get_all_files_in_directory(root_directory):\n",
    "    file_list = []\n",
    "\n",
    "    for root, _, files in os.walk(root_directory):\n",
    "        for file in files:\n",
    "            if file.endswith(('.wav', '.mp3', '.flac')):\n",
    "                file_path = os.path.join(root, file)\n",
    "                file_list.append(file_path)\n",
    "\n",
    "    return file_list\n",
    "\n",
    "clean_signals = get_all_files_in_directory('source-data/LibriSpeech/dev-clean/')\n",
    "# Randomly shuffle the file paths\n",
    "random.shuffle(clean_signals)"
   ]
  },
  {
   "cell_type": "code",
   "execution_count": null,
   "metadata": {},
   "outputs": [],
   "source": [
    "# Store the configuration in a dictionary\n",
    "splits_config = {\n",
    "    \"Train\": {\n",
    "        \"Size\": 0.8,\n",
    "        \"NoiseTypes\": [\"AirConditioner\",\"NeighborSpeaking\", \"Munching\", \"Typing\"]\n",
    "    },\n",
    "    \"Validation\": {\n",
    "        \"Size\": 0.1,\n",
    "        \"NoiseTypes\": [\"AirConditioner\",\"NeighborSpeaking\", \"Munching\", \"Typing\"]\n",
    "    },\n",
    "    \"Test\": {\n",
    "        \"Size\": 0.1,\n",
    "        \"NoiseTypes\": [\"Cafe\",\"VacuumCleaner\"]\n",
    "    }\n",
    "}\n",
    "\n",
    "# Define the SNR levels for each noise, values replicated from original paper\n",
    "noise_snr_config = {\n",
    "    \"AirConditioner\":[-11,-7,-3],\n",
    "    \"NeighborSpeaking\":[-11,-7,-3],\n",
    "    \"Munching\":[-11,-7,-3],\n",
    "    \"Typing\":[-11,-7,-3],\n",
    "    \"Cafe\":[-9,-5,-1],\n",
    "    \"VacuumCleaner\":[-13,-9,-5],\n",
    "}"
   ]
  },
  {
   "cell_type": "code",
   "execution_count": 72,
   "metadata": {},
   "outputs": [
    {
     "name": "stdout",
     "output_type": "stream",
     "text": [
      "Generating Train data...\n"
     ]
    },
    {
     "ename": "LibsndfileError",
     "evalue": "System error.",
     "output_type": "error",
     "traceback": [
      "\u001b[0;31m---------------------------------------------------------------------------\u001b[0m",
      "\u001b[0;31mLibsndfileError\u001b[0m                           Traceback (most recent call last)",
      "\u001b[0;32m/var/tmp/ipykernel_27144/2201221468.py\u001b[0m in \u001b[0;36m<module>\u001b[0;34m\u001b[0m\n\u001b[1;32m     37\u001b[0m                 \u001b[0maudiowrite\u001b[0m\u001b[0;34m(\u001b[0m\u001b[0mclean\u001b[0m\u001b[0;34m,\u001b[0m \u001b[0mspeech_sr\u001b[0m\u001b[0;34m,\u001b[0m \u001b[0mclean_dir\u001b[0m\u001b[0;34m)\u001b[0m\u001b[0;34m\u001b[0m\u001b[0;34m\u001b[0m\u001b[0m\n\u001b[1;32m     38\u001b[0m                 \u001b[0mnoise_dir\u001b[0m \u001b[0;34m=\u001b[0m \u001b[0mos\u001b[0m\u001b[0;34m.\u001b[0m\u001b[0mpath\u001b[0m\u001b[0;34m.\u001b[0m\u001b[0mjoin\u001b[0m\u001b[0;34m(\u001b[0m\u001b[0mroot_dir\u001b[0m\u001b[0;34m,\u001b[0m \u001b[0msplit\u001b[0m\u001b[0;34m,\u001b[0m \u001b[0;34m\"Noise\"\u001b[0m\u001b[0;34m,\u001b[0m \u001b[0;34mf\"{speech_file_noext}#{noise_type}#{snr}.wav\"\u001b[0m\u001b[0;34m)\u001b[0m\u001b[0;34m\u001b[0m\u001b[0;34m\u001b[0m\u001b[0m\n\u001b[0;32m---> 39\u001b[0;31m                 \u001b[0maudiowrite\u001b[0m\u001b[0;34m(\u001b[0m\u001b[0mnewnoise\u001b[0m\u001b[0;34m,\u001b[0m \u001b[0mnoise_sr\u001b[0m\u001b[0;34m,\u001b[0m \u001b[0mnoise_dir\u001b[0m\u001b[0;34m)\u001b[0m\u001b[0;34m\u001b[0m\u001b[0;34m\u001b[0m\u001b[0m\n\u001b[0m",
      "\u001b[0;32m/var/tmp/ipykernel_27144/3453767842.py\u001b[0m in \u001b[0;36maudiowrite\u001b[0;34m(data, fs, destpath, norm)\u001b[0m\n\u001b[1;32m     70\u001b[0m         \u001b[0mos\u001b[0m\u001b[0;34m.\u001b[0m\u001b[0mmakedirs\u001b[0m\u001b[0;34m(\u001b[0m\u001b[0mdestdir\u001b[0m\u001b[0;34m)\u001b[0m\u001b[0;34m\u001b[0m\u001b[0;34m\u001b[0m\u001b[0m\n\u001b[1;32m     71\u001b[0m \u001b[0;34m\u001b[0m\u001b[0m\n\u001b[0;32m---> 72\u001b[0;31m     \u001b[0msf\u001b[0m\u001b[0;34m.\u001b[0m\u001b[0mwrite\u001b[0m\u001b[0;34m(\u001b[0m\u001b[0mdestpath\u001b[0m\u001b[0;34m,\u001b[0m \u001b[0mdata\u001b[0m\u001b[0;34m,\u001b[0m \u001b[0mfs\u001b[0m\u001b[0;34m)\u001b[0m\u001b[0;34m\u001b[0m\u001b[0;34m\u001b[0m\u001b[0m\n\u001b[0m\u001b[1;32m     73\u001b[0m     \u001b[0;32mreturn\u001b[0m\u001b[0;34m\u001b[0m\u001b[0;34m\u001b[0m\u001b[0m\n",
      "\u001b[0;32m/opt/conda/lib/python3.7/site-packages/soundfile.py\u001b[0m in \u001b[0;36mwrite\u001b[0;34m(file, data, samplerate, subtype, endian, format, closefd)\u001b[0m\n\u001b[1;32m    343\u001b[0m     with SoundFile(file, 'w', samplerate, channels,\n\u001b[1;32m    344\u001b[0m                    subtype, endian, format, closefd) as f:\n\u001b[0;32m--> 345\u001b[0;31m         \u001b[0mf\u001b[0m\u001b[0;34m.\u001b[0m\u001b[0mwrite\u001b[0m\u001b[0;34m(\u001b[0m\u001b[0mdata\u001b[0m\u001b[0;34m)\u001b[0m\u001b[0;34m\u001b[0m\u001b[0;34m\u001b[0m\u001b[0m\n\u001b[0m\u001b[1;32m    346\u001b[0m \u001b[0;34m\u001b[0m\u001b[0m\n\u001b[1;32m    347\u001b[0m \u001b[0;34m\u001b[0m\u001b[0m\n",
      "\u001b[0;32m/opt/conda/lib/python3.7/site-packages/soundfile.py\u001b[0m in \u001b[0;36mwrite\u001b[0;34m(self, data)\u001b[0m\n\u001b[1;32m   1018\u001b[0m         \u001b[0;31m# no copy is made if data has already the correct memory layout:\u001b[0m\u001b[0;34m\u001b[0m\u001b[0;34m\u001b[0m\u001b[0;34m\u001b[0m\u001b[0m\n\u001b[1;32m   1019\u001b[0m         \u001b[0mdata\u001b[0m \u001b[0;34m=\u001b[0m \u001b[0mnp\u001b[0m\u001b[0;34m.\u001b[0m\u001b[0mascontiguousarray\u001b[0m\u001b[0;34m(\u001b[0m\u001b[0mdata\u001b[0m\u001b[0;34m)\u001b[0m\u001b[0;34m\u001b[0m\u001b[0;34m\u001b[0m\u001b[0m\n\u001b[0;32m-> 1020\u001b[0;31m         \u001b[0mwritten\u001b[0m \u001b[0;34m=\u001b[0m \u001b[0mself\u001b[0m\u001b[0;34m.\u001b[0m\u001b[0m_array_io\u001b[0m\u001b[0;34m(\u001b[0m\u001b[0;34m'write'\u001b[0m\u001b[0;34m,\u001b[0m \u001b[0mdata\u001b[0m\u001b[0;34m,\u001b[0m \u001b[0mlen\u001b[0m\u001b[0;34m(\u001b[0m\u001b[0mdata\u001b[0m\u001b[0;34m)\u001b[0m\u001b[0;34m)\u001b[0m\u001b[0;34m\u001b[0m\u001b[0;34m\u001b[0m\u001b[0m\n\u001b[0m\u001b[1;32m   1021\u001b[0m         \u001b[0;32massert\u001b[0m \u001b[0mwritten\u001b[0m \u001b[0;34m==\u001b[0m \u001b[0mlen\u001b[0m\u001b[0;34m(\u001b[0m\u001b[0mdata\u001b[0m\u001b[0;34m)\u001b[0m\u001b[0;34m\u001b[0m\u001b[0;34m\u001b[0m\u001b[0m\n\u001b[1;32m   1022\u001b[0m         \u001b[0mself\u001b[0m\u001b[0;34m.\u001b[0m\u001b[0m_update_frames\u001b[0m\u001b[0;34m(\u001b[0m\u001b[0mwritten\u001b[0m\u001b[0;34m)\u001b[0m\u001b[0;34m\u001b[0m\u001b[0;34m\u001b[0m\u001b[0m\n",
      "\u001b[0;32m/opt/conda/lib/python3.7/site-packages/soundfile.py\u001b[0m in \u001b[0;36m_array_io\u001b[0;34m(self, action, array, frames)\u001b[0m\n\u001b[1;32m   1342\u001b[0m         \u001b[0;32massert\u001b[0m \u001b[0marray\u001b[0m\u001b[0;34m.\u001b[0m\u001b[0mdtype\u001b[0m\u001b[0;34m.\u001b[0m\u001b[0mitemsize\u001b[0m \u001b[0;34m==\u001b[0m \u001b[0m_ffi\u001b[0m\u001b[0;34m.\u001b[0m\u001b[0msizeof\u001b[0m\u001b[0;34m(\u001b[0m\u001b[0mctype\u001b[0m\u001b[0;34m)\u001b[0m\u001b[0;34m\u001b[0m\u001b[0;34m\u001b[0m\u001b[0m\n\u001b[1;32m   1343\u001b[0m         \u001b[0mcdata\u001b[0m \u001b[0;34m=\u001b[0m \u001b[0m_ffi\u001b[0m\u001b[0;34m.\u001b[0m\u001b[0mcast\u001b[0m\u001b[0;34m(\u001b[0m\u001b[0mctype\u001b[0m \u001b[0;34m+\u001b[0m \u001b[0;34m'*'\u001b[0m\u001b[0;34m,\u001b[0m \u001b[0marray\u001b[0m\u001b[0;34m.\u001b[0m\u001b[0m__array_interface__\u001b[0m\u001b[0;34m[\u001b[0m\u001b[0;34m'data'\u001b[0m\u001b[0;34m]\u001b[0m\u001b[0;34m[\u001b[0m\u001b[0;36m0\u001b[0m\u001b[0;34m]\u001b[0m\u001b[0;34m)\u001b[0m\u001b[0;34m\u001b[0m\u001b[0;34m\u001b[0m\u001b[0m\n\u001b[0;32m-> 1344\u001b[0;31m         \u001b[0;32mreturn\u001b[0m \u001b[0mself\u001b[0m\u001b[0;34m.\u001b[0m\u001b[0m_cdata_io\u001b[0m\u001b[0;34m(\u001b[0m\u001b[0maction\u001b[0m\u001b[0;34m,\u001b[0m \u001b[0mcdata\u001b[0m\u001b[0;34m,\u001b[0m \u001b[0mctype\u001b[0m\u001b[0;34m,\u001b[0m \u001b[0mframes\u001b[0m\u001b[0;34m)\u001b[0m\u001b[0;34m\u001b[0m\u001b[0;34m\u001b[0m\u001b[0m\n\u001b[0m\u001b[1;32m   1345\u001b[0m \u001b[0;34m\u001b[0m\u001b[0m\n\u001b[1;32m   1346\u001b[0m     \u001b[0;32mdef\u001b[0m \u001b[0m_cdata_io\u001b[0m\u001b[0;34m(\u001b[0m\u001b[0mself\u001b[0m\u001b[0;34m,\u001b[0m \u001b[0maction\u001b[0m\u001b[0;34m,\u001b[0m \u001b[0mdata\u001b[0m\u001b[0;34m,\u001b[0m \u001b[0mctype\u001b[0m\u001b[0;34m,\u001b[0m \u001b[0mframes\u001b[0m\u001b[0;34m)\u001b[0m\u001b[0;34m:\u001b[0m\u001b[0;34m\u001b[0m\u001b[0;34m\u001b[0m\u001b[0m\n",
      "\u001b[0;32m/opt/conda/lib/python3.7/site-packages/soundfile.py\u001b[0m in \u001b[0;36m_cdata_io\u001b[0;34m(self, action, data, ctype, frames)\u001b[0m\n\u001b[1;32m   1352\u001b[0m         \u001b[0mfunc\u001b[0m \u001b[0;34m=\u001b[0m \u001b[0mgetattr\u001b[0m\u001b[0;34m(\u001b[0m\u001b[0m_snd\u001b[0m\u001b[0;34m,\u001b[0m \u001b[0;34m'sf_'\u001b[0m \u001b[0;34m+\u001b[0m \u001b[0maction\u001b[0m \u001b[0;34m+\u001b[0m \u001b[0;34m'f_'\u001b[0m \u001b[0;34m+\u001b[0m \u001b[0mctype\u001b[0m\u001b[0;34m)\u001b[0m\u001b[0;34m\u001b[0m\u001b[0;34m\u001b[0m\u001b[0m\n\u001b[1;32m   1353\u001b[0m         \u001b[0mframes\u001b[0m \u001b[0;34m=\u001b[0m \u001b[0mfunc\u001b[0m\u001b[0;34m(\u001b[0m\u001b[0mself\u001b[0m\u001b[0;34m.\u001b[0m\u001b[0m_file\u001b[0m\u001b[0;34m,\u001b[0m \u001b[0mdata\u001b[0m\u001b[0;34m,\u001b[0m \u001b[0mframes\u001b[0m\u001b[0;34m)\u001b[0m\u001b[0;34m\u001b[0m\u001b[0;34m\u001b[0m\u001b[0m\n\u001b[0;32m-> 1354\u001b[0;31m         \u001b[0m_error_check\u001b[0m\u001b[0;34m(\u001b[0m\u001b[0mself\u001b[0m\u001b[0;34m.\u001b[0m\u001b[0m_errorcode\u001b[0m\u001b[0;34m)\u001b[0m\u001b[0;34m\u001b[0m\u001b[0;34m\u001b[0m\u001b[0m\n\u001b[0m\u001b[1;32m   1355\u001b[0m         \u001b[0;32mif\u001b[0m \u001b[0mself\u001b[0m\u001b[0;34m.\u001b[0m\u001b[0mseekable\u001b[0m\u001b[0;34m(\u001b[0m\u001b[0;34m)\u001b[0m\u001b[0;34m:\u001b[0m\u001b[0;34m\u001b[0m\u001b[0;34m\u001b[0m\u001b[0m\n\u001b[1;32m   1356\u001b[0m             \u001b[0mself\u001b[0m\u001b[0;34m.\u001b[0m\u001b[0mseek\u001b[0m\u001b[0;34m(\u001b[0m\u001b[0mcurr\u001b[0m \u001b[0;34m+\u001b[0m \u001b[0mframes\u001b[0m\u001b[0;34m,\u001b[0m \u001b[0mSEEK_SET\u001b[0m\u001b[0;34m)\u001b[0m  \u001b[0;31m# Update read & write position\u001b[0m\u001b[0;34m\u001b[0m\u001b[0;34m\u001b[0m\u001b[0m\n",
      "\u001b[0;32m/opt/conda/lib/python3.7/site-packages/soundfile.py\u001b[0m in \u001b[0;36m_error_check\u001b[0;34m(err, prefix)\u001b[0m\n\u001b[1;32m   1405\u001b[0m     \u001b[0;34m\"\"\"Raise LibsndfileError if there is an error.\"\"\"\u001b[0m\u001b[0;34m\u001b[0m\u001b[0;34m\u001b[0m\u001b[0m\n\u001b[1;32m   1406\u001b[0m     \u001b[0;32mif\u001b[0m \u001b[0merr\u001b[0m \u001b[0;34m!=\u001b[0m \u001b[0;36m0\u001b[0m\u001b[0;34m:\u001b[0m\u001b[0;34m\u001b[0m\u001b[0;34m\u001b[0m\u001b[0m\n\u001b[0;32m-> 1407\u001b[0;31m         \u001b[0;32mraise\u001b[0m \u001b[0mLibsndfileError\u001b[0m\u001b[0;34m(\u001b[0m\u001b[0merr\u001b[0m\u001b[0;34m,\u001b[0m \u001b[0mprefix\u001b[0m\u001b[0;34m=\u001b[0m\u001b[0mprefix\u001b[0m\u001b[0;34m)\u001b[0m\u001b[0;34m\u001b[0m\u001b[0;34m\u001b[0m\u001b[0m\n\u001b[0m\u001b[1;32m   1408\u001b[0m \u001b[0;34m\u001b[0m\u001b[0m\n\u001b[1;32m   1409\u001b[0m \u001b[0;34m\u001b[0m\u001b[0m\n",
      "\u001b[0;31mLibsndfileError\u001b[0m: System error."
     ]
    }
   ],
   "source": [
    "# Now write files to expected structure\n",
    "\n",
    "root_dir = \"data\"\n",
    "\n",
    "train_split_size = int(splits_config[\"Train\"][\"Size\"] * len(clean_signals))\n",
    "val_split_size = int(splits_config[\"Validation\"][\"Size\"] * len(clean_signals))\n",
    "test_split_size = int(splits_config[\"Test\"][\"Size\"] * len(clean_signals))\n",
    "\n",
    "train_files = clean_signals[:train_split_size]\n",
    "val_files = clean_signals[train_split_size:train_split_size + val_split_size]\n",
    "test_files = clean_signals[train_split_size + val_split_size:]\n",
    "\n",
    "splits_config[\"Train\"][\"Files\"] = train_files\n",
    "splits_config[\"Validation\"][\"Files\"] = val_files\n",
    "splits_config[\"Test\"][\"Files\"] = test_files\n",
    "\n",
    "# For each split\n",
    "for split, config in splits_config.items():\n",
    "    print(f\"Generating {split} data...\")\n",
    "    # For each file in the list of files\n",
    "    for speech_file in config[\"Files\"]:\n",
    "        # Read the clean file\n",
    "        speech, speech_sr = audioread(speech_file)\n",
    "        speech_file_noext = speech_file.split(\"/\")[-1].split(\".\")[0]\n",
    "        # For each noise type configured for the split\n",
    "        for noise_type in config[\"NoiseTypes\"]:\n",
    "            # Find all the files which match that noise type\n",
    "            matching_noise_patterns = glob.glob(f\"MS-SNSD/noise_*/{noise_type}*\")\n",
    "            # Randomly choose one of the matching noise files\n",
    "            noise_file = random.choice(matching_noise_patterns)\n",
    "            noise, noise_sr = audioread(noise_file)\n",
    "            # For each SNR value for that particular noise type\n",
    "            for snr in noise_snr_config[noise_type]:\n",
    "                clean, newnoise = snr_mixer(speech, noise, snr)\n",
    "                # Finally, write the files to the required folder\n",
    "                clean_dir = os.path.join(root_dir, split, \"Clean\", f\"{speech_file_noext}#{noise_type}#{snr}.wav\")\n",
    "                audiowrite(clean, speech_sr, clean_dir)\n",
    "                noise_dir = os.path.join(root_dir, split, \"Noise\", f\"{speech_file_noext}#{noise_type}#{snr}.wav\")\n",
    "                audiowrite(newnoise, noise_sr, noise_dir)"
   ]
  },
  {
   "cell_type": "code",
   "execution_count": null,
   "metadata": {},
   "outputs": [],
   "source": []
  }
 ],
 "metadata": {
  "kernelspec": {
   "display_name": "Python 3",
   "language": "python",
   "name": "python3"
  },
  "language_info": {
   "codemirror_mode": {
    "name": "ipython",
    "version": 3
   },
   "file_extension": ".py",
   "mimetype": "text/x-python",
   "name": "python",
   "nbconvert_exporter": "python",
   "pygments_lexer": "ipython3",
   "version": "3.7.12"
  },
  "orig_nbformat": 4
 },
 "nbformat": 4,
 "nbformat_minor": 2
}
