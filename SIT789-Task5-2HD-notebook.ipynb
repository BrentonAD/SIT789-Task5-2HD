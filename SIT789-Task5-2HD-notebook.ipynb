{
 "cells": [
  {
   "cell_type": "markdown",
   "metadata": {},
   "source": [
    "# Task 5.2HD - Minor research project\n",
    "**Demonstration**"
   ]
  },
  {
   "cell_type": "markdown",
   "metadata": {},
   "source": [
    "The following notebook contains the code and demonstration for SIT789 Task 5.2HD “minor research project”. The chosen paper was [*Multi-Metric Optimization using Generative Adversarial Networks for Near-End Speech Intelligibility Enhancement*](https://arxiv.org/pdf/2104.08499.pdf) on the topic of speech intelligibility enhancement.\n",
    "\n",
    "For the associated report and discussion, please see the attached pdf document."
   ]
  },
  {
   "cell_type": "markdown",
   "metadata": {},
   "source": []
  },
  {
   "cell_type": "markdown",
   "metadata": {},
   "source": [
    "---"
   ]
  },
  {
   "cell_type": "markdown",
   "metadata": {},
   "source": [
    "# Set-up\n",
    "\n",
    "Note the current notebook is being run on a Google Cloud VM. This is due to the requirement for CUDA (GPU) in the original papers model. The specifications have been chosen to be compatible with the software versions specified in https://github.com/nii-yamagishilab/NELE-GAN/tree/master\n",
    "\n",
    "The specifications of the VM are:\n",
    "| Property | Value |\n",
    "| -- | -- |\n",
    "| Machine Type | n1-standard-4 |\n",
    "| Operating System| Debian 10 |\n",
    "| CPU Platform | Intel Broadwell |\n",
    "| CPU | 4 vCPU 16Gb RAM |\n",
    "| GPU | 1 x NVIDIA T4 |\n",
    "\n",
    "The following code is used to set-up the environment to mimic the original paper and install all dependencies."
   ]
  },
  {
   "cell_type": "code",
   "execution_count": 1,
   "metadata": {},
   "outputs": [
    {
     "name": "stdout",
     "output_type": "stream",
     "text": [
      "Python 3.7.12\n"
     ]
    }
   ],
   "source": [
    "# Check the python version\n",
    "!python -V"
   ]
  },
  {
   "cell_type": "code",
   "execution_count": null,
   "metadata": {},
   "outputs": [],
   "source": [
    "!pip install librosa==0.7.1 numpy==1.17.2 numba==0.48 matplotlib==3.1.1 pandas==1.0.0 --force-reinstall"
   ]
  },
  {
   "cell_type": "code",
   "execution_count": null,
   "metadata": {},
   "outputs": [],
   "source": [
    "# Install requirements for Intelligibility and Quality metrics\n",
    "!pip install git+https://github.com/kamo-naoyuki/pySIIB.git\n",
    "!pip install pystoi\n",
    "!pip install pypesq"
   ]
  },
  {
   "cell_type": "code",
   "execution_count": 3,
   "metadata": {},
   "outputs": [
    {
     "name": "stdout",
     "output_type": "stream",
     "text": [
      "Cloning into 'visqol'...\n",
      "remote: Enumerating objects: 728, done.\u001b[K\n",
      "remote: Counting objects: 100% (228/228), done.\u001b[K\n",
      "remote: Compressing objects: 100% (93/93), done.\u001b[K\n",
      "remote: Total 728 (delta 155), reused 164 (delta 131), pack-reused 500\u001b[K\n",
      "Receiving objects: 100% (728/728), 68.21 MiB | 15.28 MiB/s, done.\n",
      "Resolving deltas: 100% (410/410), done.\n"
     ]
    }
   ],
   "source": [
    "# Must manually build the VISQOL metric\n",
    "!git clone https://github.com/google/visqol.git"
   ]
  },
  {
   "cell_type": "code",
   "execution_count": 1,
   "metadata": {},
   "outputs": [],
   "source": [
    "# Once bazel is installed as per visqol README run the following in the command line under the visqol directory\n",
    "# Note you must set you python path correctly\n",
    "# NOTE: Had to change line 54 of .bazelrc from `build --linkopt=-ldl` to `build --linkopt=-lstdc++fs`\n",
    "!bazel build :visqol -c opt --action_env PYTHON_BIN_PATH=\"/opt/conda/bin/python\""
   ]
  },
  {
   "cell_type": "code",
   "execution_count": 2,
   "metadata": {},
   "outputs": [
    {
     "name": "stdout",
     "output_type": "stream",
     "text": [
      "Cloning into 'NELE-GAN'...\n",
      "remote: Enumerating objects: 131, done.\u001b[K\n",
      "remote: Counting objects: 100% (131/131), done.\u001b[K\n",
      "remote: Compressing objects: 100% (115/115), done.\u001b[K\n",
      "remote: Total 131 (delta 52), reused 62 (delta 11), pack-reused 0\u001b[K\n",
      "Receiving objects: 100% (131/131), 10.52 MiB | 17.44 MiB/s, done.\n",
      "Resolving deltas: 100% (52/52), done.\n"
     ]
    }
   ],
   "source": [
    "# Clone the NELE-GAN repository\n",
    "!git clone https://github.com/nii-yamagishilab/NELE-GAN.git"
   ]
  },
  {
   "cell_type": "markdown",
   "metadata": {},
   "source": [
    "# Import Modules"
   ]
  },
  {
   "cell_type": "code",
   "execution_count": 1,
   "metadata": {},
   "outputs": [],
   "source": [
    "import os\n",
    "import glob\n",
    "import random\n",
    "import shutil\n",
    "\n",
    "import numpy as np\n",
    "import librosa\n",
    "import soundfile as sf\n",
    "import matplotlib.pyplot as plt\n",
    "from matplotlib.image import imread\n",
    "\n",
    "import torch\n",
    "import torch.nn as nn\n",
    "from NELE_GAN.audio_util import *\n",
    "from pystoi.stoi import stoi\n",
    "from NELE_GAN.model import Generator_Conv1D_cLN, Discriminator, Discriminator_Quality\n",
    "from NELE_GAN.dataloader import *\n",
    "\n",
    "from tqdm import tqdm\n",
    "import soundfile as sf"
   ]
  },
  {
   "cell_type": "markdown",
   "metadata": {},
   "source": [
    "# Data Preparation"
   ]
  },
  {
   "cell_type": "markdown",
   "metadata": {},
   "source": [
    "In this section we will source and prepare the data to be used for training and testing the model. The speech samples required are\n",
    "- Clean speech signals\n",
    "- Noise signals\n",
    "\n",
    "Each clean speech sample will be combined with a noise sample, and split into training, validation, and test datasets.\n",
    "\n",
    "The training signals will also be used to train a reference algorithm as per the original paper.\n",
    "\n",
    "The original model was trained on 1200 clean sentences (600 x 2 genders)."
   ]
  },
  {
   "cell_type": "markdown",
   "metadata": {},
   "source": [
    "## Data Sourcing"
   ]
  },
  {
   "cell_type": "markdown",
   "metadata": {},
   "source": [
    "The clean data set will be based off the *development* version of the LibriSpeech ASR corpus found [here](https://www.openslr.org/12).\n",
    "\n",
    ">Panayotov, V., Chen, G., Povey, D. and Khudanpur, S., 2015, April. Librispeech: an asr corpus based on public domain audio books. In 2015 IEEE international conference on acoustics, speech and signal processing (ICASSP) (pp. 5206-5210). IEEE."
   ]
  },
  {
   "cell_type": "code",
   "execution_count": 2,
   "metadata": {},
   "outputs": [
    {
     "name": "stdout",
     "output_type": "stream",
     "text": [
      "--2023-09-26 01:59:53--  http://www.openslr.org/resources/12/dev-clean.tar.gz\n",
      "Resolving www.openslr.org (www.openslr.org)... 46.101.158.64\n",
      "Connecting to www.openslr.org (www.openslr.org)|46.101.158.64|:80... connected.\n",
      "HTTP request sent, awaiting response... 302 Found\n",
      "Location: https://us.openslr.org/resources/12/dev-clean.tar.gz [following]\n",
      "--2023-09-26 01:59:54--  https://us.openslr.org/resources/12/dev-clean.tar.gz\n",
      "Resolving us.openslr.org (us.openslr.org)... 46.101.158.64\n",
      "Connecting to us.openslr.org (us.openslr.org)|46.101.158.64|:443... connected.\n",
      "HTTP request sent, awaiting response... 200 OK\n",
      "Length: 337926286 (322M) [application/x-gzip]\n",
      "Saving to: ‘source-data/dev-clean.tar.gz’\n",
      "\n",
      "dev-clean.tar.gz    100%[===================>] 322.27M  11.0MB/s    in 32s     \n",
      "\n",
      "2023-09-26 02:00:26 (10.2 MB/s) - ‘source-data/dev-clean.tar.gz’ saved [337926286/337926286]\n",
      "\n"
     ]
    }
   ],
   "source": [
    "# Download the dataset\n",
    "!mkdir -p source-data\n",
    "!wget -c --tries=0 --read-timeout=20 http://www.openslr.org/resources/12/dev-clean.tar.gz -P source-data\n",
    "!tar -xzf source-data/dev-clean.tar.gz -C source-data\n",
    "!rm -rf source-data/dev-clean.tar.gz"
   ]
  },
  {
   "cell_type": "code",
   "execution_count": 4,
   "metadata": {},
   "outputs": [
    {
     "name": "stdout",
     "output_type": "stream",
     "text": [
      "The number of audio files in the source data is: 2800\n"
     ]
    }
   ],
   "source": [
    "number_audio_files = sum([len(files) for r, d, files in os.walk(\"source-data/LibriSpeech/dev-clean/\")])\n",
    "print(f\"The number of audio files in the source data is: {number_audio_files}\")"
   ]
  },
  {
   "cell_type": "markdown",
   "metadata": {},
   "source": [
    "This gives us slightly more clean audio samples than what was used in the original paper."
   ]
  },
  {
   "cell_type": "code",
   "execution_count": 6,
   "metadata": {},
   "outputs": [
    {
     "data": {
      "image/png": "[encoded data removed]",
      "text/plain": [
       "<Figure size 640x480 with 1 Axes>"
      ]
     },
     "metadata": {},
     "output_type": "display_data"
    }
   ],
   "source": [
    "# Display the distribution of lengths of the audio samples\n",
    "# Function to get audio file lengths\n",
    "def get_audio_lengths(root_dir):\n",
    "    audio_lengths = []\n",
    "\n",
    "    for subdir, _, files in os.walk(root_dir):\n",
    "        for file in files:\n",
    "            if file.endswith(('.wav', '.mp3', '.flac')):\n",
    "                file_path = os.path.join(subdir, file)\n",
    "                try:\n",
    "                    y, sr = librosa.load(file_path, sr=None)\n",
    "                    duration = librosa.get_duration(y=y, sr=sr)\n",
    "                    audio_lengths.append(duration)\n",
    "                except Exception as e:\n",
    "                    print(f\"Error processing {file_path}: {e}\")\n",
    "\n",
    "    return audio_lengths\n",
    "\n",
    "root_directory = \"./source-data/LibriSpeech/dev-clean/\"\n",
    "audio_lengths = get_audio_lengths(root_directory)\n",
    "# Create a histogram\n",
    "plt.hist(audio_lengths, bins=50, alpha=0.7, color='b', edgecolor='black')\n",
    "plt.xlabel(\"Audio Duration (seconds)\")\n",
    "plt.ylabel(\"Frequency\")\n",
    "plt.title(\"Audio File Length Histogram\")\n",
    "plt.show()"
   ]
  },
  {
   "cell_type": "markdown",
   "metadata": {},
   "source": [
    "Next we will source the noise samples to be used.\n",
    "\n",
    "Like the original paper, we will source our noise samples from the [MS-SNSD](https://github.com/microsoft/MS-SNSD/tree/master) dataset however we will chose 6 different noise types than those chosen in the original paper.\n",
    "\n",
    ">Reddy, C.K., Beyrami, E., Pool, J., Cutler, R., Srinivasan, S. and Gehrke, J., 2019. A scalable noisy speech dataset and online subjective test framework. arXiv preprint arXiv:1909.08050."
   ]
  },
  {
   "cell_type": "code",
   "execution_count": 7,
   "metadata": {},
   "outputs": [
    {
     "name": "stdout",
     "output_type": "stream",
     "text": [
      "Cloning into 'MS-SNSD'...\n",
      "remote: Enumerating objects: 29924, done.\u001b[K\n",
      "remote: Counting objects: 100% (9/9), done.\u001b[K\n",
      "remote: Compressing objects: 100% (9/9), done.\u001b[K\n",
      "remote: Total 29924 (delta 2), reused 0 (delta 0), pack-reused 29915\u001b[K\n",
      "Receiving objects: 100% (29924/29924), 3.93 GiB | 19.35 MiB/s, done.\n",
      "Resolving deltas: 100% (80/80), done.\n",
      "Checking out files: 100% (24399/24399), done.\n"
     ]
    }
   ],
   "source": [
    "# Clone the repository\n",
    "!git clone https://github.com/microsoft/MS-SNSD.git"
   ]
  },
  {
   "cell_type": "code",
   "execution_count": 11,
   "metadata": {},
   "outputs": [
    {
     "name": "stdout",
     "output_type": "stream",
     "text": [
      "Unique Noise Types: AirConditioner, AirportAnnouncement, AirportAnnouncements, Babble, Bus, Cafe, CafeTeria, Car, CopyMachine, Field, Hallway, Kitchen, LivingRoom, Metro, Munching, Neighbor, NeighborSpeaking, Office, Park, Restaurant, ShuttingDoor, Square, SqueakyChair, Station, Traffic, Typing, VacuumCleaner, WasherDryer, Washing\n"
     ]
    }
   ],
   "source": [
    "# Define the directories to search for .wav files\n",
    "directories = [\"MS-SNSD/noise_test\", \"MS-SNSD/noise_train\"]\n",
    "\n",
    "# Initialize a set to store unique noise types\n",
    "unique_noise_types = set()\n",
    "\n",
    "# Loop through directories\n",
    "for directory in directories:\n",
    "    # Use glob to get a list of .wav files in the directory\n",
    "    wav_files = glob.glob(os.path.join(directory, \"*.wav\"))\n",
    "    \n",
    "    # Loop through .wav files and extract noise types\n",
    "    for wav_file in wav_files:\n",
    "        file_name = os.path.basename(wav_file)\n",
    "        # Split the file name by '_' and get the noise type\n",
    "        noise_type = file_name.split('_')[0]\n",
    "        unique_noise_types.add(noise_type)\n",
    "\n",
    "# Convert the set to a sorted list of unique noise types\n",
    "unique_noise_types_list = sorted(list(unique_noise_types))\n",
    "\n",
    "# Print the list of unique noise types\n",
    "print(f\"Unique Noise Types: {', '.join(unique_noise_types_list)}\")"
   ]
  },
  {
   "cell_type": "markdown",
   "metadata": {},
   "source": [
    "## Generate pre-enhanced samples for training"
   ]
  },
  {
   "cell_type": "markdown",
   "metadata": {},
   "source": [
    "As mentioned in the original paper, pre-enhanced training samples from an existing near-end speech enhancement algorithm can stabilise the training process.\n",
    "\n",
    "In this implementation we will generate pre-enhanced training samples with the wSSDRC model presented in [Shifas, Tsiaras, and Stylianou (2018)](https://pdfs.semanticscholar.org/0b7f/7d4ac60b3368920573d140fdd4f986c938e6.pdf). Which is an enhancement of the SSDRC model.\n",
    "\n",
    "The model used is pre-trained according to the paper and sourced from https://github.com/shifaspv/wSSDRC-tesnorflow-implementation/tree/master.\n",
    "\n",
    ">Muhammed Shifas, P.V., Tsiaras, V. and Stylianou, Y., 2018. Speech intelligibility enhancement based on a non-causal Wavenet-like model. In Proc. Interspeech (Vol. 2018, pp. 1868-1872)."
   ]
  },
  {
   "cell_type": "code",
   "execution_count": 10,
   "metadata": {},
   "outputs": [
    {
     "name": "stdout",
     "output_type": "stream",
     "text": [
      "Cloning into 'wSSDRC-tesnorflow-implementation'...\n",
      "remote: Enumerating objects: 123, done.\u001b[K\n",
      "remote: Total 123 (delta 0), reused 0 (delta 0), pack-reused 123\u001b[K\n",
      "Receiving objects: 100% (123/123), 1.15 MiB | 16.41 MiB/s, done.\n",
      "Resolving deltas: 100% (40/40), done.\n"
     ]
    }
   ],
   "source": [
    "# Clone the repository containing the model\n",
    "!git clone https://github.com/shifaspv/wSSDRC-tesnorflow-implementation.git"
   ]
  },
  {
   "cell_type": "markdown",
   "metadata": {},
   "source": [
    "Inside the repository, the configuration was changed as follows:\n",
    "- wavenet-11.data-00000-of-00001, wavenet-11.index, and wavenet-11.meta were manually downloaded from previous commits (the latest checkpoint 14 was not avaliable)\n",
    "- `data_dir` in [wSSDRC-tesnorflow-implementation/config/config_params.json](wSSDRC-tesnorflow-implementation/config/config_params.json) was changed to `\"\"`\n",
    "- `base_dir` in [wSSDRC-tesnorflow-implementation/config/config_params.json](wSSDRC-tesnorflow-implementation/config/config_params.json) was changed to `./wSSDRC-tesnorflow-implementation`\n",
    "- `audio_ext` in [wSSDRC-tesnorflow-implementation/config/config_params.json](wSSDRC-tesnorflow-implementation/config/config_params.json) `.flac`\n",
    "- `test_noisy_audio_dir` in [wSSDRC-tesnorflow-implementation/config/config_params.json](wSSDRC-tesnorflow-implementation/config/config_params.json) was changed to `\"\"`\n",
    "- `wav_out_path` on Line 44 of [wSSDRC-tesnorflow-implementation/src/generate.py](wSSDRC-tesnorflow-implementation/src/generate.py) was changed to `cfg['output_dir']`\n",
    "-  `clean_audio_out_fullpathname` on Line 48 of [wSSDRC-tesnorflow-implementation/src/generate.py](wSSDRC-tesnorflow-implementation/src/generate.py) was changed to `os.path.join(wav_out_path, cfg['output_clean_speech_filename'].split(\"/\")[-1] + cfg['audio_ext'])`\n",
    "- `output_dir` in [wSSDRC-tesnorflow-implementation/config/config_params.json](wSSDRC-tesnorflow-implementation/config/config_params.json) was changed to `./enhanced-data/wSSDRC/`\n",
    "- `'clean_' + ` was removed from Line 54 of [wSSDRC-tesnorflow-implementation/src/model_io.py](wSSDRC-tesnorflow-implementation/src/model_io.py)"
   ]
  },
  {
   "cell_type": "code",
   "execution_count": null,
   "metadata": {},
   "outputs": [],
   "source": [
    "%%bash\n",
    "# Generate the enhanced samples by calling the model's generate.py for every training sample WARNING LONG RUNNING OPERATION\n",
    "filenames=$(find source-data/LibriSpeech/dev-clean/ -type f -name \"*.flac\" | sed -e 's/\\.flac$//')\n",
    "for filename in $filenames\n",
    "do\n",
    "    echo $filename\n",
    "    python ./wSSDRC-tesnorflow-implementation/src/generate.py --config=config_params.json --model_id=1 --noisy_speech_filename=$filename\n",
    "done"
   ]
  },
  {
   "cell_type": "markdown",
   "metadata": {},
   "source": [
    "## Data Processing"
   ]
  },
  {
   "cell_type": "markdown",
   "metadata": {},
   "source": [
    "In this section we will split the data into train, validation, and test splits as well as generate the noise for each audio sample of the correct length and signal to noise ratio.\n",
    "\n",
    "These samples will be placed into a directory structure which is expected by the NELE-GAN model. That is:\n",
    "```\n",
    "├── Test\n",
    "│   ├── Clean\n",
    "│   │   ├── sample_name#noise_type#SNR.wav\n",
    "│   ├── Noise\n",
    "│   │   ├── sample_name#noise_type#SNR.wav\n",
    "├── Train\n",
    "│   ├── Clean\n",
    "│   │   ├── sample_name2#noise_type#SNR.wav\n",
    "│   ├── MultiEnh\n",
    "│   │   ├── sample_name2#noise_type#SNR.wav\n",
    "│   ├── Noise\n",
    "└── └── └── sample_name2#noise_type#SNR.wav\n",
    "```\n"
   ]
  },
  {
   "cell_type": "code",
   "execution_count": 3,
   "metadata": {},
   "outputs": [],
   "source": [
    "# Define some helper functions that will help generate the noise files\n",
    "\n",
    "def snr_mixer(clean, noise, snr):\n",
    "    # Normalizing to -25 dB FS\n",
    "    rmsclean = (clean**2).mean()**0.5\n",
    "    scalarclean = 10 ** (-25 / 20) / rmsclean\n",
    "    clean = clean * scalarclean\n",
    "    rmsclean = (clean**2).mean()**0.5\n",
    "\n",
    "    rmsnoise = (noise**2).mean()**0.5\n",
    "    scalarnoise = 10 ** (-25 / 20) /rmsnoise\n",
    "    noise = noise * scalarnoise\n",
    "    rmsnoise = (noise**2).mean()**0.5\n",
    "    \n",
    "    # Set the noise level for a given SNR\n",
    "    noisescalar = np.sqrt(rmsclean / (10**(snr/20)) / rmsnoise)\n",
    "    noisenewlevel = noise * noisescalar\n",
    "    \n",
    "    # return noise that is the same length as clean signal (NELE-GAN code does not check this)\n",
    "    if len(noisenewlevel) > len(clean):\n",
    "        # Truncate noisenewlevel if it is longer than clean\n",
    "        noisenewlevel = noisenewlevel[:len(clean)]\n",
    "    else:\n",
    "        # Repeat noisenewlevel to match the length of clean using numpy broadcasting\n",
    "        repetitions = -(-len(clean) // len(noisenewlevel))  # Calculate how many times to repeat noisenewlevel\n",
    "        noisenewlevel = np.tile(noisenewlevel, repetitions)[:len(clean)]  # Repeat noisenewlevel and truncate to the desired length\n",
    "    \n",
    "    assert len(noisenewlevel)==len(clean), f\"Length of noise is {len(noisenewlevel)} but length of clean is {len(clean)}\"\n",
    "    return clean, noisenewlevel\n",
    "\n",
    "eps = 1e-4\n",
    "# Function to read audio\n",
    "def audioread(path, norm = True, start=0, stop=None):\n",
    "    path = os.path.abspath(path)\n",
    "    if not os.path.exists(path):\n",
    "        raise ValueError(\"[{}] does not exist!\".format(path))\n",
    "    try:\n",
    "        x, sr = sf.read(path, start=start, stop=stop)\n",
    "    except RuntimeError:  # fix for sph pcm-embedded shortened v2\n",
    "        print('WARNING: Audio type not supported')\n",
    "\n",
    "    if len(x.shape) == 1:  # mono\n",
    "        if norm:\n",
    "            rms = (x ** 2).mean() ** 0.5\n",
    "            scalar = 10 ** (-25 / 20) / (rms)\n",
    "            x = x * scalar\n",
    "        return x, sr\n",
    "    else:  # multi-channel\n",
    "        x = x.T\n",
    "        x = x.sum(axis=0)/x.shape[0]\n",
    "        if norm:\n",
    "            rms = (x ** 2).mean() ** 0.5\n",
    "            scalar = 10 ** (-25 / 20) / (rms)\n",
    "            x = x * scalar\n",
    "        return x, sr\n",
    "    \n",
    "# Funtion to write audio    \n",
    "def audiowrite(data, fs, destpath, norm=False):\n",
    "    if norm:\n",
    "        rms = (data ** 2).mean() ** 0.5\n",
    "        scalar = 10 ** (-25 / 10) / (rms+eps)\n",
    "        data = data * scalar\n",
    "        if max(abs(data))>=1:\n",
    "            data = data/max(abs(data), eps)\n",
    "    \n",
    "    destpath = os.path.abspath(destpath)\n",
    "    destdir = os.path.dirname(destpath)\n",
    "    \n",
    "    if not os.path.exists(destdir):\n",
    "        os.makedirs(destdir)\n",
    "    \n",
    "    sf.write(destpath, data, fs)\n",
    "    return"
   ]
  },
  {
   "cell_type": "code",
   "execution_count": 4,
   "metadata": {},
   "outputs": [],
   "source": [
    "def get_all_files_in_directory(root_directory):\n",
    "    file_list = []\n",
    "\n",
    "    for root, _, files in os.walk(root_directory):\n",
    "        for file in files:\n",
    "            if file.endswith(('.wav', '.mp3', '.flac')):\n",
    "                file_path = os.path.join(root, file)\n",
    "                file_list.append(file_path)\n",
    "\n",
    "    return file_list\n",
    "\n",
    "clean_signals = get_all_files_in_directory('source-data/LibriSpeech/dev-clean/')\n",
    "# Randomly shuffle the file paths\n",
    "random.shuffle(clean_signals)"
   ]
  },
  {
   "cell_type": "code",
   "execution_count": 5,
   "metadata": {},
   "outputs": [],
   "source": [
    "# Store the configuration in a dictionary\n",
    "splits_config = {\n",
    "    \"Train\": {\n",
    "        \"Size\": 0.8,\n",
    "        \"NoiseTypes\": [\"AirConditioner\",\"NeighborSpeaking\", \"Munching\", \"Typing\"]\n",
    "    },\n",
    "    \"Validation\": {\n",
    "        \"Size\": 0.1,\n",
    "        \"NoiseTypes\": [\"AirConditioner\",\"NeighborSpeaking\", \"Munching\", \"Typing\"]\n",
    "    },\n",
    "    \"Test\": {\n",
    "        \"Size\": 0.1,\n",
    "        \"NoiseTypes\": [\"Cafe\",\"VacuumCleaner\"]\n",
    "    }\n",
    "}\n",
    "\n",
    "# Define the SNR levels for each noise, values replicated from original paper\n",
    "noise_snr_config = {\n",
    "    \"AirConditioner\":[-11,-7,-3],\n",
    "    \"NeighborSpeaking\":[-11,-7,-3],\n",
    "    \"Munching\":[-11,-7,-3],\n",
    "    \"Typing\":[-11,-7,-3],\n",
    "    \"Cafe\":[-9,-5,-1],\n",
    "    \"VacuumCleaner\":[-13,-9,-5],\n",
    "}"
   ]
  },
  {
   "cell_type": "code",
   "execution_count": 6,
   "metadata": {},
   "outputs": [
    {
     "name": "stdout",
     "output_type": "stream",
     "text": [
      "Generating Train data...\n"
     ]
    },
    {
     "name": "stdout",
     "output_type": "stream",
     "text": [
      "Generating Validation data...\n",
      "Generating Test data...\n"
     ]
    }
   ],
   "source": [
    "# Now write files to expected structure\n",
    "\n",
    "root_dir = \"data\"\n",
    "\n",
    "train_split_size = int(splits_config[\"Train\"][\"Size\"] * len(clean_signals))\n",
    "val_split_size = int(splits_config[\"Validation\"][\"Size\"] * len(clean_signals))\n",
    "test_split_size = int(splits_config[\"Test\"][\"Size\"] * len(clean_signals))\n",
    "\n",
    "train_files = clean_signals[:train_split_size]\n",
    "val_files = clean_signals[train_split_size:train_split_size + val_split_size]\n",
    "test_files = clean_signals[train_split_size + val_split_size:]\n",
    "\n",
    "splits_config[\"Train\"][\"Files\"] = train_files\n",
    "splits_config[\"Validation\"][\"Files\"] = val_files\n",
    "splits_config[\"Test\"][\"Files\"] = test_files\n",
    "\n",
    "# For each split\n",
    "for split, config in splits_config.items():\n",
    "    print(f\"Generating {split} data...\")\n",
    "    # For each file in the list of files\n",
    "    for speech_file in config[\"Files\"]:\n",
    "        # Read the clean file\n",
    "        speech, speech_sr = audioread(speech_file)\n",
    "        speech_file_noext = speech_file.split(\"/\")[-1].split(\".\")[0]\n",
    "        # Load the corresponding enhanced speech data. This will have the added benefit on normalising the volume\n",
    "        enhanced_speech, enhanced_speech_sr = audioread(os.path.join(\"enhanced-data\",\"wSSDRC\",speech_file_noext+\".flac\"))\n",
    "        # For each noise type configured for the split\n",
    "        for noise_type in config[\"NoiseTypes\"]:\n",
    "            # Find all the files which match that noise type\n",
    "            matching_noise_patterns = glob.glob(f\"MS-SNSD/noise_*/{noise_type}*\")\n",
    "            # Randomly choose one of the matching noise files\n",
    "            noise_file = random.choice(matching_noise_patterns)\n",
    "            noise, noise_sr = audioread(noise_file)\n",
    "            # For each SNR value for that particular noise type\n",
    "            for snr in noise_snr_config[noise_type]:\n",
    "                clean, newnoise = snr_mixer(speech, noise, snr)\n",
    "                # Finally, write the files to the required folder\n",
    "                clean_dir = os.path.join(root_dir, split, \"Clean\", f\"{speech_file_noext}#{noise_type}#{snr}.wav\")\n",
    "                audiowrite(clean, speech_sr, clean_dir)\n",
    "                enhanced_dir = os.path.join(root_dir, split, \"MultiEnh\", f\"{speech_file_noext}#{noise_type}#{snr}.wav\")\n",
    "                audiowrite(enhanced_speech, enhanced_speech_sr, enhanced_dir)\n",
    "                noise_dir = os.path.join(root_dir, split, \"Noise\", f\"{speech_file_noext}#{noise_type}#{snr}.wav\")\n",
    "                audiowrite(newnoise, noise_sr, noise_dir)"
   ]
  },
  {
   "cell_type": "code",
   "execution_count": 7,
   "metadata": {},
   "outputs": [
    {
     "name": "stdout",
     "output_type": "stream",
     "text": [
      "The number training samples is: 25944\n",
      "The number validation samples is: 3240\n",
      "The number testing samples is: 1626\n"
     ]
    }
   ],
   "source": [
    "number_train_files = sum([len(files) for r, d, files in os.walk(\"data/Train/Clean/\")])\n",
    "print(f\"The number training samples is: {number_train_files}\")\n",
    "\n",
    "number_validation_files = sum([len(files) for r, d, files in os.walk(\"data/Validation/Clean/\")])\n",
    "print(f\"The number validation samples is: {number_validation_files}\")\n",
    "\n",
    "number_test_files = sum([len(files) for r, d, files in os.walk(\"data/Test/Clean/\")])\n",
    "print(f\"The number testing samples is: {number_test_files}\")"
   ]
  },
  {
   "cell_type": "markdown",
   "metadata": {},
   "source": [
    "# Model Training"
   ]
  },
  {
   "cell_type": "markdown",
   "metadata": {},
   "source": [
    "The following section trains the NELE-GAN model on the data prepared above. The code used is adapted from the `train_nele.py` script in the initial repository.\n",
    "\n",
    "Please note the following changes were made to the NELE-GAN source code to adapt to the new data:\n",
    "- On lines 234 and 342 of `audio_util.py`:\n",
    "```diff \n",
    "- program = '/home/smg/haoyuli/repos/visqol/bin/visqol' # visqol exec program\n",
    "- model_path = '/home/smg/haoyuli/repos/visqol/model/libsvm_nu_svr_model.txt' # visqol model path\n",
    "+ program = 'visqol/bazel-bin/visqol' # visqol exec program\n",
    "+ model_path = 'visqol/model/lattice_tcditugenmeetpackhref_ls2_nl60_lr12_bs2048_learn.005_ep2400_train1_7_raw.tflite' # visqol model path\n",
    "```\n",
    "note that the tf lite model must be used when --speech-mode is specified for visqol.\n",
    "- Just in time compiling (@jit) was removed from the pyhaspi2 implementation.\n",
    "\n",
    "- The directory name was changed to NELE_GAN to support imports.\n",
    "\n",
    "- `.` added in front of importing modules to support relative imports\n",
    "\n",
    "- Change the n_jobs in `Parallel` to -1 to ensure all available core are utilised during batch metric calculations.\n",
    "\n",
    "- Additionally the size of the GCP VM has been increased to support the parallel processing when loading the files and calculating the performance metrics.\n",
    "\n",
    "- Lastly, the noise estimation code has been changed to add a small perturbabtion to the STFT of the signal. This is to avoid divide by 0 errors which were occurring during training. i.e. `Y = Y+1e-8`"
   ]
  },
  {
   "cell_type": "code",
   "execution_count": 3,
   "metadata": {},
   "outputs": [],
   "source": [
    "# Set up training parameters\n",
    "output_path='./output'\n",
    "pt_dir = './chkpt'\n",
    "#GAN_epoch = 500\n",
    "GAN_epoch = 50\n",
    "num_of_sampling = 100 # 100, in each epoch randonly sample only 100 for training to speed up\n",
    "num_of_valid_sample = 50 # number of validation audio\n",
    "batch_size = 1\n",
    "fs = 16000 # sampling rate\n",
    "p_power = (1/6) # power-law compression\n",
    "inv_p = 6 # inverse of p_power\n",
    "\n",
    "weight_qua = 0.5 # weight controlling quality item, given in Eq.(7)\n",
    "\n",
    "creatdir(pt_dir)\n",
    "creatdir(output_path)\n",
    "\n",
    "import matplotlib\n",
    "matplotlib.use('Agg')"
   ]
  },
  {
   "cell_type": "code",
   "execution_count": 4,
   "metadata": {},
   "outputs": [],
   "source": [
    "# Configure train data paths\n",
    "Train_Noise_path = 'data/Train/Noise/'\n",
    "Train_Clean_path = 'data/Train/Clean/'\n",
    "Train_Enhan_path = 'data/Train/MultiEnh/' # contains pre-enhanced speech examples y_hat shown in Eqs.(5) and (6). In our paper, we use SSDRC to generate them\n",
    "Generator_Train_paths = get_filepaths('data/Train/Clean')\n",
    "# Data_shuffle\n",
    "random.shuffle(Generator_Train_paths)\n",
    "\n",
    "# Configure validation data paths\n",
    "Test_Noise_path ='data/Validation/Noise/'\n",
    "Test_Clean_path = 'data/Validation/Clean/'\n",
    "Generator_Test_paths = get_filepaths('data/Validation/Clean/') \n",
    "# Data_shuffle\n",
    "random.shuffle(Generator_Test_paths)\n"
   ]
  },
  {
   "cell_type": "code",
   "execution_count": 5,
   "metadata": {},
   "outputs": [],
   "source": [
    "# Load the models\n",
    "G = Generator_Conv1D_cLN().cuda()\n",
    "D = Discriminator().cuda()\n",
    "D_Qua = Discriminator_Quality().cuda()\n",
    "\n",
    "# Load the training losses\n",
    "MSELoss = nn.MSELoss().cuda()\n",
    "optimizer_g = torch.optim.Adam(G.parameters(), lr=5e-4)\n",
    "optimizer_d = torch.optim.Adam(D.parameters(), lr=2.5e-4)\n",
    "optimizer_dqua = torch.optim.Adam(D_Qua.parameters(), lr=2.5e-4)"
   ]
  },
  {
   "cell_type": "markdown",
   "metadata": {},
   "source": [
    "## Run training steps"
   ]
  },
  {
   "cell_type": "code",
   "execution_count": 6,
   "metadata": {},
   "outputs": [
    {
     "name": "stdout",
     "output_type": "stream",
     "text": [
      "Evaluate G by validation data ...\n"
     ]
    },
    {
     "name": "stderr",
     "output_type": "stream",
     "text": [
      "/opt/conda/lib/python3.7/site-packages/pysiib.py:104: UserWarning: stimuli must have at least 20 seconds of speech\n",
      "  warnings.warn('stimuli must have at least 20 seconds of speech')\n",
      "/opt/conda/lib/python3.7/site-packages/pysiib.py:104: UserWarning: stimuli must have at least 20 seconds of speech\n",
      "  warnings.warn('stimuli must have at least 20 seconds of speech')\n",
      "/opt/conda/lib/python3.7/site-packages/pysiib.py:104: UserWarning: stimuli must have at least 20 seconds of speech\n",
      "  warnings.warn('stimuli must have at least 20 seconds of speech')\n",
      "/opt/conda/lib/python3.7/site-packages/pysiib.py:104: UserWarning: stimuli must have at least 20 seconds of speech\n",
      "  warnings.warn('stimuli must have at least 20 seconds of speech')\n",
      "/opt/conda/lib/python3.7/site-packages/pysiib.py:104: UserWarning: stimuli must have at least 20 seconds of speech\n",
      "  warnings.warn('stimuli must have at least 20 seconds of speech')\n",
      "/opt/conda/lib/python3.7/site-packages/pysiib.py:104: UserWarning: stimuli must have at least 20 seconds of speech\n",
      "  warnings.warn('stimuli must have at least 20 seconds of speech')\n",
      "/opt/conda/lib/python3.7/site-packages/pysiib.py:104: UserWarning: stimuli must have at least 20 seconds of speech\n",
      "  warnings.warn('stimuli must have at least 20 seconds of speech')\n",
      "/opt/conda/lib/python3.7/site-packages/pysiib.py:104: UserWarning: stimuli must have at least 20 seconds of speech\n",
      "  warnings.warn('stimuli must have at least 20 seconds of speech')\n",
      "[tflite_quality_mapper.cc : 33] RAW: Loading TF Lattice TFLite model at visqol/model/lattice_tcditugenmeetpackhref_ls2_nl60_lr12_bs2048_learn.005_ep2400_train1_7_raw.tflite\n",
      "INFO: Created TensorFlow Lite XNNPACK delegate for CPU.\n",
      "/opt/conda/lib/python3.7/site-packages/ipykernel_launcher.py:133: UserWarning: Attempting to set identical left == right == 1 results in singular transformations; automatically expanding.\n",
      "/opt/conda/lib/python3.7/site-packages/ipykernel_launcher.py:141: UserWarning: Attempting to set identical left == right == 1 results in singular transformations; automatically expanding.\n",
      "/opt/conda/lib/python3.7/site-packages/ipykernel_launcher.py:149: UserWarning: Attempting to set identical left == right == 1 results in singular transformations; automatically expanding.\n",
      "/opt/conda/lib/python3.7/site-packages/ipykernel_launcher.py:157: UserWarning: Attempting to set identical left == right == 1 results in singular transformations; automatically expanding.\n",
      "/opt/conda/lib/python3.7/site-packages/ipykernel_launcher.py:165: UserWarning: Attempting to set identical left == right == 1 results in singular transformations; automatically expanding.\n"
     ]
    },
    {
     "name": "stdout",
     "output_type": "stream",
     "text": [
      "Sample training data for discriminator training...\n"
     ]
    },
    {
     "name": "stderr",
     "output_type": "stream",
     "text": [
      "/opt/conda/lib/python3.7/site-packages/pysiib.py:104: UserWarning: stimuli must have at least 20 seconds of speech\n",
      "  warnings.warn('stimuli must have at least 20 seconds of speech')\n",
      "/opt/conda/lib/python3.7/site-packages/pysiib.py:104: UserWarning: stimuli must have at least 20 seconds of speech\n",
      "  warnings.warn('stimuli must have at least 20 seconds of speech')\n",
      "/opt/conda/lib/python3.7/site-packages/pysiib.py:104: UserWarning: stimuli must have at least 20 seconds of speech\n",
      "  warnings.warn('stimuli must have at least 20 seconds of speech')\n",
      "/opt/conda/lib/python3.7/site-packages/pysiib.py:104: UserWarning: stimuli must have at least 20 seconds of speech\n",
      "  warnings.warn('stimuli must have at least 20 seconds of speech')\n",
      "/opt/conda/lib/python3.7/site-packages/pysiib.py:104: UserWarning: stimuli must have at least 20 seconds of speech\n",
      "  warnings.warn('stimuli must have at least 20 seconds of speech')\n",
      "/opt/conda/lib/python3.7/site-packages/pysiib.py:104: UserWarning: stimuli must have at least 20 seconds of speech\n",
      "  warnings.warn('stimuli must have at least 20 seconds of speech')\n",
      "/opt/conda/lib/python3.7/site-packages/pysiib.py:104: UserWarning: stimuli must have at least 20 seconds of speech\n",
      "  warnings.warn('stimuli must have at least 20 seconds of speech')\n",
      "/opt/conda/lib/python3.7/site-packages/pysiib.py:104: UserWarning: stimuli must have at least 20 seconds of speech\n",
      "  warnings.warn('stimuli must have at least 20 seconds of speech')\n",
      "[tflite_quality_mapper.cc : 33] RAW: Loading TF Lattice TFLite model at visqol/model/lattice_tcditugenmeetpackhref_ls2_nl60_lr12_bs2048_learn.005_ep2400_train1_7_raw.tflite\n",
      "INFO: Created TensorFlow Lite XNNPACK delegate for CPU.\n",
      "/opt/conda/lib/python3.7/site-packages/pysiib.py:104: UserWarning: stimuli must have at least 20 seconds of speech\n",
      "  warnings.warn('stimuli must have at least 20 seconds of speech')\n",
      "/opt/conda/lib/python3.7/site-packages/pysiib.py:104: UserWarning: stimuli must have at least 20 seconds of speech\n",
      "  warnings.warn('stimuli must have at least 20 seconds of speech')\n",
      "/opt/conda/lib/python3.7/site-packages/pysiib.py:104: UserWarning: stimuli must have at least 20 seconds of speech\n",
      "  warnings.warn('stimuli must have at least 20 seconds of speech')\n",
      "/opt/conda/lib/python3.7/site-packages/pysiib.py:104: UserWarning: stimuli must have at least 20 seconds of speech\n",
      "  warnings.warn('stimuli must have at least 20 seconds of speech')\n",
      "/opt/conda/lib/python3.7/site-packages/pysiib.py:104: UserWarning: stimuli must have at least 20 seconds of speech\n",
      "  warnings.warn('stimuli must have at least 20 seconds of speech')\n",
      "/opt/conda/lib/python3.7/site-packages/pysiib.py:104: UserWarning: stimuli must have at least 20 seconds of speech\n",
      "  warnings.warn('stimuli must have at least 20 seconds of speech')\n",
      "[tflite_quality_mapper.cc : 33] RAW: Loading TF Lattice TFLite model at visqol/model/lattice_tcditugenmeetpackhref_ls2_nl60_lr12_bs2048_learn.005_ep2400_train1_7_raw.tflite\n",
      "INFO: Created TensorFlow Lite XNNPACK delegate for CPU.\n"
     ]
    },
    {
     "name": "stdout",
     "output_type": "stream",
     "text": [
      "Discriminator training...\n"
     ]
    },
    {
     "name": "stderr",
     "output_type": "stream",
     "text": [
      "100%|██████████| 200/200 [00:52<00:00,  3.80it/s]\n",
      "100%|██████████| 200/200 [00:57<00:00,  3.48it/s]\n",
      "100%|██████████| 200/200 [00:57<00:00,  3.50it/s]\n"
     ]
    },
    {
     "name": "stdout",
     "output_type": "stream",
     "text": [
      "Epoch 1 Finished\n",
      "Generator training (with discriminator fixed)...\n"
     ]
    },
    {
     "name": "stderr",
     "output_type": "stream",
     "text": [
      "100%|██████████| 100/100 [00:21<00:00,  4.57it/s]\n"
     ]
    },
    {
     "name": "stdout",
     "output_type": "stream",
     "text": [
      "Evaluate G by validation data ...\n"
     ]
    },
    {
     "name": "stderr",
     "output_type": "stream",
     "text": [
      "/opt/conda/lib/python3.7/site-packages/pysiib.py:104: UserWarning: stimuli must have at least 20 seconds of speech\n",
      "  warnings.warn('stimuli must have at least 20 seconds of speech')\n",
      "/opt/conda/lib/python3.7/site-packages/pysiib.py:104: UserWarning: stimuli must have at least 20 seconds of speech\n",
      "  warnings.warn('stimuli must have at least 20 seconds of speech')\n",
      "/opt/conda/lib/python3.7/site-packages/pysiib.py:104: UserWarning: stimuli must have at least 20 seconds of speech\n",
      "  warnings.warn('stimuli must have at least 20 seconds of speech')\n",
      "/opt/conda/lib/python3.7/site-packages/pysiib.py:104: UserWarning: stimuli must have at least 20 seconds of speech\n",
      "  warnings.warn('stimuli must have at least 20 seconds of speech')\n",
      "/opt/conda/lib/python3.7/site-packages/pysiib.py:104: UserWarning: stimuli must have at least 20 seconds of speech\n",
      "  warnings.warn('stimuli must have at least 20 seconds of speech')\n",
      "/opt/conda/lib/python3.7/site-packages/pysiib.py:104: UserWarning: stimuli must have at least 20 seconds of speech\n",
      "  warnings.warn('stimuli must have at least 20 seconds of speech')\n",
      "/opt/conda/lib/python3.7/site-packages/pysiib.py:104: UserWarning: stimuli must have at least 20 seconds of speech\n",
      "  warnings.warn('stimuli must have at least 20 seconds of speech')\n",
      "/opt/conda/lib/python3.7/site-packages/pysiib.py:104: UserWarning: stimuli must have at least 20 seconds of speech\n",
      "  warnings.warn('stimuli must have at least 20 seconds of speech')\n",
      "[tflite_quality_mapper.cc : 33] RAW: Loading TF Lattice TFLite model at visqol/model/lattice_tcditugenmeetpackhref_ls2_nl60_lr12_bs2048_learn.005_ep2400_train1_7_raw.tflite\n",
      "INFO: Created TensorFlow Lite XNNPACK delegate for CPU.\n"
     ]
    },
    {
     "name": "stdout",
     "output_type": "stream",
     "text": [
      "Sample training data for discriminator training...\n"
     ]
    },
    {
     "name": "stderr",
     "output_type": "stream",
     "text": [
      "/opt/conda/lib/python3.7/site-packages/pysiib.py:104: UserWarning: stimuli must have at least 20 seconds of speech\n",
      "  warnings.warn('stimuli must have at least 20 seconds of speech')\n",
      "/opt/conda/lib/python3.7/site-packages/pysiib.py:104: UserWarning: stimuli must have at least 20 seconds of speech\n",
      "  warnings.warn('stimuli must have at least 20 seconds of speech')\n",
      "/opt/conda/lib/python3.7/site-packages/pysiib.py:104: UserWarning: stimuli must have at least 20 seconds of speech\n",
      "  warnings.warn('stimuli must have at least 20 seconds of speech')\n",
      "/opt/conda/lib/python3.7/site-packages/pysiib.py:104: UserWarning: stimuli must have at least 20 seconds of speech\n",
      "  warnings.warn('stimuli must have at least 20 seconds of speech')\n",
      "/opt/conda/lib/python3.7/site-packages/pysiib.py:104: UserWarning: stimuli must have at least 20 seconds of speech\n",
      "  warnings.warn('stimuli must have at least 20 seconds of speech')\n",
      "/opt/conda/lib/python3.7/site-packages/pysiib.py:104: UserWarning: stimuli must have at least 20 seconds of speech\n",
      "  warnings.warn('stimuli must have at least 20 seconds of speech')\n",
      "/opt/conda/lib/python3.7/site-packages/pysiib.py:104: UserWarning: stimuli must have at least 20 seconds of speech\n",
      "  warnings.warn('stimuli must have at least 20 seconds of speech')\n",
      "[tflite_quality_mapper.cc : 33] RAW: Loading TF Lattice TFLite model at visqol/model/lattice_tcditugenmeetpackhref_ls2_nl60_lr12_bs2048_learn.005_ep2400_train1_7_raw.tflite\n",
      "INFO: Created TensorFlow Lite XNNPACK delegate for CPU.\n",
      "/opt/conda/lib/python3.7/site-packages/pysiib.py:104: UserWarning: stimuli must have at least 20 seconds of speech\n",
      "  warnings.warn('stimuli must have at least 20 seconds of speech')\n",
      "/opt/conda/lib/python3.7/site-packages/pysiib.py:104: UserWarning: stimuli must have at least 20 seconds of speech\n",
      "  warnings.warn('stimuli must have at least 20 seconds of speech')\n",
      "/opt/conda/lib/python3.7/site-packages/pysiib.py:104: UserWarning: stimuli must have at least 20 seconds of speech\n",
      "  warnings.warn('stimuli must have at least 20 seconds of speech')\n",
      "/opt/conda/lib/python3.7/site-packages/pysiib.py:104: UserWarning: stimuli must have at least 20 seconds of speech\n",
      "  warnings.warn('stimuli must have at least 20 seconds of speech')\n",
      "[tflite_quality_mapper.cc : 33] RAW: Loading TF Lattice TFLite model at visqol/model/lattice_tcditugenmeetpackhref_ls2_nl60_lr12_bs2048_learn.005_ep2400_train1_7_raw.tflite\n",
      "INFO: Created TensorFlow Lite XNNPACK delegate for CPU.\n"
     ]
    },
    {
     "name": "stdout",
     "output_type": "stream",
     "text": [
      "Discriminator training...\n"
     ]
    },
    {
     "name": "stderr",
     "output_type": "stream",
     "text": [
      "100%|██████████| 200/200 [00:54<00:00,  3.69it/s]\n",
      "100%|██████████| 206/206 [00:54<00:00,  3.79it/s]\n",
      "100%|██████████| 200/200 [00:54<00:00,  3.66it/s]\n"
     ]
    },
    {
     "name": "stdout",
     "output_type": "stream",
     "text": [
      "Epoch 2 Finished\n",
      "Generator training (with discriminator fixed)...\n"
     ]
    },
    {
     "name": "stderr",
     "output_type": "stream",
     "text": [
      "100%|██████████| 100/100 [00:21<00:00,  4.73it/s]\n"
     ]
    },
    {
     "name": "stdout",
     "output_type": "stream",
     "text": [
      "Evaluate G by validation data ...\n"
     ]
    },
    {
     "name": "stderr",
     "output_type": "stream",
     "text": [
      "/opt/conda/lib/python3.7/site-packages/pysiib.py:104: UserWarning: stimuli must have at least 20 seconds of speech\n",
      "  warnings.warn('stimuli must have at least 20 seconds of speech')\n",
      "/opt/conda/lib/python3.7/site-packages/pysiib.py:104: UserWarning: stimuli must have at least 20 seconds of speech\n",
      "  warnings.warn('stimuli must have at least 20 seconds of speech')\n",
      "/opt/conda/lib/python3.7/site-packages/pysiib.py:104: UserWarning: stimuli must have at least 20 seconds of speech\n",
      "  warnings.warn('stimuli must have at least 20 seconds of speech')\n",
      "/opt/conda/lib/python3.7/site-packages/pysiib.py:104: UserWarning: stimuli must have at least 20 seconds of speech\n",
      "  warnings.warn('stimuli must have at least 20 seconds of speech')\n",
      "/opt/conda/lib/python3.7/site-packages/pysiib.py:104: UserWarning: stimuli must have at least 20 seconds of speech\n",
      "  warnings.warn('stimuli must have at least 20 seconds of speech')\n",
      "/opt/conda/lib/python3.7/site-packages/pysiib.py:104: UserWarning: stimuli must have at least 20 seconds of speech\n",
      "  warnings.warn('stimuli must have at least 20 seconds of speech')\n",
      "/opt/conda/lib/python3.7/site-packages/pysiib.py:104: UserWarning: stimuli must have at least 20 seconds of speech\n",
      "  warnings.warn('stimuli must have at least 20 seconds of speech')\n",
      "/opt/conda/lib/python3.7/site-packages/pysiib.py:104: UserWarning: stimuli must have at least 20 seconds of speech\n",
      "  warnings.warn('stimuli must have at least 20 seconds of speech')\n",
      "[tflite_quality_mapper.cc : 33] RAW: Loading TF Lattice TFLite model at visqol/model/lattice_tcditugenmeetpackhref_ls2_nl60_lr12_bs2048_learn.005_ep2400_train1_7_raw.tflite\n",
      "INFO: Created TensorFlow Lite XNNPACK delegate for CPU.\n"
     ]
    },
    {
     "name": "stdout",
     "output_type": "stream",
     "text": [
      "Sample training data for discriminator training...\n"
     ]
    },
    {
     "name": "stderr",
     "output_type": "stream",
     "text": [
      "/opt/conda/lib/python3.7/site-packages/pysiib.py:104: UserWarning: stimuli must have at least 20 seconds of speech\n",
      "  warnings.warn('stimuli must have at least 20 seconds of speech')\n",
      "/opt/conda/lib/python3.7/site-packages/pysiib.py:104: UserWarning: stimuli must have at least 20 seconds of speech\n",
      "  warnings.warn('stimuli must have at least 20 seconds of speech')\n",
      "/opt/conda/lib/python3.7/site-packages/pysiib.py:104: UserWarning: stimuli must have at least 20 seconds of speech\n",
      "  warnings.warn('stimuli must have at least 20 seconds of speech')\n",
      "/opt/conda/lib/python3.7/site-packages/pysiib.py:104: UserWarning: stimuli must have at least 20 seconds of speech\n",
      "  warnings.warn('stimuli must have at least 20 seconds of speech')\n",
      "/opt/conda/lib/python3.7/site-packages/pysiib.py:104: UserWarning: stimuli must have at least 20 seconds of speech\n",
      "  warnings.warn('stimuli must have at least 20 seconds of speech')\n",
      "/opt/conda/lib/python3.7/site-packages/pysiib.py:104: UserWarning: stimuli must have at least 20 seconds of speech\n",
      "  warnings.warn('stimuli must have at least 20 seconds of speech')\n",
      "/opt/conda/lib/python3.7/site-packages/pysiib.py:104: UserWarning: stimuli must have at least 20 seconds of speech\n",
      "  warnings.warn('stimuli must have at least 20 seconds of speech')\n",
      "/opt/conda/lib/python3.7/site-packages/pysiib.py:104: UserWarning: stimuli must have at least 20 seconds of speech\n",
      "  warnings.warn('stimuli must have at least 20 seconds of speech')\n",
      "[tflite_quality_mapper.cc : 33] RAW: Loading TF Lattice TFLite model at visqol/model/lattice_tcditugenmeetpackhref_ls2_nl60_lr12_bs2048_learn.005_ep2400_train1_7_raw.tflite\n",
      "INFO: Created TensorFlow Lite XNNPACK delegate for CPU.\n",
      "/opt/conda/lib/python3.7/site-packages/pysiib.py:104: UserWarning: stimuli must have at least 20 seconds of speech\n",
      "  warnings.warn('stimuli must have at least 20 seconds of speech')\n",
      "/opt/conda/lib/python3.7/site-packages/pysiib.py:104: UserWarning: stimuli must have at least 20 seconds of speech\n",
      "  warnings.warn('stimuli must have at least 20 seconds of speech')\n",
      "/opt/conda/lib/python3.7/site-packages/pysiib.py:104: UserWarning: stimuli must have at least 20 seconds of speech\n",
      "  warnings.warn('stimuli must have at least 20 seconds of speech')\n",
      "/opt/conda/lib/python3.7/site-packages/pysiib.py:104: UserWarning: stimuli must have at least 20 seconds of speech\n",
      "  warnings.warn('stimuli must have at least 20 seconds of speech')\n",
      "/opt/conda/lib/python3.7/site-packages/pysiib.py:104: UserWarning: stimuli must have at least 20 seconds of speech\n",
      "  warnings.warn('stimuli must have at least 20 seconds of speech')\n",
      "[tflite_quality_mapper.cc : 33] RAW: Loading TF Lattice TFLite model at visqol/model/lattice_tcditugenmeetpackhref_ls2_nl60_lr12_bs2048_learn.005_ep2400_train1_7_raw.tflite\n",
      "INFO: Created TensorFlow Lite XNNPACK delegate for CPU.\n"
     ]
    },
    {
     "name": "stdout",
     "output_type": "stream",
     "text": [
      "Discriminator training...\n"
     ]
    },
    {
     "name": "stderr",
     "output_type": "stream",
     "text": [
      "100%|██████████| 200/200 [00:52<00:00,  3.78it/s]\n",
      "100%|██████████| 213/213 [00:53<00:00,  3.99it/s]\n",
      "100%|██████████| 200/200 [00:55<00:00,  3.58it/s]\n"
     ]
    },
    {
     "name": "stdout",
     "output_type": "stream",
     "text": [
      "Epoch 3 Finished\n",
      "Generator training (with discriminator fixed)...\n"
     ]
    },
    {
     "name": "stderr",
     "output_type": "stream",
     "text": [
      "100%|██████████| 100/100 [00:20<00:00,  4.99it/s]\n"
     ]
    },
    {
     "name": "stdout",
     "output_type": "stream",
     "text": [
      "Evaluate G by validation data ...\n"
     ]
    },
    {
     "name": "stderr",
     "output_type": "stream",
     "text": [
      "/opt/conda/lib/python3.7/site-packages/pysiib.py:104: UserWarning: stimuli must have at least 20 seconds of speech\n",
      "  warnings.warn('stimuli must have at least 20 seconds of speech')\n",
      "/opt/conda/lib/python3.7/site-packages/pysiib.py:104: UserWarning: stimuli must have at least 20 seconds of speech\n",
      "  warnings.warn('stimuli must have at least 20 seconds of speech')\n",
      "/opt/conda/lib/python3.7/site-packages/pysiib.py:104: UserWarning: stimuli must have at least 20 seconds of speech\n",
      "  warnings.warn('stimuli must have at least 20 seconds of speech')\n",
      "/opt/conda/lib/python3.7/site-packages/pysiib.py:104: UserWarning: stimuli must have at least 20 seconds of speech\n",
      "  warnings.warn('stimuli must have at least 20 seconds of speech')\n",
      "/opt/conda/lib/python3.7/site-packages/pysiib.py:104: UserWarning: stimuli must have at least 20 seconds of speech\n",
      "  warnings.warn('stimuli must have at least 20 seconds of speech')\n",
      "/opt/conda/lib/python3.7/site-packages/pysiib.py:104: UserWarning: stimuli must have at least 20 seconds of speech\n",
      "  warnings.warn('stimuli must have at least 20 seconds of speech')\n",
      "/opt/conda/lib/python3.7/site-packages/pysiib.py:104: UserWarning: stimuli must have at least 20 seconds of speech\n",
      "  warnings.warn('stimuli must have at least 20 seconds of speech')\n",
      "/opt/conda/lib/python3.7/site-packages/pysiib.py:104: UserWarning: stimuli must have at least 20 seconds of speech\n",
      "  warnings.warn('stimuli must have at least 20 seconds of speech')\n",
      "[tflite_quality_mapper.cc : 33] RAW: Loading TF Lattice TFLite model at visqol/model/lattice_tcditugenmeetpackhref_ls2_nl60_lr12_bs2048_learn.005_ep2400_train1_7_raw.tflite\n",
      "INFO: Created TensorFlow Lite XNNPACK delegate for CPU.\n"
     ]
    },
    {
     "name": "stdout",
     "output_type": "stream",
     "text": [
      "Sample training data for discriminator training...\n"
     ]
    },
    {
     "name": "stderr",
     "output_type": "stream",
     "text": [
      "/opt/conda/lib/python3.7/site-packages/pysiib.py:104: UserWarning: stimuli must have at least 20 seconds of speech\n",
      "  warnings.warn('stimuli must have at least 20 seconds of speech')\n",
      "/opt/conda/lib/python3.7/site-packages/pysiib.py:104: UserWarning: stimuli must have at least 20 seconds of speech\n",
      "  warnings.warn('stimuli must have at least 20 seconds of speech')\n",
      "/opt/conda/lib/python3.7/site-packages/pysiib.py:104: UserWarning: stimuli must have at least 20 seconds of speech\n",
      "  warnings.warn('stimuli must have at least 20 seconds of speech')\n",
      "/opt/conda/lib/python3.7/site-packages/pysiib.py:104: UserWarning: stimuli must have at least 20 seconds of speech\n",
      "  warnings.warn('stimuli must have at least 20 seconds of speech')\n",
      "/opt/conda/lib/python3.7/site-packages/pysiib.py:104: UserWarning: stimuli must have at least 20 seconds of speech\n",
      "  warnings.warn('stimuli must have at least 20 seconds of speech')\n",
      "/opt/conda/lib/python3.7/site-packages/pysiib.py:104: UserWarning: stimuli must have at least 20 seconds of speech\n",
      "  warnings.warn('stimuli must have at least 20 seconds of speech')\n",
      "/opt/conda/lib/python3.7/site-packages/pysiib.py:104: UserWarning: stimuli must have at least 20 seconds of speech\n",
      "  warnings.warn('stimuli must have at least 20 seconds of speech')\n",
      "/opt/conda/lib/python3.7/site-packages/pysiib.py:104: UserWarning: stimuli must have at least 20 seconds of speech\n",
      "  warnings.warn('stimuli must have at least 20 seconds of speech')\n",
      "[tflite_quality_mapper.cc : 33] RAW: Loading TF Lattice TFLite model at visqol/model/lattice_tcditugenmeetpackhref_ls2_nl60_lr12_bs2048_learn.005_ep2400_train1_7_raw.tflite\n",
      "INFO: Created TensorFlow Lite XNNPACK delegate for CPU.\n",
      "/opt/conda/lib/python3.7/site-packages/pysiib.py:104: UserWarning: stimuli must have at least 20 seconds of speech\n",
      "  warnings.warn('stimuli must have at least 20 seconds of speech')\n",
      "/opt/conda/lib/python3.7/site-packages/pysiib.py:104: UserWarning: stimuli must have at least 20 seconds of speech\n",
      "  warnings.warn('stimuli must have at least 20 seconds of speech')\n",
      "/opt/conda/lib/python3.7/site-packages/pysiib.py:104: UserWarning: stimuli must have at least 20 seconds of speech\n",
      "  warnings.warn('stimuli must have at least 20 seconds of speech')\n",
      "/opt/conda/lib/python3.7/site-packages/pysiib.py:104: UserWarning: stimuli must have at least 20 seconds of speech\n",
      "  warnings.warn('stimuli must have at least 20 seconds of speech')\n",
      "/opt/conda/lib/python3.7/site-packages/pysiib.py:104: UserWarning: stimuli must have at least 20 seconds of speech\n",
      "  warnings.warn('stimuli must have at least 20 seconds of speech')\n",
      "[tflite_quality_mapper.cc : 33] RAW: Loading TF Lattice TFLite model at visqol/model/lattice_tcditugenmeetpackhref_ls2_nl60_lr12_bs2048_learn.005_ep2400_train1_7_raw.tflite\n",
      "INFO: Created TensorFlow Lite XNNPACK delegate for CPU.\n"
     ]
    },
    {
     "name": "stdout",
     "output_type": "stream",
     "text": [
      "Discriminator training...\n"
     ]
    },
    {
     "name": "stderr",
     "output_type": "stream",
     "text": [
      "100%|██████████| 200/200 [00:52<00:00,  3.80it/s]\n",
      "100%|██████████| 220/220 [00:57<00:00,  3.83it/s]\n",
      "100%|██████████| 200/200 [00:48<00:00,  4.11it/s]\n"
     ]
    },
    {
     "name": "stdout",
     "output_type": "stream",
     "text": [
      "Epoch 4 Finished\n",
      "Generator training (with discriminator fixed)...\n"
     ]
    },
    {
     "name": "stderr",
     "output_type": "stream",
     "text": [
      "100%|██████████| 100/100 [00:19<00:00,  5.23it/s]\n"
     ]
    },
    {
     "name": "stdout",
     "output_type": "stream",
     "text": [
      "Evaluate G by validation data ...\n"
     ]
    },
    {
     "name": "stderr",
     "output_type": "stream",
     "text": [
      "/opt/conda/lib/python3.7/site-packages/pysiib.py:104: UserWarning: stimuli must have at least 20 seconds of speech\n",
      "  warnings.warn('stimuli must have at least 20 seconds of speech')\n",
      "/opt/conda/lib/python3.7/site-packages/pysiib.py:104: UserWarning: stimuli must have at least 20 seconds of speech\n",
      "  warnings.warn('stimuli must have at least 20 seconds of speech')\n",
      "/opt/conda/lib/python3.7/site-packages/pysiib.py:104: UserWarning: stimuli must have at least 20 seconds of speech\n",
      "  warnings.warn('stimuli must have at least 20 seconds of speech')\n",
      "/opt/conda/lib/python3.7/site-packages/pysiib.py:104: UserWarning: stimuli must have at least 20 seconds of speech\n",
      "  warnings.warn('stimuli must have at least 20 seconds of speech')\n",
      "/opt/conda/lib/python3.7/site-packages/pysiib.py:104: UserWarning: stimuli must have at least 20 seconds of speech\n",
      "  warnings.warn('stimuli must have at least 20 seconds of speech')\n",
      "/opt/conda/lib/python3.7/site-packages/pysiib.py:104: UserWarning: stimuli must have at least 20 seconds of speech\n",
      "  warnings.warn('stimuli must have at least 20 seconds of speech')\n",
      "/opt/conda/lib/python3.7/site-packages/pysiib.py:104: UserWarning: stimuli must have at least 20 seconds of speech\n",
      "  warnings.warn('stimuli must have at least 20 seconds of speech')\n",
      "/opt/conda/lib/python3.7/site-packages/pysiib.py:104: UserWarning: stimuli must have at least 20 seconds of speech\n",
      "  warnings.warn('stimuli must have at least 20 seconds of speech')\n",
      "[tflite_quality_mapper.cc : 33] RAW: Loading TF Lattice TFLite model at visqol/model/lattice_tcditugenmeetpackhref_ls2_nl60_lr12_bs2048_learn.005_ep2400_train1_7_raw.tflite\n",
      "INFO: Created TensorFlow Lite XNNPACK delegate for CPU.\n"
     ]
    },
    {
     "name": "stdout",
     "output_type": "stream",
     "text": [
      "Sample training data for discriminator training...\n"
     ]
    },
    {
     "name": "stderr",
     "output_type": "stream",
     "text": [
      "/opt/conda/lib/python3.7/site-packages/pysiib.py:104: UserWarning: stimuli must have at least 20 seconds of speech\n",
      "  warnings.warn('stimuli must have at least 20 seconds of speech')\n",
      "/opt/conda/lib/python3.7/site-packages/pysiib.py:104: UserWarning: stimuli must have at least 20 seconds of speech\n",
      "  warnings.warn('stimuli must have at least 20 seconds of speech')\n",
      "/opt/conda/lib/python3.7/site-packages/pysiib.py:104: UserWarning: stimuli must have at least 20 seconds of speech\n",
      "  warnings.warn('stimuli must have at least 20 seconds of speech')\n",
      "/opt/conda/lib/python3.7/site-packages/pysiib.py:104: UserWarning: stimuli must have at least 20 seconds of speech\n",
      "  warnings.warn('stimuli must have at least 20 seconds of speech')\n",
      "/opt/conda/lib/python3.7/site-packages/pysiib.py:104: UserWarning: stimuli must have at least 20 seconds of speech\n",
      "  warnings.warn('stimuli must have at least 20 seconds of speech')\n",
      "/opt/conda/lib/python3.7/site-packages/pysiib.py:104: UserWarning: stimuli must have at least 20 seconds of speech\n",
      "  warnings.warn('stimuli must have at least 20 seconds of speech')\n",
      "/opt/conda/lib/python3.7/site-packages/pysiib.py:104: UserWarning: stimuli must have at least 20 seconds of speech\n",
      "  warnings.warn('stimuli must have at least 20 seconds of speech')\n",
      "/opt/conda/lib/python3.7/site-packages/pysiib.py:104: UserWarning: stimuli must have at least 20 seconds of speech\n",
      "  warnings.warn('stimuli must have at least 20 seconds of speech')\n",
      "/opt/conda/lib/python3.7/site-packages/pysiib.py:104: UserWarning: stimuli must have at least 20 seconds of speech\n",
      "  warnings.warn('stimuli must have at least 20 seconds of speech')\n",
      "/opt/conda/lib/python3.7/site-packages/pysiib.py:104: UserWarning: stimuli must have at least 20 seconds of speech\n",
      "  warnings.warn('stimuli must have at least 20 seconds of speech')\n",
      "[tflite_quality_mapper.cc : 33] RAW: Loading TF Lattice TFLite model at visqol/model/lattice_tcditugenmeetpackhref_ls2_nl60_lr12_bs2048_learn.005_ep2400_train1_7_raw.tflite\n",
      "INFO: Created TensorFlow Lite XNNPACK delegate for CPU.\n",
      "/opt/conda/lib/python3.7/site-packages/pysiib.py:104: UserWarning: stimuli must have at least 20 seconds of speech\n",
      "  warnings.warn('stimuli must have at least 20 seconds of speech')\n",
      "/opt/conda/lib/python3.7/site-packages/pysiib.py:104: UserWarning: stimuli must have at least 20 seconds of speech\n",
      "  warnings.warn('stimuli must have at least 20 seconds of speech')\n",
      "/opt/conda/lib/python3.7/site-packages/pysiib.py:104: UserWarning: stimuli must have at least 20 seconds of speech\n",
      "  warnings.warn('stimuli must have at least 20 seconds of speech')\n",
      "/opt/conda/lib/python3.7/site-packages/pysiib.py:104: UserWarning: stimuli must have at least 20 seconds of speech\n",
      "  warnings.warn('stimuli must have at least 20 seconds of speech')\n",
      "/opt/conda/lib/python3.7/site-packages/pysiib.py:104: UserWarning: stimuli must have at least 20 seconds of speech\n",
      "  warnings.warn('stimuli must have at least 20 seconds of speech')\n",
      "[tflite_quality_mapper.cc : 33] RAW: Loading TF Lattice TFLite model at visqol/model/lattice_tcditugenmeetpackhref_ls2_nl60_lr12_bs2048_learn.005_ep2400_train1_7_raw.tflite\n",
      "INFO: Created TensorFlow Lite XNNPACK delegate for CPU.\n"
     ]
    },
    {
     "name": "stdout",
     "output_type": "stream",
     "text": [
      "Discriminator training...\n"
     ]
    },
    {
     "name": "stderr",
     "output_type": "stream",
     "text": [
      "100%|██████████| 200/200 [00:50<00:00,  3.93it/s]\n",
      "100%|██████████| 226/226 [00:55<00:00,  4.11it/s]\n",
      "100%|██████████| 200/200 [00:51<00:00,  3.89it/s]\n"
     ]
    },
    {
     "name": "stdout",
     "output_type": "stream",
     "text": [
      "Epoch 5 Finished\n",
      "Generator training (with discriminator fixed)...\n"
     ]
    },
    {
     "name": "stderr",
     "output_type": "stream",
     "text": [
      "100%|██████████| 100/100 [00:21<00:00,  4.70it/s]\n"
     ]
    },
    {
     "name": "stdout",
     "output_type": "stream",
     "text": [
      "Evaluate G by validation data ...\n"
     ]
    },
    {
     "name": "stderr",
     "output_type": "stream",
     "text": [
      "/opt/conda/lib/python3.7/site-packages/pysiib.py:104: UserWarning: stimuli must have at least 20 seconds of speech\n",
      "  warnings.warn('stimuli must have at least 20 seconds of speech')\n",
      "/opt/conda/lib/python3.7/site-packages/pysiib.py:104: UserWarning: stimuli must have at least 20 seconds of speech\n",
      "  warnings.warn('stimuli must have at least 20 seconds of speech')\n",
      "/opt/conda/lib/python3.7/site-packages/pysiib.py:104: UserWarning: stimuli must have at least 20 seconds of speech\n",
      "  warnings.warn('stimuli must have at least 20 seconds of speech')\n",
      "/opt/conda/lib/python3.7/site-packages/pysiib.py:104: UserWarning: stimuli must have at least 20 seconds of speech\n",
      "  warnings.warn('stimuli must have at least 20 seconds of speech')\n",
      "/opt/conda/lib/python3.7/site-packages/pysiib.py:104: UserWarning: stimuli must have at least 20 seconds of speech\n",
      "  warnings.warn('stimuli must have at least 20 seconds of speech')\n",
      "/opt/conda/lib/python3.7/site-packages/pysiib.py:104: UserWarning: stimuli must have at least 20 seconds of speech\n",
      "  warnings.warn('stimuli must have at least 20 seconds of speech')\n",
      "/opt/conda/lib/python3.7/site-packages/pysiib.py:104: UserWarning: stimuli must have at least 20 seconds of speech\n",
      "  warnings.warn('stimuli must have at least 20 seconds of speech')\n",
      "/opt/conda/lib/python3.7/site-packages/pysiib.py:104: UserWarning: stimuli must have at least 20 seconds of speech\n",
      "  warnings.warn('stimuli must have at least 20 seconds of speech')\n",
      "[tflite_quality_mapper.cc : 33] RAW: Loading TF Lattice TFLite model at visqol/model/lattice_tcditugenmeetpackhref_ls2_nl60_lr12_bs2048_learn.005_ep2400_train1_7_raw.tflite\n",
      "INFO: Created TensorFlow Lite XNNPACK delegate for CPU.\n"
     ]
    },
    {
     "name": "stdout",
     "output_type": "stream",
     "text": [
      "Sample training data for discriminator training...\n"
     ]
    },
    {
     "name": "stderr",
     "output_type": "stream",
     "text": [
      "/opt/conda/lib/python3.7/site-packages/pysiib.py:104: UserWarning: stimuli must have at least 20 seconds of speech\n",
      "  warnings.warn('stimuli must have at least 20 seconds of speech')\n",
      "/opt/conda/lib/python3.7/site-packages/pysiib.py:104: UserWarning: stimuli must have at least 20 seconds of speech\n",
      "  warnings.warn('stimuli must have at least 20 seconds of speech')\n",
      "/opt/conda/lib/python3.7/site-packages/pysiib.py:104: UserWarning: stimuli must have at least 20 seconds of speech\n",
      "  warnings.warn('stimuli must have at least 20 seconds of speech')\n",
      "/opt/conda/lib/python3.7/site-packages/pysiib.py:104: UserWarning: stimuli must have at least 20 seconds of speech\n",
      "  warnings.warn('stimuli must have at least 20 seconds of speech')\n",
      "/opt/conda/lib/python3.7/site-packages/pysiib.py:104: UserWarning: stimuli must have at least 20 seconds of speech\n",
      "  warnings.warn('stimuli must have at least 20 seconds of speech')\n",
      "/opt/conda/lib/python3.7/site-packages/pysiib.py:104: UserWarning: stimuli must have at least 20 seconds of speech\n",
      "  warnings.warn('stimuli must have at least 20 seconds of speech')\n",
      "/opt/conda/lib/python3.7/site-packages/pysiib.py:104: UserWarning: stimuli must have at least 20 seconds of speech\n",
      "  warnings.warn('stimuli must have at least 20 seconds of speech')\n",
      "[tflite_quality_mapper.cc : 33] RAW: Loading TF Lattice TFLite model at visqol/model/lattice_tcditugenmeetpackhref_ls2_nl60_lr12_bs2048_learn.005_ep2400_train1_7_raw.tflite\n",
      "INFO: Created TensorFlow Lite XNNPACK delegate for CPU.\n",
      "/opt/conda/lib/python3.7/site-packages/pysiib.py:104: UserWarning: stimuli must have at least 20 seconds of speech\n",
      "  warnings.warn('stimuli must have at least 20 seconds of speech')\n",
      "/opt/conda/lib/python3.7/site-packages/pysiib.py:104: UserWarning: stimuli must have at least 20 seconds of speech\n",
      "  warnings.warn('stimuli must have at least 20 seconds of speech')\n",
      "/opt/conda/lib/python3.7/site-packages/pysiib.py:104: UserWarning: stimuli must have at least 20 seconds of speech\n",
      "  warnings.warn('stimuli must have at least 20 seconds of speech')\n",
      "/opt/conda/lib/python3.7/site-packages/pysiib.py:104: UserWarning: stimuli must have at least 20 seconds of speech\n",
      "  warnings.warn('stimuli must have at least 20 seconds of speech')\n",
      "/opt/conda/lib/python3.7/site-packages/pysiib.py:104: UserWarning: stimuli must have at least 20 seconds of speech\n",
      "  warnings.warn('stimuli must have at least 20 seconds of speech')\n",
      "[tflite_quality_mapper.cc : 33] RAW: Loading TF Lattice TFLite model at visqol/model/lattice_tcditugenmeetpackhref_ls2_nl60_lr12_bs2048_learn.005_ep2400_train1_7_raw.tflite\n",
      "INFO: Created TensorFlow Lite XNNPACK delegate for CPU.\n"
     ]
    },
    {
     "name": "stdout",
     "output_type": "stream",
     "text": [
      "Discriminator training...\n"
     ]
    },
    {
     "name": "stderr",
     "output_type": "stream",
     "text": [
      "100%|██████████| 200/200 [01:00<00:00,  3.30it/s]\n",
      "100%|██████████| 233/233 [01:06<00:00,  3.50it/s]\n",
      "100%|██████████| 200/200 [00:56<00:00,  3.54it/s]\n"
     ]
    },
    {
     "name": "stdout",
     "output_type": "stream",
     "text": [
      "Epoch 6 Finished\n",
      "Generator training (with discriminator fixed)...\n"
     ]
    },
    {
     "name": "stderr",
     "output_type": "stream",
     "text": [
      "100%|██████████| 100/100 [00:23<00:00,  4.24it/s]\n"
     ]
    },
    {
     "name": "stdout",
     "output_type": "stream",
     "text": [
      "Evaluate G by validation data ...\n"
     ]
    },
    {
     "name": "stderr",
     "output_type": "stream",
     "text": [
      "/opt/conda/lib/python3.7/site-packages/pysiib.py:104: UserWarning: stimuli must have at least 20 seconds of speech\n",
      "  warnings.warn('stimuli must have at least 20 seconds of speech')\n",
      "/opt/conda/lib/python3.7/site-packages/pysiib.py:104: UserWarning: stimuli must have at least 20 seconds of speech\n",
      "  warnings.warn('stimuli must have at least 20 seconds of speech')\n",
      "/opt/conda/lib/python3.7/site-packages/pysiib.py:104: UserWarning: stimuli must have at least 20 seconds of speech\n",
      "  warnings.warn('stimuli must have at least 20 seconds of speech')\n",
      "/opt/conda/lib/python3.7/site-packages/pysiib.py:104: UserWarning: stimuli must have at least 20 seconds of speech\n",
      "  warnings.warn('stimuli must have at least 20 seconds of speech')\n",
      "/opt/conda/lib/python3.7/site-packages/pysiib.py:104: UserWarning: stimuli must have at least 20 seconds of speech\n",
      "  warnings.warn('stimuli must have at least 20 seconds of speech')\n",
      "/opt/conda/lib/python3.7/site-packages/pysiib.py:104: UserWarning: stimuli must have at least 20 seconds of speech\n",
      "  warnings.warn('stimuli must have at least 20 seconds of speech')\n",
      "/opt/conda/lib/python3.7/site-packages/pysiib.py:104: UserWarning: stimuli must have at least 20 seconds of speech\n",
      "  warnings.warn('stimuli must have at least 20 seconds of speech')\n",
      "/opt/conda/lib/python3.7/site-packages/pysiib.py:104: UserWarning: stimuli must have at least 20 seconds of speech\n",
      "  warnings.warn('stimuli must have at least 20 seconds of speech')\n",
      "/opt/conda/lib/python3.7/site-packages/pysiib.py:104: UserWarning: stimuli must have at least 20 seconds of speech\n",
      "  warnings.warn('stimuli must have at least 20 seconds of speech')\n",
      "[tflite_quality_mapper.cc : 33] RAW: Loading TF Lattice TFLite model at visqol/model/lattice_tcditugenmeetpackhref_ls2_nl60_lr12_bs2048_learn.005_ep2400_train1_7_raw.tflite\n",
      "INFO: Created TensorFlow Lite XNNPACK delegate for CPU.\n"
     ]
    },
    {
     "name": "stdout",
     "output_type": "stream",
     "text": [
      "Sample training data for discriminator training...\n"
     ]
    },
    {
     "name": "stderr",
     "output_type": "stream",
     "text": [
      "/opt/conda/lib/python3.7/site-packages/pysiib.py:104: UserWarning: stimuli must have at least 20 seconds of speech\n",
      "  warnings.warn('stimuli must have at least 20 seconds of speech')\n",
      "/opt/conda/lib/python3.7/site-packages/pysiib.py:104: UserWarning: stimuli must have at least 20 seconds of speech\n",
      "  warnings.warn('stimuli must have at least 20 seconds of speech')\n",
      "/opt/conda/lib/python3.7/site-packages/pysiib.py:104: UserWarning: stimuli must have at least 20 seconds of speech\n",
      "  warnings.warn('stimuli must have at least 20 seconds of speech')\n",
      "/opt/conda/lib/python3.7/site-packages/pysiib.py:104: UserWarning: stimuli must have at least 20 seconds of speech\n",
      "  warnings.warn('stimuli must have at least 20 seconds of speech')\n",
      "/opt/conda/lib/python3.7/site-packages/pysiib.py:104: UserWarning: stimuli must have at least 20 seconds of speech\n",
      "  warnings.warn('stimuli must have at least 20 seconds of speech')\n",
      "/opt/conda/lib/python3.7/site-packages/pysiib.py:104: UserWarning: stimuli must have at least 20 seconds of speech\n",
      "  warnings.warn('stimuli must have at least 20 seconds of speech')\n",
      "/opt/conda/lib/python3.7/site-packages/pysiib.py:104: UserWarning: stimuli must have at least 20 seconds of speech\n",
      "  warnings.warn('stimuli must have at least 20 seconds of speech')\n",
      "[tflite_quality_mapper.cc : 33] RAW: Loading TF Lattice TFLite model at visqol/model/lattice_tcditugenmeetpackhref_ls2_nl60_lr12_bs2048_learn.005_ep2400_train1_7_raw.tflite\n",
      "INFO: Created TensorFlow Lite XNNPACK delegate for CPU.\n",
      "/opt/conda/lib/python3.7/site-packages/pysiib.py:104: UserWarning: stimuli must have at least 20 seconds of speech\n",
      "  warnings.warn('stimuli must have at least 20 seconds of speech')\n",
      "/opt/conda/lib/python3.7/site-packages/pysiib.py:104: UserWarning: stimuli must have at least 20 seconds of speech\n",
      "  warnings.warn('stimuli must have at least 20 seconds of speech')\n",
      "/opt/conda/lib/python3.7/site-packages/pysiib.py:104: UserWarning: stimuli must have at least 20 seconds of speech\n",
      "  warnings.warn('stimuli must have at least 20 seconds of speech')\n",
      "/opt/conda/lib/python3.7/site-packages/pysiib.py:104: UserWarning: stimuli must have at least 20 seconds of speech\n",
      "  warnings.warn('stimuli must have at least 20 seconds of speech')\n",
      "/opt/conda/lib/python3.7/site-packages/pysiib.py:104: UserWarning: stimuli must have at least 20 seconds of speech\n",
      "  warnings.warn('stimuli must have at least 20 seconds of speech')\n",
      "/opt/conda/lib/python3.7/site-packages/pysiib.py:104: UserWarning: stimuli must have at least 20 seconds of speech\n",
      "  warnings.warn('stimuli must have at least 20 seconds of speech')\n",
      "[tflite_quality_mapper.cc : 33] RAW: Loading TF Lattice TFLite model at visqol/model/lattice_tcditugenmeetpackhref_ls2_nl60_lr12_bs2048_learn.005_ep2400_train1_7_raw.tflite\n",
      "INFO: Created TensorFlow Lite XNNPACK delegate for CPU.\n"
     ]
    },
    {
     "name": "stdout",
     "output_type": "stream",
     "text": [
      "Discriminator training...\n"
     ]
    },
    {
     "name": "stderr",
     "output_type": "stream",
     "text": [
      "100%|██████████| 200/200 [01:03<00:00,  3.17it/s]\n",
      "100%|██████████| 240/240 [01:10<00:00,  3.41it/s]\n",
      "100%|██████████| 200/200 [01:07<00:00,  2.97it/s]\n"
     ]
    },
    {
     "name": "stdout",
     "output_type": "stream",
     "text": [
      "Epoch 7 Finished\n",
      "Generator training (with discriminator fixed)...\n"
     ]
    },
    {
     "name": "stderr",
     "output_type": "stream",
     "text": [
      "100%|██████████| 100/100 [00:22<00:00,  4.36it/s]\n"
     ]
    },
    {
     "name": "stdout",
     "output_type": "stream",
     "text": [
      "Evaluate G by validation data ...\n"
     ]
    },
    {
     "name": "stderr",
     "output_type": "stream",
     "text": [
      "/opt/conda/lib/python3.7/site-packages/pysiib.py:104: UserWarning: stimuli must have at least 20 seconds of speech\n",
      "  warnings.warn('stimuli must have at least 20 seconds of speech')\n",
      "/opt/conda/lib/python3.7/site-packages/pysiib.py:104: UserWarning: stimuli must have at least 20 seconds of speech\n",
      "  warnings.warn('stimuli must have at least 20 seconds of speech')\n",
      "/opt/conda/lib/python3.7/site-packages/pysiib.py:104: UserWarning: stimuli must have at least 20 seconds of speech\n",
      "  warnings.warn('stimuli must have at least 20 seconds of speech')\n",
      "/opt/conda/lib/python3.7/site-packages/pysiib.py:104: UserWarning: stimuli must have at least 20 seconds of speech\n",
      "  warnings.warn('stimuli must have at least 20 seconds of speech')\n",
      "/opt/conda/lib/python3.7/site-packages/pysiib.py:104: UserWarning: stimuli must have at least 20 seconds of speech\n",
      "  warnings.warn('stimuli must have at least 20 seconds of speech')\n",
      "/opt/conda/lib/python3.7/site-packages/pysiib.py:104: UserWarning: stimuli must have at least 20 seconds of speech\n",
      "  warnings.warn('stimuli must have at least 20 seconds of speech')\n",
      "/opt/conda/lib/python3.7/site-packages/pysiib.py:104: UserWarning: stimuli must have at least 20 seconds of speech\n",
      "  warnings.warn('stimuli must have at least 20 seconds of speech')\n",
      "/opt/conda/lib/python3.7/site-packages/pysiib.py:104: UserWarning: stimuli must have at least 20 seconds of speech\n",
      "  warnings.warn('stimuli must have at least 20 seconds of speech')\n",
      "[tflite_quality_mapper.cc : 33] RAW: Loading TF Lattice TFLite model at visqol/model/lattice_tcditugenmeetpackhref_ls2_nl60_lr12_bs2048_learn.005_ep2400_train1_7_raw.tflite\n",
      "INFO: Created TensorFlow Lite XNNPACK delegate for CPU.\n"
     ]
    },
    {
     "name": "stdout",
     "output_type": "stream",
     "text": [
      "Sample training data for discriminator training...\n"
     ]
    },
    {
     "name": "stderr",
     "output_type": "stream",
     "text": [
      "/opt/conda/lib/python3.7/site-packages/pysiib.py:104: UserWarning: stimuli must have at least 20 seconds of speech\n",
      "  warnings.warn('stimuli must have at least 20 seconds of speech')\n",
      "/opt/conda/lib/python3.7/site-packages/pysiib.py:104: UserWarning: stimuli must have at least 20 seconds of speech\n",
      "  warnings.warn('stimuli must have at least 20 seconds of speech')\n",
      "/opt/conda/lib/python3.7/site-packages/pysiib.py:104: UserWarning: stimuli must have at least 20 seconds of speech\n",
      "  warnings.warn('stimuli must have at least 20 seconds of speech')\n",
      "/opt/conda/lib/python3.7/site-packages/pysiib.py:104: UserWarning: stimuli must have at least 20 seconds of speech\n",
      "  warnings.warn('stimuli must have at least 20 seconds of speech')\n",
      "/opt/conda/lib/python3.7/site-packages/pysiib.py:104: UserWarning: stimuli must have at least 20 seconds of speech\n",
      "  warnings.warn('stimuli must have at least 20 seconds of speech')\n",
      "/opt/conda/lib/python3.7/site-packages/pysiib.py:104: UserWarning: stimuli must have at least 20 seconds of speech\n",
      "  warnings.warn('stimuli must have at least 20 seconds of speech')\n",
      "/opt/conda/lib/python3.7/site-packages/pysiib.py:104: UserWarning: stimuli must have at least 20 seconds of speech\n",
      "  warnings.warn('stimuli must have at least 20 seconds of speech')\n",
      "/opt/conda/lib/python3.7/site-packages/pysiib.py:104: UserWarning: stimuli must have at least 20 seconds of speech\n",
      "  warnings.warn('stimuli must have at least 20 seconds of speech')\n",
      "/opt/conda/lib/python3.7/site-packages/pysiib.py:104: UserWarning: stimuli must have at least 20 seconds of speech\n",
      "  warnings.warn('stimuli must have at least 20 seconds of speech')\n",
      "/opt/conda/lib/python3.7/site-packages/pysiib.py:104: UserWarning: stimuli must have at least 20 seconds of speech\n",
      "  warnings.warn('stimuli must have at least 20 seconds of speech')\n",
      "/opt/conda/lib/python3.7/site-packages/pysiib.py:104: UserWarning: stimuli must have at least 20 seconds of speech\n",
      "  warnings.warn('stimuli must have at least 20 seconds of speech')\n",
      "/opt/conda/lib/python3.7/site-packages/pysiib.py:104: UserWarning: stimuli must have at least 20 seconds of speech\n",
      "  warnings.warn('stimuli must have at least 20 seconds of speech')\n",
      "[tflite_quality_mapper.cc : 33] RAW: Loading TF Lattice TFLite model at visqol/model/lattice_tcditugenmeetpackhref_ls2_nl60_lr12_bs2048_learn.005_ep2400_train1_7_raw.tflite\n",
      "INFO: Created TensorFlow Lite XNNPACK delegate for CPU.\n",
      "/opt/conda/lib/python3.7/site-packages/pysiib.py:104: UserWarning: stimuli must have at least 20 seconds of speech\n",
      "  warnings.warn('stimuli must have at least 20 seconds of speech')\n",
      "/opt/conda/lib/python3.7/site-packages/pysiib.py:104: UserWarning: stimuli must have at least 20 seconds of speech\n",
      "  warnings.warn('stimuli must have at least 20 seconds of speech')\n",
      "/opt/conda/lib/python3.7/site-packages/pysiib.py:104: UserWarning: stimuli must have at least 20 seconds of speech\n",
      "  warnings.warn('stimuli must have at least 20 seconds of speech')\n",
      "/opt/conda/lib/python3.7/site-packages/pysiib.py:104: UserWarning: stimuli must have at least 20 seconds of speech\n",
      "  warnings.warn('stimuli must have at least 20 seconds of speech')\n",
      "/opt/conda/lib/python3.7/site-packages/pysiib.py:104: UserWarning: stimuli must have at least 20 seconds of speech\n",
      "  warnings.warn('stimuli must have at least 20 seconds of speech')\n",
      "/opt/conda/lib/python3.7/site-packages/pysiib.py:104: UserWarning: stimuli must have at least 20 seconds of speech\n",
      "  warnings.warn('stimuli must have at least 20 seconds of speech')\n",
      "[tflite_quality_mapper.cc : 33] RAW: Loading TF Lattice TFLite model at visqol/model/lattice_tcditugenmeetpackhref_ls2_nl60_lr12_bs2048_learn.005_ep2400_train1_7_raw.tflite\n",
      "INFO: Created TensorFlow Lite XNNPACK delegate for CPU.\n"
     ]
    },
    {
     "name": "stdout",
     "output_type": "stream",
     "text": [
      "Discriminator training...\n"
     ]
    },
    {
     "name": "stderr",
     "output_type": "stream",
     "text": [
      "100%|██████████| 200/200 [01:02<00:00,  3.20it/s]\n",
      "100%|██████████| 246/246 [01:11<00:00,  3.45it/s]\n",
      "100%|██████████| 200/200 [01:01<00:00,  3.26it/s]\n"
     ]
    },
    {
     "name": "stdout",
     "output_type": "stream",
     "text": [
      "Epoch 8 Finished\n",
      "Generator training (with discriminator fixed)...\n"
     ]
    },
    {
     "name": "stderr",
     "output_type": "stream",
     "text": [
      "100%|██████████| 100/100 [00:19<00:00,  5.05it/s]\n"
     ]
    },
    {
     "name": "stdout",
     "output_type": "stream",
     "text": [
      "Evaluate G by validation data ...\n"
     ]
    },
    {
     "name": "stderr",
     "output_type": "stream",
     "text": [
      "/opt/conda/lib/python3.7/site-packages/pysiib.py:104: UserWarning: stimuli must have at least 20 seconds of speech\n",
      "  warnings.warn('stimuli must have at least 20 seconds of speech')\n",
      "/opt/conda/lib/python3.7/site-packages/pysiib.py:104: UserWarning: stimuli must have at least 20 seconds of speech\n",
      "  warnings.warn('stimuli must have at least 20 seconds of speech')\n",
      "/opt/conda/lib/python3.7/site-packages/pysiib.py:104: UserWarning: stimuli must have at least 20 seconds of speech\n",
      "  warnings.warn('stimuli must have at least 20 seconds of speech')\n",
      "/opt/conda/lib/python3.7/site-packages/pysiib.py:104: UserWarning: stimuli must have at least 20 seconds of speech\n",
      "  warnings.warn('stimuli must have at least 20 seconds of speech')\n",
      "/opt/conda/lib/python3.7/site-packages/pysiib.py:104: UserWarning: stimuli must have at least 20 seconds of speech\n",
      "  warnings.warn('stimuli must have at least 20 seconds of speech')\n",
      "/opt/conda/lib/python3.7/site-packages/pysiib.py:104: UserWarning: stimuli must have at least 20 seconds of speech\n",
      "  warnings.warn('stimuli must have at least 20 seconds of speech')\n",
      "/opt/conda/lib/python3.7/site-packages/pysiib.py:104: UserWarning: stimuli must have at least 20 seconds of speech\n",
      "  warnings.warn('stimuli must have at least 20 seconds of speech')\n",
      "/opt/conda/lib/python3.7/site-packages/pysiib.py:104: UserWarning: stimuli must have at least 20 seconds of speech\n",
      "  warnings.warn('stimuli must have at least 20 seconds of speech')\n",
      "[tflite_quality_mapper.cc : 33] RAW: Loading TF Lattice TFLite model at visqol/model/lattice_tcditugenmeetpackhref_ls2_nl60_lr12_bs2048_learn.005_ep2400_train1_7_raw.tflite\n",
      "INFO: Created TensorFlow Lite XNNPACK delegate for CPU.\n"
     ]
    },
    {
     "name": "stdout",
     "output_type": "stream",
     "text": [
      "Sample training data for discriminator training...\n"
     ]
    },
    {
     "name": "stderr",
     "output_type": "stream",
     "text": [
      "/opt/conda/lib/python3.7/site-packages/pysiib.py:104: UserWarning: stimuli must have at least 20 seconds of speech\n",
      "  warnings.warn('stimuli must have at least 20 seconds of speech')\n",
      "/opt/conda/lib/python3.7/site-packages/pysiib.py:104: UserWarning: stimuli must have at least 20 seconds of speech\n",
      "  warnings.warn('stimuli must have at least 20 seconds of speech')\n",
      "/opt/conda/lib/python3.7/site-packages/pysiib.py:104: UserWarning: stimuli must have at least 20 seconds of speech\n",
      "  warnings.warn('stimuli must have at least 20 seconds of speech')\n",
      "/opt/conda/lib/python3.7/site-packages/pysiib.py:104: UserWarning: stimuli must have at least 20 seconds of speech\n",
      "  warnings.warn('stimuli must have at least 20 seconds of speech')\n",
      "/opt/conda/lib/python3.7/site-packages/pysiib.py:104: UserWarning: stimuli must have at least 20 seconds of speech\n",
      "  warnings.warn('stimuli must have at least 20 seconds of speech')\n",
      "/opt/conda/lib/python3.7/site-packages/pysiib.py:104: UserWarning: stimuli must have at least 20 seconds of speech\n",
      "  warnings.warn('stimuli must have at least 20 seconds of speech')\n",
      "/opt/conda/lib/python3.7/site-packages/pysiib.py:104: UserWarning: stimuli must have at least 20 seconds of speech\n",
      "  warnings.warn('stimuli must have at least 20 seconds of speech')\n",
      "/opt/conda/lib/python3.7/site-packages/pysiib.py:104: UserWarning: stimuli must have at least 20 seconds of speech\n",
      "  warnings.warn('stimuli must have at least 20 seconds of speech')\n",
      "[tflite_quality_mapper.cc : 33] RAW: Loading TF Lattice TFLite model at visqol/model/lattice_tcditugenmeetpackhref_ls2_nl60_lr12_bs2048_learn.005_ep2400_train1_7_raw.tflite\n",
      "INFO: Created TensorFlow Lite XNNPACK delegate for CPU.\n",
      "/opt/conda/lib/python3.7/site-packages/pysiib.py:104: UserWarning: stimuli must have at least 20 seconds of speech\n",
      "  warnings.warn('stimuli must have at least 20 seconds of speech')\n",
      "/opt/conda/lib/python3.7/site-packages/pysiib.py:104: UserWarning: stimuli must have at least 20 seconds of speech\n",
      "  warnings.warn('stimuli must have at least 20 seconds of speech')\n",
      "/opt/conda/lib/python3.7/site-packages/pysiib.py:104: UserWarning: stimuli must have at least 20 seconds of speech\n",
      "  warnings.warn('stimuli must have at least 20 seconds of speech')\n",
      "/opt/conda/lib/python3.7/site-packages/pysiib.py:104: UserWarning: stimuli must have at least 20 seconds of speech\n",
      "  warnings.warn('stimuli must have at least 20 seconds of speech')\n",
      "/opt/conda/lib/python3.7/site-packages/pysiib.py:104: UserWarning: stimuli must have at least 20 seconds of speech\n",
      "  warnings.warn('stimuli must have at least 20 seconds of speech')\n",
      "/opt/conda/lib/python3.7/site-packages/pysiib.py:104: UserWarning: stimuli must have at least 20 seconds of speech\n",
      "  warnings.warn('stimuli must have at least 20 seconds of speech')\n",
      "/opt/conda/lib/python3.7/site-packages/pysiib.py:104: UserWarning: stimuli must have at least 20 seconds of speech\n",
      "  warnings.warn('stimuli must have at least 20 seconds of speech')\n",
      "[tflite_quality_mapper.cc : 33] RAW: Loading TF Lattice TFLite model at visqol/model/lattice_tcditugenmeetpackhref_ls2_nl60_lr12_bs2048_learn.005_ep2400_train1_7_raw.tflite\n",
      "INFO: Created TensorFlow Lite XNNPACK delegate for CPU.\n"
     ]
    },
    {
     "name": "stdout",
     "output_type": "stream",
     "text": [
      "Discriminator training...\n"
     ]
    },
    {
     "name": "stderr",
     "output_type": "stream",
     "text": [
      "100%|██████████| 200/200 [00:44<00:00,  4.51it/s]\n",
      "100%|██████████| 253/253 [01:01<00:00,  4.09it/s]\n",
      "100%|██████████| 200/200 [00:50<00:00,  4.00it/s]\n"
     ]
    },
    {
     "name": "stdout",
     "output_type": "stream",
     "text": [
      "Epoch 9 Finished\n",
      "Generator training (with discriminator fixed)...\n"
     ]
    },
    {
     "name": "stderr",
     "output_type": "stream",
     "text": [
      "100%|██████████| 100/100 [00:18<00:00,  5.31it/s]\n"
     ]
    },
    {
     "name": "stdout",
     "output_type": "stream",
     "text": [
      "Evaluate G by validation data ...\n"
     ]
    },
    {
     "name": "stderr",
     "output_type": "stream",
     "text": [
      "/opt/conda/lib/python3.7/site-packages/pysiib.py:104: UserWarning: stimuli must have at least 20 seconds of speech\n",
      "  warnings.warn('stimuli must have at least 20 seconds of speech')\n",
      "/opt/conda/lib/python3.7/site-packages/pysiib.py:104: UserWarning: stimuli must have at least 20 seconds of speech\n",
      "  warnings.warn('stimuli must have at least 20 seconds of speech')\n",
      "/opt/conda/lib/python3.7/site-packages/pysiib.py:104: UserWarning: stimuli must have at least 20 seconds of speech\n",
      "  warnings.warn('stimuli must have at least 20 seconds of speech')\n",
      "/opt/conda/lib/python3.7/site-packages/pysiib.py:104: UserWarning: stimuli must have at least 20 seconds of speech\n",
      "  warnings.warn('stimuli must have at least 20 seconds of speech')\n",
      "/opt/conda/lib/python3.7/site-packages/pysiib.py:104: UserWarning: stimuli must have at least 20 seconds of speech\n",
      "  warnings.warn('stimuli must have at least 20 seconds of speech')\n",
      "/opt/conda/lib/python3.7/site-packages/pysiib.py:104: UserWarning: stimuli must have at least 20 seconds of speech\n",
      "  warnings.warn('stimuli must have at least 20 seconds of speech')\n",
      "/opt/conda/lib/python3.7/site-packages/pysiib.py:104: UserWarning: stimuli must have at least 20 seconds of speech\n",
      "  warnings.warn('stimuli must have at least 20 seconds of speech')\n",
      "/opt/conda/lib/python3.7/site-packages/pysiib.py:104: UserWarning: stimuli must have at least 20 seconds of speech\n",
      "  warnings.warn('stimuli must have at least 20 seconds of speech')\n",
      "[tflite_quality_mapper.cc : 33] RAW: Loading TF Lattice TFLite model at visqol/model/lattice_tcditugenmeetpackhref_ls2_nl60_lr12_bs2048_learn.005_ep2400_train1_7_raw.tflite\n",
      "INFO: Created TensorFlow Lite XNNPACK delegate for CPU.\n"
     ]
    },
    {
     "name": "stdout",
     "output_type": "stream",
     "text": [
      "Sample training data for discriminator training...\n"
     ]
    },
    {
     "name": "stderr",
     "output_type": "stream",
     "text": [
      "/opt/conda/lib/python3.7/site-packages/pysiib.py:104: UserWarning: stimuli must have at least 20 seconds of speech\n",
      "  warnings.warn('stimuli must have at least 20 seconds of speech')\n",
      "/opt/conda/lib/python3.7/site-packages/pysiib.py:104: UserWarning: stimuli must have at least 20 seconds of speech\n",
      "  warnings.warn('stimuli must have at least 20 seconds of speech')\n",
      "/opt/conda/lib/python3.7/site-packages/pysiib.py:104: UserWarning: stimuli must have at least 20 seconds of speech\n",
      "  warnings.warn('stimuli must have at least 20 seconds of speech')\n",
      "/opt/conda/lib/python3.7/site-packages/pysiib.py:104: UserWarning: stimuli must have at least 20 seconds of speech\n",
      "  warnings.warn('stimuli must have at least 20 seconds of speech')\n",
      "/opt/conda/lib/python3.7/site-packages/pysiib.py:104: UserWarning: stimuli must have at least 20 seconds of speech\n",
      "  warnings.warn('stimuli must have at least 20 seconds of speech')\n",
      "/opt/conda/lib/python3.7/site-packages/pysiib.py:104: UserWarning: stimuli must have at least 20 seconds of speech\n",
      "  warnings.warn('stimuli must have at least 20 seconds of speech')\n",
      "/opt/conda/lib/python3.7/site-packages/pysiib.py:104: UserWarning: stimuli must have at least 20 seconds of speech\n",
      "  warnings.warn('stimuli must have at least 20 seconds of speech')\n",
      "/opt/conda/lib/python3.7/site-packages/pysiib.py:104: UserWarning: stimuli must have at least 20 seconds of speech\n",
      "  warnings.warn('stimuli must have at least 20 seconds of speech')\n",
      "/opt/conda/lib/python3.7/site-packages/pysiib.py:104: UserWarning: stimuli must have at least 20 seconds of speech\n",
      "  warnings.warn('stimuli must have at least 20 seconds of speech')\n",
      "/opt/conda/lib/python3.7/site-packages/pysiib.py:104: UserWarning: stimuli must have at least 20 seconds of speech\n",
      "  warnings.warn('stimuli must have at least 20 seconds of speech')\n",
      "/opt/conda/lib/python3.7/site-packages/pysiib.py:104: UserWarning: stimuli must have at least 20 seconds of speech\n",
      "  warnings.warn('stimuli must have at least 20 seconds of speech')\n",
      "/opt/conda/lib/python3.7/site-packages/pysiib.py:104: UserWarning: stimuli must have at least 20 seconds of speech\n",
      "  warnings.warn('stimuli must have at least 20 seconds of speech')\n",
      "[tflite_quality_mapper.cc : 33] RAW: Loading TF Lattice TFLite model at visqol/model/lattice_tcditugenmeetpackhref_ls2_nl60_lr12_bs2048_learn.005_ep2400_train1_7_raw.tflite\n",
      "INFO: Created TensorFlow Lite XNNPACK delegate for CPU.\n",
      "/opt/conda/lib/python3.7/site-packages/pysiib.py:104: UserWarning: stimuli must have at least 20 seconds of speech\n",
      "  warnings.warn('stimuli must have at least 20 seconds of speech')\n",
      "/opt/conda/lib/python3.7/site-packages/pysiib.py:104: UserWarning: stimuli must have at least 20 seconds of speech\n",
      "  warnings.warn('stimuli must have at least 20 seconds of speech')\n",
      "/opt/conda/lib/python3.7/site-packages/pysiib.py:104: UserWarning: stimuli must have at least 20 seconds of speech\n",
      "  warnings.warn('stimuli must have at least 20 seconds of speech')\n",
      "/opt/conda/lib/python3.7/site-packages/pysiib.py:104: UserWarning: stimuli must have at least 20 seconds of speech\n",
      "  warnings.warn('stimuli must have at least 20 seconds of speech')\n",
      "[tflite_quality_mapper.cc : 33] RAW: Loading TF Lattice TFLite model at visqol/model/lattice_tcditugenmeetpackhref_ls2_nl60_lr12_bs2048_learn.005_ep2400_train1_7_raw.tflite\n",
      "INFO: Created TensorFlow Lite XNNPACK delegate for CPU.\n"
     ]
    },
    {
     "name": "stdout",
     "output_type": "stream",
     "text": [
      "Discriminator training...\n"
     ]
    },
    {
     "name": "stderr",
     "output_type": "stream",
     "text": [
      "100%|██████████| 200/200 [00:47<00:00,  4.25it/s]\n",
      "100%|██████████| 260/260 [01:02<00:00,  4.14it/s]\n",
      "100%|██████████| 200/200 [00:44<00:00,  4.45it/s]\n"
     ]
    },
    {
     "name": "stdout",
     "output_type": "stream",
     "text": [
      "Epoch 10 Finished\n",
      "Generator training (with discriminator fixed)...\n"
     ]
    },
    {
     "name": "stderr",
     "output_type": "stream",
     "text": [
      "100%|██████████| 100/100 [00:21<00:00,  4.74it/s]\n"
     ]
    },
    {
     "name": "stdout",
     "output_type": "stream",
     "text": [
      "Evaluate G by validation data ...\n"
     ]
    },
    {
     "name": "stderr",
     "output_type": "stream",
     "text": [
      "/opt/conda/lib/python3.7/site-packages/pysiib.py:104: UserWarning: stimuli must have at least 20 seconds of speech\n",
      "  warnings.warn('stimuli must have at least 20 seconds of speech')\n",
      "/opt/conda/lib/python3.7/site-packages/pysiib.py:104: UserWarning: stimuli must have at least 20 seconds of speech\n",
      "  warnings.warn('stimuli must have at least 20 seconds of speech')\n",
      "/opt/conda/lib/python3.7/site-packages/pysiib.py:104: UserWarning: stimuli must have at least 20 seconds of speech\n",
      "  warnings.warn('stimuli must have at least 20 seconds of speech')\n",
      "/opt/conda/lib/python3.7/site-packages/pysiib.py:104: UserWarning: stimuli must have at least 20 seconds of speech\n",
      "  warnings.warn('stimuli must have at least 20 seconds of speech')\n",
      "/opt/conda/lib/python3.7/site-packages/pysiib.py:104: UserWarning: stimuli must have at least 20 seconds of speech\n",
      "  warnings.warn('stimuli must have at least 20 seconds of speech')\n",
      "/opt/conda/lib/python3.7/site-packages/pysiib.py:104: UserWarning: stimuli must have at least 20 seconds of speech\n",
      "  warnings.warn('stimuli must have at least 20 seconds of speech')\n",
      "/opt/conda/lib/python3.7/site-packages/pysiib.py:104: UserWarning: stimuli must have at least 20 seconds of speech\n",
      "  warnings.warn('stimuli must have at least 20 seconds of speech')\n",
      "/opt/conda/lib/python3.7/site-packages/pysiib.py:104: UserWarning: stimuli must have at least 20 seconds of speech\n",
      "  warnings.warn('stimuli must have at least 20 seconds of speech')\n",
      "[tflite_quality_mapper.cc : 33] RAW: Loading TF Lattice TFLite model at visqol/model/lattice_tcditugenmeetpackhref_ls2_nl60_lr12_bs2048_learn.005_ep2400_train1_7_raw.tflite\n",
      "INFO: Created TensorFlow Lite XNNPACK delegate for CPU.\n"
     ]
    },
    {
     "name": "stdout",
     "output_type": "stream",
     "text": [
      "Sample training data for discriminator training...\n"
     ]
    },
    {
     "name": "stderr",
     "output_type": "stream",
     "text": [
      "/opt/conda/lib/python3.7/site-packages/pysiib.py:104: UserWarning: stimuli must have at least 20 seconds of speech\n",
      "  warnings.warn('stimuli must have at least 20 seconds of speech')\n",
      "/opt/conda/lib/python3.7/site-packages/pysiib.py:104: UserWarning: stimuli must have at least 20 seconds of speech\n",
      "  warnings.warn('stimuli must have at least 20 seconds of speech')\n",
      "/opt/conda/lib/python3.7/site-packages/pysiib.py:104: UserWarning: stimuli must have at least 20 seconds of speech\n",
      "  warnings.warn('stimuli must have at least 20 seconds of speech')\n",
      "/opt/conda/lib/python3.7/site-packages/pysiib.py:104: UserWarning: stimuli must have at least 20 seconds of speech\n",
      "  warnings.warn('stimuli must have at least 20 seconds of speech')\n",
      "[tflite_quality_mapper.cc : 33] RAW: Loading TF Lattice TFLite model at visqol/model/lattice_tcditugenmeetpackhref_ls2_nl60_lr12_bs2048_learn.005_ep2400_train1_7_raw.tflite\n",
      "INFO: Created TensorFlow Lite XNNPACK delegate for CPU.\n",
      "/opt/conda/lib/python3.7/site-packages/pysiib.py:104: UserWarning: stimuli must have at least 20 seconds of speech\n",
      "  warnings.warn('stimuli must have at least 20 seconds of speech')\n",
      "/opt/conda/lib/python3.7/site-packages/pysiib.py:104: UserWarning: stimuli must have at least 20 seconds of speech\n",
      "  warnings.warn('stimuli must have at least 20 seconds of speech')\n",
      "/opt/conda/lib/python3.7/site-packages/pysiib.py:104: UserWarning: stimuli must have at least 20 seconds of speech\n",
      "  warnings.warn('stimuli must have at least 20 seconds of speech')\n",
      "/opt/conda/lib/python3.7/site-packages/pysiib.py:104: UserWarning: stimuli must have at least 20 seconds of speech\n",
      "  warnings.warn('stimuli must have at least 20 seconds of speech')\n",
      "/opt/conda/lib/python3.7/site-packages/pysiib.py:104: UserWarning: stimuli must have at least 20 seconds of speech\n",
      "  warnings.warn('stimuli must have at least 20 seconds of speech')\n",
      "[tflite_quality_mapper.cc : 33] RAW: Loading TF Lattice TFLite model at visqol/model/lattice_tcditugenmeetpackhref_ls2_nl60_lr12_bs2048_learn.005_ep2400_train1_7_raw.tflite\n",
      "INFO: Created TensorFlow Lite XNNPACK delegate for CPU.\n"
     ]
    },
    {
     "name": "stdout",
     "output_type": "stream",
     "text": [
      "Discriminator training...\n"
     ]
    },
    {
     "name": "stderr",
     "output_type": "stream",
     "text": [
      "100%|██████████| 200/200 [00:50<00:00,  3.94it/s]\n",
      "100%|██████████| 266/266 [01:06<00:00,  4.00it/s]\n",
      "100%|██████████| 200/200 [00:49<00:00,  4.08it/s]\n"
     ]
    },
    {
     "name": "stdout",
     "output_type": "stream",
     "text": [
      "Epoch 11 Finished\n",
      "Generator training (with discriminator fixed)...\n"
     ]
    },
    {
     "name": "stderr",
     "output_type": "stream",
     "text": [
      "100%|██████████| 100/100 [00:24<00:00,  4.16it/s]\n"
     ]
    },
    {
     "name": "stdout",
     "output_type": "stream",
     "text": [
      "Evaluate G by validation data ...\n"
     ]
    },
    {
     "name": "stderr",
     "output_type": "stream",
     "text": [
      "/opt/conda/lib/python3.7/site-packages/pysiib.py:104: UserWarning: stimuli must have at least 20 seconds of speech\n",
      "  warnings.warn('stimuli must have at least 20 seconds of speech')\n",
      "/opt/conda/lib/python3.7/site-packages/pysiib.py:104: UserWarning: stimuli must have at least 20 seconds of speech\n",
      "  warnings.warn('stimuli must have at least 20 seconds of speech')\n",
      "/opt/conda/lib/python3.7/site-packages/pysiib.py:104: UserWarning: stimuli must have at least 20 seconds of speech\n",
      "  warnings.warn('stimuli must have at least 20 seconds of speech')\n",
      "/opt/conda/lib/python3.7/site-packages/pysiib.py:104: UserWarning: stimuli must have at least 20 seconds of speech\n",
      "  warnings.warn('stimuli must have at least 20 seconds of speech')\n",
      "/opt/conda/lib/python3.7/site-packages/pysiib.py:104: UserWarning: stimuli must have at least 20 seconds of speech\n",
      "  warnings.warn('stimuli must have at least 20 seconds of speech')\n",
      "/opt/conda/lib/python3.7/site-packages/pysiib.py:104: UserWarning: stimuli must have at least 20 seconds of speech\n",
      "  warnings.warn('stimuli must have at least 20 seconds of speech')\n",
      "/opt/conda/lib/python3.7/site-packages/pysiib.py:104: UserWarning: stimuli must have at least 20 seconds of speech\n",
      "  warnings.warn('stimuli must have at least 20 seconds of speech')\n",
      "/opt/conda/lib/python3.7/site-packages/pysiib.py:104: UserWarning: stimuli must have at least 20 seconds of speech\n",
      "  warnings.warn('stimuli must have at least 20 seconds of speech')\n",
      "/opt/conda/lib/python3.7/site-packages/pysiib.py:104: UserWarning: stimuli must have at least 20 seconds of speech\n",
      "  warnings.warn('stimuli must have at least 20 seconds of speech')\n",
      "[tflite_quality_mapper.cc : 33] RAW: Loading TF Lattice TFLite model at visqol/model/lattice_tcditugenmeetpackhref_ls2_nl60_lr12_bs2048_learn.005_ep2400_train1_7_raw.tflite\n",
      "INFO: Created TensorFlow Lite XNNPACK delegate for CPU.\n"
     ]
    },
    {
     "name": "stdout",
     "output_type": "stream",
     "text": [
      "Sample training data for discriminator training...\n"
     ]
    },
    {
     "name": "stderr",
     "output_type": "stream",
     "text": [
      "/opt/conda/lib/python3.7/site-packages/pysiib.py:104: UserWarning: stimuli must have at least 20 seconds of speech\n",
      "  warnings.warn('stimuli must have at least 20 seconds of speech')\n",
      "/opt/conda/lib/python3.7/site-packages/pysiib.py:104: UserWarning: stimuli must have at least 20 seconds of speech\n",
      "  warnings.warn('stimuli must have at least 20 seconds of speech')\n",
      "/opt/conda/lib/python3.7/site-packages/pysiib.py:104: UserWarning: stimuli must have at least 20 seconds of speech\n",
      "  warnings.warn('stimuli must have at least 20 seconds of speech')\n",
      "/opt/conda/lib/python3.7/site-packages/pysiib.py:104: UserWarning: stimuli must have at least 20 seconds of speech\n",
      "  warnings.warn('stimuli must have at least 20 seconds of speech')\n",
      "/opt/conda/lib/python3.7/site-packages/pysiib.py:104: UserWarning: stimuli must have at least 20 seconds of speech\n",
      "  warnings.warn('stimuli must have at least 20 seconds of speech')\n",
      "/opt/conda/lib/python3.7/site-packages/pysiib.py:104: UserWarning: stimuli must have at least 20 seconds of speech\n",
      "  warnings.warn('stimuli must have at least 20 seconds of speech')\n",
      "[tflite_quality_mapper.cc : 33] RAW: Loading TF Lattice TFLite model at visqol/model/lattice_tcditugenmeetpackhref_ls2_nl60_lr12_bs2048_learn.005_ep2400_train1_7_raw.tflite\n",
      "INFO: Created TensorFlow Lite XNNPACK delegate for CPU.\n",
      "/opt/conda/lib/python3.7/site-packages/pysiib.py:104: UserWarning: stimuli must have at least 20 seconds of speech\n",
      "  warnings.warn('stimuli must have at least 20 seconds of speech')\n",
      "/opt/conda/lib/python3.7/site-packages/pysiib.py:104: UserWarning: stimuli must have at least 20 seconds of speech\n",
      "  warnings.warn('stimuli must have at least 20 seconds of speech')\n",
      "/opt/conda/lib/python3.7/site-packages/pysiib.py:104: UserWarning: stimuli must have at least 20 seconds of speech\n",
      "  warnings.warn('stimuli must have at least 20 seconds of speech')\n",
      "/opt/conda/lib/python3.7/site-packages/pysiib.py:104: UserWarning: stimuli must have at least 20 seconds of speech\n",
      "  warnings.warn('stimuli must have at least 20 seconds of speech')\n",
      "/opt/conda/lib/python3.7/site-packages/pysiib.py:104: UserWarning: stimuli must have at least 20 seconds of speech\n",
      "  warnings.warn('stimuli must have at least 20 seconds of speech')\n",
      "/opt/conda/lib/python3.7/site-packages/pysiib.py:104: UserWarning: stimuli must have at least 20 seconds of speech\n",
      "  warnings.warn('stimuli must have at least 20 seconds of speech')\n",
      "[tflite_quality_mapper.cc : 33] RAW: Loading TF Lattice TFLite model at visqol/model/lattice_tcditugenmeetpackhref_ls2_nl60_lr12_bs2048_learn.005_ep2400_train1_7_raw.tflite\n",
      "INFO: Created TensorFlow Lite XNNPACK delegate for CPU.\n"
     ]
    },
    {
     "name": "stdout",
     "output_type": "stream",
     "text": [
      "Discriminator training...\n"
     ]
    },
    {
     "name": "stderr",
     "output_type": "stream",
     "text": [
      "100%|██████████| 200/200 [01:00<00:00,  3.29it/s]\n",
      "100%|██████████| 273/273 [01:26<00:00,  3.17it/s]\n",
      "100%|██████████| 200/200 [00:59<00:00,  3.36it/s]\n"
     ]
    },
    {
     "name": "stdout",
     "output_type": "stream",
     "text": [
      "Epoch 12 Finished\n",
      "Generator training (with discriminator fixed)...\n"
     ]
    },
    {
     "name": "stderr",
     "output_type": "stream",
     "text": [
      "100%|██████████| 100/100 [00:20<00:00,  4.88it/s]\n"
     ]
    },
    {
     "name": "stdout",
     "output_type": "stream",
     "text": [
      "Evaluate G by validation data ...\n"
     ]
    },
    {
     "name": "stderr",
     "output_type": "stream",
     "text": [
      "/opt/conda/lib/python3.7/site-packages/pysiib.py:104: UserWarning: stimuli must have at least 20 seconds of speech\n",
      "  warnings.warn('stimuli must have at least 20 seconds of speech')\n",
      "/opt/conda/lib/python3.7/site-packages/pysiib.py:104: UserWarning: stimuli must have at least 20 seconds of speech\n",
      "  warnings.warn('stimuli must have at least 20 seconds of speech')\n",
      "/opt/conda/lib/python3.7/site-packages/pysiib.py:104: UserWarning: stimuli must have at least 20 seconds of speech\n",
      "  warnings.warn('stimuli must have at least 20 seconds of speech')\n",
      "/opt/conda/lib/python3.7/site-packages/pysiib.py:104: UserWarning: stimuli must have at least 20 seconds of speech\n",
      "  warnings.warn('stimuli must have at least 20 seconds of speech')\n",
      "/opt/conda/lib/python3.7/site-packages/pysiib.py:104: UserWarning: stimuli must have at least 20 seconds of speech\n",
      "  warnings.warn('stimuli must have at least 20 seconds of speech')\n",
      "/opt/conda/lib/python3.7/site-packages/pysiib.py:104: UserWarning: stimuli must have at least 20 seconds of speech\n",
      "  warnings.warn('stimuli must have at least 20 seconds of speech')\n",
      "/opt/conda/lib/python3.7/site-packages/pysiib.py:104: UserWarning: stimuli must have at least 20 seconds of speech\n",
      "  warnings.warn('stimuli must have at least 20 seconds of speech')\n",
      "/opt/conda/lib/python3.7/site-packages/pysiib.py:104: UserWarning: stimuli must have at least 20 seconds of speech\n",
      "  warnings.warn('stimuli must have at least 20 seconds of speech')\n",
      "[tflite_quality_mapper.cc : 33] RAW: Loading TF Lattice TFLite model at visqol/model/lattice_tcditugenmeetpackhref_ls2_nl60_lr12_bs2048_learn.005_ep2400_train1_7_raw.tflite\n",
      "INFO: Created TensorFlow Lite XNNPACK delegate for CPU.\n"
     ]
    },
    {
     "name": "stdout",
     "output_type": "stream",
     "text": [
      "Sample training data for discriminator training...\n"
     ]
    },
    {
     "name": "stderr",
     "output_type": "stream",
     "text": [
      "/opt/conda/lib/python3.7/site-packages/pysiib.py:104: UserWarning: stimuli must have at least 20 seconds of speech\n",
      "  warnings.warn('stimuli must have at least 20 seconds of speech')\n",
      "/opt/conda/lib/python3.7/site-packages/pysiib.py:104: UserWarning: stimuli must have at least 20 seconds of speech\n",
      "  warnings.warn('stimuli must have at least 20 seconds of speech')\n",
      "/opt/conda/lib/python3.7/site-packages/pysiib.py:104: UserWarning: stimuli must have at least 20 seconds of speech\n",
      "  warnings.warn('stimuli must have at least 20 seconds of speech')\n",
      "/opt/conda/lib/python3.7/site-packages/pysiib.py:104: UserWarning: stimuli must have at least 20 seconds of speech\n",
      "  warnings.warn('stimuli must have at least 20 seconds of speech')\n",
      "/opt/conda/lib/python3.7/site-packages/pysiib.py:104: UserWarning: stimuli must have at least 20 seconds of speech\n",
      "  warnings.warn('stimuli must have at least 20 seconds of speech')\n",
      "/opt/conda/lib/python3.7/site-packages/pysiib.py:104: UserWarning: stimuli must have at least 20 seconds of speech\n",
      "  warnings.warn('stimuli must have at least 20 seconds of speech')\n",
      "/opt/conda/lib/python3.7/site-packages/pysiib.py:104: UserWarning: stimuli must have at least 20 seconds of speech\n",
      "  warnings.warn('stimuli must have at least 20 seconds of speech')\n",
      "/opt/conda/lib/python3.7/site-packages/pysiib.py:104: UserWarning: stimuli must have at least 20 seconds of speech\n",
      "  warnings.warn('stimuli must have at least 20 seconds of speech')\n",
      "/opt/conda/lib/python3.7/site-packages/pysiib.py:104: UserWarning: stimuli must have at least 20 seconds of speech\n",
      "  warnings.warn('stimuli must have at least 20 seconds of speech')\n",
      "/opt/conda/lib/python3.7/site-packages/pysiib.py:104: UserWarning: stimuli must have at least 20 seconds of speech\n",
      "  warnings.warn('stimuli must have at least 20 seconds of speech')\n",
      "[tflite_quality_mapper.cc : 33] RAW: Loading TF Lattice TFLite model at visqol/model/lattice_tcditugenmeetpackhref_ls2_nl60_lr12_bs2048_learn.005_ep2400_train1_7_raw.tflite\n",
      "INFO: Created TensorFlow Lite XNNPACK delegate for CPU.\n",
      "/opt/conda/lib/python3.7/site-packages/pysiib.py:104: UserWarning: stimuli must have at least 20 seconds of speech\n",
      "  warnings.warn('stimuli must have at least 20 seconds of speech')\n",
      "/opt/conda/lib/python3.7/site-packages/pysiib.py:104: UserWarning: stimuli must have at least 20 seconds of speech\n",
      "  warnings.warn('stimuli must have at least 20 seconds of speech')\n",
      "/opt/conda/lib/python3.7/site-packages/pysiib.py:104: UserWarning: stimuli must have at least 20 seconds of speech\n",
      "  warnings.warn('stimuli must have at least 20 seconds of speech')\n",
      "/opt/conda/lib/python3.7/site-packages/pysiib.py:104: UserWarning: stimuli must have at least 20 seconds of speech\n",
      "  warnings.warn('stimuli must have at least 20 seconds of speech')\n",
      "/opt/conda/lib/python3.7/site-packages/pysiib.py:104: UserWarning: stimuli must have at least 20 seconds of speech\n",
      "  warnings.warn('stimuli must have at least 20 seconds of speech')\n",
      "[tflite_quality_mapper.cc : 33] RAW: Loading TF Lattice TFLite model at visqol/model/lattice_tcditugenmeetpackhref_ls2_nl60_lr12_bs2048_learn.005_ep2400_train1_7_raw.tflite\n",
      "INFO: Created TensorFlow Lite XNNPACK delegate for CPU.\n"
     ]
    },
    {
     "name": "stdout",
     "output_type": "stream",
     "text": [
      "Discriminator training...\n"
     ]
    },
    {
     "name": "stderr",
     "output_type": "stream",
     "text": [
      "100%|██████████| 200/200 [00:50<00:00,  3.99it/s]\n",
      "100%|██████████| 280/280 [01:18<00:00,  3.58it/s]\n",
      "100%|██████████| 200/200 [00:50<00:00,  3.93it/s]\n"
     ]
    },
    {
     "name": "stdout",
     "output_type": "stream",
     "text": [
      "Epoch 13 Finished\n",
      "Generator training (with discriminator fixed)...\n"
     ]
    },
    {
     "name": "stderr",
     "output_type": "stream",
     "text": [
      "100%|██████████| 100/100 [00:22<00:00,  4.46it/s]\n"
     ]
    },
    {
     "name": "stdout",
     "output_type": "stream",
     "text": [
      "Evaluate G by validation data ...\n"
     ]
    },
    {
     "name": "stderr",
     "output_type": "stream",
     "text": [
      "/opt/conda/lib/python3.7/site-packages/pysiib.py:104: UserWarning: stimuli must have at least 20 seconds of speech\n",
      "  warnings.warn('stimuli must have at least 20 seconds of speech')\n",
      "/opt/conda/lib/python3.7/site-packages/pysiib.py:104: UserWarning: stimuli must have at least 20 seconds of speech\n",
      "  warnings.warn('stimuli must have at least 20 seconds of speech')\n",
      "/opt/conda/lib/python3.7/site-packages/pysiib.py:104: UserWarning: stimuli must have at least 20 seconds of speech\n",
      "  warnings.warn('stimuli must have at least 20 seconds of speech')\n",
      "/opt/conda/lib/python3.7/site-packages/pysiib.py:104: UserWarning: stimuli must have at least 20 seconds of speech\n",
      "  warnings.warn('stimuli must have at least 20 seconds of speech')\n",
      "/opt/conda/lib/python3.7/site-packages/pysiib.py:104: UserWarning: stimuli must have at least 20 seconds of speech\n",
      "  warnings.warn('stimuli must have at least 20 seconds of speech')\n",
      "/opt/conda/lib/python3.7/site-packages/pysiib.py:104: UserWarning: stimuli must have at least 20 seconds of speech\n",
      "  warnings.warn('stimuli must have at least 20 seconds of speech')\n",
      "/opt/conda/lib/python3.7/site-packages/pysiib.py:104: UserWarning: stimuli must have at least 20 seconds of speech\n",
      "  warnings.warn('stimuli must have at least 20 seconds of speech')\n",
      "/opt/conda/lib/python3.7/site-packages/pysiib.py:104: UserWarning: stimuli must have at least 20 seconds of speech\n",
      "  warnings.warn('stimuli must have at least 20 seconds of speech')\n",
      "[tflite_quality_mapper.cc : 33] RAW: Loading TF Lattice TFLite model at visqol/model/lattice_tcditugenmeetpackhref_ls2_nl60_lr12_bs2048_learn.005_ep2400_train1_7_raw.tflite\n",
      "INFO: Created TensorFlow Lite XNNPACK delegate for CPU.\n"
     ]
    },
    {
     "name": "stdout",
     "output_type": "stream",
     "text": [
      "Sample training data for discriminator training...\n"
     ]
    },
    {
     "name": "stderr",
     "output_type": "stream",
     "text": [
      "/opt/conda/lib/python3.7/site-packages/pysiib.py:104: UserWarning: stimuli must have at least 20 seconds of speech\n",
      "  warnings.warn('stimuli must have at least 20 seconds of speech')\n",
      "/opt/conda/lib/python3.7/site-packages/pysiib.py:104: UserWarning: stimuli must have at least 20 seconds of speech\n",
      "  warnings.warn('stimuli must have at least 20 seconds of speech')\n",
      "/opt/conda/lib/python3.7/site-packages/pysiib.py:104: UserWarning: stimuli must have at least 20 seconds of speech\n",
      "  warnings.warn('stimuli must have at least 20 seconds of speech')\n",
      "/opt/conda/lib/python3.7/site-packages/pysiib.py:104: UserWarning: stimuli must have at least 20 seconds of speech\n",
      "  warnings.warn('stimuli must have at least 20 seconds of speech')\n",
      "/opt/conda/lib/python3.7/site-packages/pysiib.py:104: UserWarning: stimuli must have at least 20 seconds of speech\n",
      "  warnings.warn('stimuli must have at least 20 seconds of speech')\n",
      "/opt/conda/lib/python3.7/site-packages/pysiib.py:104: UserWarning: stimuli must have at least 20 seconds of speech\n",
      "  warnings.warn('stimuli must have at least 20 seconds of speech')\n",
      "/opt/conda/lib/python3.7/site-packages/pysiib.py:104: UserWarning: stimuli must have at least 20 seconds of speech\n",
      "  warnings.warn('stimuli must have at least 20 seconds of speech')\n",
      "/opt/conda/lib/python3.7/site-packages/pysiib.py:104: UserWarning: stimuli must have at least 20 seconds of speech\n",
      "  warnings.warn('stimuli must have at least 20 seconds of speech')\n",
      "/opt/conda/lib/python3.7/site-packages/pysiib.py:104: UserWarning: stimuli must have at least 20 seconds of speech\n",
      "  warnings.warn('stimuli must have at least 20 seconds of speech')\n",
      "/opt/conda/lib/python3.7/site-packages/pysiib.py:104: UserWarning: stimuli must have at least 20 seconds of speech\n",
      "  warnings.warn('stimuli must have at least 20 seconds of speech')\n",
      "/opt/conda/lib/python3.7/site-packages/pysiib.py:104: UserWarning: stimuli must have at least 20 seconds of speech\n",
      "  warnings.warn('stimuli must have at least 20 seconds of speech')\n",
      "/opt/conda/lib/python3.7/site-packages/pysiib.py:104: UserWarning: stimuli must have at least 20 seconds of speech\n",
      "  warnings.warn('stimuli must have at least 20 seconds of speech')\n",
      "[tflite_quality_mapper.cc : 33] RAW: Loading TF Lattice TFLite model at visqol/model/lattice_tcditugenmeetpackhref_ls2_nl60_lr12_bs2048_learn.005_ep2400_train1_7_raw.tflite\n",
      "INFO: Created TensorFlow Lite XNNPACK delegate for CPU.\n",
      "/opt/conda/lib/python3.7/site-packages/pysiib.py:104: UserWarning: stimuli must have at least 20 seconds of speech\n",
      "  warnings.warn('stimuli must have at least 20 seconds of speech')\n",
      "/opt/conda/lib/python3.7/site-packages/pysiib.py:104: UserWarning: stimuli must have at least 20 seconds of speech\n",
      "  warnings.warn('stimuli must have at least 20 seconds of speech')\n",
      "/opt/conda/lib/python3.7/site-packages/pysiib.py:104: UserWarning: stimuli must have at least 20 seconds of speech\n",
      "  warnings.warn('stimuli must have at least 20 seconds of speech')\n",
      "/opt/conda/lib/python3.7/site-packages/pysiib.py:104: UserWarning: stimuli must have at least 20 seconds of speech\n",
      "  warnings.warn('stimuli must have at least 20 seconds of speech')\n",
      "/opt/conda/lib/python3.7/site-packages/pysiib.py:104: UserWarning: stimuli must have at least 20 seconds of speech\n",
      "  warnings.warn('stimuli must have at least 20 seconds of speech')\n",
      "/opt/conda/lib/python3.7/site-packages/pysiib.py:104: UserWarning: stimuli must have at least 20 seconds of speech\n",
      "  warnings.warn('stimuli must have at least 20 seconds of speech')\n",
      "[tflite_quality_mapper.cc : 33] RAW: Loading TF Lattice TFLite model at visqol/model/lattice_tcditugenmeetpackhref_ls2_nl60_lr12_bs2048_learn.005_ep2400_train1_7_raw.tflite\n",
      "INFO: Created TensorFlow Lite XNNPACK delegate for CPU.\n"
     ]
    },
    {
     "name": "stdout",
     "output_type": "stream",
     "text": [
      "Discriminator training...\n"
     ]
    },
    {
     "name": "stderr",
     "output_type": "stream",
     "text": [
      "100%|██████████| 200/200 [00:58<00:00,  3.45it/s]\n",
      "100%|██████████| 286/286 [01:22<00:00,  3.45it/s]\n",
      "100%|██████████| 200/200 [01:02<00:00,  3.20it/s]\n"
     ]
    },
    {
     "name": "stdout",
     "output_type": "stream",
     "text": [
      "Epoch 14 Finished\n",
      "Generator training (with discriminator fixed)...\n"
     ]
    },
    {
     "name": "stderr",
     "output_type": "stream",
     "text": [
      "100%|██████████| 100/100 [00:19<00:00,  5.03it/s]\n"
     ]
    },
    {
     "name": "stdout",
     "output_type": "stream",
     "text": [
      "Evaluate G by validation data ...\n"
     ]
    },
    {
     "name": "stderr",
     "output_type": "stream",
     "text": [
      "/opt/conda/lib/python3.7/site-packages/pysiib.py:104: UserWarning: stimuli must have at least 20 seconds of speech\n",
      "  warnings.warn('stimuli must have at least 20 seconds of speech')\n",
      "/opt/conda/lib/python3.7/site-packages/pysiib.py:104: UserWarning: stimuli must have at least 20 seconds of speech\n",
      "  warnings.warn('stimuli must have at least 20 seconds of speech')\n",
      "/opt/conda/lib/python3.7/site-packages/pysiib.py:104: UserWarning: stimuli must have at least 20 seconds of speech\n",
      "  warnings.warn('stimuli must have at least 20 seconds of speech')\n",
      "/opt/conda/lib/python3.7/site-packages/pysiib.py:104: UserWarning: stimuli must have at least 20 seconds of speech\n",
      "  warnings.warn('stimuli must have at least 20 seconds of speech')\n",
      "/opt/conda/lib/python3.7/site-packages/pysiib.py:104: UserWarning: stimuli must have at least 20 seconds of speech\n",
      "  warnings.warn('stimuli must have at least 20 seconds of speech')\n",
      "/opt/conda/lib/python3.7/site-packages/pysiib.py:104: UserWarning: stimuli must have at least 20 seconds of speech\n",
      "  warnings.warn('stimuli must have at least 20 seconds of speech')\n",
      "/opt/conda/lib/python3.7/site-packages/pysiib.py:104: UserWarning: stimuli must have at least 20 seconds of speech\n",
      "  warnings.warn('stimuli must have at least 20 seconds of speech')\n",
      "/opt/conda/lib/python3.7/site-packages/pysiib.py:104: UserWarning: stimuli must have at least 20 seconds of speech\n",
      "  warnings.warn('stimuli must have at least 20 seconds of speech')\n",
      "[tflite_quality_mapper.cc : 33] RAW: Loading TF Lattice TFLite model at visqol/model/lattice_tcditugenmeetpackhref_ls2_nl60_lr12_bs2048_learn.005_ep2400_train1_7_raw.tflite\n",
      "INFO: Created TensorFlow Lite XNNPACK delegate for CPU.\n"
     ]
    },
    {
     "name": "stdout",
     "output_type": "stream",
     "text": [
      "Sample training data for discriminator training...\n"
     ]
    },
    {
     "name": "stderr",
     "output_type": "stream",
     "text": [
      "/opt/conda/lib/python3.7/site-packages/pysiib.py:104: UserWarning: stimuli must have at least 20 seconds of speech\n",
      "  warnings.warn('stimuli must have at least 20 seconds of speech')\n",
      "/opt/conda/lib/python3.7/site-packages/pysiib.py:104: UserWarning: stimuli must have at least 20 seconds of speech\n",
      "  warnings.warn('stimuli must have at least 20 seconds of speech')\n",
      "/opt/conda/lib/python3.7/site-packages/pysiib.py:104: UserWarning: stimuli must have at least 20 seconds of speech\n",
      "  warnings.warn('stimuli must have at least 20 seconds of speech')\n",
      "/opt/conda/lib/python3.7/site-packages/pysiib.py:104: UserWarning: stimuli must have at least 20 seconds of speech\n",
      "  warnings.warn('stimuli must have at least 20 seconds of speech')\n",
      "/opt/conda/lib/python3.7/site-packages/pysiib.py:104: UserWarning: stimuli must have at least 20 seconds of speech\n",
      "  warnings.warn('stimuli must have at least 20 seconds of speech')\n",
      "/opt/conda/lib/python3.7/site-packages/pysiib.py:104: UserWarning: stimuli must have at least 20 seconds of speech\n",
      "  warnings.warn('stimuli must have at least 20 seconds of speech')\n",
      "/opt/conda/lib/python3.7/site-packages/pysiib.py:104: UserWarning: stimuli must have at least 20 seconds of speech\n",
      "  warnings.warn('stimuli must have at least 20 seconds of speech')\n",
      "/opt/conda/lib/python3.7/site-packages/pysiib.py:104: UserWarning: stimuli must have at least 20 seconds of speech\n",
      "  warnings.warn('stimuli must have at least 20 seconds of speech')\n",
      "/opt/conda/lib/python3.7/site-packages/pysiib.py:104: UserWarning: stimuli must have at least 20 seconds of speech\n",
      "  warnings.warn('stimuli must have at least 20 seconds of speech')\n",
      "/opt/conda/lib/python3.7/site-packages/pysiib.py:104: UserWarning: stimuli must have at least 20 seconds of speech\n",
      "  warnings.warn('stimuli must have at least 20 seconds of speech')\n",
      "/opt/conda/lib/python3.7/site-packages/pysiib.py:104: UserWarning: stimuli must have at least 20 seconds of speech\n",
      "  warnings.warn('stimuli must have at least 20 seconds of speech')\n",
      "/opt/conda/lib/python3.7/site-packages/pysiib.py:104: UserWarning: stimuli must have at least 20 seconds of speech\n",
      "  warnings.warn('stimuli must have at least 20 seconds of speech')\n",
      "[tflite_quality_mapper.cc : 33] RAW: Loading TF Lattice TFLite model at visqol/model/lattice_tcditugenmeetpackhref_ls2_nl60_lr12_bs2048_learn.005_ep2400_train1_7_raw.tflite\n",
      "INFO: Created TensorFlow Lite XNNPACK delegate for CPU.\n",
      "/opt/conda/lib/python3.7/site-packages/pysiib.py:104: UserWarning: stimuli must have at least 20 seconds of speech\n",
      "  warnings.warn('stimuli must have at least 20 seconds of speech')\n",
      "/opt/conda/lib/python3.7/site-packages/pysiib.py:104: UserWarning: stimuli must have at least 20 seconds of speech\n",
      "  warnings.warn('stimuli must have at least 20 seconds of speech')\n",
      "/opt/conda/lib/python3.7/site-packages/pysiib.py:104: UserWarning: stimuli must have at least 20 seconds of speech\n",
      "  warnings.warn('stimuli must have at least 20 seconds of speech')\n",
      "/opt/conda/lib/python3.7/site-packages/pysiib.py:104: UserWarning: stimuli must have at least 20 seconds of speech\n",
      "  warnings.warn('stimuli must have at least 20 seconds of speech')\n",
      "/opt/conda/lib/python3.7/site-packages/pysiib.py:104: UserWarning: stimuli must have at least 20 seconds of speech\n",
      "  warnings.warn('stimuli must have at least 20 seconds of speech')\n",
      "/opt/conda/lib/python3.7/site-packages/pysiib.py:104: UserWarning: stimuli must have at least 20 seconds of speech\n",
      "  warnings.warn('stimuli must have at least 20 seconds of speech')\n",
      "/opt/conda/lib/python3.7/site-packages/pysiib.py:104: UserWarning: stimuli must have at least 20 seconds of speech\n",
      "  warnings.warn('stimuli must have at least 20 seconds of speech')\n",
      "[tflite_quality_mapper.cc : 33] RAW: Loading TF Lattice TFLite model at visqol/model/lattice_tcditugenmeetpackhref_ls2_nl60_lr12_bs2048_learn.005_ep2400_train1_7_raw.tflite\n",
      "INFO: Created TensorFlow Lite XNNPACK delegate for CPU.\n"
     ]
    },
    {
     "name": "stdout",
     "output_type": "stream",
     "text": [
      "Discriminator training...\n"
     ]
    },
    {
     "name": "stderr",
     "output_type": "stream",
     "text": [
      "100%|██████████| 200/200 [00:53<00:00,  3.74it/s]\n",
      "100%|██████████| 293/293 [01:13<00:00,  3.99it/s]\n",
      "100%|██████████| 200/200 [00:56<00:00,  3.56it/s]\n"
     ]
    },
    {
     "name": "stdout",
     "output_type": "stream",
     "text": [
      "Epoch 15 Finished\n",
      "Generator training (with discriminator fixed)...\n"
     ]
    },
    {
     "name": "stderr",
     "output_type": "stream",
     "text": [
      "100%|██████████| 100/100 [00:21<00:00,  4.62it/s]\n"
     ]
    },
    {
     "name": "stdout",
     "output_type": "stream",
     "text": [
      "Evaluate G by validation data ...\n"
     ]
    },
    {
     "name": "stderr",
     "output_type": "stream",
     "text": [
      "/opt/conda/lib/python3.7/site-packages/pysiib.py:104: UserWarning: stimuli must have at least 20 seconds of speech\n",
      "  warnings.warn('stimuli must have at least 20 seconds of speech')\n",
      "/opt/conda/lib/python3.7/site-packages/pysiib.py:104: UserWarning: stimuli must have at least 20 seconds of speech\n",
      "  warnings.warn('stimuli must have at least 20 seconds of speech')\n",
      "/opt/conda/lib/python3.7/site-packages/pysiib.py:104: UserWarning: stimuli must have at least 20 seconds of speech\n",
      "  warnings.warn('stimuli must have at least 20 seconds of speech')\n",
      "/opt/conda/lib/python3.7/site-packages/pysiib.py:104: UserWarning: stimuli must have at least 20 seconds of speech\n",
      "  warnings.warn('stimuli must have at least 20 seconds of speech')\n",
      "/opt/conda/lib/python3.7/site-packages/pysiib.py:104: UserWarning: stimuli must have at least 20 seconds of speech\n",
      "  warnings.warn('stimuli must have at least 20 seconds of speech')\n",
      "/opt/conda/lib/python3.7/site-packages/pysiib.py:104: UserWarning: stimuli must have at least 20 seconds of speech\n",
      "  warnings.warn('stimuli must have at least 20 seconds of speech')\n",
      "/opt/conda/lib/python3.7/site-packages/pysiib.py:104: UserWarning: stimuli must have at least 20 seconds of speech\n",
      "  warnings.warn('stimuli must have at least 20 seconds of speech')\n",
      "/opt/conda/lib/python3.7/site-packages/pysiib.py:104: UserWarning: stimuli must have at least 20 seconds of speech\n",
      "  warnings.warn('stimuli must have at least 20 seconds of speech')\n",
      "[tflite_quality_mapper.cc : 33] RAW: Loading TF Lattice TFLite model at visqol/model/lattice_tcditugenmeetpackhref_ls2_nl60_lr12_bs2048_learn.005_ep2400_train1_7_raw.tflite\n",
      "INFO: Created TensorFlow Lite XNNPACK delegate for CPU.\n"
     ]
    },
    {
     "name": "stdout",
     "output_type": "stream",
     "text": [
      "Sample training data for discriminator training...\n"
     ]
    },
    {
     "name": "stderr",
     "output_type": "stream",
     "text": [
      "/opt/conda/lib/python3.7/site-packages/pysiib.py:104: UserWarning: stimuli must have at least 20 seconds of speech\n",
      "  warnings.warn('stimuli must have at least 20 seconds of speech')\n",
      "/opt/conda/lib/python3.7/site-packages/pysiib.py:104: UserWarning: stimuli must have at least 20 seconds of speech\n",
      "  warnings.warn('stimuli must have at least 20 seconds of speech')\n",
      "/opt/conda/lib/python3.7/site-packages/pysiib.py:104: UserWarning: stimuli must have at least 20 seconds of speech\n",
      "  warnings.warn('stimuli must have at least 20 seconds of speech')\n",
      "/opt/conda/lib/python3.7/site-packages/pysiib.py:104: UserWarning: stimuli must have at least 20 seconds of speech\n",
      "  warnings.warn('stimuli must have at least 20 seconds of speech')\n",
      "/opt/conda/lib/python3.7/site-packages/pysiib.py:104: UserWarning: stimuli must have at least 20 seconds of speech\n",
      "  warnings.warn('stimuli must have at least 20 seconds of speech')\n",
      "/opt/conda/lib/python3.7/site-packages/pysiib.py:104: UserWarning: stimuli must have at least 20 seconds of speech\n",
      "  warnings.warn('stimuli must have at least 20 seconds of speech')\n",
      "/opt/conda/lib/python3.7/site-packages/pysiib.py:104: UserWarning: stimuli must have at least 20 seconds of speech\n",
      "  warnings.warn('stimuli must have at least 20 seconds of speech')\n",
      "/opt/conda/lib/python3.7/site-packages/pysiib.py:104: UserWarning: stimuli must have at least 20 seconds of speech\n",
      "  warnings.warn('stimuli must have at least 20 seconds of speech')\n",
      "/opt/conda/lib/python3.7/site-packages/pysiib.py:104: UserWarning: stimuli must have at least 20 seconds of speech\n",
      "  warnings.warn('stimuli must have at least 20 seconds of speech')\n",
      "/opt/conda/lib/python3.7/site-packages/pysiib.py:104: UserWarning: stimuli must have at least 20 seconds of speech\n",
      "  warnings.warn('stimuli must have at least 20 seconds of speech')\n",
      "[tflite_quality_mapper.cc : 33] RAW: Loading TF Lattice TFLite model at visqol/model/lattice_tcditugenmeetpackhref_ls2_nl60_lr12_bs2048_learn.005_ep2400_train1_7_raw.tflite\n",
      "INFO: Created TensorFlow Lite XNNPACK delegate for CPU.\n",
      "/opt/conda/lib/python3.7/site-packages/pysiib.py:104: UserWarning: stimuli must have at least 20 seconds of speech\n",
      "  warnings.warn('stimuli must have at least 20 seconds of speech')\n",
      "/opt/conda/lib/python3.7/site-packages/pysiib.py:104: UserWarning: stimuli must have at least 20 seconds of speech\n",
      "  warnings.warn('stimuli must have at least 20 seconds of speech')\n",
      "/opt/conda/lib/python3.7/site-packages/pysiib.py:104: UserWarning: stimuli must have at least 20 seconds of speech\n",
      "  warnings.warn('stimuli must have at least 20 seconds of speech')\n",
      "/opt/conda/lib/python3.7/site-packages/pysiib.py:104: UserWarning: stimuli must have at least 20 seconds of speech\n",
      "  warnings.warn('stimuli must have at least 20 seconds of speech')\n",
      "[tflite_quality_mapper.cc : 33] RAW: Loading TF Lattice TFLite model at visqol/model/lattice_tcditugenmeetpackhref_ls2_nl60_lr12_bs2048_learn.005_ep2400_train1_7_raw.tflite\n",
      "INFO: Created TensorFlow Lite XNNPACK delegate for CPU.\n"
     ]
    },
    {
     "name": "stdout",
     "output_type": "stream",
     "text": [
      "Discriminator training...\n"
     ]
    },
    {
     "name": "stderr",
     "output_type": "stream",
     "text": [
      "100%|██████████| 200/200 [00:53<00:00,  3.72it/s]\n",
      "100%|██████████| 300/300 [01:12<00:00,  4.16it/s]\n",
      "100%|██████████| 200/200 [00:49<00:00,  4.07it/s]\n"
     ]
    },
    {
     "name": "stdout",
     "output_type": "stream",
     "text": [
      "Epoch 16 Finished\n",
      "Generator training (with discriminator fixed)...\n"
     ]
    },
    {
     "name": "stderr",
     "output_type": "stream",
     "text": [
      "100%|██████████| 100/100 [00:19<00:00,  5.22it/s]\n"
     ]
    },
    {
     "name": "stdout",
     "output_type": "stream",
     "text": [
      "Evaluate G by validation data ...\n"
     ]
    },
    {
     "name": "stderr",
     "output_type": "stream",
     "text": [
      "/opt/conda/lib/python3.7/site-packages/pysiib.py:104: UserWarning: stimuli must have at least 20 seconds of speech\n",
      "  warnings.warn('stimuli must have at least 20 seconds of speech')\n",
      "/opt/conda/lib/python3.7/site-packages/pysiib.py:104: UserWarning: stimuli must have at least 20 seconds of speech\n",
      "  warnings.warn('stimuli must have at least 20 seconds of speech')\n",
      "/opt/conda/lib/python3.7/site-packages/pysiib.py:104: UserWarning: stimuli must have at least 20 seconds of speech\n",
      "  warnings.warn('stimuli must have at least 20 seconds of speech')\n",
      "/opt/conda/lib/python3.7/site-packages/pysiib.py:104: UserWarning: stimuli must have at least 20 seconds of speech\n",
      "  warnings.warn('stimuli must have at least 20 seconds of speech')\n",
      "/opt/conda/lib/python3.7/site-packages/pysiib.py:104: UserWarning: stimuli must have at least 20 seconds of speech\n",
      "  warnings.warn('stimuli must have at least 20 seconds of speech')\n",
      "/opt/conda/lib/python3.7/site-packages/pysiib.py:104: UserWarning: stimuli must have at least 20 seconds of speech\n",
      "  warnings.warn('stimuli must have at least 20 seconds of speech')\n",
      "/opt/conda/lib/python3.7/site-packages/pysiib.py:104: UserWarning: stimuli must have at least 20 seconds of speech\n",
      "  warnings.warn('stimuli must have at least 20 seconds of speech')\n",
      "/opt/conda/lib/python3.7/site-packages/pysiib.py:104: UserWarning: stimuli must have at least 20 seconds of speech\n",
      "  warnings.warn('stimuli must have at least 20 seconds of speech')\n",
      "[tflite_quality_mapper.cc : 33] RAW: Loading TF Lattice TFLite model at visqol/model/lattice_tcditugenmeetpackhref_ls2_nl60_lr12_bs2048_learn.005_ep2400_train1_7_raw.tflite\n",
      "INFO: Created TensorFlow Lite XNNPACK delegate for CPU.\n"
     ]
    },
    {
     "name": "stdout",
     "output_type": "stream",
     "text": [
      "Sample training data for discriminator training...\n"
     ]
    },
    {
     "name": "stderr",
     "output_type": "stream",
     "text": [
      "/opt/conda/lib/python3.7/site-packages/pysiib.py:104: UserWarning: stimuli must have at least 20 seconds of speech\n",
      "  warnings.warn('stimuli must have at least 20 seconds of speech')\n",
      "/opt/conda/lib/python3.7/site-packages/pysiib.py:104: UserWarning: stimuli must have at least 20 seconds of speech\n",
      "  warnings.warn('stimuli must have at least 20 seconds of speech')\n",
      "/opt/conda/lib/python3.7/site-packages/pysiib.py:104: UserWarning: stimuli must have at least 20 seconds of speech\n",
      "  warnings.warn('stimuli must have at least 20 seconds of speech')\n",
      "/opt/conda/lib/python3.7/site-packages/pysiib.py:104: UserWarning: stimuli must have at least 20 seconds of speech\n",
      "  warnings.warn('stimuli must have at least 20 seconds of speech')\n",
      "/opt/conda/lib/python3.7/site-packages/pysiib.py:104: UserWarning: stimuli must have at least 20 seconds of speech\n",
      "  warnings.warn('stimuli must have at least 20 seconds of speech')\n",
      "/opt/conda/lib/python3.7/site-packages/pysiib.py:104: UserWarning: stimuli must have at least 20 seconds of speech\n",
      "  warnings.warn('stimuli must have at least 20 seconds of speech')\n",
      "/opt/conda/lib/python3.7/site-packages/pysiib.py:104: UserWarning: stimuli must have at least 20 seconds of speech\n",
      "  warnings.warn('stimuli must have at least 20 seconds of speech')\n",
      "/opt/conda/lib/python3.7/site-packages/pysiib.py:104: UserWarning: stimuli must have at least 20 seconds of speech\n",
      "  warnings.warn('stimuli must have at least 20 seconds of speech')\n",
      "/opt/conda/lib/python3.7/site-packages/pysiib.py:104: UserWarning: stimuli must have at least 20 seconds of speech\n",
      "  warnings.warn('stimuli must have at least 20 seconds of speech')\n",
      "/opt/conda/lib/python3.7/site-packages/pysiib.py:104: UserWarning: stimuli must have at least 20 seconds of speech\n",
      "  warnings.warn('stimuli must have at least 20 seconds of speech')\n",
      "[tflite_quality_mapper.cc : 33] RAW: Loading TF Lattice TFLite model at visqol/model/lattice_tcditugenmeetpackhref_ls2_nl60_lr12_bs2048_learn.005_ep2400_train1_7_raw.tflite\n",
      "INFO: Created TensorFlow Lite XNNPACK delegate for CPU.\n",
      "/opt/conda/lib/python3.7/site-packages/pysiib.py:104: UserWarning: stimuli must have at least 20 seconds of speech\n",
      "  warnings.warn('stimuli must have at least 20 seconds of speech')\n",
      "/opt/conda/lib/python3.7/site-packages/pysiib.py:104: UserWarning: stimuli must have at least 20 seconds of speech\n",
      "  warnings.warn('stimuli must have at least 20 seconds of speech')\n",
      "/opt/conda/lib/python3.7/site-packages/pysiib.py:104: UserWarning: stimuli must have at least 20 seconds of speech\n",
      "  warnings.warn('stimuli must have at least 20 seconds of speech')\n",
      "/opt/conda/lib/python3.7/site-packages/pysiib.py:104: UserWarning: stimuli must have at least 20 seconds of speech\n",
      "  warnings.warn('stimuli must have at least 20 seconds of speech')\n",
      "/opt/conda/lib/python3.7/site-packages/pysiib.py:104: UserWarning: stimuli must have at least 20 seconds of speech\n",
      "  warnings.warn('stimuli must have at least 20 seconds of speech')\n",
      "/opt/conda/lib/python3.7/site-packages/pysiib.py:104: UserWarning: stimuli must have at least 20 seconds of speech\n",
      "  warnings.warn('stimuli must have at least 20 seconds of speech')\n",
      "/opt/conda/lib/python3.7/site-packages/pysiib.py:104: UserWarning: stimuli must have at least 20 seconds of speech\n",
      "  warnings.warn('stimuli must have at least 20 seconds of speech')\n",
      "/opt/conda/lib/python3.7/site-packages/pysiib.py:104: UserWarning: stimuli must have at least 20 seconds of speech\n",
      "  warnings.warn('stimuli must have at least 20 seconds of speech')\n",
      "[tflite_quality_mapper.cc : 33] RAW: Loading TF Lattice TFLite model at visqol/model/lattice_tcditugenmeetpackhref_ls2_nl60_lr12_bs2048_learn.005_ep2400_train1_7_raw.tflite\n",
      "INFO: Created TensorFlow Lite XNNPACK delegate for CPU.\n"
     ]
    },
    {
     "name": "stdout",
     "output_type": "stream",
     "text": [
      "Discriminator training...\n"
     ]
    },
    {
     "name": "stderr",
     "output_type": "stream",
     "text": [
      "100%|██████████| 200/200 [00:48<00:00,  4.09it/s]\n",
      "100%|██████████| 306/306 [01:14<00:00,  4.13it/s]\n",
      "100%|██████████| 200/200 [00:52<00:00,  3.80it/s]\n"
     ]
    },
    {
     "name": "stdout",
     "output_type": "stream",
     "text": [
      "Epoch 17 Finished\n",
      "Generator training (with discriminator fixed)...\n"
     ]
    },
    {
     "name": "stderr",
     "output_type": "stream",
     "text": [
      "100%|██████████| 100/100 [00:20<00:00,  4.81it/s]\n"
     ]
    },
    {
     "name": "stdout",
     "output_type": "stream",
     "text": [
      "Evaluate G by validation data ...\n"
     ]
    },
    {
     "name": "stderr",
     "output_type": "stream",
     "text": [
      "/opt/conda/lib/python3.7/site-packages/pysiib.py:104: UserWarning: stimuli must have at least 20 seconds of speech\n",
      "  warnings.warn('stimuli must have at least 20 seconds of speech')\n",
      "/opt/conda/lib/python3.7/site-packages/pysiib.py:104: UserWarning: stimuli must have at least 20 seconds of speech\n",
      "  warnings.warn('stimuli must have at least 20 seconds of speech')\n",
      "/opt/conda/lib/python3.7/site-packages/pysiib.py:104: UserWarning: stimuli must have at least 20 seconds of speech\n",
      "  warnings.warn('stimuli must have at least 20 seconds of speech')\n",
      "/opt/conda/lib/python3.7/site-packages/pysiib.py:104: UserWarning: stimuli must have at least 20 seconds of speech\n",
      "  warnings.warn('stimuli must have at least 20 seconds of speech')\n",
      "/opt/conda/lib/python3.7/site-packages/pysiib.py:104: UserWarning: stimuli must have at least 20 seconds of speech\n",
      "  warnings.warn('stimuli must have at least 20 seconds of speech')\n",
      "/opt/conda/lib/python3.7/site-packages/pysiib.py:104: UserWarning: stimuli must have at least 20 seconds of speech\n",
      "  warnings.warn('stimuli must have at least 20 seconds of speech')\n",
      "/opt/conda/lib/python3.7/site-packages/pysiib.py:104: UserWarning: stimuli must have at least 20 seconds of speech\n",
      "  warnings.warn('stimuli must have at least 20 seconds of speech')\n",
      "/opt/conda/lib/python3.7/site-packages/pysiib.py:104: UserWarning: stimuli must have at least 20 seconds of speech\n",
      "  warnings.warn('stimuli must have at least 20 seconds of speech')\n",
      "[tflite_quality_mapper.cc : 33] RAW: Loading TF Lattice TFLite model at visqol/model/lattice_tcditugenmeetpackhref_ls2_nl60_lr12_bs2048_learn.005_ep2400_train1_7_raw.tflite\n",
      "INFO: Created TensorFlow Lite XNNPACK delegate for CPU.\n"
     ]
    },
    {
     "name": "stdout",
     "output_type": "stream",
     "text": [
      "Sample training data for discriminator training...\n"
     ]
    },
    {
     "name": "stderr",
     "output_type": "stream",
     "text": [
      "/opt/conda/lib/python3.7/site-packages/pysiib.py:104: UserWarning: stimuli must have at least 20 seconds of speech\n",
      "  warnings.warn('stimuli must have at least 20 seconds of speech')\n",
      "/opt/conda/lib/python3.7/site-packages/pysiib.py:104: UserWarning: stimuli must have at least 20 seconds of speech\n",
      "  warnings.warn('stimuli must have at least 20 seconds of speech')\n",
      "/opt/conda/lib/python3.7/site-packages/pysiib.py:104: UserWarning: stimuli must have at least 20 seconds of speech\n",
      "  warnings.warn('stimuli must have at least 20 seconds of speech')\n",
      "/opt/conda/lib/python3.7/site-packages/pysiib.py:104: UserWarning: stimuli must have at least 20 seconds of speech\n",
      "  warnings.warn('stimuli must have at least 20 seconds of speech')\n",
      "/opt/conda/lib/python3.7/site-packages/pysiib.py:104: UserWarning: stimuli must have at least 20 seconds of speech\n",
      "  warnings.warn('stimuli must have at least 20 seconds of speech')\n",
      "/opt/conda/lib/python3.7/site-packages/pysiib.py:104: UserWarning: stimuli must have at least 20 seconds of speech\n",
      "  warnings.warn('stimuli must have at least 20 seconds of speech')\n",
      "/opt/conda/lib/python3.7/site-packages/pysiib.py:104: UserWarning: stimuli must have at least 20 seconds of speech\n",
      "  warnings.warn('stimuli must have at least 20 seconds of speech')\n",
      "/opt/conda/lib/python3.7/site-packages/pysiib.py:104: UserWarning: stimuli must have at least 20 seconds of speech\n",
      "  warnings.warn('stimuli must have at least 20 seconds of speech')\n",
      "/opt/conda/lib/python3.7/site-packages/pysiib.py:104: UserWarning: stimuli must have at least 20 seconds of speech\n",
      "  warnings.warn('stimuli must have at least 20 seconds of speech')\n",
      "[tflite_quality_mapper.cc : 33] RAW: Loading TF Lattice TFLite model at visqol/model/lattice_tcditugenmeetpackhref_ls2_nl60_lr12_bs2048_learn.005_ep2400_train1_7_raw.tflite\n",
      "INFO: Created TensorFlow Lite XNNPACK delegate for CPU.\n",
      "/opt/conda/lib/python3.7/site-packages/pysiib.py:104: UserWarning: stimuli must have at least 20 seconds of speech\n",
      "  warnings.warn('stimuli must have at least 20 seconds of speech')\n",
      "/opt/conda/lib/python3.7/site-packages/pysiib.py:104: UserWarning: stimuli must have at least 20 seconds of speech\n",
      "  warnings.warn('stimuli must have at least 20 seconds of speech')\n",
      "/opt/conda/lib/python3.7/site-packages/pysiib.py:104: UserWarning: stimuli must have at least 20 seconds of speech\n",
      "  warnings.warn('stimuli must have at least 20 seconds of speech')\n",
      "/opt/conda/lib/python3.7/site-packages/pysiib.py:104: UserWarning: stimuli must have at least 20 seconds of speech\n",
      "  warnings.warn('stimuli must have at least 20 seconds of speech')\n",
      "/opt/conda/lib/python3.7/site-packages/pysiib.py:104: UserWarning: stimuli must have at least 20 seconds of speech\n",
      "  warnings.warn('stimuli must have at least 20 seconds of speech')\n",
      "/opt/conda/lib/python3.7/site-packages/pysiib.py:104: UserWarning: stimuli must have at least 20 seconds of speech\n",
      "  warnings.warn('stimuli must have at least 20 seconds of speech')\n",
      "/opt/conda/lib/python3.7/site-packages/pysiib.py:104: UserWarning: stimuli must have at least 20 seconds of speech\n",
      "  warnings.warn('stimuli must have at least 20 seconds of speech')\n",
      "[tflite_quality_mapper.cc : 33] RAW: Loading TF Lattice TFLite model at visqol/model/lattice_tcditugenmeetpackhref_ls2_nl60_lr12_bs2048_learn.005_ep2400_train1_7_raw.tflite\n",
      "INFO: Created TensorFlow Lite XNNPACK delegate for CPU.\n"
     ]
    },
    {
     "name": "stdout",
     "output_type": "stream",
     "text": [
      "Discriminator training...\n"
     ]
    },
    {
     "name": "stderr",
     "output_type": "stream",
     "text": [
      "100%|██████████| 200/200 [00:51<00:00,  3.89it/s]\n",
      "100%|██████████| 313/313 [01:24<00:00,  3.69it/s]\n",
      "100%|██████████| 200/200 [00:45<00:00,  4.35it/s]\n"
     ]
    },
    {
     "name": "stdout",
     "output_type": "stream",
     "text": [
      "Epoch 18 Finished\n",
      "Generator training (with discriminator fixed)...\n"
     ]
    },
    {
     "name": "stderr",
     "output_type": "stream",
     "text": [
      "100%|██████████| 100/100 [00:22<00:00,  4.48it/s]\n"
     ]
    },
    {
     "name": "stdout",
     "output_type": "stream",
     "text": [
      "Evaluate G by validation data ...\n"
     ]
    },
    {
     "name": "stderr",
     "output_type": "stream",
     "text": [
      "/opt/conda/lib/python3.7/site-packages/pysiib.py:104: UserWarning: stimuli must have at least 20 seconds of speech\n",
      "  warnings.warn('stimuli must have at least 20 seconds of speech')\n",
      "/opt/conda/lib/python3.7/site-packages/pysiib.py:104: UserWarning: stimuli must have at least 20 seconds of speech\n",
      "  warnings.warn('stimuli must have at least 20 seconds of speech')\n",
      "/opt/conda/lib/python3.7/site-packages/pysiib.py:104: UserWarning: stimuli must have at least 20 seconds of speech\n",
      "  warnings.warn('stimuli must have at least 20 seconds of speech')\n",
      "/opt/conda/lib/python3.7/site-packages/pysiib.py:104: UserWarning: stimuli must have at least 20 seconds of speech\n",
      "  warnings.warn('stimuli must have at least 20 seconds of speech')\n",
      "/opt/conda/lib/python3.7/site-packages/pysiib.py:104: UserWarning: stimuli must have at least 20 seconds of speech\n",
      "  warnings.warn('stimuli must have at least 20 seconds of speech')\n",
      "/opt/conda/lib/python3.7/site-packages/pysiib.py:104: UserWarning: stimuli must have at least 20 seconds of speech\n",
      "  warnings.warn('stimuli must have at least 20 seconds of speech')\n",
      "/opt/conda/lib/python3.7/site-packages/pysiib.py:104: UserWarning: stimuli must have at least 20 seconds of speech\n",
      "  warnings.warn('stimuli must have at least 20 seconds of speech')\n",
      "/opt/conda/lib/python3.7/site-packages/pysiib.py:104: UserWarning: stimuli must have at least 20 seconds of speech\n",
      "  warnings.warn('stimuli must have at least 20 seconds of speech')\n",
      "[tflite_quality_mapper.cc : 33] RAW: Loading TF Lattice TFLite model at visqol/model/lattice_tcditugenmeetpackhref_ls2_nl60_lr12_bs2048_learn.005_ep2400_train1_7_raw.tflite\n",
      "INFO: Created TensorFlow Lite XNNPACK delegate for CPU.\n"
     ]
    },
    {
     "name": "stdout",
     "output_type": "stream",
     "text": [
      "Sample training data for discriminator training...\n"
     ]
    },
    {
     "name": "stderr",
     "output_type": "stream",
     "text": [
      "/opt/conda/lib/python3.7/site-packages/pysiib.py:104: UserWarning: stimuli must have at least 20 seconds of speech\n",
      "  warnings.warn('stimuli must have at least 20 seconds of speech')\n",
      "/opt/conda/lib/python3.7/site-packages/pysiib.py:104: UserWarning: stimuli must have at least 20 seconds of speech\n",
      "  warnings.warn('stimuli must have at least 20 seconds of speech')\n",
      "/opt/conda/lib/python3.7/site-packages/pysiib.py:104: UserWarning: stimuli must have at least 20 seconds of speech\n",
      "  warnings.warn('stimuli must have at least 20 seconds of speech')\n",
      "/opt/conda/lib/python3.7/site-packages/pysiib.py:104: UserWarning: stimuli must have at least 20 seconds of speech\n",
      "  warnings.warn('stimuli must have at least 20 seconds of speech')\n",
      "/opt/conda/lib/python3.7/site-packages/pysiib.py:104: UserWarning: stimuli must have at least 20 seconds of speech\n",
      "  warnings.warn('stimuli must have at least 20 seconds of speech')\n",
      "/opt/conda/lib/python3.7/site-packages/pysiib.py:104: UserWarning: stimuli must have at least 20 seconds of speech\n",
      "  warnings.warn('stimuli must have at least 20 seconds of speech')\n",
      "/opt/conda/lib/python3.7/site-packages/pysiib.py:104: UserWarning: stimuli must have at least 20 seconds of speech\n",
      "  warnings.warn('stimuli must have at least 20 seconds of speech')\n",
      "/opt/conda/lib/python3.7/site-packages/pysiib.py:104: UserWarning: stimuli must have at least 20 seconds of speech\n",
      "  warnings.warn('stimuli must have at least 20 seconds of speech')\n",
      "/opt/conda/lib/python3.7/site-packages/pysiib.py:104: UserWarning: stimuli must have at least 20 seconds of speech\n",
      "  warnings.warn('stimuli must have at least 20 seconds of speech')\n",
      "/opt/conda/lib/python3.7/site-packages/pysiib.py:104: UserWarning: stimuli must have at least 20 seconds of speech\n",
      "  warnings.warn('stimuli must have at least 20 seconds of speech')\n",
      "/opt/conda/lib/python3.7/site-packages/pysiib.py:104: UserWarning: stimuli must have at least 20 seconds of speech\n",
      "  warnings.warn('stimuli must have at least 20 seconds of speech')\n",
      "/opt/conda/lib/python3.7/site-packages/pysiib.py:104: UserWarning: stimuli must have at least 20 seconds of speech\n",
      "  warnings.warn('stimuli must have at least 20 seconds of speech')\n",
      "/opt/conda/lib/python3.7/site-packages/pysiib.py:104: UserWarning: stimuli must have at least 20 seconds of speech\n",
      "  warnings.warn('stimuli must have at least 20 seconds of speech')\n",
      "/opt/conda/lib/python3.7/site-packages/pysiib.py:104: UserWarning: stimuli must have at least 20 seconds of speech\n",
      "  warnings.warn('stimuli must have at least 20 seconds of speech')\n",
      "/opt/conda/lib/python3.7/site-packages/pysiib.py:104: UserWarning: stimuli must have at least 20 seconds of speech\n",
      "  warnings.warn('stimuli must have at least 20 seconds of speech')\n",
      "/opt/conda/lib/python3.7/site-packages/pysiib.py:104: UserWarning: stimuli must have at least 20 seconds of speech\n",
      "  warnings.warn('stimuli must have at least 20 seconds of speech')\n",
      "[tflite_quality_mapper.cc : 33] RAW: Loading TF Lattice TFLite model at visqol/model/lattice_tcditugenmeetpackhref_ls2_nl60_lr12_bs2048_learn.005_ep2400_train1_7_raw.tflite\n",
      "INFO: Created TensorFlow Lite XNNPACK delegate for CPU.\n",
      "/opt/conda/lib/python3.7/site-packages/pysiib.py:104: UserWarning: stimuli must have at least 20 seconds of speech\n",
      "  warnings.warn('stimuli must have at least 20 seconds of speech')\n",
      "/opt/conda/lib/python3.7/site-packages/pysiib.py:104: UserWarning: stimuli must have at least 20 seconds of speech\n",
      "  warnings.warn('stimuli must have at least 20 seconds of speech')\n",
      "/opt/conda/lib/python3.7/site-packages/pysiib.py:104: UserWarning: stimuli must have at least 20 seconds of speech\n",
      "  warnings.warn('stimuli must have at least 20 seconds of speech')\n",
      "[tflite_quality_mapper.cc : 33] RAW: Loading TF Lattice TFLite model at visqol/model/lattice_tcditugenmeetpackhref_ls2_nl60_lr12_bs2048_learn.005_ep2400_train1_7_raw.tflite\n",
      "INFO: Created TensorFlow Lite XNNPACK delegate for CPU.\n"
     ]
    },
    {
     "name": "stdout",
     "output_type": "stream",
     "text": [
      "Discriminator training...\n"
     ]
    },
    {
     "name": "stderr",
     "output_type": "stream",
     "text": [
      "100%|██████████| 200/200 [00:51<00:00,  3.88it/s]\n",
      "100%|██████████| 320/320 [01:23<00:00,  3.84it/s]\n",
      "100%|██████████| 200/200 [00:57<00:00,  3.47it/s]\n"
     ]
    },
    {
     "name": "stdout",
     "output_type": "stream",
     "text": [
      "Epoch 19 Finished\n",
      "Generator training (with discriminator fixed)...\n"
     ]
    },
    {
     "name": "stderr",
     "output_type": "stream",
     "text": [
      "100%|██████████| 100/100 [00:23<00:00,  4.34it/s]\n"
     ]
    },
    {
     "name": "stdout",
     "output_type": "stream",
     "text": [
      "Evaluate G by validation data ...\n"
     ]
    },
    {
     "name": "stderr",
     "output_type": "stream",
     "text": [
      "/opt/conda/lib/python3.7/site-packages/pysiib.py:104: UserWarning: stimuli must have at least 20 seconds of speech\n",
      "  warnings.warn('stimuli must have at least 20 seconds of speech')\n",
      "/opt/conda/lib/python3.7/site-packages/pysiib.py:104: UserWarning: stimuli must have at least 20 seconds of speech\n",
      "  warnings.warn('stimuli must have at least 20 seconds of speech')\n",
      "/opt/conda/lib/python3.7/site-packages/pysiib.py:104: UserWarning: stimuli must have at least 20 seconds of speech\n",
      "  warnings.warn('stimuli must have at least 20 seconds of speech')\n",
      "/opt/conda/lib/python3.7/site-packages/pysiib.py:104: UserWarning: stimuli must have at least 20 seconds of speech\n",
      "  warnings.warn('stimuli must have at least 20 seconds of speech')\n",
      "/opt/conda/lib/python3.7/site-packages/pysiib.py:104: UserWarning: stimuli must have at least 20 seconds of speech\n",
      "  warnings.warn('stimuli must have at least 20 seconds of speech')\n",
      "/opt/conda/lib/python3.7/site-packages/pysiib.py:104: UserWarning: stimuli must have at least 20 seconds of speech\n",
      "  warnings.warn('stimuli must have at least 20 seconds of speech')\n",
      "/opt/conda/lib/python3.7/site-packages/pysiib.py:104: UserWarning: stimuli must have at least 20 seconds of speech\n",
      "  warnings.warn('stimuli must have at least 20 seconds of speech')\n",
      "/opt/conda/lib/python3.7/site-packages/pysiib.py:104: UserWarning: stimuli must have at least 20 seconds of speech\n",
      "  warnings.warn('stimuli must have at least 20 seconds of speech')\n",
      "[tflite_quality_mapper.cc : 33] RAW: Loading TF Lattice TFLite model at visqol/model/lattice_tcditugenmeetpackhref_ls2_nl60_lr12_bs2048_learn.005_ep2400_train1_7_raw.tflite\n",
      "INFO: Created TensorFlow Lite XNNPACK delegate for CPU.\n"
     ]
    },
    {
     "name": "stdout",
     "output_type": "stream",
     "text": [
      "Sample training data for discriminator training...\n"
     ]
    },
    {
     "name": "stderr",
     "output_type": "stream",
     "text": [
      "/opt/conda/lib/python3.7/site-packages/pysiib.py:104: UserWarning: stimuli must have at least 20 seconds of speech\n",
      "  warnings.warn('stimuli must have at least 20 seconds of speech')\n",
      "/opt/conda/lib/python3.7/site-packages/pysiib.py:104: UserWarning: stimuli must have at least 20 seconds of speech\n",
      "  warnings.warn('stimuli must have at least 20 seconds of speech')\n",
      "/opt/conda/lib/python3.7/site-packages/pysiib.py:104: UserWarning: stimuli must have at least 20 seconds of speech\n",
      "  warnings.warn('stimuli must have at least 20 seconds of speech')\n",
      "/opt/conda/lib/python3.7/site-packages/pysiib.py:104: UserWarning: stimuli must have at least 20 seconds of speech\n",
      "  warnings.warn('stimuli must have at least 20 seconds of speech')\n",
      "/opt/conda/lib/python3.7/site-packages/pysiib.py:104: UserWarning: stimuli must have at least 20 seconds of speech\n",
      "  warnings.warn('stimuli must have at least 20 seconds of speech')\n",
      "/opt/conda/lib/python3.7/site-packages/pysiib.py:104: UserWarning: stimuli must have at least 20 seconds of speech\n",
      "  warnings.warn('stimuli must have at least 20 seconds of speech')\n",
      "/opt/conda/lib/python3.7/site-packages/pysiib.py:104: UserWarning: stimuli must have at least 20 seconds of speech\n",
      "  warnings.warn('stimuli must have at least 20 seconds of speech')\n",
      "/opt/conda/lib/python3.7/site-packages/pysiib.py:104: UserWarning: stimuli must have at least 20 seconds of speech\n",
      "  warnings.warn('stimuli must have at least 20 seconds of speech')\n",
      "/opt/conda/lib/python3.7/site-packages/pysiib.py:104: UserWarning: stimuli must have at least 20 seconds of speech\n",
      "  warnings.warn('stimuli must have at least 20 seconds of speech')\n",
      "/opt/conda/lib/python3.7/site-packages/pysiib.py:104: UserWarning: stimuli must have at least 20 seconds of speech\n",
      "  warnings.warn('stimuli must have at least 20 seconds of speech')\n",
      "/opt/conda/lib/python3.7/site-packages/pysiib.py:104: UserWarning: stimuli must have at least 20 seconds of speech\n",
      "  warnings.warn('stimuli must have at least 20 seconds of speech')\n",
      "/opt/conda/lib/python3.7/site-packages/pysiib.py:104: UserWarning: stimuli must have at least 20 seconds of speech\n",
      "  warnings.warn('stimuli must have at least 20 seconds of speech')\n",
      "/opt/conda/lib/python3.7/site-packages/pysiib.py:104: UserWarning: stimuli must have at least 20 seconds of speech\n",
      "  warnings.warn('stimuli must have at least 20 seconds of speech')\n",
      "[tflite_quality_mapper.cc : 33] RAW: Loading TF Lattice TFLite model at visqol/model/lattice_tcditugenmeetpackhref_ls2_nl60_lr12_bs2048_learn.005_ep2400_train1_7_raw.tflite\n",
      "INFO: Created TensorFlow Lite XNNPACK delegate for CPU.\n",
      "/opt/conda/lib/python3.7/site-packages/pysiib.py:104: UserWarning: stimuli must have at least 20 seconds of speech\n",
      "  warnings.warn('stimuli must have at least 20 seconds of speech')\n",
      "/opt/conda/lib/python3.7/site-packages/pysiib.py:104: UserWarning: stimuli must have at least 20 seconds of speech\n",
      "  warnings.warn('stimuli must have at least 20 seconds of speech')\n",
      "/opt/conda/lib/python3.7/site-packages/pysiib.py:104: UserWarning: stimuli must have at least 20 seconds of speech\n",
      "  warnings.warn('stimuli must have at least 20 seconds of speech')\n",
      "/opt/conda/lib/python3.7/site-packages/pysiib.py:104: UserWarning: stimuli must have at least 20 seconds of speech\n",
      "  warnings.warn('stimuli must have at least 20 seconds of speech')\n",
      "/opt/conda/lib/python3.7/site-packages/pysiib.py:104: UserWarning: stimuli must have at least 20 seconds of speech\n",
      "  warnings.warn('stimuli must have at least 20 seconds of speech')\n",
      "[tflite_quality_mapper.cc : 33] RAW: Loading TF Lattice TFLite model at visqol/model/lattice_tcditugenmeetpackhref_ls2_nl60_lr12_bs2048_learn.005_ep2400_train1_7_raw.tflite\n",
      "INFO: Created TensorFlow Lite XNNPACK delegate for CPU.\n"
     ]
    },
    {
     "name": "stdout",
     "output_type": "stream",
     "text": [
      "Discriminator training...\n"
     ]
    },
    {
     "name": "stderr",
     "output_type": "stream",
     "text": [
      "100%|██████████| 200/200 [01:01<00:00,  3.24it/s]\n",
      "100%|██████████| 326/326 [01:37<00:00,  3.35it/s]\n",
      "100%|██████████| 200/200 [00:56<00:00,  3.57it/s]\n"
     ]
    },
    {
     "name": "stdout",
     "output_type": "stream",
     "text": [
      "Epoch 20 Finished\n",
      "Generator training (with discriminator fixed)...\n"
     ]
    },
    {
     "name": "stderr",
     "output_type": "stream",
     "text": [
      "100%|██████████| 100/100 [00:20<00:00,  4.97it/s]\n"
     ]
    },
    {
     "name": "stdout",
     "output_type": "stream",
     "text": [
      "Evaluate G by validation data ...\n"
     ]
    },
    {
     "name": "stderr",
     "output_type": "stream",
     "text": [
      "/opt/conda/lib/python3.7/site-packages/pysiib.py:104: UserWarning: stimuli must have at least 20 seconds of speech\n",
      "  warnings.warn('stimuli must have at least 20 seconds of speech')\n",
      "/opt/conda/lib/python3.7/site-packages/pysiib.py:104: UserWarning: stimuli must have at least 20 seconds of speech\n",
      "  warnings.warn('stimuli must have at least 20 seconds of speech')\n",
      "/opt/conda/lib/python3.7/site-packages/pysiib.py:104: UserWarning: stimuli must have at least 20 seconds of speech\n",
      "  warnings.warn('stimuli must have at least 20 seconds of speech')\n",
      "/opt/conda/lib/python3.7/site-packages/pysiib.py:104: UserWarning: stimuli must have at least 20 seconds of speech\n",
      "  warnings.warn('stimuli must have at least 20 seconds of speech')\n",
      "/opt/conda/lib/python3.7/site-packages/pysiib.py:104: UserWarning: stimuli must have at least 20 seconds of speech\n",
      "  warnings.warn('stimuli must have at least 20 seconds of speech')\n",
      "/opt/conda/lib/python3.7/site-packages/pysiib.py:104: UserWarning: stimuli must have at least 20 seconds of speech\n",
      "  warnings.warn('stimuli must have at least 20 seconds of speech')\n",
      "/opt/conda/lib/python3.7/site-packages/pysiib.py:104: UserWarning: stimuli must have at least 20 seconds of speech\n",
      "  warnings.warn('stimuli must have at least 20 seconds of speech')\n",
      "/opt/conda/lib/python3.7/site-packages/pysiib.py:104: UserWarning: stimuli must have at least 20 seconds of speech\n",
      "  warnings.warn('stimuli must have at least 20 seconds of speech')\n",
      "[tflite_quality_mapper.cc : 33] RAW: Loading TF Lattice TFLite model at visqol/model/lattice_tcditugenmeetpackhref_ls2_nl60_lr12_bs2048_learn.005_ep2400_train1_7_raw.tflite\n",
      "INFO: Created TensorFlow Lite XNNPACK delegate for CPU.\n"
     ]
    },
    {
     "name": "stdout",
     "output_type": "stream",
     "text": [
      "Sample training data for discriminator training...\n"
     ]
    },
    {
     "name": "stderr",
     "output_type": "stream",
     "text": [
      "/opt/conda/lib/python3.7/site-packages/pysiib.py:104: UserWarning: stimuli must have at least 20 seconds of speech\n",
      "  warnings.warn('stimuli must have at least 20 seconds of speech')\n",
      "/opt/conda/lib/python3.7/site-packages/pysiib.py:104: UserWarning: stimuli must have at least 20 seconds of speech\n",
      "  warnings.warn('stimuli must have at least 20 seconds of speech')\n",
      "/opt/conda/lib/python3.7/site-packages/pysiib.py:104: UserWarning: stimuli must have at least 20 seconds of speech\n",
      "  warnings.warn('stimuli must have at least 20 seconds of speech')\n",
      "/opt/conda/lib/python3.7/site-packages/pysiib.py:104: UserWarning: stimuli must have at least 20 seconds of speech\n",
      "  warnings.warn('stimuli must have at least 20 seconds of speech')\n",
      "/opt/conda/lib/python3.7/site-packages/pysiib.py:104: UserWarning: stimuli must have at least 20 seconds of speech\n",
      "  warnings.warn('stimuli must have at least 20 seconds of speech')\n",
      "/opt/conda/lib/python3.7/site-packages/pysiib.py:104: UserWarning: stimuli must have at least 20 seconds of speech\n",
      "  warnings.warn('stimuli must have at least 20 seconds of speech')\n",
      "/opt/conda/lib/python3.7/site-packages/pysiib.py:104: UserWarning: stimuli must have at least 20 seconds of speech\n",
      "  warnings.warn('stimuli must have at least 20 seconds of speech')\n",
      "/opt/conda/lib/python3.7/site-packages/pysiib.py:104: UserWarning: stimuli must have at least 20 seconds of speech\n",
      "  warnings.warn('stimuli must have at least 20 seconds of speech')\n",
      "/opt/conda/lib/python3.7/site-packages/pysiib.py:104: UserWarning: stimuli must have at least 20 seconds of speech\n",
      "  warnings.warn('stimuli must have at least 20 seconds of speech')\n",
      "/opt/conda/lib/python3.7/site-packages/pysiib.py:104: UserWarning: stimuli must have at least 20 seconds of speech\n",
      "  warnings.warn('stimuli must have at least 20 seconds of speech')\n",
      "/opt/conda/lib/python3.7/site-packages/pysiib.py:104: UserWarning: stimuli must have at least 20 seconds of speech\n",
      "  warnings.warn('stimuli must have at least 20 seconds of speech')\n",
      "[tflite_quality_mapper.cc : 33] RAW: Loading TF Lattice TFLite model at visqol/model/lattice_tcditugenmeetpackhref_ls2_nl60_lr12_bs2048_learn.005_ep2400_train1_7_raw.tflite\n",
      "INFO: Created TensorFlow Lite XNNPACK delegate for CPU.\n",
      "/opt/conda/lib/python3.7/site-packages/pysiib.py:104: UserWarning: stimuli must have at least 20 seconds of speech\n",
      "  warnings.warn('stimuli must have at least 20 seconds of speech')\n",
      "/opt/conda/lib/python3.7/site-packages/pysiib.py:104: UserWarning: stimuli must have at least 20 seconds of speech\n",
      "  warnings.warn('stimuli must have at least 20 seconds of speech')\n",
      "/opt/conda/lib/python3.7/site-packages/pysiib.py:104: UserWarning: stimuli must have at least 20 seconds of speech\n",
      "  warnings.warn('stimuli must have at least 20 seconds of speech')\n",
      "/opt/conda/lib/python3.7/site-packages/pysiib.py:104: UserWarning: stimuli must have at least 20 seconds of speech\n",
      "  warnings.warn('stimuli must have at least 20 seconds of speech')\n",
      "/opt/conda/lib/python3.7/site-packages/pysiib.py:104: UserWarning: stimuli must have at least 20 seconds of speech\n",
      "  warnings.warn('stimuli must have at least 20 seconds of speech')\n",
      "[tflite_quality_mapper.cc : 33] RAW: Loading TF Lattice TFLite model at visqol/model/lattice_tcditugenmeetpackhref_ls2_nl60_lr12_bs2048_learn.005_ep2400_train1_7_raw.tflite\n",
      "INFO: Created TensorFlow Lite XNNPACK delegate for CPU.\n"
     ]
    },
    {
     "name": "stdout",
     "output_type": "stream",
     "text": [
      "Discriminator training...\n"
     ]
    },
    {
     "name": "stderr",
     "output_type": "stream",
     "text": [
      "100%|██████████| 200/200 [00:52<00:00,  3.84it/s]\n",
      "100%|██████████| 333/333 [01:19<00:00,  4.21it/s]\n",
      "100%|██████████| 200/200 [00:48<00:00,  4.15it/s]\n"
     ]
    },
    {
     "name": "stdout",
     "output_type": "stream",
     "text": [
      "Epoch 21 Finished\n",
      "Generator training (with discriminator fixed)...\n"
     ]
    },
    {
     "name": "stderr",
     "output_type": "stream",
     "text": [
      "100%|██████████| 100/100 [00:21<00:00,  4.70it/s]\n"
     ]
    },
    {
     "name": "stdout",
     "output_type": "stream",
     "text": [
      "Evaluate G by validation data ...\n"
     ]
    },
    {
     "name": "stderr",
     "output_type": "stream",
     "text": [
      "/opt/conda/lib/python3.7/site-packages/pysiib.py:104: UserWarning: stimuli must have at least 20 seconds of speech\n",
      "  warnings.warn('stimuli must have at least 20 seconds of speech')\n",
      "/opt/conda/lib/python3.7/site-packages/pysiib.py:104: UserWarning: stimuli must have at least 20 seconds of speech\n",
      "  warnings.warn('stimuli must have at least 20 seconds of speech')\n",
      "/opt/conda/lib/python3.7/site-packages/pysiib.py:104: UserWarning: stimuli must have at least 20 seconds of speech\n",
      "  warnings.warn('stimuli must have at least 20 seconds of speech')\n",
      "/opt/conda/lib/python3.7/site-packages/pysiib.py:104: UserWarning: stimuli must have at least 20 seconds of speech\n",
      "  warnings.warn('stimuli must have at least 20 seconds of speech')\n",
      "/opt/conda/lib/python3.7/site-packages/pysiib.py:104: UserWarning: stimuli must have at least 20 seconds of speech\n",
      "  warnings.warn('stimuli must have at least 20 seconds of speech')\n",
      "/opt/conda/lib/python3.7/site-packages/pysiib.py:104: UserWarning: stimuli must have at least 20 seconds of speech\n",
      "  warnings.warn('stimuli must have at least 20 seconds of speech')\n",
      "/opt/conda/lib/python3.7/site-packages/pysiib.py:104: UserWarning: stimuli must have at least 20 seconds of speech\n",
      "  warnings.warn('stimuli must have at least 20 seconds of speech')\n",
      "/opt/conda/lib/python3.7/site-packages/pysiib.py:104: UserWarning: stimuli must have at least 20 seconds of speech\n",
      "  warnings.warn('stimuli must have at least 20 seconds of speech')\n",
      "[tflite_quality_mapper.cc : 33] RAW: Loading TF Lattice TFLite model at visqol/model/lattice_tcditugenmeetpackhref_ls2_nl60_lr12_bs2048_learn.005_ep2400_train1_7_raw.tflite\n",
      "INFO: Created TensorFlow Lite XNNPACK delegate for CPU.\n"
     ]
    },
    {
     "name": "stdout",
     "output_type": "stream",
     "text": [
      "Sample training data for discriminator training...\n"
     ]
    },
    {
     "name": "stderr",
     "output_type": "stream",
     "text": [
      "/opt/conda/lib/python3.7/site-packages/pysiib.py:104: UserWarning: stimuli must have at least 20 seconds of speech\n",
      "  warnings.warn('stimuli must have at least 20 seconds of speech')\n",
      "/opt/conda/lib/python3.7/site-packages/pysiib.py:104: UserWarning: stimuli must have at least 20 seconds of speech\n",
      "  warnings.warn('stimuli must have at least 20 seconds of speech')\n",
      "/opt/conda/lib/python3.7/site-packages/pysiib.py:104: UserWarning: stimuli must have at least 20 seconds of speech\n",
      "  warnings.warn('stimuli must have at least 20 seconds of speech')\n",
      "/opt/conda/lib/python3.7/site-packages/pysiib.py:104: UserWarning: stimuli must have at least 20 seconds of speech\n",
      "  warnings.warn('stimuli must have at least 20 seconds of speech')\n",
      "/opt/conda/lib/python3.7/site-packages/pysiib.py:104: UserWarning: stimuli must have at least 20 seconds of speech\n",
      "  warnings.warn('stimuli must have at least 20 seconds of speech')\n",
      "/opt/conda/lib/python3.7/site-packages/pysiib.py:104: UserWarning: stimuli must have at least 20 seconds of speech\n",
      "  warnings.warn('stimuli must have at least 20 seconds of speech')\n",
      "/opt/conda/lib/python3.7/site-packages/pysiib.py:104: UserWarning: stimuli must have at least 20 seconds of speech\n",
      "  warnings.warn('stimuli must have at least 20 seconds of speech')\n",
      "/opt/conda/lib/python3.7/site-packages/pysiib.py:104: UserWarning: stimuli must have at least 20 seconds of speech\n",
      "  warnings.warn('stimuli must have at least 20 seconds of speech')\n",
      "/opt/conda/lib/python3.7/site-packages/pysiib.py:104: UserWarning: stimuli must have at least 20 seconds of speech\n",
      "  warnings.warn('stimuli must have at least 20 seconds of speech')\n",
      "/opt/conda/lib/python3.7/site-packages/pysiib.py:104: UserWarning: stimuli must have at least 20 seconds of speech\n",
      "  warnings.warn('stimuli must have at least 20 seconds of speech')\n",
      "/opt/conda/lib/python3.7/site-packages/pysiib.py:104: UserWarning: stimuli must have at least 20 seconds of speech\n",
      "  warnings.warn('stimuli must have at least 20 seconds of speech')\n",
      "/opt/conda/lib/python3.7/site-packages/pysiib.py:104: UserWarning: stimuli must have at least 20 seconds of speech\n",
      "  warnings.warn('stimuli must have at least 20 seconds of speech')\n",
      "/opt/conda/lib/python3.7/site-packages/pysiib.py:104: UserWarning: stimuli must have at least 20 seconds of speech\n",
      "  warnings.warn('stimuli must have at least 20 seconds of speech')\n",
      "/opt/conda/lib/python3.7/site-packages/pysiib.py:104: UserWarning: stimuli must have at least 20 seconds of speech\n",
      "  warnings.warn('stimuli must have at least 20 seconds of speech')\n",
      "/opt/conda/lib/python3.7/site-packages/pysiib.py:104: UserWarning: stimuli must have at least 20 seconds of speech\n",
      "  warnings.warn('stimuli must have at least 20 seconds of speech')\n",
      "/opt/conda/lib/python3.7/site-packages/pysiib.py:104: UserWarning: stimuli must have at least 20 seconds of speech\n",
      "  warnings.warn('stimuli must have at least 20 seconds of speech')\n",
      "[tflite_quality_mapper.cc : 33] RAW: Loading TF Lattice TFLite model at visqol/model/lattice_tcditugenmeetpackhref_ls2_nl60_lr12_bs2048_learn.005_ep2400_train1_7_raw.tflite\n",
      "INFO: Created TensorFlow Lite XNNPACK delegate for CPU.\n",
      "/opt/conda/lib/python3.7/site-packages/pysiib.py:104: UserWarning: stimuli must have at least 20 seconds of speech\n",
      "  warnings.warn('stimuli must have at least 20 seconds of speech')\n",
      "/opt/conda/lib/python3.7/site-packages/pysiib.py:104: UserWarning: stimuli must have at least 20 seconds of speech\n",
      "  warnings.warn('stimuli must have at least 20 seconds of speech')\n",
      "/opt/conda/lib/python3.7/site-packages/pysiib.py:104: UserWarning: stimuli must have at least 20 seconds of speech\n",
      "  warnings.warn('stimuli must have at least 20 seconds of speech')\n",
      "/opt/conda/lib/python3.7/site-packages/pysiib.py:104: UserWarning: stimuli must have at least 20 seconds of speech\n",
      "  warnings.warn('stimuli must have at least 20 seconds of speech')\n",
      "/opt/conda/lib/python3.7/site-packages/pysiib.py:104: UserWarning: stimuli must have at least 20 seconds of speech\n",
      "  warnings.warn('stimuli must have at least 20 seconds of speech')\n",
      "[tflite_quality_mapper.cc : 33] RAW: Loading TF Lattice TFLite model at visqol/model/lattice_tcditugenmeetpackhref_ls2_nl60_lr12_bs2048_learn.005_ep2400_train1_7_raw.tflite\n",
      "INFO: Created TensorFlow Lite XNNPACK delegate for CPU.\n"
     ]
    },
    {
     "name": "stdout",
     "output_type": "stream",
     "text": [
      "Discriminator training...\n"
     ]
    },
    {
     "name": "stderr",
     "output_type": "stream",
     "text": [
      "100%|██████████| 200/200 [00:58<00:00,  3.44it/s]\n",
      "100%|██████████| 340/340 [01:32<00:00,  3.67it/s]\n",
      "100%|██████████| 200/200 [00:57<00:00,  3.47it/s]\n"
     ]
    },
    {
     "name": "stdout",
     "output_type": "stream",
     "text": [
      "Epoch 22 Finished\n",
      "Generator training (with discriminator fixed)...\n"
     ]
    },
    {
     "name": "stderr",
     "output_type": "stream",
     "text": [
      "100%|██████████| 100/100 [00:19<00:00,  5.04it/s]\n"
     ]
    },
    {
     "name": "stdout",
     "output_type": "stream",
     "text": [
      "Evaluate G by validation data ...\n"
     ]
    },
    {
     "name": "stderr",
     "output_type": "stream",
     "text": [
      "/opt/conda/lib/python3.7/site-packages/pysiib.py:104: UserWarning: stimuli must have at least 20 seconds of speech\n",
      "  warnings.warn('stimuli must have at least 20 seconds of speech')\n",
      "/opt/conda/lib/python3.7/site-packages/pysiib.py:104: UserWarning: stimuli must have at least 20 seconds of speech\n",
      "  warnings.warn('stimuli must have at least 20 seconds of speech')\n",
      "/opt/conda/lib/python3.7/site-packages/pysiib.py:104: UserWarning: stimuli must have at least 20 seconds of speech\n",
      "  warnings.warn('stimuli must have at least 20 seconds of speech')\n",
      "/opt/conda/lib/python3.7/site-packages/pysiib.py:104: UserWarning: stimuli must have at least 20 seconds of speech\n",
      "  warnings.warn('stimuli must have at least 20 seconds of speech')\n",
      "/opt/conda/lib/python3.7/site-packages/pysiib.py:104: UserWarning: stimuli must have at least 20 seconds of speech\n",
      "  warnings.warn('stimuli must have at least 20 seconds of speech')\n",
      "/opt/conda/lib/python3.7/site-packages/pysiib.py:104: UserWarning: stimuli must have at least 20 seconds of speech\n",
      "  warnings.warn('stimuli must have at least 20 seconds of speech')\n",
      "/opt/conda/lib/python3.7/site-packages/pysiib.py:104: UserWarning: stimuli must have at least 20 seconds of speech\n",
      "  warnings.warn('stimuli must have at least 20 seconds of speech')\n",
      "/opt/conda/lib/python3.7/site-packages/pysiib.py:104: UserWarning: stimuli must have at least 20 seconds of speech\n",
      "  warnings.warn('stimuli must have at least 20 seconds of speech')\n",
      "[tflite_quality_mapper.cc : 33] RAW: Loading TF Lattice TFLite model at visqol/model/lattice_tcditugenmeetpackhref_ls2_nl60_lr12_bs2048_learn.005_ep2400_train1_7_raw.tflite\n",
      "INFO: Created TensorFlow Lite XNNPACK delegate for CPU.\n"
     ]
    },
    {
     "name": "stdout",
     "output_type": "stream",
     "text": [
      "Sample training data for discriminator training...\n"
     ]
    },
    {
     "name": "stderr",
     "output_type": "stream",
     "text": [
      "/opt/conda/lib/python3.7/site-packages/pysiib.py:104: UserWarning: stimuli must have at least 20 seconds of speech\n",
      "  warnings.warn('stimuli must have at least 20 seconds of speech')\n",
      "/opt/conda/lib/python3.7/site-packages/pysiib.py:104: UserWarning: stimuli must have at least 20 seconds of speech\n",
      "  warnings.warn('stimuli must have at least 20 seconds of speech')\n",
      "/opt/conda/lib/python3.7/site-packages/pysiib.py:104: UserWarning: stimuli must have at least 20 seconds of speech\n",
      "  warnings.warn('stimuli must have at least 20 seconds of speech')\n",
      "/opt/conda/lib/python3.7/site-packages/pysiib.py:104: UserWarning: stimuli must have at least 20 seconds of speech\n",
      "  warnings.warn('stimuli must have at least 20 seconds of speech')\n",
      "/opt/conda/lib/python3.7/site-packages/pysiib.py:104: UserWarning: stimuli must have at least 20 seconds of speech\n",
      "  warnings.warn('stimuli must have at least 20 seconds of speech')\n",
      "/opt/conda/lib/python3.7/site-packages/pysiib.py:104: UserWarning: stimuli must have at least 20 seconds of speech\n",
      "  warnings.warn('stimuli must have at least 20 seconds of speech')\n",
      "/opt/conda/lib/python3.7/site-packages/pysiib.py:104: UserWarning: stimuli must have at least 20 seconds of speech\n",
      "  warnings.warn('stimuli must have at least 20 seconds of speech')\n",
      "/opt/conda/lib/python3.7/site-packages/pysiib.py:104: UserWarning: stimuli must have at least 20 seconds of speech\n",
      "  warnings.warn('stimuli must have at least 20 seconds of speech')\n",
      "/opt/conda/lib/python3.7/site-packages/pysiib.py:104: UserWarning: stimuli must have at least 20 seconds of speech\n",
      "  warnings.warn('stimuli must have at least 20 seconds of speech')\n",
      "/opt/conda/lib/python3.7/site-packages/pysiib.py:104: UserWarning: stimuli must have at least 20 seconds of speech\n",
      "  warnings.warn('stimuli must have at least 20 seconds of speech')\n",
      "/opt/conda/lib/python3.7/site-packages/pysiib.py:104: UserWarning: stimuli must have at least 20 seconds of speech\n",
      "  warnings.warn('stimuli must have at least 20 seconds of speech')\n",
      "/opt/conda/lib/python3.7/site-packages/pysiib.py:104: UserWarning: stimuli must have at least 20 seconds of speech\n",
      "  warnings.warn('stimuli must have at least 20 seconds of speech')\n",
      "[tflite_quality_mapper.cc : 33] RAW: Loading TF Lattice TFLite model at visqol/model/lattice_tcditugenmeetpackhref_ls2_nl60_lr12_bs2048_learn.005_ep2400_train1_7_raw.tflite\n",
      "INFO: Created TensorFlow Lite XNNPACK delegate for CPU.\n",
      "/opt/conda/lib/python3.7/site-packages/pysiib.py:104: UserWarning: stimuli must have at least 20 seconds of speech\n",
      "  warnings.warn('stimuli must have at least 20 seconds of speech')\n",
      "/opt/conda/lib/python3.7/site-packages/pysiib.py:104: UserWarning: stimuli must have at least 20 seconds of speech\n",
      "  warnings.warn('stimuli must have at least 20 seconds of speech')\n",
      "/opt/conda/lib/python3.7/site-packages/pysiib.py:104: UserWarning: stimuli must have at least 20 seconds of speech\n",
      "  warnings.warn('stimuli must have at least 20 seconds of speech')\n",
      "/opt/conda/lib/python3.7/site-packages/pysiib.py:104: UserWarning: stimuli must have at least 20 seconds of speech\n",
      "  warnings.warn('stimuli must have at least 20 seconds of speech')\n",
      "/opt/conda/lib/python3.7/site-packages/pysiib.py:104: UserWarning: stimuli must have at least 20 seconds of speech\n",
      "  warnings.warn('stimuli must have at least 20 seconds of speech')\n",
      "/opt/conda/lib/python3.7/site-packages/pysiib.py:104: UserWarning: stimuli must have at least 20 seconds of speech\n",
      "  warnings.warn('stimuli must have at least 20 seconds of speech')\n",
      "[tflite_quality_mapper.cc : 33] RAW: Loading TF Lattice TFLite model at visqol/model/lattice_tcditugenmeetpackhref_ls2_nl60_lr12_bs2048_learn.005_ep2400_train1_7_raw.tflite\n",
      "INFO: Created TensorFlow Lite XNNPACK delegate for CPU.\n"
     ]
    },
    {
     "name": "stdout",
     "output_type": "stream",
     "text": [
      "Discriminator training...\n"
     ]
    },
    {
     "name": "stderr",
     "output_type": "stream",
     "text": [
      "100%|██████████| 200/200 [00:50<00:00,  3.96it/s]\n",
      "100%|██████████| 346/346 [01:22<00:00,  4.18it/s]\n",
      "100%|██████████| 200/200 [00:53<00:00,  3.71it/s]\n"
     ]
    },
    {
     "name": "stdout",
     "output_type": "stream",
     "text": [
      "Epoch 23 Finished\n",
      "Generator training (with discriminator fixed)...\n"
     ]
    },
    {
     "name": "stderr",
     "output_type": "stream",
     "text": [
      "100%|██████████| 100/100 [00:20<00:00,  4.88it/s]\n"
     ]
    },
    {
     "name": "stdout",
     "output_type": "stream",
     "text": [
      "Evaluate G by validation data ...\n"
     ]
    },
    {
     "name": "stderr",
     "output_type": "stream",
     "text": [
      "/opt/conda/lib/python3.7/site-packages/pysiib.py:104: UserWarning: stimuli must have at least 20 seconds of speech\n",
      "  warnings.warn('stimuli must have at least 20 seconds of speech')\n",
      "/opt/conda/lib/python3.7/site-packages/pysiib.py:104: UserWarning: stimuli must have at least 20 seconds of speech\n",
      "  warnings.warn('stimuli must have at least 20 seconds of speech')\n",
      "/opt/conda/lib/python3.7/site-packages/pysiib.py:104: UserWarning: stimuli must have at least 20 seconds of speech\n",
      "  warnings.warn('stimuli must have at least 20 seconds of speech')\n",
      "/opt/conda/lib/python3.7/site-packages/pysiib.py:104: UserWarning: stimuli must have at least 20 seconds of speech\n",
      "  warnings.warn('stimuli must have at least 20 seconds of speech')\n",
      "/opt/conda/lib/python3.7/site-packages/pysiib.py:104: UserWarning: stimuli must have at least 20 seconds of speech\n",
      "  warnings.warn('stimuli must have at least 20 seconds of speech')\n",
      "/opt/conda/lib/python3.7/site-packages/pysiib.py:104: UserWarning: stimuli must have at least 20 seconds of speech\n",
      "  warnings.warn('stimuli must have at least 20 seconds of speech')\n",
      "/opt/conda/lib/python3.7/site-packages/pysiib.py:104: UserWarning: stimuli must have at least 20 seconds of speech\n",
      "  warnings.warn('stimuli must have at least 20 seconds of speech')\n",
      "/opt/conda/lib/python3.7/site-packages/pysiib.py:104: UserWarning: stimuli must have at least 20 seconds of speech\n",
      "  warnings.warn('stimuli must have at least 20 seconds of speech')\n",
      "/opt/conda/lib/python3.7/site-packages/pysiib.py:104: UserWarning: stimuli must have at least 20 seconds of speech\n",
      "  warnings.warn('stimuli must have at least 20 seconds of speech')\n",
      "[tflite_quality_mapper.cc : 33] RAW: Loading TF Lattice TFLite model at visqol/model/lattice_tcditugenmeetpackhref_ls2_nl60_lr12_bs2048_learn.005_ep2400_train1_7_raw.tflite\n",
      "INFO: Created TensorFlow Lite XNNPACK delegate for CPU.\n"
     ]
    },
    {
     "name": "stdout",
     "output_type": "stream",
     "text": [
      "Sample training data for discriminator training...\n"
     ]
    },
    {
     "name": "stderr",
     "output_type": "stream",
     "text": [
      "/opt/conda/lib/python3.7/site-packages/pysiib.py:104: UserWarning: stimuli must have at least 20 seconds of speech\n",
      "  warnings.warn('stimuli must have at least 20 seconds of speech')\n",
      "/opt/conda/lib/python3.7/site-packages/pysiib.py:104: UserWarning: stimuli must have at least 20 seconds of speech\n",
      "  warnings.warn('stimuli must have at least 20 seconds of speech')\n",
      "/opt/conda/lib/python3.7/site-packages/pysiib.py:104: UserWarning: stimuli must have at least 20 seconds of speech\n",
      "  warnings.warn('stimuli must have at least 20 seconds of speech')\n",
      "/opt/conda/lib/python3.7/site-packages/pysiib.py:104: UserWarning: stimuli must have at least 20 seconds of speech\n",
      "  warnings.warn('stimuli must have at least 20 seconds of speech')\n",
      "/opt/conda/lib/python3.7/site-packages/pysiib.py:104: UserWarning: stimuli must have at least 20 seconds of speech\n",
      "  warnings.warn('stimuli must have at least 20 seconds of speech')\n",
      "/opt/conda/lib/python3.7/site-packages/pysiib.py:104: UserWarning: stimuli must have at least 20 seconds of speech\n",
      "  warnings.warn('stimuli must have at least 20 seconds of speech')\n",
      "/opt/conda/lib/python3.7/site-packages/pysiib.py:104: UserWarning: stimuli must have at least 20 seconds of speech\n",
      "  warnings.warn('stimuli must have at least 20 seconds of speech')\n",
      "/opt/conda/lib/python3.7/site-packages/pysiib.py:104: UserWarning: stimuli must have at least 20 seconds of speech\n",
      "  warnings.warn('stimuli must have at least 20 seconds of speech')\n",
      "/opt/conda/lib/python3.7/site-packages/pysiib.py:104: UserWarning: stimuli must have at least 20 seconds of speech\n",
      "  warnings.warn('stimuli must have at least 20 seconds of speech')\n",
      "/opt/conda/lib/python3.7/site-packages/pysiib.py:104: UserWarning: stimuli must have at least 20 seconds of speech\n",
      "  warnings.warn('stimuli must have at least 20 seconds of speech')\n",
      "/opt/conda/lib/python3.7/site-packages/pysiib.py:104: UserWarning: stimuli must have at least 20 seconds of speech\n",
      "  warnings.warn('stimuli must have at least 20 seconds of speech')\n",
      "[tflite_quality_mapper.cc : 33] RAW: Loading TF Lattice TFLite model at visqol/model/lattice_tcditugenmeetpackhref_ls2_nl60_lr12_bs2048_learn.005_ep2400_train1_7_raw.tflite\n",
      "INFO: Created TensorFlow Lite XNNPACK delegate for CPU.\n",
      "/opt/conda/lib/python3.7/site-packages/pysiib.py:104: UserWarning: stimuli must have at least 20 seconds of speech\n",
      "  warnings.warn('stimuli must have at least 20 seconds of speech')\n",
      "/opt/conda/lib/python3.7/site-packages/pysiib.py:104: UserWarning: stimuli must have at least 20 seconds of speech\n",
      "  warnings.warn('stimuli must have at least 20 seconds of speech')\n",
      "/opt/conda/lib/python3.7/site-packages/pysiib.py:104: UserWarning: stimuli must have at least 20 seconds of speech\n",
      "  warnings.warn('stimuli must have at least 20 seconds of speech')\n",
      "[tflite_quality_mapper.cc : 33] RAW: Loading TF Lattice TFLite model at visqol/model/lattice_tcditugenmeetpackhref_ls2_nl60_lr12_bs2048_learn.005_ep2400_train1_7_raw.tflite\n",
      "INFO: Created TensorFlow Lite XNNPACK delegate for CPU.\n"
     ]
    },
    {
     "name": "stdout",
     "output_type": "stream",
     "text": [
      "Discriminator training...\n"
     ]
    },
    {
     "name": "stderr",
     "output_type": "stream",
     "text": [
      "100%|██████████| 200/200 [00:53<00:00,  3.75it/s]\n",
      "100%|██████████| 353/353 [01:25<00:00,  4.11it/s]\n",
      "100%|██████████| 200/200 [00:51<00:00,  3.85it/s]\n"
     ]
    },
    {
     "name": "stdout",
     "output_type": "stream",
     "text": [
      "Epoch 24 Finished\n",
      "Generator training (with discriminator fixed)...\n"
     ]
    },
    {
     "name": "stderr",
     "output_type": "stream",
     "text": [
      "100%|██████████| 100/100 [00:23<00:00,  4.24it/s]\n"
     ]
    },
    {
     "name": "stdout",
     "output_type": "stream",
     "text": [
      "Evaluate G by validation data ...\n"
     ]
    },
    {
     "name": "stderr",
     "output_type": "stream",
     "text": [
      "/opt/conda/lib/python3.7/site-packages/pysiib.py:104: UserWarning: stimuli must have at least 20 seconds of speech\n",
      "  warnings.warn('stimuli must have at least 20 seconds of speech')\n",
      "/opt/conda/lib/python3.7/site-packages/pysiib.py:104: UserWarning: stimuli must have at least 20 seconds of speech\n",
      "  warnings.warn('stimuli must have at least 20 seconds of speech')\n",
      "/opt/conda/lib/python3.7/site-packages/pysiib.py:104: UserWarning: stimuli must have at least 20 seconds of speech\n",
      "  warnings.warn('stimuli must have at least 20 seconds of speech')\n",
      "/opt/conda/lib/python3.7/site-packages/pysiib.py:104: UserWarning: stimuli must have at least 20 seconds of speech\n",
      "  warnings.warn('stimuli must have at least 20 seconds of speech')\n",
      "/opt/conda/lib/python3.7/site-packages/pysiib.py:104: UserWarning: stimuli must have at least 20 seconds of speech\n",
      "  warnings.warn('stimuli must have at least 20 seconds of speech')\n",
      "/opt/conda/lib/python3.7/site-packages/pysiib.py:104: UserWarning: stimuli must have at least 20 seconds of speech\n",
      "  warnings.warn('stimuli must have at least 20 seconds of speech')\n",
      "/opt/conda/lib/python3.7/site-packages/pysiib.py:104: UserWarning: stimuli must have at least 20 seconds of speech\n",
      "  warnings.warn('stimuli must have at least 20 seconds of speech')\n",
      "/opt/conda/lib/python3.7/site-packages/pysiib.py:104: UserWarning: stimuli must have at least 20 seconds of speech\n",
      "  warnings.warn('stimuli must have at least 20 seconds of speech')\n",
      "[tflite_quality_mapper.cc : 33] RAW: Loading TF Lattice TFLite model at visqol/model/lattice_tcditugenmeetpackhref_ls2_nl60_lr12_bs2048_learn.005_ep2400_train1_7_raw.tflite\n",
      "INFO: Created TensorFlow Lite XNNPACK delegate for CPU.\n"
     ]
    },
    {
     "name": "stdout",
     "output_type": "stream",
     "text": [
      "Sample training data for discriminator training...\n"
     ]
    },
    {
     "name": "stderr",
     "output_type": "stream",
     "text": [
      "/opt/conda/lib/python3.7/site-packages/pysiib.py:104: UserWarning: stimuli must have at least 20 seconds of speech\n",
      "  warnings.warn('stimuli must have at least 20 seconds of speech')\n",
      "/opt/conda/lib/python3.7/site-packages/pysiib.py:104: UserWarning: stimuli must have at least 20 seconds of speech\n",
      "  warnings.warn('stimuli must have at least 20 seconds of speech')\n",
      "/opt/conda/lib/python3.7/site-packages/pysiib.py:104: UserWarning: stimuli must have at least 20 seconds of speech\n",
      "  warnings.warn('stimuli must have at least 20 seconds of speech')\n",
      "/opt/conda/lib/python3.7/site-packages/pysiib.py:104: UserWarning: stimuli must have at least 20 seconds of speech\n",
      "  warnings.warn('stimuli must have at least 20 seconds of speech')\n",
      "/opt/conda/lib/python3.7/site-packages/pysiib.py:104: UserWarning: stimuli must have at least 20 seconds of speech\n",
      "  warnings.warn('stimuli must have at least 20 seconds of speech')\n",
      "/opt/conda/lib/python3.7/site-packages/pysiib.py:104: UserWarning: stimuli must have at least 20 seconds of speech\n",
      "  warnings.warn('stimuli must have at least 20 seconds of speech')\n",
      "/opt/conda/lib/python3.7/site-packages/pysiib.py:104: UserWarning: stimuli must have at least 20 seconds of speech\n",
      "  warnings.warn('stimuli must have at least 20 seconds of speech')\n",
      "/opt/conda/lib/python3.7/site-packages/pysiib.py:104: UserWarning: stimuli must have at least 20 seconds of speech\n",
      "  warnings.warn('stimuli must have at least 20 seconds of speech')\n",
      "/opt/conda/lib/python3.7/site-packages/pysiib.py:104: UserWarning: stimuli must have at least 20 seconds of speech\n",
      "  warnings.warn('stimuli must have at least 20 seconds of speech')\n",
      "[tflite_quality_mapper.cc : 33] RAW: Loading TF Lattice TFLite model at visqol/model/lattice_tcditugenmeetpackhref_ls2_nl60_lr12_bs2048_learn.005_ep2400_train1_7_raw.tflite\n",
      "INFO: Created TensorFlow Lite XNNPACK delegate for CPU.\n",
      "/opt/conda/lib/python3.7/site-packages/pysiib.py:104: UserWarning: stimuli must have at least 20 seconds of speech\n",
      "  warnings.warn('stimuli must have at least 20 seconds of speech')\n",
      "/opt/conda/lib/python3.7/site-packages/pysiib.py:104: UserWarning: stimuli must have at least 20 seconds of speech\n",
      "  warnings.warn('stimuli must have at least 20 seconds of speech')\n",
      "/opt/conda/lib/python3.7/site-packages/pysiib.py:104: UserWarning: stimuli must have at least 20 seconds of speech\n",
      "  warnings.warn('stimuli must have at least 20 seconds of speech')\n",
      "/opt/conda/lib/python3.7/site-packages/pysiib.py:104: UserWarning: stimuli must have at least 20 seconds of speech\n",
      "  warnings.warn('stimuli must have at least 20 seconds of speech')\n",
      "/opt/conda/lib/python3.7/site-packages/pysiib.py:104: UserWarning: stimuli must have at least 20 seconds of speech\n",
      "  warnings.warn('stimuli must have at least 20 seconds of speech')\n",
      "/opt/conda/lib/python3.7/site-packages/pysiib.py:104: UserWarning: stimuli must have at least 20 seconds of speech\n",
      "  warnings.warn('stimuli must have at least 20 seconds of speech')\n",
      "/opt/conda/lib/python3.7/site-packages/pysiib.py:104: UserWarning: stimuli must have at least 20 seconds of speech\n",
      "  warnings.warn('stimuli must have at least 20 seconds of speech')\n",
      "/opt/conda/lib/python3.7/site-packages/pysiib.py:104: UserWarning: stimuli must have at least 20 seconds of speech\n",
      "  warnings.warn('stimuli must have at least 20 seconds of speech')\n",
      "[tflite_quality_mapper.cc : 33] RAW: Loading TF Lattice TFLite model at visqol/model/lattice_tcditugenmeetpackhref_ls2_nl60_lr12_bs2048_learn.005_ep2400_train1_7_raw.tflite\n",
      "INFO: Created TensorFlow Lite XNNPACK delegate for CPU.\n"
     ]
    },
    {
     "name": "stdout",
     "output_type": "stream",
     "text": [
      "Discriminator training...\n"
     ]
    },
    {
     "name": "stderr",
     "output_type": "stream",
     "text": [
      "100%|██████████| 200/200 [00:55<00:00,  3.59it/s]\n",
      "100%|██████████| 360/360 [01:44<00:00,  3.44it/s]\n",
      "100%|██████████| 200/200 [01:06<00:00,  2.99it/s]\n"
     ]
    },
    {
     "name": "stdout",
     "output_type": "stream",
     "text": [
      "Epoch 25 Finished\n",
      "Generator training (with discriminator fixed)...\n"
     ]
    },
    {
     "name": "stderr",
     "output_type": "stream",
     "text": [
      "100%|██████████| 100/100 [00:23<00:00,  4.32it/s]\n"
     ]
    },
    {
     "name": "stdout",
     "output_type": "stream",
     "text": [
      "Evaluate G by validation data ...\n"
     ]
    },
    {
     "name": "stderr",
     "output_type": "stream",
     "text": [
      "/opt/conda/lib/python3.7/site-packages/pysiib.py:104: UserWarning: stimuli must have at least 20 seconds of speech\n",
      "  warnings.warn('stimuli must have at least 20 seconds of speech')\n",
      "/opt/conda/lib/python3.7/site-packages/pysiib.py:104: UserWarning: stimuli must have at least 20 seconds of speech\n",
      "  warnings.warn('stimuli must have at least 20 seconds of speech')\n",
      "/opt/conda/lib/python3.7/site-packages/pysiib.py:104: UserWarning: stimuli must have at least 20 seconds of speech\n",
      "  warnings.warn('stimuli must have at least 20 seconds of speech')\n",
      "/opt/conda/lib/python3.7/site-packages/pysiib.py:104: UserWarning: stimuli must have at least 20 seconds of speech\n",
      "  warnings.warn('stimuli must have at least 20 seconds of speech')\n",
      "/opt/conda/lib/python3.7/site-packages/pysiib.py:104: UserWarning: stimuli must have at least 20 seconds of speech\n",
      "  warnings.warn('stimuli must have at least 20 seconds of speech')\n",
      "/opt/conda/lib/python3.7/site-packages/pysiib.py:104: UserWarning: stimuli must have at least 20 seconds of speech\n",
      "  warnings.warn('stimuli must have at least 20 seconds of speech')\n",
      "/opt/conda/lib/python3.7/site-packages/pysiib.py:104: UserWarning: stimuli must have at least 20 seconds of speech\n",
      "  warnings.warn('stimuli must have at least 20 seconds of speech')\n",
      "/opt/conda/lib/python3.7/site-packages/pysiib.py:104: UserWarning: stimuli must have at least 20 seconds of speech\n",
      "  warnings.warn('stimuli must have at least 20 seconds of speech')\n",
      "[tflite_quality_mapper.cc : 33] RAW: Loading TF Lattice TFLite model at visqol/model/lattice_tcditugenmeetpackhref_ls2_nl60_lr12_bs2048_learn.005_ep2400_train1_7_raw.tflite\n",
      "INFO: Created TensorFlow Lite XNNPACK delegate for CPU.\n"
     ]
    },
    {
     "name": "stdout",
     "output_type": "stream",
     "text": [
      "Sample training data for discriminator training...\n"
     ]
    },
    {
     "name": "stderr",
     "output_type": "stream",
     "text": [
      "/opt/conda/lib/python3.7/site-packages/pysiib.py:104: UserWarning: stimuli must have at least 20 seconds of speech\n",
      "  warnings.warn('stimuli must have at least 20 seconds of speech')\n",
      "/opt/conda/lib/python3.7/site-packages/pysiib.py:104: UserWarning: stimuli must have at least 20 seconds of speech\n",
      "  warnings.warn('stimuli must have at least 20 seconds of speech')\n",
      "/opt/conda/lib/python3.7/site-packages/pysiib.py:104: UserWarning: stimuli must have at least 20 seconds of speech\n",
      "  warnings.warn('stimuli must have at least 20 seconds of speech')\n",
      "/opt/conda/lib/python3.7/site-packages/pysiib.py:104: UserWarning: stimuli must have at least 20 seconds of speech\n",
      "  warnings.warn('stimuli must have at least 20 seconds of speech')\n",
      "/opt/conda/lib/python3.7/site-packages/pysiib.py:104: UserWarning: stimuli must have at least 20 seconds of speech\n",
      "  warnings.warn('stimuli must have at least 20 seconds of speech')\n",
      "/opt/conda/lib/python3.7/site-packages/pysiib.py:104: UserWarning: stimuli must have at least 20 seconds of speech\n",
      "  warnings.warn('stimuli must have at least 20 seconds of speech')\n",
      "/opt/conda/lib/python3.7/site-packages/pysiib.py:104: UserWarning: stimuli must have at least 20 seconds of speech\n",
      "  warnings.warn('stimuli must have at least 20 seconds of speech')\n",
      "/opt/conda/lib/python3.7/site-packages/pysiib.py:104: UserWarning: stimuli must have at least 20 seconds of speech\n",
      "  warnings.warn('stimuli must have at least 20 seconds of speech')\n",
      "/opt/conda/lib/python3.7/site-packages/pysiib.py:104: UserWarning: stimuli must have at least 20 seconds of speech\n",
      "  warnings.warn('stimuli must have at least 20 seconds of speech')\n",
      "[tflite_quality_mapper.cc : 33] RAW: Loading TF Lattice TFLite model at visqol/model/lattice_tcditugenmeetpackhref_ls2_nl60_lr12_bs2048_learn.005_ep2400_train1_7_raw.tflite\n",
      "INFO: Created TensorFlow Lite XNNPACK delegate for CPU.\n",
      "/opt/conda/lib/python3.7/site-packages/pysiib.py:104: UserWarning: stimuli must have at least 20 seconds of speech\n",
      "  warnings.warn('stimuli must have at least 20 seconds of speech')\n",
      "/opt/conda/lib/python3.7/site-packages/pysiib.py:104: UserWarning: stimuli must have at least 20 seconds of speech\n",
      "  warnings.warn('stimuli must have at least 20 seconds of speech')\n",
      "/opt/conda/lib/python3.7/site-packages/pysiib.py:104: UserWarning: stimuli must have at least 20 seconds of speech\n",
      "  warnings.warn('stimuli must have at least 20 seconds of speech')\n",
      "/opt/conda/lib/python3.7/site-packages/pysiib.py:104: UserWarning: stimuli must have at least 20 seconds of speech\n",
      "  warnings.warn('stimuli must have at least 20 seconds of speech')\n",
      "/opt/conda/lib/python3.7/site-packages/pysiib.py:104: UserWarning: stimuli must have at least 20 seconds of speech\n",
      "  warnings.warn('stimuli must have at least 20 seconds of speech')\n",
      "/opt/conda/lib/python3.7/site-packages/pysiib.py:104: UserWarning: stimuli must have at least 20 seconds of speech\n",
      "  warnings.warn('stimuli must have at least 20 seconds of speech')\n",
      "/opt/conda/lib/python3.7/site-packages/pysiib.py:104: UserWarning: stimuli must have at least 20 seconds of speech\n",
      "  warnings.warn('stimuli must have at least 20 seconds of speech')\n",
      "/opt/conda/lib/python3.7/site-packages/pysiib.py:104: UserWarning: stimuli must have at least 20 seconds of speech\n",
      "  warnings.warn('stimuli must have at least 20 seconds of speech')\n",
      "/opt/conda/lib/python3.7/site-packages/pysiib.py:104: UserWarning: stimuli must have at least 20 seconds of speech\n",
      "  warnings.warn('stimuli must have at least 20 seconds of speech')\n",
      "[tflite_quality_mapper.cc : 33] RAW: Loading TF Lattice TFLite model at visqol/model/lattice_tcditugenmeetpackhref_ls2_nl60_lr12_bs2048_learn.005_ep2400_train1_7_raw.tflite\n",
      "INFO: Created TensorFlow Lite XNNPACK delegate for CPU.\n"
     ]
    },
    {
     "name": "stdout",
     "output_type": "stream",
     "text": [
      "Discriminator training...\n"
     ]
    },
    {
     "name": "stderr",
     "output_type": "stream",
     "text": [
      "100%|██████████| 200/200 [00:56<00:00,  3.55it/s]\n",
      "100%|██████████| 366/366 [01:36<00:00,  3.79it/s]\n",
      "100%|██████████| 200/200 [01:02<00:00,  3.20it/s]\n"
     ]
    },
    {
     "name": "stdout",
     "output_type": "stream",
     "text": [
      "Epoch 26 Finished\n",
      "Generator training (with discriminator fixed)...\n"
     ]
    },
    {
     "name": "stderr",
     "output_type": "stream",
     "text": [
      "100%|██████████| 100/100 [00:21<00:00,  4.68it/s]\n"
     ]
    },
    {
     "name": "stdout",
     "output_type": "stream",
     "text": [
      "Evaluate G by validation data ...\n"
     ]
    },
    {
     "name": "stderr",
     "output_type": "stream",
     "text": [
      "/opt/conda/lib/python3.7/site-packages/pysiib.py:104: UserWarning: stimuli must have at least 20 seconds of speech\n",
      "  warnings.warn('stimuli must have at least 20 seconds of speech')\n",
      "/opt/conda/lib/python3.7/site-packages/pysiib.py:104: UserWarning: stimuli must have at least 20 seconds of speech\n",
      "  warnings.warn('stimuli must have at least 20 seconds of speech')\n",
      "/opt/conda/lib/python3.7/site-packages/pysiib.py:104: UserWarning: stimuli must have at least 20 seconds of speech\n",
      "  warnings.warn('stimuli must have at least 20 seconds of speech')\n",
      "/opt/conda/lib/python3.7/site-packages/pysiib.py:104: UserWarning: stimuli must have at least 20 seconds of speech\n",
      "  warnings.warn('stimuli must have at least 20 seconds of speech')\n",
      "/opt/conda/lib/python3.7/site-packages/pysiib.py:104: UserWarning: stimuli must have at least 20 seconds of speech\n",
      "  warnings.warn('stimuli must have at least 20 seconds of speech')\n",
      "/opt/conda/lib/python3.7/site-packages/pysiib.py:104: UserWarning: stimuli must have at least 20 seconds of speech\n",
      "  warnings.warn('stimuli must have at least 20 seconds of speech')\n",
      "/opt/conda/lib/python3.7/site-packages/pysiib.py:104: UserWarning: stimuli must have at least 20 seconds of speech\n",
      "  warnings.warn('stimuli must have at least 20 seconds of speech')\n",
      "/opt/conda/lib/python3.7/site-packages/pysiib.py:104: UserWarning: stimuli must have at least 20 seconds of speech\n",
      "  warnings.warn('stimuli must have at least 20 seconds of speech')\n",
      "[tflite_quality_mapper.cc : 33] RAW: Loading TF Lattice TFLite model at visqol/model/lattice_tcditugenmeetpackhref_ls2_nl60_lr12_bs2048_learn.005_ep2400_train1_7_raw.tflite\n",
      "INFO: Created TensorFlow Lite XNNPACK delegate for CPU.\n"
     ]
    },
    {
     "name": "stdout",
     "output_type": "stream",
     "text": [
      "Sample training data for discriminator training...\n"
     ]
    },
    {
     "name": "stderr",
     "output_type": "stream",
     "text": [
      "/opt/conda/lib/python3.7/site-packages/pysiib.py:104: UserWarning: stimuli must have at least 20 seconds of speech\n",
      "  warnings.warn('stimuli must have at least 20 seconds of speech')\n",
      "/opt/conda/lib/python3.7/site-packages/pysiib.py:104: UserWarning: stimuli must have at least 20 seconds of speech\n",
      "  warnings.warn('stimuli must have at least 20 seconds of speech')\n",
      "/opt/conda/lib/python3.7/site-packages/pysiib.py:104: UserWarning: stimuli must have at least 20 seconds of speech\n",
      "  warnings.warn('stimuli must have at least 20 seconds of speech')\n",
      "/opt/conda/lib/python3.7/site-packages/pysiib.py:104: UserWarning: stimuli must have at least 20 seconds of speech\n",
      "  warnings.warn('stimuli must have at least 20 seconds of speech')\n",
      "/opt/conda/lib/python3.7/site-packages/pysiib.py:104: UserWarning: stimuli must have at least 20 seconds of speech\n",
      "  warnings.warn('stimuli must have at least 20 seconds of speech')\n",
      "/opt/conda/lib/python3.7/site-packages/pysiib.py:104: UserWarning: stimuli must have at least 20 seconds of speech\n",
      "  warnings.warn('stimuli must have at least 20 seconds of speech')\n",
      "/opt/conda/lib/python3.7/site-packages/pysiib.py:104: UserWarning: stimuli must have at least 20 seconds of speech\n",
      "  warnings.warn('stimuli must have at least 20 seconds of speech')\n",
      "/opt/conda/lib/python3.7/site-packages/pysiib.py:104: UserWarning: stimuli must have at least 20 seconds of speech\n",
      "  warnings.warn('stimuli must have at least 20 seconds of speech')\n",
      "[tflite_quality_mapper.cc : 33] RAW: Loading TF Lattice TFLite model at visqol/model/lattice_tcditugenmeetpackhref_ls2_nl60_lr12_bs2048_learn.005_ep2400_train1_7_raw.tflite\n",
      "INFO: Created TensorFlow Lite XNNPACK delegate for CPU.\n",
      "/opt/conda/lib/python3.7/site-packages/pysiib.py:104: UserWarning: stimuli must have at least 20 seconds of speech\n",
      "  warnings.warn('stimuli must have at least 20 seconds of speech')\n",
      "/opt/conda/lib/python3.7/site-packages/pysiib.py:104: UserWarning: stimuli must have at least 20 seconds of speech\n",
      "  warnings.warn('stimuli must have at least 20 seconds of speech')\n",
      "/opt/conda/lib/python3.7/site-packages/pysiib.py:104: UserWarning: stimuli must have at least 20 seconds of speech\n",
      "  warnings.warn('stimuli must have at least 20 seconds of speech')\n",
      "/opt/conda/lib/python3.7/site-packages/pysiib.py:104: UserWarning: stimuli must have at least 20 seconds of speech\n",
      "  warnings.warn('stimuli must have at least 20 seconds of speech')\n",
      "/opt/conda/lib/python3.7/site-packages/pysiib.py:104: UserWarning: stimuli must have at least 20 seconds of speech\n",
      "  warnings.warn('stimuli must have at least 20 seconds of speech')\n",
      "/opt/conda/lib/python3.7/site-packages/pysiib.py:104: UserWarning: stimuli must have at least 20 seconds of speech\n",
      "  warnings.warn('stimuli must have at least 20 seconds of speech')\n",
      "/opt/conda/lib/python3.7/site-packages/pysiib.py:104: UserWarning: stimuli must have at least 20 seconds of speech\n",
      "  warnings.warn('stimuli must have at least 20 seconds of speech')\n",
      "/opt/conda/lib/python3.7/site-packages/pysiib.py:104: UserWarning: stimuli must have at least 20 seconds of speech\n",
      "  warnings.warn('stimuli must have at least 20 seconds of speech')\n",
      "/opt/conda/lib/python3.7/site-packages/pysiib.py:104: UserWarning: stimuli must have at least 20 seconds of speech\n",
      "  warnings.warn('stimuli must have at least 20 seconds of speech')\n",
      "/opt/conda/lib/python3.7/site-packages/pysiib.py:104: UserWarning: stimuli must have at least 20 seconds of speech\n",
      "  warnings.warn('stimuli must have at least 20 seconds of speech')\n",
      "[tflite_quality_mapper.cc : 33] RAW: Loading TF Lattice TFLite model at visqol/model/lattice_tcditugenmeetpackhref_ls2_nl60_lr12_bs2048_learn.005_ep2400_train1_7_raw.tflite\n",
      "INFO: Created TensorFlow Lite XNNPACK delegate for CPU.\n"
     ]
    },
    {
     "name": "stdout",
     "output_type": "stream",
     "text": [
      "Discriminator training...\n"
     ]
    },
    {
     "name": "stderr",
     "output_type": "stream",
     "text": [
      "100%|██████████| 200/200 [00:58<00:00,  3.45it/s]\n",
      "100%|██████████| 373/373 [01:40<00:00,  3.73it/s]\n",
      "100%|██████████| 200/200 [00:58<00:00,  3.41it/s]\n"
     ]
    },
    {
     "name": "stdout",
     "output_type": "stream",
     "text": [
      "Epoch 27 Finished\n",
      "Generator training (with discriminator fixed)...\n"
     ]
    },
    {
     "name": "stderr",
     "output_type": "stream",
     "text": [
      "100%|██████████| 100/100 [00:18<00:00,  5.55it/s]\n"
     ]
    },
    {
     "name": "stdout",
     "output_type": "stream",
     "text": [
      "Evaluate G by validation data ...\n"
     ]
    },
    {
     "name": "stderr",
     "output_type": "stream",
     "text": [
      "/opt/conda/lib/python3.7/site-packages/pysiib.py:104: UserWarning: stimuli must have at least 20 seconds of speech\n",
      "  warnings.warn('stimuli must have at least 20 seconds of speech')\n",
      "/opt/conda/lib/python3.7/site-packages/pysiib.py:104: UserWarning: stimuli must have at least 20 seconds of speech\n",
      "  warnings.warn('stimuli must have at least 20 seconds of speech')\n",
      "/opt/conda/lib/python3.7/site-packages/pysiib.py:104: UserWarning: stimuli must have at least 20 seconds of speech\n",
      "  warnings.warn('stimuli must have at least 20 seconds of speech')\n",
      "/opt/conda/lib/python3.7/site-packages/pysiib.py:104: UserWarning: stimuli must have at least 20 seconds of speech\n",
      "  warnings.warn('stimuli must have at least 20 seconds of speech')\n",
      "/opt/conda/lib/python3.7/site-packages/pysiib.py:104: UserWarning: stimuli must have at least 20 seconds of speech\n",
      "  warnings.warn('stimuli must have at least 20 seconds of speech')\n",
      "/opt/conda/lib/python3.7/site-packages/pysiib.py:104: UserWarning: stimuli must have at least 20 seconds of speech\n",
      "  warnings.warn('stimuli must have at least 20 seconds of speech')\n",
      "/opt/conda/lib/python3.7/site-packages/pysiib.py:104: UserWarning: stimuli must have at least 20 seconds of speech\n",
      "  warnings.warn('stimuli must have at least 20 seconds of speech')\n",
      "/opt/conda/lib/python3.7/site-packages/pysiib.py:104: UserWarning: stimuli must have at least 20 seconds of speech\n",
      "  warnings.warn('stimuli must have at least 20 seconds of speech')\n",
      "[tflite_quality_mapper.cc : 33] RAW: Loading TF Lattice TFLite model at visqol/model/lattice_tcditugenmeetpackhref_ls2_nl60_lr12_bs2048_learn.005_ep2400_train1_7_raw.tflite\n",
      "INFO: Created TensorFlow Lite XNNPACK delegate for CPU.\n"
     ]
    },
    {
     "name": "stdout",
     "output_type": "stream",
     "text": [
      "Sample training data for discriminator training...\n"
     ]
    },
    {
     "name": "stderr",
     "output_type": "stream",
     "text": [
      "/opt/conda/lib/python3.7/site-packages/pysiib.py:104: UserWarning: stimuli must have at least 20 seconds of speech\n",
      "  warnings.warn('stimuli must have at least 20 seconds of speech')\n",
      "/opt/conda/lib/python3.7/site-packages/pysiib.py:104: UserWarning: stimuli must have at least 20 seconds of speech\n",
      "  warnings.warn('stimuli must have at least 20 seconds of speech')\n",
      "/opt/conda/lib/python3.7/site-packages/pysiib.py:104: UserWarning: stimuli must have at least 20 seconds of speech\n",
      "  warnings.warn('stimuli must have at least 20 seconds of speech')\n",
      "/opt/conda/lib/python3.7/site-packages/pysiib.py:104: UserWarning: stimuli must have at least 20 seconds of speech\n",
      "  warnings.warn('stimuli must have at least 20 seconds of speech')\n",
      "/opt/conda/lib/python3.7/site-packages/pysiib.py:104: UserWarning: stimuli must have at least 20 seconds of speech\n",
      "  warnings.warn('stimuli must have at least 20 seconds of speech')\n",
      "/opt/conda/lib/python3.7/site-packages/pysiib.py:104: UserWarning: stimuli must have at least 20 seconds of speech\n",
      "  warnings.warn('stimuli must have at least 20 seconds of speech')\n",
      "/opt/conda/lib/python3.7/site-packages/pysiib.py:104: UserWarning: stimuli must have at least 20 seconds of speech\n",
      "  warnings.warn('stimuli must have at least 20 seconds of speech')\n",
      "[tflite_quality_mapper.cc : 33] RAW: Loading TF Lattice TFLite model at visqol/model/lattice_tcditugenmeetpackhref_ls2_nl60_lr12_bs2048_learn.005_ep2400_train1_7_raw.tflite\n",
      "INFO: Created TensorFlow Lite XNNPACK delegate for CPU.\n",
      "/opt/conda/lib/python3.7/site-packages/pysiib.py:104: UserWarning: stimuli must have at least 20 seconds of speech\n",
      "  warnings.warn('stimuli must have at least 20 seconds of speech')\n",
      "/opt/conda/lib/python3.7/site-packages/pysiib.py:104: UserWarning: stimuli must have at least 20 seconds of speech\n",
      "  warnings.warn('stimuli must have at least 20 seconds of speech')\n",
      "[tflite_quality_mapper.cc : 33] RAW: Loading TF Lattice TFLite model at visqol/model/lattice_tcditugenmeetpackhref_ls2_nl60_lr12_bs2048_learn.005_ep2400_train1_7_raw.tflite\n",
      "INFO: Created TensorFlow Lite XNNPACK delegate for CPU.\n"
     ]
    },
    {
     "name": "stdout",
     "output_type": "stream",
     "text": [
      "Discriminator training...\n"
     ]
    },
    {
     "name": "stderr",
     "output_type": "stream",
     "text": [
      "100%|██████████| 200/200 [00:48<00:00,  4.08it/s]\n",
      "100%|██████████| 380/380 [01:36<00:00,  3.93it/s]\n",
      "100%|██████████| 200/200 [00:45<00:00,  4.42it/s]\n"
     ]
    },
    {
     "name": "stdout",
     "output_type": "stream",
     "text": [
      "Epoch 28 Finished\n",
      "Generator training (with discriminator fixed)...\n"
     ]
    },
    {
     "name": "stderr",
     "output_type": "stream",
     "text": [
      "100%|██████████| 100/100 [00:25<00:00,  3.87it/s]\n"
     ]
    },
    {
     "name": "stdout",
     "output_type": "stream",
     "text": [
      "Evaluate G by validation data ...\n"
     ]
    },
    {
     "name": "stderr",
     "output_type": "stream",
     "text": [
      "/opt/conda/lib/python3.7/site-packages/pysiib.py:104: UserWarning: stimuli must have at least 20 seconds of speech\n",
      "  warnings.warn('stimuli must have at least 20 seconds of speech')\n",
      "/opt/conda/lib/python3.7/site-packages/pysiib.py:104: UserWarning: stimuli must have at least 20 seconds of speech\n",
      "  warnings.warn('stimuli must have at least 20 seconds of speech')\n",
      "/opt/conda/lib/python3.7/site-packages/pysiib.py:104: UserWarning: stimuli must have at least 20 seconds of speech\n",
      "  warnings.warn('stimuli must have at least 20 seconds of speech')\n",
      "/opt/conda/lib/python3.7/site-packages/pysiib.py:104: UserWarning: stimuli must have at least 20 seconds of speech\n",
      "  warnings.warn('stimuli must have at least 20 seconds of speech')\n",
      "/opt/conda/lib/python3.7/site-packages/pysiib.py:104: UserWarning: stimuli must have at least 20 seconds of speech\n",
      "  warnings.warn('stimuli must have at least 20 seconds of speech')\n",
      "/opt/conda/lib/python3.7/site-packages/pysiib.py:104: UserWarning: stimuli must have at least 20 seconds of speech\n",
      "  warnings.warn('stimuli must have at least 20 seconds of speech')\n",
      "/opt/conda/lib/python3.7/site-packages/pysiib.py:104: UserWarning: stimuli must have at least 20 seconds of speech\n",
      "  warnings.warn('stimuli must have at least 20 seconds of speech')\n",
      "/opt/conda/lib/python3.7/site-packages/pysiib.py:104: UserWarning: stimuli must have at least 20 seconds of speech\n",
      "  warnings.warn('stimuli must have at least 20 seconds of speech')\n",
      "/opt/conda/lib/python3.7/site-packages/pysiib.py:104: UserWarning: stimuli must have at least 20 seconds of speech\n",
      "  warnings.warn('stimuli must have at least 20 seconds of speech')\n",
      "[tflite_quality_mapper.cc : 33] RAW: Loading TF Lattice TFLite model at visqol/model/lattice_tcditugenmeetpackhref_ls2_nl60_lr12_bs2048_learn.005_ep2400_train1_7_raw.tflite\n",
      "INFO: Created TensorFlow Lite XNNPACK delegate for CPU.\n"
     ]
    },
    {
     "name": "stdout",
     "output_type": "stream",
     "text": [
      "Sample training data for discriminator training...\n"
     ]
    },
    {
     "name": "stderr",
     "output_type": "stream",
     "text": [
      "/opt/conda/lib/python3.7/site-packages/pysiib.py:104: UserWarning: stimuli must have at least 20 seconds of speech\n",
      "  warnings.warn('stimuli must have at least 20 seconds of speech')\n",
      "/opt/conda/lib/python3.7/site-packages/pysiib.py:104: UserWarning: stimuli must have at least 20 seconds of speech\n",
      "  warnings.warn('stimuli must have at least 20 seconds of speech')\n",
      "/opt/conda/lib/python3.7/site-packages/pysiib.py:104: UserWarning: stimuli must have at least 20 seconds of speech\n",
      "  warnings.warn('stimuli must have at least 20 seconds of speech')\n",
      "/opt/conda/lib/python3.7/site-packages/pysiib.py:104: UserWarning: stimuli must have at least 20 seconds of speech\n",
      "  warnings.warn('stimuli must have at least 20 seconds of speech')\n",
      "/opt/conda/lib/python3.7/site-packages/pysiib.py:104: UserWarning: stimuli must have at least 20 seconds of speech\n",
      "  warnings.warn('stimuli must have at least 20 seconds of speech')\n",
      "/opt/conda/lib/python3.7/site-packages/pysiib.py:104: UserWarning: stimuli must have at least 20 seconds of speech\n",
      "  warnings.warn('stimuli must have at least 20 seconds of speech')\n",
      "/opt/conda/lib/python3.7/site-packages/pysiib.py:104: UserWarning: stimuli must have at least 20 seconds of speech\n",
      "  warnings.warn('stimuli must have at least 20 seconds of speech')\n",
      "/opt/conda/lib/python3.7/site-packages/pysiib.py:104: UserWarning: stimuli must have at least 20 seconds of speech\n",
      "  warnings.warn('stimuli must have at least 20 seconds of speech')\n",
      "/opt/conda/lib/python3.7/site-packages/pysiib.py:104: UserWarning: stimuli must have at least 20 seconds of speech\n",
      "  warnings.warn('stimuli must have at least 20 seconds of speech')\n",
      "/opt/conda/lib/python3.7/site-packages/pysiib.py:104: UserWarning: stimuli must have at least 20 seconds of speech\n",
      "  warnings.warn('stimuli must have at least 20 seconds of speech')\n",
      "[tflite_quality_mapper.cc : 33] RAW: Loading TF Lattice TFLite model at visqol/model/lattice_tcditugenmeetpackhref_ls2_nl60_lr12_bs2048_learn.005_ep2400_train1_7_raw.tflite\n",
      "INFO: Created TensorFlow Lite XNNPACK delegate for CPU.\n",
      "/opt/conda/lib/python3.7/site-packages/pysiib.py:104: UserWarning: stimuli must have at least 20 seconds of speech\n",
      "  warnings.warn('stimuli must have at least 20 seconds of speech')\n",
      "/opt/conda/lib/python3.7/site-packages/pysiib.py:104: UserWarning: stimuli must have at least 20 seconds of speech\n",
      "  warnings.warn('stimuli must have at least 20 seconds of speech')\n",
      "/opt/conda/lib/python3.7/site-packages/pysiib.py:104: UserWarning: stimuli must have at least 20 seconds of speech\n",
      "  warnings.warn('stimuli must have at least 20 seconds of speech')\n",
      "/opt/conda/lib/python3.7/site-packages/pysiib.py:104: UserWarning: stimuli must have at least 20 seconds of speech\n",
      "  warnings.warn('stimuli must have at least 20 seconds of speech')\n",
      "/opt/conda/lib/python3.7/site-packages/pysiib.py:104: UserWarning: stimuli must have at least 20 seconds of speech\n",
      "  warnings.warn('stimuli must have at least 20 seconds of speech')\n",
      "/opt/conda/lib/python3.7/site-packages/pysiib.py:104: UserWarning: stimuli must have at least 20 seconds of speech\n",
      "  warnings.warn('stimuli must have at least 20 seconds of speech')\n",
      "/opt/conda/lib/python3.7/site-packages/pysiib.py:104: UserWarning: stimuli must have at least 20 seconds of speech\n",
      "  warnings.warn('stimuli must have at least 20 seconds of speech')\n",
      "/opt/conda/lib/python3.7/site-packages/pysiib.py:104: UserWarning: stimuli must have at least 20 seconds of speech\n",
      "  warnings.warn('stimuli must have at least 20 seconds of speech')\n",
      "/opt/conda/lib/python3.7/site-packages/pysiib.py:104: UserWarning: stimuli must have at least 20 seconds of speech\n",
      "  warnings.warn('stimuli must have at least 20 seconds of speech')\n",
      "[tflite_quality_mapper.cc : 33] RAW: Loading TF Lattice TFLite model at visqol/model/lattice_tcditugenmeetpackhref_ls2_nl60_lr12_bs2048_learn.005_ep2400_train1_7_raw.tflite\n",
      "INFO: Created TensorFlow Lite XNNPACK delegate for CPU.\n"
     ]
    },
    {
     "name": "stdout",
     "output_type": "stream",
     "text": [
      "Discriminator training...\n"
     ]
    },
    {
     "name": "stderr",
     "output_type": "stream",
     "text": [
      "100%|██████████| 200/200 [00:58<00:00,  3.39it/s]\n",
      "100%|██████████| 386/386 [01:40<00:00,  3.86it/s]\n",
      "100%|██████████| 200/200 [00:58<00:00,  3.42it/s]\n"
     ]
    },
    {
     "name": "stdout",
     "output_type": "stream",
     "text": [
      "Epoch 29 Finished\n",
      "Generator training (with discriminator fixed)...\n"
     ]
    },
    {
     "name": "stderr",
     "output_type": "stream",
     "text": [
      "100%|██████████| 100/100 [00:21<00:00,  4.63it/s]\n"
     ]
    },
    {
     "name": "stdout",
     "output_type": "stream",
     "text": [
      "Evaluate G by validation data ...\n"
     ]
    },
    {
     "name": "stderr",
     "output_type": "stream",
     "text": [
      "/opt/conda/lib/python3.7/site-packages/pysiib.py:104: UserWarning: stimuli must have at least 20 seconds of speech\n",
      "  warnings.warn('stimuli must have at least 20 seconds of speech')\n",
      "/opt/conda/lib/python3.7/site-packages/pysiib.py:104: UserWarning: stimuli must have at least 20 seconds of speech\n",
      "  warnings.warn('stimuli must have at least 20 seconds of speech')\n",
      "/opt/conda/lib/python3.7/site-packages/pysiib.py:104: UserWarning: stimuli must have at least 20 seconds of speech\n",
      "  warnings.warn('stimuli must have at least 20 seconds of speech')\n",
      "/opt/conda/lib/python3.7/site-packages/pysiib.py:104: UserWarning: stimuli must have at least 20 seconds of speech\n",
      "  warnings.warn('stimuli must have at least 20 seconds of speech')\n",
      "/opt/conda/lib/python3.7/site-packages/pysiib.py:104: UserWarning: stimuli must have at least 20 seconds of speech\n",
      "  warnings.warn('stimuli must have at least 20 seconds of speech')\n",
      "/opt/conda/lib/python3.7/site-packages/pysiib.py:104: UserWarning: stimuli must have at least 20 seconds of speech\n",
      "  warnings.warn('stimuli must have at least 20 seconds of speech')\n",
      "/opt/conda/lib/python3.7/site-packages/pysiib.py:104: UserWarning: stimuli must have at least 20 seconds of speech\n",
      "  warnings.warn('stimuli must have at least 20 seconds of speech')\n",
      "/opt/conda/lib/python3.7/site-packages/pysiib.py:104: UserWarning: stimuli must have at least 20 seconds of speech\n",
      "  warnings.warn('stimuli must have at least 20 seconds of speech')\n",
      "/opt/conda/lib/python3.7/site-packages/pysiib.py:104: UserWarning: stimuli must have at least 20 seconds of speech\n",
      "  warnings.warn('stimuli must have at least 20 seconds of speech')\n",
      "[tflite_quality_mapper.cc : 33] RAW: Loading TF Lattice TFLite model at visqol/model/lattice_tcditugenmeetpackhref_ls2_nl60_lr12_bs2048_learn.005_ep2400_train1_7_raw.tflite\n",
      "INFO: Created TensorFlow Lite XNNPACK delegate for CPU.\n"
     ]
    },
    {
     "name": "stdout",
     "output_type": "stream",
     "text": [
      "Sample training data for discriminator training...\n"
     ]
    },
    {
     "name": "stderr",
     "output_type": "stream",
     "text": [
      "/opt/conda/lib/python3.7/site-packages/pysiib.py:104: UserWarning: stimuli must have at least 20 seconds of speech\n",
      "  warnings.warn('stimuli must have at least 20 seconds of speech')\n",
      "/opt/conda/lib/python3.7/site-packages/pysiib.py:104: UserWarning: stimuli must have at least 20 seconds of speech\n",
      "  warnings.warn('stimuli must have at least 20 seconds of speech')\n",
      "/opt/conda/lib/python3.7/site-packages/pysiib.py:104: UserWarning: stimuli must have at least 20 seconds of speech\n",
      "  warnings.warn('stimuli must have at least 20 seconds of speech')\n",
      "/opt/conda/lib/python3.7/site-packages/pysiib.py:104: UserWarning: stimuli must have at least 20 seconds of speech\n",
      "  warnings.warn('stimuli must have at least 20 seconds of speech')\n",
      "/opt/conda/lib/python3.7/site-packages/pysiib.py:104: UserWarning: stimuli must have at least 20 seconds of speech\n",
      "  warnings.warn('stimuli must have at least 20 seconds of speech')\n",
      "/opt/conda/lib/python3.7/site-packages/pysiib.py:104: UserWarning: stimuli must have at least 20 seconds of speech\n",
      "  warnings.warn('stimuli must have at least 20 seconds of speech')\n",
      "/opt/conda/lib/python3.7/site-packages/pysiib.py:104: UserWarning: stimuli must have at least 20 seconds of speech\n",
      "  warnings.warn('stimuli must have at least 20 seconds of speech')\n",
      "/opt/conda/lib/python3.7/site-packages/pysiib.py:104: UserWarning: stimuli must have at least 20 seconds of speech\n",
      "  warnings.warn('stimuli must have at least 20 seconds of speech')\n",
      "/opt/conda/lib/python3.7/site-packages/pysiib.py:104: UserWarning: stimuli must have at least 20 seconds of speech\n",
      "  warnings.warn('stimuli must have at least 20 seconds of speech')\n",
      "/opt/conda/lib/python3.7/site-packages/pysiib.py:104: UserWarning: stimuli must have at least 20 seconds of speech\n",
      "  warnings.warn('stimuli must have at least 20 seconds of speech')\n",
      "/opt/conda/lib/python3.7/site-packages/pysiib.py:104: UserWarning: stimuli must have at least 20 seconds of speech\n",
      "  warnings.warn('stimuli must have at least 20 seconds of speech')\n",
      "[tflite_quality_mapper.cc : 33] RAW: Loading TF Lattice TFLite model at visqol/model/lattice_tcditugenmeetpackhref_ls2_nl60_lr12_bs2048_learn.005_ep2400_train1_7_raw.tflite\n",
      "INFO: Created TensorFlow Lite XNNPACK delegate for CPU.\n",
      "/opt/conda/lib/python3.7/site-packages/pysiib.py:104: UserWarning: stimuli must have at least 20 seconds of speech\n",
      "  warnings.warn('stimuli must have at least 20 seconds of speech')\n",
      "/opt/conda/lib/python3.7/site-packages/pysiib.py:104: UserWarning: stimuli must have at least 20 seconds of speech\n",
      "  warnings.warn('stimuli must have at least 20 seconds of speech')\n",
      "/opt/conda/lib/python3.7/site-packages/pysiib.py:104: UserWarning: stimuli must have at least 20 seconds of speech\n",
      "  warnings.warn('stimuli must have at least 20 seconds of speech')\n",
      "/opt/conda/lib/python3.7/site-packages/pysiib.py:104: UserWarning: stimuli must have at least 20 seconds of speech\n",
      "  warnings.warn('stimuli must have at least 20 seconds of speech')\n",
      "/opt/conda/lib/python3.7/site-packages/pysiib.py:104: UserWarning: stimuli must have at least 20 seconds of speech\n",
      "  warnings.warn('stimuli must have at least 20 seconds of speech')\n",
      "/opt/conda/lib/python3.7/site-packages/pysiib.py:104: UserWarning: stimuli must have at least 20 seconds of speech\n",
      "  warnings.warn('stimuli must have at least 20 seconds of speech')\n",
      "/opt/conda/lib/python3.7/site-packages/pysiib.py:104: UserWarning: stimuli must have at least 20 seconds of speech\n",
      "  warnings.warn('stimuli must have at least 20 seconds of speech')\n",
      "[tflite_quality_mapper.cc : 33] RAW: Loading TF Lattice TFLite model at visqol/model/lattice_tcditugenmeetpackhref_ls2_nl60_lr12_bs2048_learn.005_ep2400_train1_7_raw.tflite\n",
      "INFO: Created TensorFlow Lite XNNPACK delegate for CPU.\n"
     ]
    },
    {
     "name": "stdout",
     "output_type": "stream",
     "text": [
      "Discriminator training...\n"
     ]
    },
    {
     "name": "stderr",
     "output_type": "stream",
     "text": [
      "100%|██████████| 200/200 [00:53<00:00,  3.75it/s]\n",
      "100%|██████████| 393/393 [01:47<00:00,  3.66it/s]\n",
      "100%|██████████| 200/200 [00:55<00:00,  3.60it/s]\n"
     ]
    },
    {
     "name": "stdout",
     "output_type": "stream",
     "text": [
      "Epoch 30 Finished\n",
      "Generator training (with discriminator fixed)...\n"
     ]
    },
    {
     "name": "stderr",
     "output_type": "stream",
     "text": [
      "100%|██████████| 100/100 [00:27<00:00,  3.57it/s]\n"
     ]
    },
    {
     "name": "stdout",
     "output_type": "stream",
     "text": [
      "Evaluate G by validation data ...\n"
     ]
    },
    {
     "name": "stderr",
     "output_type": "stream",
     "text": [
      "/opt/conda/lib/python3.7/site-packages/pysiib.py:104: UserWarning: stimuli must have at least 20 seconds of speech\n",
      "  warnings.warn('stimuli must have at least 20 seconds of speech')\n",
      "/opt/conda/lib/python3.7/site-packages/pysiib.py:104: UserWarning: stimuli must have at least 20 seconds of speech\n",
      "  warnings.warn('stimuli must have at least 20 seconds of speech')\n",
      "/opt/conda/lib/python3.7/site-packages/pysiib.py:104: UserWarning: stimuli must have at least 20 seconds of speech\n",
      "  warnings.warn('stimuli must have at least 20 seconds of speech')\n",
      "/opt/conda/lib/python3.7/site-packages/pysiib.py:104: UserWarning: stimuli must have at least 20 seconds of speech\n",
      "  warnings.warn('stimuli must have at least 20 seconds of speech')\n",
      "/opt/conda/lib/python3.7/site-packages/pysiib.py:104: UserWarning: stimuli must have at least 20 seconds of speech\n",
      "  warnings.warn('stimuli must have at least 20 seconds of speech')\n",
      "/opt/conda/lib/python3.7/site-packages/pysiib.py:104: UserWarning: stimuli must have at least 20 seconds of speech\n",
      "  warnings.warn('stimuli must have at least 20 seconds of speech')\n",
      "/opt/conda/lib/python3.7/site-packages/pysiib.py:104: UserWarning: stimuli must have at least 20 seconds of speech\n",
      "  warnings.warn('stimuli must have at least 20 seconds of speech')\n",
      "/opt/conda/lib/python3.7/site-packages/pysiib.py:104: UserWarning: stimuli must have at least 20 seconds of speech\n",
      "  warnings.warn('stimuli must have at least 20 seconds of speech')\n",
      "[tflite_quality_mapper.cc : 33] RAW: Loading TF Lattice TFLite model at visqol/model/lattice_tcditugenmeetpackhref_ls2_nl60_lr12_bs2048_learn.005_ep2400_train1_7_raw.tflite\n",
      "INFO: Created TensorFlow Lite XNNPACK delegate for CPU.\n"
     ]
    },
    {
     "name": "stdout",
     "output_type": "stream",
     "text": [
      "Sample training data for discriminator training...\n"
     ]
    },
    {
     "name": "stderr",
     "output_type": "stream",
     "text": [
      "/opt/conda/lib/python3.7/site-packages/pysiib.py:104: UserWarning: stimuli must have at least 20 seconds of speech\n",
      "  warnings.warn('stimuli must have at least 20 seconds of speech')\n",
      "/opt/conda/lib/python3.7/site-packages/pysiib.py:104: UserWarning: stimuli must have at least 20 seconds of speech\n",
      "  warnings.warn('stimuli must have at least 20 seconds of speech')\n",
      "/opt/conda/lib/python3.7/site-packages/pysiib.py:104: UserWarning: stimuli must have at least 20 seconds of speech\n",
      "  warnings.warn('stimuli must have at least 20 seconds of speech')\n",
      "/opt/conda/lib/python3.7/site-packages/pysiib.py:104: UserWarning: stimuli must have at least 20 seconds of speech\n",
      "  warnings.warn('stimuli must have at least 20 seconds of speech')\n",
      "/opt/conda/lib/python3.7/site-packages/pysiib.py:104: UserWarning: stimuli must have at least 20 seconds of speech\n",
      "  warnings.warn('stimuli must have at least 20 seconds of speech')\n",
      "/opt/conda/lib/python3.7/site-packages/pysiib.py:104: UserWarning: stimuli must have at least 20 seconds of speech\n",
      "  warnings.warn('stimuli must have at least 20 seconds of speech')\n",
      "/opt/conda/lib/python3.7/site-packages/pysiib.py:104: UserWarning: stimuli must have at least 20 seconds of speech\n",
      "  warnings.warn('stimuli must have at least 20 seconds of speech')\n",
      "/opt/conda/lib/python3.7/site-packages/pysiib.py:104: UserWarning: stimuli must have at least 20 seconds of speech\n",
      "  warnings.warn('stimuli must have at least 20 seconds of speech')\n",
      "[tflite_quality_mapper.cc : 33] RAW: Loading TF Lattice TFLite model at visqol/model/lattice_tcditugenmeetpackhref_ls2_nl60_lr12_bs2048_learn.005_ep2400_train1_7_raw.tflite\n",
      "INFO: Created TensorFlow Lite XNNPACK delegate for CPU.\n",
      "/opt/conda/lib/python3.7/site-packages/pysiib.py:104: UserWarning: stimuli must have at least 20 seconds of speech\n",
      "  warnings.warn('stimuli must have at least 20 seconds of speech')\n",
      "/opt/conda/lib/python3.7/site-packages/pysiib.py:104: UserWarning: stimuli must have at least 20 seconds of speech\n",
      "  warnings.warn('stimuli must have at least 20 seconds of speech')\n",
      "/opt/conda/lib/python3.7/site-packages/pysiib.py:104: UserWarning: stimuli must have at least 20 seconds of speech\n",
      "  warnings.warn('stimuli must have at least 20 seconds of speech')\n",
      "/opt/conda/lib/python3.7/site-packages/pysiib.py:104: UserWarning: stimuli must have at least 20 seconds of speech\n",
      "  warnings.warn('stimuli must have at least 20 seconds of speech')\n",
      "/opt/conda/lib/python3.7/site-packages/pysiib.py:104: UserWarning: stimuli must have at least 20 seconds of speech\n",
      "  warnings.warn('stimuli must have at least 20 seconds of speech')\n",
      "[tflite_quality_mapper.cc : 33] RAW: Loading TF Lattice TFLite model at visqol/model/lattice_tcditugenmeetpackhref_ls2_nl60_lr12_bs2048_learn.005_ep2400_train1_7_raw.tflite\n",
      "INFO: Created TensorFlow Lite XNNPACK delegate for CPU.\n"
     ]
    },
    {
     "name": "stdout",
     "output_type": "stream",
     "text": [
      "Discriminator training...\n"
     ]
    },
    {
     "name": "stderr",
     "output_type": "stream",
     "text": [
      "100%|██████████| 200/200 [00:57<00:00,  3.46it/s]\n",
      "100%|██████████| 400/400 [01:51<00:00,  3.60it/s]\n",
      "100%|██████████| 200/200 [01:05<00:00,  3.04it/s]\n"
     ]
    },
    {
     "name": "stdout",
     "output_type": "stream",
     "text": [
      "Epoch 31 Finished\n",
      "Generator training (with discriminator fixed)...\n"
     ]
    },
    {
     "name": "stderr",
     "output_type": "stream",
     "text": [
      "100%|██████████| 100/100 [00:25<00:00,  3.93it/s]\n"
     ]
    },
    {
     "name": "stdout",
     "output_type": "stream",
     "text": [
      "Evaluate G by validation data ...\n"
     ]
    },
    {
     "name": "stderr",
     "output_type": "stream",
     "text": [
      "/opt/conda/lib/python3.7/site-packages/pysiib.py:104: UserWarning: stimuli must have at least 20 seconds of speech\n",
      "  warnings.warn('stimuli must have at least 20 seconds of speech')\n",
      "/opt/conda/lib/python3.7/site-packages/pysiib.py:104: UserWarning: stimuli must have at least 20 seconds of speech\n",
      "  warnings.warn('stimuli must have at least 20 seconds of speech')\n",
      "/opt/conda/lib/python3.7/site-packages/pysiib.py:104: UserWarning: stimuli must have at least 20 seconds of speech\n",
      "  warnings.warn('stimuli must have at least 20 seconds of speech')\n",
      "/opt/conda/lib/python3.7/site-packages/pysiib.py:104: UserWarning: stimuli must have at least 20 seconds of speech\n",
      "  warnings.warn('stimuli must have at least 20 seconds of speech')\n",
      "/opt/conda/lib/python3.7/site-packages/pysiib.py:104: UserWarning: stimuli must have at least 20 seconds of speech\n",
      "  warnings.warn('stimuli must have at least 20 seconds of speech')\n",
      "/opt/conda/lib/python3.7/site-packages/pysiib.py:104: UserWarning: stimuli must have at least 20 seconds of speech\n",
      "  warnings.warn('stimuli must have at least 20 seconds of speech')\n",
      "/opt/conda/lib/python3.7/site-packages/pysiib.py:104: UserWarning: stimuli must have at least 20 seconds of speech\n",
      "  warnings.warn('stimuli must have at least 20 seconds of speech')\n",
      "/opt/conda/lib/python3.7/site-packages/pysiib.py:104: UserWarning: stimuli must have at least 20 seconds of speech\n",
      "  warnings.warn('stimuli must have at least 20 seconds of speech')\n",
      "[tflite_quality_mapper.cc : 33] RAW: Loading TF Lattice TFLite model at visqol/model/lattice_tcditugenmeetpackhref_ls2_nl60_lr12_bs2048_learn.005_ep2400_train1_7_raw.tflite\n",
      "INFO: Created TensorFlow Lite XNNPACK delegate for CPU.\n"
     ]
    },
    {
     "name": "stdout",
     "output_type": "stream",
     "text": [
      "Sample training data for discriminator training...\n"
     ]
    },
    {
     "name": "stderr",
     "output_type": "stream",
     "text": [
      "/opt/conda/lib/python3.7/site-packages/pysiib.py:104: UserWarning: stimuli must have at least 20 seconds of speech\n",
      "  warnings.warn('stimuli must have at least 20 seconds of speech')\n",
      "/opt/conda/lib/python3.7/site-packages/pysiib.py:104: UserWarning: stimuli must have at least 20 seconds of speech\n",
      "  warnings.warn('stimuli must have at least 20 seconds of speech')\n",
      "/opt/conda/lib/python3.7/site-packages/pysiib.py:104: UserWarning: stimuli must have at least 20 seconds of speech\n",
      "  warnings.warn('stimuli must have at least 20 seconds of speech')\n",
      "/opt/conda/lib/python3.7/site-packages/pysiib.py:104: UserWarning: stimuli must have at least 20 seconds of speech\n",
      "  warnings.warn('stimuli must have at least 20 seconds of speech')\n",
      "/opt/conda/lib/python3.7/site-packages/pysiib.py:104: UserWarning: stimuli must have at least 20 seconds of speech\n",
      "  warnings.warn('stimuli must have at least 20 seconds of speech')\n",
      "/opt/conda/lib/python3.7/site-packages/pysiib.py:104: UserWarning: stimuli must have at least 20 seconds of speech\n",
      "  warnings.warn('stimuli must have at least 20 seconds of speech')\n",
      "/opt/conda/lib/python3.7/site-packages/pysiib.py:104: UserWarning: stimuli must have at least 20 seconds of speech\n",
      "  warnings.warn('stimuli must have at least 20 seconds of speech')\n",
      "/opt/conda/lib/python3.7/site-packages/pysiib.py:104: UserWarning: stimuli must have at least 20 seconds of speech\n",
      "  warnings.warn('stimuli must have at least 20 seconds of speech')\n",
      "/opt/conda/lib/python3.7/site-packages/pysiib.py:104: UserWarning: stimuli must have at least 20 seconds of speech\n",
      "  warnings.warn('stimuli must have at least 20 seconds of speech')\n",
      "/opt/conda/lib/python3.7/site-packages/pysiib.py:104: UserWarning: stimuli must have at least 20 seconds of speech\n",
      "  warnings.warn('stimuli must have at least 20 seconds of speech')\n",
      "/opt/conda/lib/python3.7/site-packages/pysiib.py:104: UserWarning: stimuli must have at least 20 seconds of speech\n",
      "  warnings.warn('stimuli must have at least 20 seconds of speech')\n",
      "/opt/conda/lib/python3.7/site-packages/pysiib.py:104: UserWarning: stimuli must have at least 20 seconds of speech\n",
      "  warnings.warn('stimuli must have at least 20 seconds of speech')\n",
      "[tflite_quality_mapper.cc : 33] RAW: Loading TF Lattice TFLite model at visqol/model/lattice_tcditugenmeetpackhref_ls2_nl60_lr12_bs2048_learn.005_ep2400_train1_7_raw.tflite\n",
      "INFO: Created TensorFlow Lite XNNPACK delegate for CPU.\n",
      "/opt/conda/lib/python3.7/site-packages/pysiib.py:104: UserWarning: stimuli must have at least 20 seconds of speech\n",
      "  warnings.warn('stimuli must have at least 20 seconds of speech')\n",
      "/opt/conda/lib/python3.7/site-packages/pysiib.py:104: UserWarning: stimuli must have at least 20 seconds of speech\n",
      "  warnings.warn('stimuli must have at least 20 seconds of speech')\n",
      "/opt/conda/lib/python3.7/site-packages/pysiib.py:104: UserWarning: stimuli must have at least 20 seconds of speech\n",
      "  warnings.warn('stimuli must have at least 20 seconds of speech')\n",
      "/opt/conda/lib/python3.7/site-packages/pysiib.py:104: UserWarning: stimuli must have at least 20 seconds of speech\n",
      "  warnings.warn('stimuli must have at least 20 seconds of speech')\n",
      "/opt/conda/lib/python3.7/site-packages/pysiib.py:104: UserWarning: stimuli must have at least 20 seconds of speech\n",
      "  warnings.warn('stimuli must have at least 20 seconds of speech')\n",
      "/opt/conda/lib/python3.7/site-packages/pysiib.py:104: UserWarning: stimuli must have at least 20 seconds of speech\n",
      "  warnings.warn('stimuli must have at least 20 seconds of speech')\n",
      "[tflite_quality_mapper.cc : 33] RAW: Loading TF Lattice TFLite model at visqol/model/lattice_tcditugenmeetpackhref_ls2_nl60_lr12_bs2048_learn.005_ep2400_train1_7_raw.tflite\n",
      "INFO: Created TensorFlow Lite XNNPACK delegate for CPU.\n"
     ]
    },
    {
     "name": "stdout",
     "output_type": "stream",
     "text": [
      "Discriminator training...\n"
     ]
    },
    {
     "name": "stderr",
     "output_type": "stream",
     "text": [
      "100%|██████████| 200/200 [01:02<00:00,  3.20it/s]\n",
      "100%|██████████| 406/406 [01:51<00:00,  3.63it/s]\n",
      "100%|██████████| 200/200 [01:02<00:00,  3.19it/s]\n"
     ]
    },
    {
     "name": "stdout",
     "output_type": "stream",
     "text": [
      "Epoch 32 Finished\n",
      "Generator training (with discriminator fixed)...\n"
     ]
    },
    {
     "name": "stderr",
     "output_type": "stream",
     "text": [
      "100%|██████████| 100/100 [00:19<00:00,  5.12it/s]\n"
     ]
    },
    {
     "name": "stdout",
     "output_type": "stream",
     "text": [
      "Evaluate G by validation data ...\n"
     ]
    },
    {
     "name": "stderr",
     "output_type": "stream",
     "text": [
      "/opt/conda/lib/python3.7/site-packages/pysiib.py:104: UserWarning: stimuli must have at least 20 seconds of speech\n",
      "  warnings.warn('stimuli must have at least 20 seconds of speech')\n",
      "/opt/conda/lib/python3.7/site-packages/pysiib.py:104: UserWarning: stimuli must have at least 20 seconds of speech\n",
      "  warnings.warn('stimuli must have at least 20 seconds of speech')\n",
      "/opt/conda/lib/python3.7/site-packages/pysiib.py:104: UserWarning: stimuli must have at least 20 seconds of speech\n",
      "  warnings.warn('stimuli must have at least 20 seconds of speech')\n",
      "/opt/conda/lib/python3.7/site-packages/pysiib.py:104: UserWarning: stimuli must have at least 20 seconds of speech\n",
      "  warnings.warn('stimuli must have at least 20 seconds of speech')\n",
      "/opt/conda/lib/python3.7/site-packages/pysiib.py:104: UserWarning: stimuli must have at least 20 seconds of speech\n",
      "  warnings.warn('stimuli must have at least 20 seconds of speech')\n",
      "/opt/conda/lib/python3.7/site-packages/pysiib.py:104: UserWarning: stimuli must have at least 20 seconds of speech\n",
      "  warnings.warn('stimuli must have at least 20 seconds of speech')\n",
      "/opt/conda/lib/python3.7/site-packages/pysiib.py:104: UserWarning: stimuli must have at least 20 seconds of speech\n",
      "  warnings.warn('stimuli must have at least 20 seconds of speech')\n",
      "/opt/conda/lib/python3.7/site-packages/pysiib.py:104: UserWarning: stimuli must have at least 20 seconds of speech\n",
      "  warnings.warn('stimuli must have at least 20 seconds of speech')\n",
      "[tflite_quality_mapper.cc : 33] RAW: Loading TF Lattice TFLite model at visqol/model/lattice_tcditugenmeetpackhref_ls2_nl60_lr12_bs2048_learn.005_ep2400_train1_7_raw.tflite\n",
      "INFO: Created TensorFlow Lite XNNPACK delegate for CPU.\n"
     ]
    },
    {
     "name": "stdout",
     "output_type": "stream",
     "text": [
      "Sample training data for discriminator training...\n"
     ]
    },
    {
     "name": "stderr",
     "output_type": "stream",
     "text": [
      "/opt/conda/lib/python3.7/site-packages/pysiib.py:104: UserWarning: stimuli must have at least 20 seconds of speech\n",
      "  warnings.warn('stimuli must have at least 20 seconds of speech')\n",
      "/opt/conda/lib/python3.7/site-packages/pysiib.py:104: UserWarning: stimuli must have at least 20 seconds of speech\n",
      "  warnings.warn('stimuli must have at least 20 seconds of speech')\n",
      "/opt/conda/lib/python3.7/site-packages/pysiib.py:104: UserWarning: stimuli must have at least 20 seconds of speech\n",
      "  warnings.warn('stimuli must have at least 20 seconds of speech')\n",
      "/opt/conda/lib/python3.7/site-packages/pysiib.py:104: UserWarning: stimuli must have at least 20 seconds of speech\n",
      "  warnings.warn('stimuli must have at least 20 seconds of speech')\n",
      "/opt/conda/lib/python3.7/site-packages/pysiib.py:104: UserWarning: stimuli must have at least 20 seconds of speech\n",
      "  warnings.warn('stimuli must have at least 20 seconds of speech')\n",
      "/opt/conda/lib/python3.7/site-packages/pysiib.py:104: UserWarning: stimuli must have at least 20 seconds of speech\n",
      "  warnings.warn('stimuli must have at least 20 seconds of speech')\n",
      "/opt/conda/lib/python3.7/site-packages/pysiib.py:104: UserWarning: stimuli must have at least 20 seconds of speech\n",
      "  warnings.warn('stimuli must have at least 20 seconds of speech')\n",
      "/opt/conda/lib/python3.7/site-packages/pysiib.py:104: UserWarning: stimuli must have at least 20 seconds of speech\n",
      "  warnings.warn('stimuli must have at least 20 seconds of speech')\n",
      "/opt/conda/lib/python3.7/site-packages/pysiib.py:104: UserWarning: stimuli must have at least 20 seconds of speech\n",
      "  warnings.warn('stimuli must have at least 20 seconds of speech')\n",
      "/opt/conda/lib/python3.7/site-packages/pysiib.py:104: UserWarning: stimuli must have at least 20 seconds of speech\n",
      "  warnings.warn('stimuli must have at least 20 seconds of speech')\n",
      "/opt/conda/lib/python3.7/site-packages/pysiib.py:104: UserWarning: stimuli must have at least 20 seconds of speech\n",
      "  warnings.warn('stimuli must have at least 20 seconds of speech')\n",
      "/opt/conda/lib/python3.7/site-packages/pysiib.py:104: UserWarning: stimuli must have at least 20 seconds of speech\n",
      "  warnings.warn('stimuli must have at least 20 seconds of speech')\n",
      "/opt/conda/lib/python3.7/site-packages/pysiib.py:104: UserWarning: stimuli must have at least 20 seconds of speech\n",
      "  warnings.warn('stimuli must have at least 20 seconds of speech')\n",
      "[tflite_quality_mapper.cc : 33] RAW: Loading TF Lattice TFLite model at visqol/model/lattice_tcditugenmeetpackhref_ls2_nl60_lr12_bs2048_learn.005_ep2400_train1_7_raw.tflite\n",
      "INFO: Created TensorFlow Lite XNNPACK delegate for CPU.\n",
      "/opt/conda/lib/python3.7/site-packages/pysiib.py:104: UserWarning: stimuli must have at least 20 seconds of speech\n",
      "  warnings.warn('stimuli must have at least 20 seconds of speech')\n",
      "/opt/conda/lib/python3.7/site-packages/pysiib.py:104: UserWarning: stimuli must have at least 20 seconds of speech\n",
      "  warnings.warn('stimuli must have at least 20 seconds of speech')\n",
      "/opt/conda/lib/python3.7/site-packages/pysiib.py:104: UserWarning: stimuli must have at least 20 seconds of speech\n",
      "  warnings.warn('stimuli must have at least 20 seconds of speech')\n",
      "/opt/conda/lib/python3.7/site-packages/pysiib.py:104: UserWarning: stimuli must have at least 20 seconds of speech\n",
      "  warnings.warn('stimuli must have at least 20 seconds of speech')\n",
      "/opt/conda/lib/python3.7/site-packages/pysiib.py:104: UserWarning: stimuli must have at least 20 seconds of speech\n",
      "  warnings.warn('stimuli must have at least 20 seconds of speech')\n",
      "/opt/conda/lib/python3.7/site-packages/pysiib.py:104: UserWarning: stimuli must have at least 20 seconds of speech\n",
      "  warnings.warn('stimuli must have at least 20 seconds of speech')\n",
      "/opt/conda/lib/python3.7/site-packages/pysiib.py:104: UserWarning: stimuli must have at least 20 seconds of speech\n",
      "  warnings.warn('stimuli must have at least 20 seconds of speech')\n",
      "[tflite_quality_mapper.cc : 33] RAW: Loading TF Lattice TFLite model at visqol/model/lattice_tcditugenmeetpackhref_ls2_nl60_lr12_bs2048_learn.005_ep2400_train1_7_raw.tflite\n",
      "INFO: Created TensorFlow Lite XNNPACK delegate for CPU.\n"
     ]
    },
    {
     "name": "stdout",
     "output_type": "stream",
     "text": [
      "Discriminator training...\n"
     ]
    },
    {
     "name": "stderr",
     "output_type": "stream",
     "text": [
      "100%|██████████| 200/200 [00:52<00:00,  3.81it/s]\n",
      "100%|██████████| 413/413 [01:40<00:00,  4.13it/s]\n",
      "100%|██████████| 200/200 [00:54<00:00,  3.69it/s]\n"
     ]
    },
    {
     "name": "stdout",
     "output_type": "stream",
     "text": [
      "Epoch 33 Finished\n",
      "Generator training (with discriminator fixed)...\n"
     ]
    },
    {
     "name": "stderr",
     "output_type": "stream",
     "text": [
      "100%|██████████| 100/100 [00:23<00:00,  4.18it/s]\n"
     ]
    },
    {
     "name": "stdout",
     "output_type": "stream",
     "text": [
      "Evaluate G by validation data ...\n"
     ]
    },
    {
     "name": "stderr",
     "output_type": "stream",
     "text": [
      "/opt/conda/lib/python3.7/site-packages/pysiib.py:104: UserWarning: stimuli must have at least 20 seconds of speech\n",
      "  warnings.warn('stimuli must have at least 20 seconds of speech')\n",
      "/opt/conda/lib/python3.7/site-packages/pysiib.py:104: UserWarning: stimuli must have at least 20 seconds of speech\n",
      "  warnings.warn('stimuli must have at least 20 seconds of speech')\n",
      "/opt/conda/lib/python3.7/site-packages/pysiib.py:104: UserWarning: stimuli must have at least 20 seconds of speech\n",
      "  warnings.warn('stimuli must have at least 20 seconds of speech')\n",
      "/opt/conda/lib/python3.7/site-packages/pysiib.py:104: UserWarning: stimuli must have at least 20 seconds of speech\n",
      "  warnings.warn('stimuli must have at least 20 seconds of speech')\n",
      "/opt/conda/lib/python3.7/site-packages/pysiib.py:104: UserWarning: stimuli must have at least 20 seconds of speech\n",
      "  warnings.warn('stimuli must have at least 20 seconds of speech')\n",
      "/opt/conda/lib/python3.7/site-packages/pysiib.py:104: UserWarning: stimuli must have at least 20 seconds of speech\n",
      "  warnings.warn('stimuli must have at least 20 seconds of speech')\n",
      "/opt/conda/lib/python3.7/site-packages/pysiib.py:104: UserWarning: stimuli must have at least 20 seconds of speech\n",
      "  warnings.warn('stimuli must have at least 20 seconds of speech')\n",
      "/opt/conda/lib/python3.7/site-packages/pysiib.py:104: UserWarning: stimuli must have at least 20 seconds of speech\n",
      "  warnings.warn('stimuli must have at least 20 seconds of speech')\n",
      "[tflite_quality_mapper.cc : 33] RAW: Loading TF Lattice TFLite model at visqol/model/lattice_tcditugenmeetpackhref_ls2_nl60_lr12_bs2048_learn.005_ep2400_train1_7_raw.tflite\n",
      "INFO: Created TensorFlow Lite XNNPACK delegate for CPU.\n"
     ]
    },
    {
     "name": "stdout",
     "output_type": "stream",
     "text": [
      "Sample training data for discriminator training...\n"
     ]
    },
    {
     "name": "stderr",
     "output_type": "stream",
     "text": [
      "/opt/conda/lib/python3.7/site-packages/pysiib.py:104: UserWarning: stimuli must have at least 20 seconds of speech\n",
      "  warnings.warn('stimuli must have at least 20 seconds of speech')\n",
      "/opt/conda/lib/python3.7/site-packages/pysiib.py:104: UserWarning: stimuli must have at least 20 seconds of speech\n",
      "  warnings.warn('stimuli must have at least 20 seconds of speech')\n",
      "/opt/conda/lib/python3.7/site-packages/pysiib.py:104: UserWarning: stimuli must have at least 20 seconds of speech\n",
      "  warnings.warn('stimuli must have at least 20 seconds of speech')\n",
      "/opt/conda/lib/python3.7/site-packages/pysiib.py:104: UserWarning: stimuli must have at least 20 seconds of speech\n",
      "  warnings.warn('stimuli must have at least 20 seconds of speech')\n",
      "/opt/conda/lib/python3.7/site-packages/pysiib.py:104: UserWarning: stimuli must have at least 20 seconds of speech\n",
      "  warnings.warn('stimuli must have at least 20 seconds of speech')\n",
      "/opt/conda/lib/python3.7/site-packages/pysiib.py:104: UserWarning: stimuli must have at least 20 seconds of speech\n",
      "  warnings.warn('stimuli must have at least 20 seconds of speech')\n",
      "/opt/conda/lib/python3.7/site-packages/pysiib.py:104: UserWarning: stimuli must have at least 20 seconds of speech\n",
      "  warnings.warn('stimuli must have at least 20 seconds of speech')\n",
      "/opt/conda/lib/python3.7/site-packages/pysiib.py:104: UserWarning: stimuli must have at least 20 seconds of speech\n",
      "  warnings.warn('stimuli must have at least 20 seconds of speech')\n",
      "/opt/conda/lib/python3.7/site-packages/pysiib.py:104: UserWarning: stimuli must have at least 20 seconds of speech\n",
      "  warnings.warn('stimuli must have at least 20 seconds of speech')\n",
      "/opt/conda/lib/python3.7/site-packages/pysiib.py:104: UserWarning: stimuli must have at least 20 seconds of speech\n",
      "  warnings.warn('stimuli must have at least 20 seconds of speech')\n",
      "/opt/conda/lib/python3.7/site-packages/pysiib.py:104: UserWarning: stimuli must have at least 20 seconds of speech\n",
      "  warnings.warn('stimuli must have at least 20 seconds of speech')\n",
      "/opt/conda/lib/python3.7/site-packages/pysiib.py:104: UserWarning: stimuli must have at least 20 seconds of speech\n",
      "  warnings.warn('stimuli must have at least 20 seconds of speech')\n",
      "[tflite_quality_mapper.cc : 33] RAW: Loading TF Lattice TFLite model at visqol/model/lattice_tcditugenmeetpackhref_ls2_nl60_lr12_bs2048_learn.005_ep2400_train1_7_raw.tflite\n",
      "INFO: Created TensorFlow Lite XNNPACK delegate for CPU.\n",
      "/opt/conda/lib/python3.7/site-packages/pysiib.py:104: UserWarning: stimuli must have at least 20 seconds of speech\n",
      "  warnings.warn('stimuli must have at least 20 seconds of speech')\n",
      "/opt/conda/lib/python3.7/site-packages/pysiib.py:104: UserWarning: stimuli must have at least 20 seconds of speech\n",
      "  warnings.warn('stimuli must have at least 20 seconds of speech')\n",
      "/opt/conda/lib/python3.7/site-packages/pysiib.py:104: UserWarning: stimuli must have at least 20 seconds of speech\n",
      "  warnings.warn('stimuli must have at least 20 seconds of speech')\n",
      "/opt/conda/lib/python3.7/site-packages/pysiib.py:104: UserWarning: stimuli must have at least 20 seconds of speech\n",
      "  warnings.warn('stimuli must have at least 20 seconds of speech')\n",
      "/opt/conda/lib/python3.7/site-packages/pysiib.py:104: UserWarning: stimuli must have at least 20 seconds of speech\n",
      "  warnings.warn('stimuli must have at least 20 seconds of speech')\n",
      "/opt/conda/lib/python3.7/site-packages/pysiib.py:104: UserWarning: stimuli must have at least 20 seconds of speech\n",
      "  warnings.warn('stimuli must have at least 20 seconds of speech')\n",
      "/opt/conda/lib/python3.7/site-packages/pysiib.py:104: UserWarning: stimuli must have at least 20 seconds of speech\n",
      "  warnings.warn('stimuli must have at least 20 seconds of speech')\n",
      "[tflite_quality_mapper.cc : 33] RAW: Loading TF Lattice TFLite model at visqol/model/lattice_tcditugenmeetpackhref_ls2_nl60_lr12_bs2048_learn.005_ep2400_train1_7_raw.tflite\n",
      "INFO: Created TensorFlow Lite XNNPACK delegate for CPU.\n"
     ]
    },
    {
     "name": "stdout",
     "output_type": "stream",
     "text": [
      "Discriminator training...\n"
     ]
    },
    {
     "name": "stderr",
     "output_type": "stream",
     "text": [
      "100%|██████████| 200/200 [01:01<00:00,  3.27it/s]\n",
      "100%|██████████| 420/420 [01:51<00:00,  3.76it/s]\n",
      "100%|██████████| 200/200 [00:59<00:00,  3.38it/s]\n"
     ]
    },
    {
     "name": "stdout",
     "output_type": "stream",
     "text": [
      "Epoch 34 Finished\n",
      "Generator training (with discriminator fixed)...\n"
     ]
    },
    {
     "name": "stderr",
     "output_type": "stream",
     "text": [
      "100%|██████████| 100/100 [00:19<00:00,  5.00it/s]\n"
     ]
    },
    {
     "name": "stdout",
     "output_type": "stream",
     "text": [
      "Evaluate G by validation data ...\n"
     ]
    },
    {
     "name": "stderr",
     "output_type": "stream",
     "text": [
      "/opt/conda/lib/python3.7/site-packages/pysiib.py:104: UserWarning: stimuli must have at least 20 seconds of speech\n",
      "  warnings.warn('stimuli must have at least 20 seconds of speech')\n",
      "/opt/conda/lib/python3.7/site-packages/pysiib.py:104: UserWarning: stimuli must have at least 20 seconds of speech\n",
      "  warnings.warn('stimuli must have at least 20 seconds of speech')\n",
      "/opt/conda/lib/python3.7/site-packages/pysiib.py:104: UserWarning: stimuli must have at least 20 seconds of speech\n",
      "  warnings.warn('stimuli must have at least 20 seconds of speech')\n",
      "/opt/conda/lib/python3.7/site-packages/pysiib.py:104: UserWarning: stimuli must have at least 20 seconds of speech\n",
      "  warnings.warn('stimuli must have at least 20 seconds of speech')\n",
      "/opt/conda/lib/python3.7/site-packages/pysiib.py:104: UserWarning: stimuli must have at least 20 seconds of speech\n",
      "  warnings.warn('stimuli must have at least 20 seconds of speech')\n",
      "/opt/conda/lib/python3.7/site-packages/pysiib.py:104: UserWarning: stimuli must have at least 20 seconds of speech\n",
      "  warnings.warn('stimuli must have at least 20 seconds of speech')\n",
      "/opt/conda/lib/python3.7/site-packages/pysiib.py:104: UserWarning: stimuli must have at least 20 seconds of speech\n",
      "  warnings.warn('stimuli must have at least 20 seconds of speech')\n",
      "/opt/conda/lib/python3.7/site-packages/pysiib.py:104: UserWarning: stimuli must have at least 20 seconds of speech\n",
      "  warnings.warn('stimuli must have at least 20 seconds of speech')\n",
      "[tflite_quality_mapper.cc : 33] RAW: Loading TF Lattice TFLite model at visqol/model/lattice_tcditugenmeetpackhref_ls2_nl60_lr12_bs2048_learn.005_ep2400_train1_7_raw.tflite\n",
      "INFO: Created TensorFlow Lite XNNPACK delegate for CPU.\n"
     ]
    },
    {
     "name": "stdout",
     "output_type": "stream",
     "text": [
      "Sample training data for discriminator training...\n"
     ]
    },
    {
     "name": "stderr",
     "output_type": "stream",
     "text": [
      "/opt/conda/lib/python3.7/site-packages/pysiib.py:104: UserWarning: stimuli must have at least 20 seconds of speech\n",
      "  warnings.warn('stimuli must have at least 20 seconds of speech')\n",
      "/opt/conda/lib/python3.7/site-packages/pysiib.py:104: UserWarning: stimuli must have at least 20 seconds of speech\n",
      "  warnings.warn('stimuli must have at least 20 seconds of speech')\n",
      "/opt/conda/lib/python3.7/site-packages/pysiib.py:104: UserWarning: stimuli must have at least 20 seconds of speech\n",
      "  warnings.warn('stimuli must have at least 20 seconds of speech')\n",
      "/opt/conda/lib/python3.7/site-packages/pysiib.py:104: UserWarning: stimuli must have at least 20 seconds of speech\n",
      "  warnings.warn('stimuli must have at least 20 seconds of speech')\n",
      "/opt/conda/lib/python3.7/site-packages/pysiib.py:104: UserWarning: stimuli must have at least 20 seconds of speech\n",
      "  warnings.warn('stimuli must have at least 20 seconds of speech')\n",
      "/opt/conda/lib/python3.7/site-packages/pysiib.py:104: UserWarning: stimuli must have at least 20 seconds of speech\n",
      "  warnings.warn('stimuli must have at least 20 seconds of speech')\n",
      "/opt/conda/lib/python3.7/site-packages/pysiib.py:104: UserWarning: stimuli must have at least 20 seconds of speech\n",
      "  warnings.warn('stimuli must have at least 20 seconds of speech')\n",
      "/opt/conda/lib/python3.7/site-packages/pysiib.py:104: UserWarning: stimuli must have at least 20 seconds of speech\n",
      "  warnings.warn('stimuli must have at least 20 seconds of speech')\n",
      "/opt/conda/lib/python3.7/site-packages/pysiib.py:104: UserWarning: stimuli must have at least 20 seconds of speech\n",
      "  warnings.warn('stimuli must have at least 20 seconds of speech')\n",
      "/opt/conda/lib/python3.7/site-packages/pysiib.py:104: UserWarning: stimuli must have at least 20 seconds of speech\n",
      "  warnings.warn('stimuli must have at least 20 seconds of speech')\n",
      "/opt/conda/lib/python3.7/site-packages/pysiib.py:104: UserWarning: stimuli must have at least 20 seconds of speech\n",
      "  warnings.warn('stimuli must have at least 20 seconds of speech')\n",
      "[tflite_quality_mapper.cc : 33] RAW: Loading TF Lattice TFLite model at visqol/model/lattice_tcditugenmeetpackhref_ls2_nl60_lr12_bs2048_learn.005_ep2400_train1_7_raw.tflite\n",
      "INFO: Created TensorFlow Lite XNNPACK delegate for CPU.\n",
      "/opt/conda/lib/python3.7/site-packages/pysiib.py:104: UserWarning: stimuli must have at least 20 seconds of speech\n",
      "  warnings.warn('stimuli must have at least 20 seconds of speech')\n",
      "/opt/conda/lib/python3.7/site-packages/pysiib.py:104: UserWarning: stimuli must have at least 20 seconds of speech\n",
      "  warnings.warn('stimuli must have at least 20 seconds of speech')\n",
      "/opt/conda/lib/python3.7/site-packages/pysiib.py:104: UserWarning: stimuli must have at least 20 seconds of speech\n",
      "  warnings.warn('stimuli must have at least 20 seconds of speech')\n",
      "/opt/conda/lib/python3.7/site-packages/pysiib.py:104: UserWarning: stimuli must have at least 20 seconds of speech\n",
      "  warnings.warn('stimuli must have at least 20 seconds of speech')\n",
      "/opt/conda/lib/python3.7/site-packages/pysiib.py:104: UserWarning: stimuli must have at least 20 seconds of speech\n",
      "  warnings.warn('stimuli must have at least 20 seconds of speech')\n",
      "/opt/conda/lib/python3.7/site-packages/pysiib.py:104: UserWarning: stimuli must have at least 20 seconds of speech\n",
      "  warnings.warn('stimuli must have at least 20 seconds of speech')\n",
      "/opt/conda/lib/python3.7/site-packages/pysiib.py:104: UserWarning: stimuli must have at least 20 seconds of speech\n",
      "  warnings.warn('stimuli must have at least 20 seconds of speech')\n",
      "[tflite_quality_mapper.cc : 33] RAW: Loading TF Lattice TFLite model at visqol/model/lattice_tcditugenmeetpackhref_ls2_nl60_lr12_bs2048_learn.005_ep2400_train1_7_raw.tflite\n",
      "INFO: Created TensorFlow Lite XNNPACK delegate for CPU.\n"
     ]
    },
    {
     "name": "stdout",
     "output_type": "stream",
     "text": [
      "Discriminator training...\n"
     ]
    },
    {
     "name": "stderr",
     "output_type": "stream",
     "text": [
      "100%|██████████| 200/200 [00:44<00:00,  4.50it/s]\n",
      "100%|██████████| 426/426 [01:45<00:00,  4.04it/s]\n",
      "100%|██████████| 200/200 [00:50<00:00,  3.98it/s]\n"
     ]
    },
    {
     "name": "stdout",
     "output_type": "stream",
     "text": [
      "Epoch 35 Finished\n",
      "Generator training (with discriminator fixed)...\n"
     ]
    },
    {
     "name": "stderr",
     "output_type": "stream",
     "text": [
      "100%|██████████| 100/100 [00:20<00:00,  4.96it/s]\n"
     ]
    },
    {
     "name": "stdout",
     "output_type": "stream",
     "text": [
      "Evaluate G by validation data ...\n"
     ]
    },
    {
     "name": "stderr",
     "output_type": "stream",
     "text": [
      "/opt/conda/lib/python3.7/site-packages/pysiib.py:104: UserWarning: stimuli must have at least 20 seconds of speech\n",
      "  warnings.warn('stimuli must have at least 20 seconds of speech')\n",
      "/opt/conda/lib/python3.7/site-packages/pysiib.py:104: UserWarning: stimuli must have at least 20 seconds of speech\n",
      "  warnings.warn('stimuli must have at least 20 seconds of speech')\n",
      "/opt/conda/lib/python3.7/site-packages/pysiib.py:104: UserWarning: stimuli must have at least 20 seconds of speech\n",
      "  warnings.warn('stimuli must have at least 20 seconds of speech')\n",
      "/opt/conda/lib/python3.7/site-packages/pysiib.py:104: UserWarning: stimuli must have at least 20 seconds of speech\n",
      "  warnings.warn('stimuli must have at least 20 seconds of speech')\n",
      "/opt/conda/lib/python3.7/site-packages/pysiib.py:104: UserWarning: stimuli must have at least 20 seconds of speech\n",
      "  warnings.warn('stimuli must have at least 20 seconds of speech')\n",
      "/opt/conda/lib/python3.7/site-packages/pysiib.py:104: UserWarning: stimuli must have at least 20 seconds of speech\n",
      "  warnings.warn('stimuli must have at least 20 seconds of speech')\n",
      "/opt/conda/lib/python3.7/site-packages/pysiib.py:104: UserWarning: stimuli must have at least 20 seconds of speech\n",
      "  warnings.warn('stimuli must have at least 20 seconds of speech')\n",
      "/opt/conda/lib/python3.7/site-packages/pysiib.py:104: UserWarning: stimuli must have at least 20 seconds of speech\n",
      "  warnings.warn('stimuli must have at least 20 seconds of speech')\n",
      "[tflite_quality_mapper.cc : 33] RAW: Loading TF Lattice TFLite model at visqol/model/lattice_tcditugenmeetpackhref_ls2_nl60_lr12_bs2048_learn.005_ep2400_train1_7_raw.tflite\n",
      "INFO: Created TensorFlow Lite XNNPACK delegate for CPU.\n"
     ]
    },
    {
     "name": "stdout",
     "output_type": "stream",
     "text": [
      "Sample training data for discriminator training...\n"
     ]
    },
    {
     "name": "stderr",
     "output_type": "stream",
     "text": [
      "/opt/conda/lib/python3.7/site-packages/pysiib.py:104: UserWarning: stimuli must have at least 20 seconds of speech\n",
      "  warnings.warn('stimuli must have at least 20 seconds of speech')\n",
      "/opt/conda/lib/python3.7/site-packages/pysiib.py:104: UserWarning: stimuli must have at least 20 seconds of speech\n",
      "  warnings.warn('stimuli must have at least 20 seconds of speech')\n",
      "/opt/conda/lib/python3.7/site-packages/pysiib.py:104: UserWarning: stimuli must have at least 20 seconds of speech\n",
      "  warnings.warn('stimuli must have at least 20 seconds of speech')\n",
      "/opt/conda/lib/python3.7/site-packages/pysiib.py:104: UserWarning: stimuli must have at least 20 seconds of speech\n",
      "  warnings.warn('stimuli must have at least 20 seconds of speech')\n",
      "/opt/conda/lib/python3.7/site-packages/pysiib.py:104: UserWarning: stimuli must have at least 20 seconds of speech\n",
      "  warnings.warn('stimuli must have at least 20 seconds of speech')\n",
      "/opt/conda/lib/python3.7/site-packages/pysiib.py:104: UserWarning: stimuli must have at least 20 seconds of speech\n",
      "  warnings.warn('stimuli must have at least 20 seconds of speech')\n",
      "/opt/conda/lib/python3.7/site-packages/pysiib.py:104: UserWarning: stimuli must have at least 20 seconds of speech\n",
      "  warnings.warn('stimuli must have at least 20 seconds of speech')\n",
      "/opt/conda/lib/python3.7/site-packages/pysiib.py:104: UserWarning: stimuli must have at least 20 seconds of speech\n",
      "  warnings.warn('stimuli must have at least 20 seconds of speech')\n",
      "/opt/conda/lib/python3.7/site-packages/pysiib.py:104: UserWarning: stimuli must have at least 20 seconds of speech\n",
      "  warnings.warn('stimuli must have at least 20 seconds of speech')\n",
      "/opt/conda/lib/python3.7/site-packages/pysiib.py:104: UserWarning: stimuli must have at least 20 seconds of speech\n",
      "  warnings.warn('stimuli must have at least 20 seconds of speech')\n",
      "/opt/conda/lib/python3.7/site-packages/pysiib.py:104: UserWarning: stimuli must have at least 20 seconds of speech\n",
      "  warnings.warn('stimuli must have at least 20 seconds of speech')\n",
      "[tflite_quality_mapper.cc : 33] RAW: Loading TF Lattice TFLite model at visqol/model/lattice_tcditugenmeetpackhref_ls2_nl60_lr12_bs2048_learn.005_ep2400_train1_7_raw.tflite\n",
      "INFO: Created TensorFlow Lite XNNPACK delegate for CPU.\n",
      "/opt/conda/lib/python3.7/site-packages/pysiib.py:104: UserWarning: stimuli must have at least 20 seconds of speech\n",
      "  warnings.warn('stimuli must have at least 20 seconds of speech')\n",
      "/opt/conda/lib/python3.7/site-packages/pysiib.py:104: UserWarning: stimuli must have at least 20 seconds of speech\n",
      "  warnings.warn('stimuli must have at least 20 seconds of speech')\n",
      "/opt/conda/lib/python3.7/site-packages/pysiib.py:104: UserWarning: stimuli must have at least 20 seconds of speech\n",
      "  warnings.warn('stimuli must have at least 20 seconds of speech')\n",
      "/opt/conda/lib/python3.7/site-packages/pysiib.py:104: UserWarning: stimuli must have at least 20 seconds of speech\n",
      "  warnings.warn('stimuli must have at least 20 seconds of speech')\n",
      "/opt/conda/lib/python3.7/site-packages/pysiib.py:104: UserWarning: stimuli must have at least 20 seconds of speech\n",
      "  warnings.warn('stimuli must have at least 20 seconds of speech')\n",
      "/opt/conda/lib/python3.7/site-packages/pysiib.py:104: UserWarning: stimuli must have at least 20 seconds of speech\n",
      "  warnings.warn('stimuli must have at least 20 seconds of speech')\n",
      "[tflite_quality_mapper.cc : 33] RAW: Loading TF Lattice TFLite model at visqol/model/lattice_tcditugenmeetpackhref_ls2_nl60_lr12_bs2048_learn.005_ep2400_train1_7_raw.tflite\n",
      "INFO: Created TensorFlow Lite XNNPACK delegate for CPU.\n"
     ]
    },
    {
     "name": "stdout",
     "output_type": "stream",
     "text": [
      "Discriminator training...\n"
     ]
    },
    {
     "name": "stderr",
     "output_type": "stream",
     "text": [
      "100%|██████████| 200/200 [00:50<00:00,  3.94it/s]\n",
      "100%|██████████| 433/433 [01:50<00:00,  3.92it/s]\n",
      "100%|██████████| 200/200 [00:44<00:00,  4.46it/s]\n"
     ]
    },
    {
     "name": "stdout",
     "output_type": "stream",
     "text": [
      "Epoch 36 Finished\n",
      "Generator training (with discriminator fixed)...\n"
     ]
    },
    {
     "name": "stderr",
     "output_type": "stream",
     "text": [
      "100%|██████████| 100/100 [00:18<00:00,  5.33it/s]\n"
     ]
    },
    {
     "name": "stdout",
     "output_type": "stream",
     "text": [
      "Evaluate G by validation data ...\n"
     ]
    },
    {
     "name": "stderr",
     "output_type": "stream",
     "text": [
      "/opt/conda/lib/python3.7/site-packages/pysiib.py:104: UserWarning: stimuli must have at least 20 seconds of speech\n",
      "  warnings.warn('stimuli must have at least 20 seconds of speech')\n",
      "/opt/conda/lib/python3.7/site-packages/pysiib.py:104: UserWarning: stimuli must have at least 20 seconds of speech\n",
      "  warnings.warn('stimuli must have at least 20 seconds of speech')\n",
      "/opt/conda/lib/python3.7/site-packages/pysiib.py:104: UserWarning: stimuli must have at least 20 seconds of speech\n",
      "  warnings.warn('stimuli must have at least 20 seconds of speech')\n",
      "/opt/conda/lib/python3.7/site-packages/pysiib.py:104: UserWarning: stimuli must have at least 20 seconds of speech\n",
      "  warnings.warn('stimuli must have at least 20 seconds of speech')\n",
      "/opt/conda/lib/python3.7/site-packages/pysiib.py:104: UserWarning: stimuli must have at least 20 seconds of speech\n",
      "  warnings.warn('stimuli must have at least 20 seconds of speech')\n",
      "/opt/conda/lib/python3.7/site-packages/pysiib.py:104: UserWarning: stimuli must have at least 20 seconds of speech\n",
      "  warnings.warn('stimuli must have at least 20 seconds of speech')\n",
      "/opt/conda/lib/python3.7/site-packages/pysiib.py:104: UserWarning: stimuli must have at least 20 seconds of speech\n",
      "  warnings.warn('stimuli must have at least 20 seconds of speech')\n",
      "/opt/conda/lib/python3.7/site-packages/pysiib.py:104: UserWarning: stimuli must have at least 20 seconds of speech\n",
      "  warnings.warn('stimuli must have at least 20 seconds of speech')\n",
      "[tflite_quality_mapper.cc : 33] RAW: Loading TF Lattice TFLite model at visqol/model/lattice_tcditugenmeetpackhref_ls2_nl60_lr12_bs2048_learn.005_ep2400_train1_7_raw.tflite\n",
      "INFO: Created TensorFlow Lite XNNPACK delegate for CPU.\n"
     ]
    },
    {
     "name": "stdout",
     "output_type": "stream",
     "text": [
      "Sample training data for discriminator training...\n"
     ]
    },
    {
     "name": "stderr",
     "output_type": "stream",
     "text": [
      "/opt/conda/lib/python3.7/site-packages/pysiib.py:104: UserWarning: stimuli must have at least 20 seconds of speech\n",
      "  warnings.warn('stimuli must have at least 20 seconds of speech')\n",
      "/opt/conda/lib/python3.7/site-packages/pysiib.py:104: UserWarning: stimuli must have at least 20 seconds of speech\n",
      "  warnings.warn('stimuli must have at least 20 seconds of speech')\n",
      "/opt/conda/lib/python3.7/site-packages/pysiib.py:104: UserWarning: stimuli must have at least 20 seconds of speech\n",
      "  warnings.warn('stimuli must have at least 20 seconds of speech')\n",
      "/opt/conda/lib/python3.7/site-packages/pysiib.py:104: UserWarning: stimuli must have at least 20 seconds of speech\n",
      "  warnings.warn('stimuli must have at least 20 seconds of speech')\n",
      "/opt/conda/lib/python3.7/site-packages/pysiib.py:104: UserWarning: stimuli must have at least 20 seconds of speech\n",
      "  warnings.warn('stimuli must have at least 20 seconds of speech')\n",
      "/opt/conda/lib/python3.7/site-packages/pysiib.py:104: UserWarning: stimuli must have at least 20 seconds of speech\n",
      "  warnings.warn('stimuli must have at least 20 seconds of speech')\n",
      "/opt/conda/lib/python3.7/site-packages/pysiib.py:104: UserWarning: stimuli must have at least 20 seconds of speech\n",
      "  warnings.warn('stimuli must have at least 20 seconds of speech')\n",
      "/opt/conda/lib/python3.7/site-packages/pysiib.py:104: UserWarning: stimuli must have at least 20 seconds of speech\n",
      "  warnings.warn('stimuli must have at least 20 seconds of speech')\n",
      "/opt/conda/lib/python3.7/site-packages/pysiib.py:104: UserWarning: stimuli must have at least 20 seconds of speech\n",
      "  warnings.warn('stimuli must have at least 20 seconds of speech')\n",
      "[tflite_quality_mapper.cc : 33] RAW: Loading TF Lattice TFLite model at visqol/model/lattice_tcditugenmeetpackhref_ls2_nl60_lr12_bs2048_learn.005_ep2400_train1_7_raw.tflite\n",
      "INFO: Created TensorFlow Lite XNNPACK delegate for CPU.\n",
      "/opt/conda/lib/python3.7/site-packages/pysiib.py:104: UserWarning: stimuli must have at least 20 seconds of speech\n",
      "  warnings.warn('stimuli must have at least 20 seconds of speech')\n",
      "/opt/conda/lib/python3.7/site-packages/pysiib.py:104: UserWarning: stimuli must have at least 20 seconds of speech\n",
      "  warnings.warn('stimuli must have at least 20 seconds of speech')\n",
      "/opt/conda/lib/python3.7/site-packages/pysiib.py:104: UserWarning: stimuli must have at least 20 seconds of speech\n",
      "  warnings.warn('stimuli must have at least 20 seconds of speech')\n",
      "/opt/conda/lib/python3.7/site-packages/pysiib.py:104: UserWarning: stimuli must have at least 20 seconds of speech\n",
      "  warnings.warn('stimuli must have at least 20 seconds of speech')\n",
      "/opt/conda/lib/python3.7/site-packages/pysiib.py:104: UserWarning: stimuli must have at least 20 seconds of speech\n",
      "  warnings.warn('stimuli must have at least 20 seconds of speech')\n",
      "/opt/conda/lib/python3.7/site-packages/pysiib.py:104: UserWarning: stimuli must have at least 20 seconds of speech\n",
      "  warnings.warn('stimuli must have at least 20 seconds of speech')\n",
      "/opt/conda/lib/python3.7/site-packages/pysiib.py:104: UserWarning: stimuli must have at least 20 seconds of speech\n",
      "  warnings.warn('stimuli must have at least 20 seconds of speech')\n",
      "[tflite_quality_mapper.cc : 33] RAW: Loading TF Lattice TFLite model at visqol/model/lattice_tcditugenmeetpackhref_ls2_nl60_lr12_bs2048_learn.005_ep2400_train1_7_raw.tflite\n",
      "INFO: Created TensorFlow Lite XNNPACK delegate for CPU.\n"
     ]
    },
    {
     "name": "stdout",
     "output_type": "stream",
     "text": [
      "Discriminator training...\n"
     ]
    },
    {
     "name": "stderr",
     "output_type": "stream",
     "text": [
      "100%|██████████| 200/200 [00:44<00:00,  4.53it/s]\n",
      "100%|██████████| 440/440 [01:57<00:00,  3.76it/s]\n",
      "100%|██████████| 200/200 [00:48<00:00,  4.13it/s]\n"
     ]
    },
    {
     "name": "stdout",
     "output_type": "stream",
     "text": [
      "Epoch 37 Finished\n",
      "Generator training (with discriminator fixed)...\n"
     ]
    },
    {
     "name": "stderr",
     "output_type": "stream",
     "text": [
      "100%|██████████| 100/100 [00:24<00:00,  4.14it/s]\n"
     ]
    },
    {
     "name": "stdout",
     "output_type": "stream",
     "text": [
      "Evaluate G by validation data ...\n"
     ]
    },
    {
     "name": "stderr",
     "output_type": "stream",
     "text": [
      "/opt/conda/lib/python3.7/site-packages/pysiib.py:104: UserWarning: stimuli must have at least 20 seconds of speech\n",
      "  warnings.warn('stimuli must have at least 20 seconds of speech')\n",
      "/opt/conda/lib/python3.7/site-packages/pysiib.py:104: UserWarning: stimuli must have at least 20 seconds of speech\n",
      "  warnings.warn('stimuli must have at least 20 seconds of speech')\n",
      "/opt/conda/lib/python3.7/site-packages/pysiib.py:104: UserWarning: stimuli must have at least 20 seconds of speech\n",
      "  warnings.warn('stimuli must have at least 20 seconds of speech')\n",
      "/opt/conda/lib/python3.7/site-packages/pysiib.py:104: UserWarning: stimuli must have at least 20 seconds of speech\n",
      "  warnings.warn('stimuli must have at least 20 seconds of speech')\n",
      "/opt/conda/lib/python3.7/site-packages/pysiib.py:104: UserWarning: stimuli must have at least 20 seconds of speech\n",
      "  warnings.warn('stimuli must have at least 20 seconds of speech')\n",
      "/opt/conda/lib/python3.7/site-packages/pysiib.py:104: UserWarning: stimuli must have at least 20 seconds of speech\n",
      "  warnings.warn('stimuli must have at least 20 seconds of speech')\n",
      "/opt/conda/lib/python3.7/site-packages/pysiib.py:104: UserWarning: stimuli must have at least 20 seconds of speech\n",
      "  warnings.warn('stimuli must have at least 20 seconds of speech')\n",
      "/opt/conda/lib/python3.7/site-packages/pysiib.py:104: UserWarning: stimuli must have at least 20 seconds of speech\n",
      "  warnings.warn('stimuli must have at least 20 seconds of speech')\n",
      "[tflite_quality_mapper.cc : 33] RAW: Loading TF Lattice TFLite model at visqol/model/lattice_tcditugenmeetpackhref_ls2_nl60_lr12_bs2048_learn.005_ep2400_train1_7_raw.tflite\n",
      "INFO: Created TensorFlow Lite XNNPACK delegate for CPU.\n"
     ]
    },
    {
     "name": "stdout",
     "output_type": "stream",
     "text": [
      "Sample training data for discriminator training...\n"
     ]
    },
    {
     "name": "stderr",
     "output_type": "stream",
     "text": [
      "/opt/conda/lib/python3.7/site-packages/pysiib.py:104: UserWarning: stimuli must have at least 20 seconds of speech\n",
      "  warnings.warn('stimuli must have at least 20 seconds of speech')\n",
      "/opt/conda/lib/python3.7/site-packages/pysiib.py:104: UserWarning: stimuli must have at least 20 seconds of speech\n",
      "  warnings.warn('stimuli must have at least 20 seconds of speech')\n",
      "/opt/conda/lib/python3.7/site-packages/pysiib.py:104: UserWarning: stimuli must have at least 20 seconds of speech\n",
      "  warnings.warn('stimuli must have at least 20 seconds of speech')\n",
      "/opt/conda/lib/python3.7/site-packages/pysiib.py:104: UserWarning: stimuli must have at least 20 seconds of speech\n",
      "  warnings.warn('stimuli must have at least 20 seconds of speech')\n",
      "/opt/conda/lib/python3.7/site-packages/pysiib.py:104: UserWarning: stimuli must have at least 20 seconds of speech\n",
      "  warnings.warn('stimuli must have at least 20 seconds of speech')\n",
      "/opt/conda/lib/python3.7/site-packages/pysiib.py:104: UserWarning: stimuli must have at least 20 seconds of speech\n",
      "  warnings.warn('stimuli must have at least 20 seconds of speech')\n",
      "/opt/conda/lib/python3.7/site-packages/pysiib.py:104: UserWarning: stimuli must have at least 20 seconds of speech\n",
      "  warnings.warn('stimuli must have at least 20 seconds of speech')\n",
      "/opt/conda/lib/python3.7/site-packages/pysiib.py:104: UserWarning: stimuli must have at least 20 seconds of speech\n",
      "  warnings.warn('stimuli must have at least 20 seconds of speech')\n",
      "/opt/conda/lib/python3.7/site-packages/pysiib.py:104: UserWarning: stimuli must have at least 20 seconds of speech\n",
      "  warnings.warn('stimuli must have at least 20 seconds of speech')\n",
      "/opt/conda/lib/python3.7/site-packages/pysiib.py:104: UserWarning: stimuli must have at least 20 seconds of speech\n",
      "  warnings.warn('stimuli must have at least 20 seconds of speech')\n",
      "/opt/conda/lib/python3.7/site-packages/pysiib.py:104: UserWarning: stimuli must have at least 20 seconds of speech\n",
      "  warnings.warn('stimuli must have at least 20 seconds of speech')\n",
      "/opt/conda/lib/python3.7/site-packages/pysiib.py:104: UserWarning: stimuli must have at least 20 seconds of speech\n",
      "  warnings.warn('stimuli must have at least 20 seconds of speech')\n",
      "/opt/conda/lib/python3.7/site-packages/pysiib.py:104: UserWarning: stimuli must have at least 20 seconds of speech\n",
      "  warnings.warn('stimuli must have at least 20 seconds of speech')\n",
      "/opt/conda/lib/python3.7/site-packages/pysiib.py:104: UserWarning: stimuli must have at least 20 seconds of speech\n",
      "  warnings.warn('stimuli must have at least 20 seconds of speech')\n",
      "/opt/conda/lib/python3.7/site-packages/pysiib.py:104: UserWarning: stimuli must have at least 20 seconds of speech\n",
      "  warnings.warn('stimuli must have at least 20 seconds of speech')\n",
      "/opt/conda/lib/python3.7/site-packages/pysiib.py:104: UserWarning: stimuli must have at least 20 seconds of speech\n",
      "  warnings.warn('stimuli must have at least 20 seconds of speech')\n",
      "/opt/conda/lib/python3.7/site-packages/pysiib.py:104: UserWarning: stimuli must have at least 20 seconds of speech\n",
      "  warnings.warn('stimuli must have at least 20 seconds of speech')\n",
      "[tflite_quality_mapper.cc : 33] RAW: Loading TF Lattice TFLite model at visqol/model/lattice_tcditugenmeetpackhref_ls2_nl60_lr12_bs2048_learn.005_ep2400_train1_7_raw.tflite\n",
      "INFO: Created TensorFlow Lite XNNPACK delegate for CPU.\n",
      "/opt/conda/lib/python3.7/site-packages/pysiib.py:104: UserWarning: stimuli must have at least 20 seconds of speech\n",
      "  warnings.warn('stimuli must have at least 20 seconds of speech')\n",
      "/opt/conda/lib/python3.7/site-packages/pysiib.py:104: UserWarning: stimuli must have at least 20 seconds of speech\n",
      "  warnings.warn('stimuli must have at least 20 seconds of speech')\n",
      "/opt/conda/lib/python3.7/site-packages/pysiib.py:104: UserWarning: stimuli must have at least 20 seconds of speech\n",
      "  warnings.warn('stimuli must have at least 20 seconds of speech')\n",
      "/opt/conda/lib/python3.7/site-packages/pysiib.py:104: UserWarning: stimuli must have at least 20 seconds of speech\n",
      "  warnings.warn('stimuli must have at least 20 seconds of speech')\n",
      "/opt/conda/lib/python3.7/site-packages/pysiib.py:104: UserWarning: stimuli must have at least 20 seconds of speech\n",
      "  warnings.warn('stimuli must have at least 20 seconds of speech')\n",
      "[tflite_quality_mapper.cc : 33] RAW: Loading TF Lattice TFLite model at visqol/model/lattice_tcditugenmeetpackhref_ls2_nl60_lr12_bs2048_learn.005_ep2400_train1_7_raw.tflite\n",
      "INFO: Created TensorFlow Lite XNNPACK delegate for CPU.\n"
     ]
    },
    {
     "name": "stdout",
     "output_type": "stream",
     "text": [
      "Discriminator training...\n"
     ]
    },
    {
     "name": "stderr",
     "output_type": "stream",
     "text": [
      "100%|██████████| 200/200 [01:03<00:00,  3.14it/s]\n",
      "100%|██████████| 446/446 [02:12<00:00,  3.36it/s]\n",
      "100%|██████████| 200/200 [01:03<00:00,  3.14it/s]\n"
     ]
    },
    {
     "name": "stdout",
     "output_type": "stream",
     "text": [
      "Epoch 38 Finished\n",
      "Generator training (with discriminator fixed)...\n"
     ]
    },
    {
     "name": "stderr",
     "output_type": "stream",
     "text": [
      "100%|██████████| 100/100 [00:25<00:00,  3.88it/s]\n"
     ]
    },
    {
     "name": "stdout",
     "output_type": "stream",
     "text": [
      "Evaluate G by validation data ...\n"
     ]
    },
    {
     "name": "stderr",
     "output_type": "stream",
     "text": [
      "/opt/conda/lib/python3.7/site-packages/pysiib.py:104: UserWarning: stimuli must have at least 20 seconds of speech\n",
      "  warnings.warn('stimuli must have at least 20 seconds of speech')\n",
      "/opt/conda/lib/python3.7/site-packages/pysiib.py:104: UserWarning: stimuli must have at least 20 seconds of speech\n",
      "  warnings.warn('stimuli must have at least 20 seconds of speech')\n",
      "/opt/conda/lib/python3.7/site-packages/pysiib.py:104: UserWarning: stimuli must have at least 20 seconds of speech\n",
      "  warnings.warn('stimuli must have at least 20 seconds of speech')\n",
      "/opt/conda/lib/python3.7/site-packages/pysiib.py:104: UserWarning: stimuli must have at least 20 seconds of speech\n",
      "  warnings.warn('stimuli must have at least 20 seconds of speech')\n",
      "/opt/conda/lib/python3.7/site-packages/pysiib.py:104: UserWarning: stimuli must have at least 20 seconds of speech\n",
      "  warnings.warn('stimuli must have at least 20 seconds of speech')\n",
      "/opt/conda/lib/python3.7/site-packages/pysiib.py:104: UserWarning: stimuli must have at least 20 seconds of speech\n",
      "  warnings.warn('stimuli must have at least 20 seconds of speech')\n",
      "/opt/conda/lib/python3.7/site-packages/pysiib.py:104: UserWarning: stimuli must have at least 20 seconds of speech\n",
      "  warnings.warn('stimuli must have at least 20 seconds of speech')\n",
      "/opt/conda/lib/python3.7/site-packages/pysiib.py:104: UserWarning: stimuli must have at least 20 seconds of speech\n",
      "  warnings.warn('stimuli must have at least 20 seconds of speech')\n",
      "[tflite_quality_mapper.cc : 33] RAW: Loading TF Lattice TFLite model at visqol/model/lattice_tcditugenmeetpackhref_ls2_nl60_lr12_bs2048_learn.005_ep2400_train1_7_raw.tflite\n",
      "INFO: Created TensorFlow Lite XNNPACK delegate for CPU.\n"
     ]
    },
    {
     "name": "stdout",
     "output_type": "stream",
     "text": [
      "Sample training data for discriminator training...\n"
     ]
    },
    {
     "name": "stderr",
     "output_type": "stream",
     "text": [
      "/opt/conda/lib/python3.7/site-packages/pysiib.py:104: UserWarning: stimuli must have at least 20 seconds of speech\n",
      "  warnings.warn('stimuli must have at least 20 seconds of speech')\n",
      "/opt/conda/lib/python3.7/site-packages/pysiib.py:104: UserWarning: stimuli must have at least 20 seconds of speech\n",
      "  warnings.warn('stimuli must have at least 20 seconds of speech')\n",
      "/opt/conda/lib/python3.7/site-packages/pysiib.py:104: UserWarning: stimuli must have at least 20 seconds of speech\n",
      "  warnings.warn('stimuli must have at least 20 seconds of speech')\n",
      "/opt/conda/lib/python3.7/site-packages/pysiib.py:104: UserWarning: stimuli must have at least 20 seconds of speech\n",
      "  warnings.warn('stimuli must have at least 20 seconds of speech')\n",
      "/opt/conda/lib/python3.7/site-packages/pysiib.py:104: UserWarning: stimuli must have at least 20 seconds of speech\n",
      "  warnings.warn('stimuli must have at least 20 seconds of speech')\n",
      "/opt/conda/lib/python3.7/site-packages/pysiib.py:104: UserWarning: stimuli must have at least 20 seconds of speech\n",
      "  warnings.warn('stimuli must have at least 20 seconds of speech')\n",
      "/opt/conda/lib/python3.7/site-packages/pysiib.py:104: UserWarning: stimuli must have at least 20 seconds of speech\n",
      "  warnings.warn('stimuli must have at least 20 seconds of speech')\n",
      "[tflite_quality_mapper.cc : 33] RAW: Loading TF Lattice TFLite model at visqol/model/lattice_tcditugenmeetpackhref_ls2_nl60_lr12_bs2048_learn.005_ep2400_train1_7_raw.tflite\n",
      "INFO: Created TensorFlow Lite XNNPACK delegate for CPU.\n",
      "/opt/conda/lib/python3.7/site-packages/pysiib.py:104: UserWarning: stimuli must have at least 20 seconds of speech\n",
      "  warnings.warn('stimuli must have at least 20 seconds of speech')\n",
      "/opt/conda/lib/python3.7/site-packages/pysiib.py:104: UserWarning: stimuli must have at least 20 seconds of speech\n",
      "  warnings.warn('stimuli must have at least 20 seconds of speech')\n",
      "/opt/conda/lib/python3.7/site-packages/pysiib.py:104: UserWarning: stimuli must have at least 20 seconds of speech\n",
      "  warnings.warn('stimuli must have at least 20 seconds of speech')\n",
      "/opt/conda/lib/python3.7/site-packages/pysiib.py:104: UserWarning: stimuli must have at least 20 seconds of speech\n",
      "  warnings.warn('stimuli must have at least 20 seconds of speech')\n",
      "/opt/conda/lib/python3.7/site-packages/pysiib.py:104: UserWarning: stimuli must have at least 20 seconds of speech\n",
      "  warnings.warn('stimuli must have at least 20 seconds of speech')\n",
      "/opt/conda/lib/python3.7/site-packages/pysiib.py:104: UserWarning: stimuli must have at least 20 seconds of speech\n",
      "  warnings.warn('stimuli must have at least 20 seconds of speech')\n",
      "[tflite_quality_mapper.cc : 33] RAW: Loading TF Lattice TFLite model at visqol/model/lattice_tcditugenmeetpackhref_ls2_nl60_lr12_bs2048_learn.005_ep2400_train1_7_raw.tflite\n",
      "INFO: Created TensorFlow Lite XNNPACK delegate for CPU.\n"
     ]
    },
    {
     "name": "stdout",
     "output_type": "stream",
     "text": [
      "Discriminator training...\n"
     ]
    },
    {
     "name": "stderr",
     "output_type": "stream",
     "text": [
      "100%|██████████| 200/200 [01:03<00:00,  3.16it/s]\n",
      "100%|██████████| 453/453 [02:00<00:00,  3.77it/s]\n",
      "100%|██████████| 200/200 [01:03<00:00,  3.13it/s]\n"
     ]
    },
    {
     "name": "stdout",
     "output_type": "stream",
     "text": [
      "Epoch 39 Finished\n",
      "Generator training (with discriminator fixed)...\n"
     ]
    },
    {
     "name": "stderr",
     "output_type": "stream",
     "text": [
      "100%|██████████| 100/100 [00:19<00:00,  5.10it/s]\n"
     ]
    },
    {
     "name": "stdout",
     "output_type": "stream",
     "text": [
      "Evaluate G by validation data ...\n"
     ]
    },
    {
     "name": "stderr",
     "output_type": "stream",
     "text": [
      "/opt/conda/lib/python3.7/site-packages/pysiib.py:104: UserWarning: stimuli must have at least 20 seconds of speech\n",
      "  warnings.warn('stimuli must have at least 20 seconds of speech')\n",
      "/opt/conda/lib/python3.7/site-packages/pysiib.py:104: UserWarning: stimuli must have at least 20 seconds of speech\n",
      "  warnings.warn('stimuli must have at least 20 seconds of speech')\n",
      "/opt/conda/lib/python3.7/site-packages/pysiib.py:104: UserWarning: stimuli must have at least 20 seconds of speech\n",
      "  warnings.warn('stimuli must have at least 20 seconds of speech')\n",
      "/opt/conda/lib/python3.7/site-packages/pysiib.py:104: UserWarning: stimuli must have at least 20 seconds of speech\n",
      "  warnings.warn('stimuli must have at least 20 seconds of speech')\n",
      "/opt/conda/lib/python3.7/site-packages/pysiib.py:104: UserWarning: stimuli must have at least 20 seconds of speech\n",
      "  warnings.warn('stimuli must have at least 20 seconds of speech')\n",
      "/opt/conda/lib/python3.7/site-packages/pysiib.py:104: UserWarning: stimuli must have at least 20 seconds of speech\n",
      "  warnings.warn('stimuli must have at least 20 seconds of speech')\n",
      "/opt/conda/lib/python3.7/site-packages/pysiib.py:104: UserWarning: stimuli must have at least 20 seconds of speech\n",
      "  warnings.warn('stimuli must have at least 20 seconds of speech')\n",
      "/opt/conda/lib/python3.7/site-packages/pysiib.py:104: UserWarning: stimuli must have at least 20 seconds of speech\n",
      "  warnings.warn('stimuli must have at least 20 seconds of speech')\n",
      "[tflite_quality_mapper.cc : 33] RAW: Loading TF Lattice TFLite model at visqol/model/lattice_tcditugenmeetpackhref_ls2_nl60_lr12_bs2048_learn.005_ep2400_train1_7_raw.tflite\n",
      "INFO: Created TensorFlow Lite XNNPACK delegate for CPU.\n"
     ]
    },
    {
     "name": "stdout",
     "output_type": "stream",
     "text": [
      "Sample training data for discriminator training...\n"
     ]
    },
    {
     "name": "stderr",
     "output_type": "stream",
     "text": [
      "/opt/conda/lib/python3.7/site-packages/pysiib.py:104: UserWarning: stimuli must have at least 20 seconds of speech\n",
      "  warnings.warn('stimuli must have at least 20 seconds of speech')\n",
      "/opt/conda/lib/python3.7/site-packages/pysiib.py:104: UserWarning: stimuli must have at least 20 seconds of speech\n",
      "  warnings.warn('stimuli must have at least 20 seconds of speech')\n",
      "/opt/conda/lib/python3.7/site-packages/pysiib.py:104: UserWarning: stimuli must have at least 20 seconds of speech\n",
      "  warnings.warn('stimuli must have at least 20 seconds of speech')\n",
      "/opt/conda/lib/python3.7/site-packages/pysiib.py:104: UserWarning: stimuli must have at least 20 seconds of speech\n",
      "  warnings.warn('stimuli must have at least 20 seconds of speech')\n",
      "/opt/conda/lib/python3.7/site-packages/pysiib.py:104: UserWarning: stimuli must have at least 20 seconds of speech\n",
      "  warnings.warn('stimuli must have at least 20 seconds of speech')\n",
      "/opt/conda/lib/python3.7/site-packages/pysiib.py:104: UserWarning: stimuli must have at least 20 seconds of speech\n",
      "  warnings.warn('stimuli must have at least 20 seconds of speech')\n",
      "/opt/conda/lib/python3.7/site-packages/pysiib.py:104: UserWarning: stimuli must have at least 20 seconds of speech\n",
      "  warnings.warn('stimuli must have at least 20 seconds of speech')\n",
      "/opt/conda/lib/python3.7/site-packages/pysiib.py:104: UserWarning: stimuli must have at least 20 seconds of speech\n",
      "  warnings.warn('stimuli must have at least 20 seconds of speech')\n",
      "[tflite_quality_mapper.cc : 33] RAW: Loading TF Lattice TFLite model at visqol/model/lattice_tcditugenmeetpackhref_ls2_nl60_lr12_bs2048_learn.005_ep2400_train1_7_raw.tflite\n",
      "INFO: Created TensorFlow Lite XNNPACK delegate for CPU.\n",
      "/opt/conda/lib/python3.7/site-packages/pysiib.py:104: UserWarning: stimuli must have at least 20 seconds of speech\n",
      "  warnings.warn('stimuli must have at least 20 seconds of speech')\n",
      "/opt/conda/lib/python3.7/site-packages/pysiib.py:104: UserWarning: stimuli must have at least 20 seconds of speech\n",
      "  warnings.warn('stimuli must have at least 20 seconds of speech')\n",
      "/opt/conda/lib/python3.7/site-packages/pysiib.py:104: UserWarning: stimuli must have at least 20 seconds of speech\n",
      "  warnings.warn('stimuli must have at least 20 seconds of speech')\n",
      "/opt/conda/lib/python3.7/site-packages/pysiib.py:104: UserWarning: stimuli must have at least 20 seconds of speech\n",
      "  warnings.warn('stimuli must have at least 20 seconds of speech')\n",
      "/opt/conda/lib/python3.7/site-packages/pysiib.py:104: UserWarning: stimuli must have at least 20 seconds of speech\n",
      "  warnings.warn('stimuli must have at least 20 seconds of speech')\n",
      "/opt/conda/lib/python3.7/site-packages/pysiib.py:104: UserWarning: stimuli must have at least 20 seconds of speech\n",
      "  warnings.warn('stimuli must have at least 20 seconds of speech')\n",
      "[tflite_quality_mapper.cc : 33] RAW: Loading TF Lattice TFLite model at visqol/model/lattice_tcditugenmeetpackhref_ls2_nl60_lr12_bs2048_learn.005_ep2400_train1_7_raw.tflite\n",
      "INFO: Created TensorFlow Lite XNNPACK delegate for CPU.\n"
     ]
    },
    {
     "name": "stdout",
     "output_type": "stream",
     "text": [
      "Discriminator training...\n"
     ]
    },
    {
     "name": "stderr",
     "output_type": "stream",
     "text": [
      "100%|██████████| 200/200 [00:42<00:00,  4.75it/s]\n",
      "100%|██████████| 460/460 [02:07<00:00,  3.59it/s]\n",
      "100%|██████████| 200/200 [00:42<00:00,  4.69it/s]\n"
     ]
    },
    {
     "name": "stdout",
     "output_type": "stream",
     "text": [
      "Epoch 40 Finished\n",
      "Generator training (with discriminator fixed)...\n"
     ]
    },
    {
     "name": "stderr",
     "output_type": "stream",
     "text": [
      "100%|██████████| 100/100 [00:20<00:00,  4.80it/s]\n"
     ]
    },
    {
     "name": "stdout",
     "output_type": "stream",
     "text": [
      "Evaluate G by validation data ...\n"
     ]
    },
    {
     "name": "stderr",
     "output_type": "stream",
     "text": [
      "/opt/conda/lib/python3.7/site-packages/pysiib.py:104: UserWarning: stimuli must have at least 20 seconds of speech\n",
      "  warnings.warn('stimuli must have at least 20 seconds of speech')\n",
      "/opt/conda/lib/python3.7/site-packages/pysiib.py:104: UserWarning: stimuli must have at least 20 seconds of speech\n",
      "  warnings.warn('stimuli must have at least 20 seconds of speech')\n",
      "/opt/conda/lib/python3.7/site-packages/pysiib.py:104: UserWarning: stimuli must have at least 20 seconds of speech\n",
      "  warnings.warn('stimuli must have at least 20 seconds of speech')\n",
      "/opt/conda/lib/python3.7/site-packages/pysiib.py:104: UserWarning: stimuli must have at least 20 seconds of speech\n",
      "  warnings.warn('stimuli must have at least 20 seconds of speech')\n",
      "/opt/conda/lib/python3.7/site-packages/pysiib.py:104: UserWarning: stimuli must have at least 20 seconds of speech\n",
      "  warnings.warn('stimuli must have at least 20 seconds of speech')\n",
      "/opt/conda/lib/python3.7/site-packages/pysiib.py:104: UserWarning: stimuli must have at least 20 seconds of speech\n",
      "  warnings.warn('stimuli must have at least 20 seconds of speech')\n",
      "/opt/conda/lib/python3.7/site-packages/pysiib.py:104: UserWarning: stimuli must have at least 20 seconds of speech\n",
      "  warnings.warn('stimuli must have at least 20 seconds of speech')\n",
      "/opt/conda/lib/python3.7/site-packages/pysiib.py:104: UserWarning: stimuli must have at least 20 seconds of speech\n",
      "  warnings.warn('stimuli must have at least 20 seconds of speech')\n",
      "[tflite_quality_mapper.cc : 33] RAW: Loading TF Lattice TFLite model at visqol/model/lattice_tcditugenmeetpackhref_ls2_nl60_lr12_bs2048_learn.005_ep2400_train1_7_raw.tflite\n",
      "INFO: Created TensorFlow Lite XNNPACK delegate for CPU.\n"
     ]
    },
    {
     "name": "stdout",
     "output_type": "stream",
     "text": [
      "Sample training data for discriminator training...\n"
     ]
    },
    {
     "name": "stderr",
     "output_type": "stream",
     "text": [
      "/opt/conda/lib/python3.7/site-packages/pysiib.py:104: UserWarning: stimuli must have at least 20 seconds of speech\n",
      "  warnings.warn('stimuli must have at least 20 seconds of speech')\n",
      "/opt/conda/lib/python3.7/site-packages/pysiib.py:104: UserWarning: stimuli must have at least 20 seconds of speech\n",
      "  warnings.warn('stimuli must have at least 20 seconds of speech')\n",
      "/opt/conda/lib/python3.7/site-packages/pysiib.py:104: UserWarning: stimuli must have at least 20 seconds of speech\n",
      "  warnings.warn('stimuli must have at least 20 seconds of speech')\n",
      "/opt/conda/lib/python3.7/site-packages/pysiib.py:104: UserWarning: stimuli must have at least 20 seconds of speech\n",
      "  warnings.warn('stimuli must have at least 20 seconds of speech')\n",
      "/opt/conda/lib/python3.7/site-packages/pysiib.py:104: UserWarning: stimuli must have at least 20 seconds of speech\n",
      "  warnings.warn('stimuli must have at least 20 seconds of speech')\n",
      "/opt/conda/lib/python3.7/site-packages/pysiib.py:104: UserWarning: stimuli must have at least 20 seconds of speech\n",
      "  warnings.warn('stimuli must have at least 20 seconds of speech')\n",
      "/opt/conda/lib/python3.7/site-packages/pysiib.py:104: UserWarning: stimuli must have at least 20 seconds of speech\n",
      "  warnings.warn('stimuli must have at least 20 seconds of speech')\n",
      "/opt/conda/lib/python3.7/site-packages/pysiib.py:104: UserWarning: stimuli must have at least 20 seconds of speech\n",
      "  warnings.warn('stimuli must have at least 20 seconds of speech')\n",
      "/opt/conda/lib/python3.7/site-packages/pysiib.py:104: UserWarning: stimuli must have at least 20 seconds of speech\n",
      "  warnings.warn('stimuli must have at least 20 seconds of speech')\n",
      "[tflite_quality_mapper.cc : 33] RAW: Loading TF Lattice TFLite model at visqol/model/lattice_tcditugenmeetpackhref_ls2_nl60_lr12_bs2048_learn.005_ep2400_train1_7_raw.tflite\n",
      "INFO: Created TensorFlow Lite XNNPACK delegate for CPU.\n",
      "/opt/conda/lib/python3.7/site-packages/pysiib.py:104: UserWarning: stimuli must have at least 20 seconds of speech\n",
      "  warnings.warn('stimuli must have at least 20 seconds of speech')\n",
      "/opt/conda/lib/python3.7/site-packages/pysiib.py:104: UserWarning: stimuli must have at least 20 seconds of speech\n",
      "  warnings.warn('stimuli must have at least 20 seconds of speech')\n",
      "/opt/conda/lib/python3.7/site-packages/pysiib.py:104: UserWarning: stimuli must have at least 20 seconds of speech\n",
      "  warnings.warn('stimuli must have at least 20 seconds of speech')\n",
      "/opt/conda/lib/python3.7/site-packages/pysiib.py:104: UserWarning: stimuli must have at least 20 seconds of speech\n",
      "  warnings.warn('stimuli must have at least 20 seconds of speech')\n",
      "/opt/conda/lib/python3.7/site-packages/pysiib.py:104: UserWarning: stimuli must have at least 20 seconds of speech\n",
      "  warnings.warn('stimuli must have at least 20 seconds of speech')\n",
      "/opt/conda/lib/python3.7/site-packages/pysiib.py:104: UserWarning: stimuli must have at least 20 seconds of speech\n",
      "  warnings.warn('stimuli must have at least 20 seconds of speech')\n",
      "/opt/conda/lib/python3.7/site-packages/pysiib.py:104: UserWarning: stimuli must have at least 20 seconds of speech\n",
      "  warnings.warn('stimuli must have at least 20 seconds of speech')\n",
      "[tflite_quality_mapper.cc : 33] RAW: Loading TF Lattice TFLite model at visqol/model/lattice_tcditugenmeetpackhref_ls2_nl60_lr12_bs2048_learn.005_ep2400_train1_7_raw.tflite\n",
      "INFO: Created TensorFlow Lite XNNPACK delegate for CPU.\n"
     ]
    },
    {
     "name": "stdout",
     "output_type": "stream",
     "text": [
      "Discriminator training...\n"
     ]
    },
    {
     "name": "stderr",
     "output_type": "stream",
     "text": [
      "100%|██████████| 200/200 [00:56<00:00,  3.52it/s]\n",
      "100%|██████████| 466/466 [02:05<00:00,  3.71it/s]\n",
      "100%|██████████| 200/200 [00:52<00:00,  3.82it/s]\n"
     ]
    },
    {
     "name": "stdout",
     "output_type": "stream",
     "text": [
      "Epoch 41 Finished\n",
      "Generator training (with discriminator fixed)...\n"
     ]
    },
    {
     "name": "stderr",
     "output_type": "stream",
     "text": [
      "100%|██████████| 100/100 [00:23<00:00,  4.26it/s]\n"
     ]
    },
    {
     "name": "stdout",
     "output_type": "stream",
     "text": [
      "Evaluate G by validation data ...\n"
     ]
    },
    {
     "name": "stderr",
     "output_type": "stream",
     "text": [
      "/opt/conda/lib/python3.7/site-packages/pysiib.py:104: UserWarning: stimuli must have at least 20 seconds of speech\n",
      "  warnings.warn('stimuli must have at least 20 seconds of speech')\n",
      "/opt/conda/lib/python3.7/site-packages/pysiib.py:104: UserWarning: stimuli must have at least 20 seconds of speech\n",
      "  warnings.warn('stimuli must have at least 20 seconds of speech')\n",
      "/opt/conda/lib/python3.7/site-packages/pysiib.py:104: UserWarning: stimuli must have at least 20 seconds of speech\n",
      "  warnings.warn('stimuli must have at least 20 seconds of speech')\n",
      "/opt/conda/lib/python3.7/site-packages/pysiib.py:104: UserWarning: stimuli must have at least 20 seconds of speech\n",
      "  warnings.warn('stimuli must have at least 20 seconds of speech')\n",
      "/opt/conda/lib/python3.7/site-packages/pysiib.py:104: UserWarning: stimuli must have at least 20 seconds of speech\n",
      "  warnings.warn('stimuli must have at least 20 seconds of speech')\n",
      "/opt/conda/lib/python3.7/site-packages/pysiib.py:104: UserWarning: stimuli must have at least 20 seconds of speech\n",
      "  warnings.warn('stimuli must have at least 20 seconds of speech')\n",
      "/opt/conda/lib/python3.7/site-packages/pysiib.py:104: UserWarning: stimuli must have at least 20 seconds of speech\n",
      "  warnings.warn('stimuli must have at least 20 seconds of speech')\n",
      "/opt/conda/lib/python3.7/site-packages/pysiib.py:104: UserWarning: stimuli must have at least 20 seconds of speech\n",
      "  warnings.warn('stimuli must have at least 20 seconds of speech')\n",
      "[tflite_quality_mapper.cc : 33] RAW: Loading TF Lattice TFLite model at visqol/model/lattice_tcditugenmeetpackhref_ls2_nl60_lr12_bs2048_learn.005_ep2400_train1_7_raw.tflite\n",
      "INFO: Created TensorFlow Lite XNNPACK delegate for CPU.\n"
     ]
    },
    {
     "name": "stdout",
     "output_type": "stream",
     "text": [
      "Sample training data for discriminator training...\n"
     ]
    },
    {
     "name": "stderr",
     "output_type": "stream",
     "text": [
      "/opt/conda/lib/python3.7/site-packages/pysiib.py:104: UserWarning: stimuli must have at least 20 seconds of speech\n",
      "  warnings.warn('stimuli must have at least 20 seconds of speech')\n",
      "/opt/conda/lib/python3.7/site-packages/pysiib.py:104: UserWarning: stimuli must have at least 20 seconds of speech\n",
      "  warnings.warn('stimuli must have at least 20 seconds of speech')\n",
      "/opt/conda/lib/python3.7/site-packages/pysiib.py:104: UserWarning: stimuli must have at least 20 seconds of speech\n",
      "  warnings.warn('stimuli must have at least 20 seconds of speech')\n",
      "/opt/conda/lib/python3.7/site-packages/pysiib.py:104: UserWarning: stimuli must have at least 20 seconds of speech\n",
      "  warnings.warn('stimuli must have at least 20 seconds of speech')\n",
      "/opt/conda/lib/python3.7/site-packages/pysiib.py:104: UserWarning: stimuli must have at least 20 seconds of speech\n",
      "  warnings.warn('stimuli must have at least 20 seconds of speech')\n",
      "/opt/conda/lib/python3.7/site-packages/pysiib.py:104: UserWarning: stimuli must have at least 20 seconds of speech\n",
      "  warnings.warn('stimuli must have at least 20 seconds of speech')\n",
      "/opt/conda/lib/python3.7/site-packages/pysiib.py:104: UserWarning: stimuli must have at least 20 seconds of speech\n",
      "  warnings.warn('stimuli must have at least 20 seconds of speech')\n",
      "/opt/conda/lib/python3.7/site-packages/pysiib.py:104: UserWarning: stimuli must have at least 20 seconds of speech\n",
      "  warnings.warn('stimuli must have at least 20 seconds of speech')\n",
      "/opt/conda/lib/python3.7/site-packages/pysiib.py:104: UserWarning: stimuli must have at least 20 seconds of speech\n",
      "  warnings.warn('stimuli must have at least 20 seconds of speech')\n",
      "/opt/conda/lib/python3.7/site-packages/pysiib.py:104: UserWarning: stimuli must have at least 20 seconds of speech\n",
      "  warnings.warn('stimuli must have at least 20 seconds of speech')\n",
      "/opt/conda/lib/python3.7/site-packages/pysiib.py:104: UserWarning: stimuli must have at least 20 seconds of speech\n",
      "  warnings.warn('stimuli must have at least 20 seconds of speech')\n",
      "/opt/conda/lib/python3.7/site-packages/pysiib.py:104: UserWarning: stimuli must have at least 20 seconds of speech\n",
      "  warnings.warn('stimuli must have at least 20 seconds of speech')\n",
      "/opt/conda/lib/python3.7/site-packages/pysiib.py:104: UserWarning: stimuli must have at least 20 seconds of speech\n",
      "  warnings.warn('stimuli must have at least 20 seconds of speech')\n",
      "[tflite_quality_mapper.cc : 33] RAW: Loading TF Lattice TFLite model at visqol/model/lattice_tcditugenmeetpackhref_ls2_nl60_lr12_bs2048_learn.005_ep2400_train1_7_raw.tflite\n",
      "INFO: Created TensorFlow Lite XNNPACK delegate for CPU.\n",
      "/opt/conda/lib/python3.7/site-packages/pysiib.py:104: UserWarning: stimuli must have at least 20 seconds of speech\n",
      "  warnings.warn('stimuli must have at least 20 seconds of speech')\n",
      "/opt/conda/lib/python3.7/site-packages/pysiib.py:104: UserWarning: stimuli must have at least 20 seconds of speech\n",
      "  warnings.warn('stimuli must have at least 20 seconds of speech')\n",
      "/opt/conda/lib/python3.7/site-packages/pysiib.py:104: UserWarning: stimuli must have at least 20 seconds of speech\n",
      "  warnings.warn('stimuli must have at least 20 seconds of speech')\n",
      "/opt/conda/lib/python3.7/site-packages/pysiib.py:104: UserWarning: stimuli must have at least 20 seconds of speech\n",
      "  warnings.warn('stimuli must have at least 20 seconds of speech')\n",
      "/opt/conda/lib/python3.7/site-packages/pysiib.py:104: UserWarning: stimuli must have at least 20 seconds of speech\n",
      "  warnings.warn('stimuli must have at least 20 seconds of speech')\n",
      "/opt/conda/lib/python3.7/site-packages/pysiib.py:104: UserWarning: stimuli must have at least 20 seconds of speech\n",
      "  warnings.warn('stimuli must have at least 20 seconds of speech')\n",
      "[tflite_quality_mapper.cc : 33] RAW: Loading TF Lattice TFLite model at visqol/model/lattice_tcditugenmeetpackhref_ls2_nl60_lr12_bs2048_learn.005_ep2400_train1_7_raw.tflite\n",
      "INFO: Created TensorFlow Lite XNNPACK delegate for CPU.\n"
     ]
    },
    {
     "name": "stdout",
     "output_type": "stream",
     "text": [
      "Discriminator training...\n"
     ]
    },
    {
     "name": "stderr",
     "output_type": "stream",
     "text": [
      "100%|██████████| 200/200 [00:57<00:00,  3.51it/s]\n",
      "100%|██████████| 473/473 [02:17<00:00,  3.45it/s]\n",
      "100%|██████████| 200/200 [01:08<00:00,  2.94it/s]\n"
     ]
    },
    {
     "name": "stdout",
     "output_type": "stream",
     "text": [
      "Epoch 42 Finished\n",
      "Generator training (with discriminator fixed)...\n"
     ]
    },
    {
     "name": "stderr",
     "output_type": "stream",
     "text": [
      "100%|██████████| 100/100 [00:23<00:00,  4.33it/s]\n"
     ]
    },
    {
     "name": "stdout",
     "output_type": "stream",
     "text": [
      "Evaluate G by validation data ...\n"
     ]
    },
    {
     "name": "stderr",
     "output_type": "stream",
     "text": [
      "/opt/conda/lib/python3.7/site-packages/pysiib.py:104: UserWarning: stimuli must have at least 20 seconds of speech\n",
      "  warnings.warn('stimuli must have at least 20 seconds of speech')\n",
      "/opt/conda/lib/python3.7/site-packages/pysiib.py:104: UserWarning: stimuli must have at least 20 seconds of speech\n",
      "  warnings.warn('stimuli must have at least 20 seconds of speech')\n",
      "/opt/conda/lib/python3.7/site-packages/pysiib.py:104: UserWarning: stimuli must have at least 20 seconds of speech\n",
      "  warnings.warn('stimuli must have at least 20 seconds of speech')\n",
      "/opt/conda/lib/python3.7/site-packages/pysiib.py:104: UserWarning: stimuli must have at least 20 seconds of speech\n",
      "  warnings.warn('stimuli must have at least 20 seconds of speech')\n",
      "/opt/conda/lib/python3.7/site-packages/pysiib.py:104: UserWarning: stimuli must have at least 20 seconds of speech\n",
      "  warnings.warn('stimuli must have at least 20 seconds of speech')\n",
      "/opt/conda/lib/python3.7/site-packages/pysiib.py:104: UserWarning: stimuli must have at least 20 seconds of speech\n",
      "  warnings.warn('stimuli must have at least 20 seconds of speech')\n",
      "/opt/conda/lib/python3.7/site-packages/pysiib.py:104: UserWarning: stimuli must have at least 20 seconds of speech\n",
      "  warnings.warn('stimuli must have at least 20 seconds of speech')\n",
      "/opt/conda/lib/python3.7/site-packages/pysiib.py:104: UserWarning: stimuli must have at least 20 seconds of speech\n",
      "  warnings.warn('stimuli must have at least 20 seconds of speech')\n",
      "[tflite_quality_mapper.cc : 33] RAW: Loading TF Lattice TFLite model at visqol/model/lattice_tcditugenmeetpackhref_ls2_nl60_lr12_bs2048_learn.005_ep2400_train1_7_raw.tflite\n",
      "INFO: Created TensorFlow Lite XNNPACK delegate for CPU.\n"
     ]
    },
    {
     "name": "stdout",
     "output_type": "stream",
     "text": [
      "Sample training data for discriminator training...\n"
     ]
    },
    {
     "name": "stderr",
     "output_type": "stream",
     "text": [
      "/opt/conda/lib/python3.7/site-packages/pysiib.py:104: UserWarning: stimuli must have at least 20 seconds of speech\n",
      "  warnings.warn('stimuli must have at least 20 seconds of speech')\n",
      "/opt/conda/lib/python3.7/site-packages/pysiib.py:104: UserWarning: stimuli must have at least 20 seconds of speech\n",
      "  warnings.warn('stimuli must have at least 20 seconds of speech')\n",
      "/opt/conda/lib/python3.7/site-packages/pysiib.py:104: UserWarning: stimuli must have at least 20 seconds of speech\n",
      "  warnings.warn('stimuli must have at least 20 seconds of speech')\n",
      "/opt/conda/lib/python3.7/site-packages/pysiib.py:104: UserWarning: stimuli must have at least 20 seconds of speech\n",
      "  warnings.warn('stimuli must have at least 20 seconds of speech')\n",
      "/opt/conda/lib/python3.7/site-packages/pysiib.py:104: UserWarning: stimuli must have at least 20 seconds of speech\n",
      "  warnings.warn('stimuli must have at least 20 seconds of speech')\n",
      "/opt/conda/lib/python3.7/site-packages/pysiib.py:104: UserWarning: stimuli must have at least 20 seconds of speech\n",
      "  warnings.warn('stimuli must have at least 20 seconds of speech')\n",
      "/opt/conda/lib/python3.7/site-packages/pysiib.py:104: UserWarning: stimuli must have at least 20 seconds of speech\n",
      "  warnings.warn('stimuli must have at least 20 seconds of speech')\n",
      "/opt/conda/lib/python3.7/site-packages/pysiib.py:104: UserWarning: stimuli must have at least 20 seconds of speech\n",
      "  warnings.warn('stimuli must have at least 20 seconds of speech')\n",
      "/opt/conda/lib/python3.7/site-packages/pysiib.py:104: UserWarning: stimuli must have at least 20 seconds of speech\n",
      "  warnings.warn('stimuli must have at least 20 seconds of speech')\n",
      "/opt/conda/lib/python3.7/site-packages/pysiib.py:104: UserWarning: stimuli must have at least 20 seconds of speech\n",
      "  warnings.warn('stimuli must have at least 20 seconds of speech')\n",
      "/opt/conda/lib/python3.7/site-packages/pysiib.py:104: UserWarning: stimuli must have at least 20 seconds of speech\n",
      "  warnings.warn('stimuli must have at least 20 seconds of speech')\n",
      "/opt/conda/lib/python3.7/site-packages/pysiib.py:104: UserWarning: stimuli must have at least 20 seconds of speech\n",
      "  warnings.warn('stimuli must have at least 20 seconds of speech')\n",
      "/opt/conda/lib/python3.7/site-packages/pysiib.py:104: UserWarning: stimuli must have at least 20 seconds of speech\n",
      "  warnings.warn('stimuli must have at least 20 seconds of speech')\n",
      "/opt/conda/lib/python3.7/site-packages/pysiib.py:104: UserWarning: stimuli must have at least 20 seconds of speech\n",
      "  warnings.warn('stimuli must have at least 20 seconds of speech')\n",
      "/opt/conda/lib/python3.7/site-packages/pysiib.py:104: UserWarning: stimuli must have at least 20 seconds of speech\n",
      "  warnings.warn('stimuli must have at least 20 seconds of speech')\n",
      "/opt/conda/lib/python3.7/site-packages/pysiib.py:104: UserWarning: stimuli must have at least 20 seconds of speech\n",
      "  warnings.warn('stimuli must have at least 20 seconds of speech')\n",
      "/opt/conda/lib/python3.7/site-packages/pysiib.py:104: UserWarning: stimuli must have at least 20 seconds of speech\n",
      "  warnings.warn('stimuli must have at least 20 seconds of speech')\n",
      "[tflite_quality_mapper.cc : 33] RAW: Loading TF Lattice TFLite model at visqol/model/lattice_tcditugenmeetpackhref_ls2_nl60_lr12_bs2048_learn.005_ep2400_train1_7_raw.tflite\n",
      "INFO: Created TensorFlow Lite XNNPACK delegate for CPU.\n",
      "/opt/conda/lib/python3.7/site-packages/pysiib.py:104: UserWarning: stimuli must have at least 20 seconds of speech\n",
      "  warnings.warn('stimuli must have at least 20 seconds of speech')\n",
      "/opt/conda/lib/python3.7/site-packages/pysiib.py:104: UserWarning: stimuli must have at least 20 seconds of speech\n",
      "  warnings.warn('stimuli must have at least 20 seconds of speech')\n",
      "/opt/conda/lib/python3.7/site-packages/pysiib.py:104: UserWarning: stimuli must have at least 20 seconds of speech\n",
      "  warnings.warn('stimuli must have at least 20 seconds of speech')\n",
      "/opt/conda/lib/python3.7/site-packages/pysiib.py:104: UserWarning: stimuli must have at least 20 seconds of speech\n",
      "  warnings.warn('stimuli must have at least 20 seconds of speech')\n",
      "[tflite_quality_mapper.cc : 33] RAW: Loading TF Lattice TFLite model at visqol/model/lattice_tcditugenmeetpackhref_ls2_nl60_lr12_bs2048_learn.005_ep2400_train1_7_raw.tflite\n",
      "INFO: Created TensorFlow Lite XNNPACK delegate for CPU.\n"
     ]
    },
    {
     "name": "stdout",
     "output_type": "stream",
     "text": [
      "Discriminator training...\n"
     ]
    },
    {
     "name": "stderr",
     "output_type": "stream",
     "text": [
      "100%|██████████| 200/200 [00:55<00:00,  3.62it/s]\n",
      "100%|██████████| 480/480 [02:21<00:00,  3.40it/s]\n",
      "100%|██████████| 200/200 [01:01<00:00,  3.26it/s]\n"
     ]
    },
    {
     "name": "stdout",
     "output_type": "stream",
     "text": [
      "Epoch 43 Finished\n",
      "Generator training (with discriminator fixed)...\n"
     ]
    },
    {
     "name": "stderr",
     "output_type": "stream",
     "text": [
      "100%|██████████| 100/100 [00:20<00:00,  4.82it/s]\n"
     ]
    },
    {
     "name": "stdout",
     "output_type": "stream",
     "text": [
      "Evaluate G by validation data ...\n"
     ]
    },
    {
     "name": "stderr",
     "output_type": "stream",
     "text": [
      "/opt/conda/lib/python3.7/site-packages/pysiib.py:104: UserWarning: stimuli must have at least 20 seconds of speech\n",
      "  warnings.warn('stimuli must have at least 20 seconds of speech')\n",
      "/opt/conda/lib/python3.7/site-packages/pysiib.py:104: UserWarning: stimuli must have at least 20 seconds of speech\n",
      "  warnings.warn('stimuli must have at least 20 seconds of speech')\n",
      "/opt/conda/lib/python3.7/site-packages/pysiib.py:104: UserWarning: stimuli must have at least 20 seconds of speech\n",
      "  warnings.warn('stimuli must have at least 20 seconds of speech')\n",
      "/opt/conda/lib/python3.7/site-packages/pysiib.py:104: UserWarning: stimuli must have at least 20 seconds of speech\n",
      "  warnings.warn('stimuli must have at least 20 seconds of speech')\n",
      "/opt/conda/lib/python3.7/site-packages/pysiib.py:104: UserWarning: stimuli must have at least 20 seconds of speech\n",
      "  warnings.warn('stimuli must have at least 20 seconds of speech')\n",
      "/opt/conda/lib/python3.7/site-packages/pysiib.py:104: UserWarning: stimuli must have at least 20 seconds of speech\n",
      "  warnings.warn('stimuli must have at least 20 seconds of speech')\n",
      "/opt/conda/lib/python3.7/site-packages/pysiib.py:104: UserWarning: stimuli must have at least 20 seconds of speech\n",
      "  warnings.warn('stimuli must have at least 20 seconds of speech')\n",
      "/opt/conda/lib/python3.7/site-packages/pysiib.py:104: UserWarning: stimuli must have at least 20 seconds of speech\n",
      "  warnings.warn('stimuli must have at least 20 seconds of speech')\n",
      "[tflite_quality_mapper.cc : 33] RAW: Loading TF Lattice TFLite model at visqol/model/lattice_tcditugenmeetpackhref_ls2_nl60_lr12_bs2048_learn.005_ep2400_train1_7_raw.tflite\n",
      "INFO: Created TensorFlow Lite XNNPACK delegate for CPU.\n"
     ]
    },
    {
     "name": "stdout",
     "output_type": "stream",
     "text": [
      "Sample training data for discriminator training...\n"
     ]
    },
    {
     "name": "stderr",
     "output_type": "stream",
     "text": [
      "/opt/conda/lib/python3.7/site-packages/pysiib.py:104: UserWarning: stimuli must have at least 20 seconds of speech\n",
      "  warnings.warn('stimuli must have at least 20 seconds of speech')\n",
      "/opt/conda/lib/python3.7/site-packages/pysiib.py:104: UserWarning: stimuli must have at least 20 seconds of speech\n",
      "  warnings.warn('stimuli must have at least 20 seconds of speech')\n",
      "/opt/conda/lib/python3.7/site-packages/pysiib.py:104: UserWarning: stimuli must have at least 20 seconds of speech\n",
      "  warnings.warn('stimuli must have at least 20 seconds of speech')\n",
      "/opt/conda/lib/python3.7/site-packages/pysiib.py:104: UserWarning: stimuli must have at least 20 seconds of speech\n",
      "  warnings.warn('stimuli must have at least 20 seconds of speech')\n",
      "/opt/conda/lib/python3.7/site-packages/pysiib.py:104: UserWarning: stimuli must have at least 20 seconds of speech\n",
      "  warnings.warn('stimuli must have at least 20 seconds of speech')\n",
      "/opt/conda/lib/python3.7/site-packages/pysiib.py:104: UserWarning: stimuli must have at least 20 seconds of speech\n",
      "  warnings.warn('stimuli must have at least 20 seconds of speech')\n",
      "/opt/conda/lib/python3.7/site-packages/pysiib.py:104: UserWarning: stimuli must have at least 20 seconds of speech\n",
      "  warnings.warn('stimuli must have at least 20 seconds of speech')\n",
      "/opt/conda/lib/python3.7/site-packages/pysiib.py:104: UserWarning: stimuli must have at least 20 seconds of speech\n",
      "  warnings.warn('stimuli must have at least 20 seconds of speech')\n",
      "/opt/conda/lib/python3.7/site-packages/pysiib.py:104: UserWarning: stimuli must have at least 20 seconds of speech\n",
      "  warnings.warn('stimuli must have at least 20 seconds of speech')\n",
      "/opt/conda/lib/python3.7/site-packages/pysiib.py:104: UserWarning: stimuli must have at least 20 seconds of speech\n",
      "  warnings.warn('stimuli must have at least 20 seconds of speech')\n",
      "/opt/conda/lib/python3.7/site-packages/pysiib.py:104: UserWarning: stimuli must have at least 20 seconds of speech\n",
      "  warnings.warn('stimuli must have at least 20 seconds of speech')\n",
      "/opt/conda/lib/python3.7/site-packages/pysiib.py:104: UserWarning: stimuli must have at least 20 seconds of speech\n",
      "  warnings.warn('stimuli must have at least 20 seconds of speech')\n",
      "/opt/conda/lib/python3.7/site-packages/pysiib.py:104: UserWarning: stimuli must have at least 20 seconds of speech\n",
      "  warnings.warn('stimuli must have at least 20 seconds of speech')\n",
      "/opt/conda/lib/python3.7/site-packages/pysiib.py:104: UserWarning: stimuli must have at least 20 seconds of speech\n",
      "  warnings.warn('stimuli must have at least 20 seconds of speech')\n",
      "/opt/conda/lib/python3.7/site-packages/pysiib.py:104: UserWarning: stimuli must have at least 20 seconds of speech\n",
      "  warnings.warn('stimuli must have at least 20 seconds of speech')\n",
      "/opt/conda/lib/python3.7/site-packages/pysiib.py:104: UserWarning: stimuli must have at least 20 seconds of speech\n",
      "  warnings.warn('stimuli must have at least 20 seconds of speech')\n",
      "[tflite_quality_mapper.cc : 33] RAW: Loading TF Lattice TFLite model at visqol/model/lattice_tcditugenmeetpackhref_ls2_nl60_lr12_bs2048_learn.005_ep2400_train1_7_raw.tflite\n",
      "INFO: Created TensorFlow Lite XNNPACK delegate for CPU.\n",
      "/opt/conda/lib/python3.7/site-packages/pysiib.py:104: UserWarning: stimuli must have at least 20 seconds of speech\n",
      "  warnings.warn('stimuli must have at least 20 seconds of speech')\n",
      "/opt/conda/lib/python3.7/site-packages/pysiib.py:104: UserWarning: stimuli must have at least 20 seconds of speech\n",
      "  warnings.warn('stimuli must have at least 20 seconds of speech')\n",
      "/opt/conda/lib/python3.7/site-packages/pysiib.py:104: UserWarning: stimuli must have at least 20 seconds of speech\n",
      "  warnings.warn('stimuli must have at least 20 seconds of speech')\n",
      "/opt/conda/lib/python3.7/site-packages/pysiib.py:104: UserWarning: stimuli must have at least 20 seconds of speech\n",
      "  warnings.warn('stimuli must have at least 20 seconds of speech')\n",
      "[tflite_quality_mapper.cc : 33] RAW: Loading TF Lattice TFLite model at visqol/model/lattice_tcditugenmeetpackhref_ls2_nl60_lr12_bs2048_learn.005_ep2400_train1_7_raw.tflite\n",
      "INFO: Created TensorFlow Lite XNNPACK delegate for CPU.\n"
     ]
    },
    {
     "name": "stdout",
     "output_type": "stream",
     "text": [
      "Discriminator training...\n"
     ]
    },
    {
     "name": "stderr",
     "output_type": "stream",
     "text": [
      "100%|██████████| 200/200 [00:54<00:00,  3.70it/s]\n",
      "100%|██████████| 486/486 [02:16<00:00,  3.55it/s]\n",
      "100%|██████████| 200/200 [00:56<00:00,  3.56it/s]\n"
     ]
    },
    {
     "name": "stdout",
     "output_type": "stream",
     "text": [
      "Epoch 44 Finished\n",
      "Generator training (with discriminator fixed)...\n"
     ]
    },
    {
     "name": "stderr",
     "output_type": "stream",
     "text": [
      "100%|██████████| 100/100 [00:20<00:00,  4.85it/s]\n"
     ]
    },
    {
     "name": "stdout",
     "output_type": "stream",
     "text": [
      "Evaluate G by validation data ...\n"
     ]
    },
    {
     "name": "stderr",
     "output_type": "stream",
     "text": [
      "/opt/conda/lib/python3.7/site-packages/pysiib.py:104: UserWarning: stimuli must have at least 20 seconds of speech\n",
      "  warnings.warn('stimuli must have at least 20 seconds of speech')\n",
      "/opt/conda/lib/python3.7/site-packages/pysiib.py:104: UserWarning: stimuli must have at least 20 seconds of speech\n",
      "  warnings.warn('stimuli must have at least 20 seconds of speech')\n",
      "/opt/conda/lib/python3.7/site-packages/pysiib.py:104: UserWarning: stimuli must have at least 20 seconds of speech\n",
      "  warnings.warn('stimuli must have at least 20 seconds of speech')\n",
      "/opt/conda/lib/python3.7/site-packages/pysiib.py:104: UserWarning: stimuli must have at least 20 seconds of speech\n",
      "  warnings.warn('stimuli must have at least 20 seconds of speech')\n",
      "/opt/conda/lib/python3.7/site-packages/pysiib.py:104: UserWarning: stimuli must have at least 20 seconds of speech\n",
      "  warnings.warn('stimuli must have at least 20 seconds of speech')\n",
      "/opt/conda/lib/python3.7/site-packages/pysiib.py:104: UserWarning: stimuli must have at least 20 seconds of speech\n",
      "  warnings.warn('stimuli must have at least 20 seconds of speech')\n",
      "/opt/conda/lib/python3.7/site-packages/pysiib.py:104: UserWarning: stimuli must have at least 20 seconds of speech\n",
      "  warnings.warn('stimuli must have at least 20 seconds of speech')\n",
      "/opt/conda/lib/python3.7/site-packages/pysiib.py:104: UserWarning: stimuli must have at least 20 seconds of speech\n",
      "  warnings.warn('stimuli must have at least 20 seconds of speech')\n",
      "[tflite_quality_mapper.cc : 33] RAW: Loading TF Lattice TFLite model at visqol/model/lattice_tcditugenmeetpackhref_ls2_nl60_lr12_bs2048_learn.005_ep2400_train1_7_raw.tflite\n",
      "INFO: Created TensorFlow Lite XNNPACK delegate for CPU.\n"
     ]
    },
    {
     "name": "stdout",
     "output_type": "stream",
     "text": [
      "Sample training data for discriminator training...\n"
     ]
    },
    {
     "name": "stderr",
     "output_type": "stream",
     "text": [
      "/opt/conda/lib/python3.7/site-packages/pysiib.py:104: UserWarning: stimuli must have at least 20 seconds of speech\n",
      "  warnings.warn('stimuli must have at least 20 seconds of speech')\n",
      "/opt/conda/lib/python3.7/site-packages/pysiib.py:104: UserWarning: stimuli must have at least 20 seconds of speech\n",
      "  warnings.warn('stimuli must have at least 20 seconds of speech')\n",
      "/opt/conda/lib/python3.7/site-packages/pysiib.py:104: UserWarning: stimuli must have at least 20 seconds of speech\n",
      "  warnings.warn('stimuli must have at least 20 seconds of speech')\n",
      "/opt/conda/lib/python3.7/site-packages/pysiib.py:104: UserWarning: stimuli must have at least 20 seconds of speech\n",
      "  warnings.warn('stimuli must have at least 20 seconds of speech')\n",
      "/opt/conda/lib/python3.7/site-packages/pysiib.py:104: UserWarning: stimuli must have at least 20 seconds of speech\n",
      "  warnings.warn('stimuli must have at least 20 seconds of speech')\n",
      "/opt/conda/lib/python3.7/site-packages/pysiib.py:104: UserWarning: stimuli must have at least 20 seconds of speech\n",
      "  warnings.warn('stimuli must have at least 20 seconds of speech')\n",
      "[tflite_quality_mapper.cc : 33] RAW: Loading TF Lattice TFLite model at visqol/model/lattice_tcditugenmeetpackhref_ls2_nl60_lr12_bs2048_learn.005_ep2400_train1_7_raw.tflite\n",
      "INFO: Created TensorFlow Lite XNNPACK delegate for CPU.\n",
      "/opt/conda/lib/python3.7/site-packages/pysiib.py:104: UserWarning: stimuli must have at least 20 seconds of speech\n",
      "  warnings.warn('stimuli must have at least 20 seconds of speech')\n",
      "/opt/conda/lib/python3.7/site-packages/pysiib.py:104: UserWarning: stimuli must have at least 20 seconds of speech\n",
      "  warnings.warn('stimuli must have at least 20 seconds of speech')\n",
      "/opt/conda/lib/python3.7/site-packages/pysiib.py:104: UserWarning: stimuli must have at least 20 seconds of speech\n",
      "  warnings.warn('stimuli must have at least 20 seconds of speech')\n",
      "/opt/conda/lib/python3.7/site-packages/pysiib.py:104: UserWarning: stimuli must have at least 20 seconds of speech\n",
      "  warnings.warn('stimuli must have at least 20 seconds of speech')\n",
      "[tflite_quality_mapper.cc : 33] RAW: Loading TF Lattice TFLite model at visqol/model/lattice_tcditugenmeetpackhref_ls2_nl60_lr12_bs2048_learn.005_ep2400_train1_7_raw.tflite\n",
      "INFO: Created TensorFlow Lite XNNPACK delegate for CPU.\n"
     ]
    },
    {
     "name": "stdout",
     "output_type": "stream",
     "text": [
      "Discriminator training...\n"
     ]
    },
    {
     "name": "stderr",
     "output_type": "stream",
     "text": [
      "100%|██████████| 200/200 [00:50<00:00,  3.96it/s]\n",
      "100%|██████████| 493/493 [02:12<00:00,  3.71it/s]\n",
      "100%|██████████| 200/200 [00:52<00:00,  3.78it/s]\n"
     ]
    },
    {
     "name": "stdout",
     "output_type": "stream",
     "text": [
      "Epoch 45 Finished\n",
      "Generator training (with discriminator fixed)...\n"
     ]
    },
    {
     "name": "stderr",
     "output_type": "stream",
     "text": [
      "100%|██████████| 100/100 [00:24<00:00,  4.07it/s]\n"
     ]
    },
    {
     "name": "stdout",
     "output_type": "stream",
     "text": [
      "Evaluate G by validation data ...\n"
     ]
    },
    {
     "name": "stderr",
     "output_type": "stream",
     "text": [
      "/opt/conda/lib/python3.7/site-packages/pysiib.py:104: UserWarning: stimuli must have at least 20 seconds of speech\n",
      "  warnings.warn('stimuli must have at least 20 seconds of speech')\n",
      "/opt/conda/lib/python3.7/site-packages/pysiib.py:104: UserWarning: stimuli must have at least 20 seconds of speech\n",
      "  warnings.warn('stimuli must have at least 20 seconds of speech')\n",
      "/opt/conda/lib/python3.7/site-packages/pysiib.py:104: UserWarning: stimuli must have at least 20 seconds of speech\n",
      "  warnings.warn('stimuli must have at least 20 seconds of speech')\n",
      "/opt/conda/lib/python3.7/site-packages/pysiib.py:104: UserWarning: stimuli must have at least 20 seconds of speech\n",
      "  warnings.warn('stimuli must have at least 20 seconds of speech')\n",
      "/opt/conda/lib/python3.7/site-packages/pysiib.py:104: UserWarning: stimuli must have at least 20 seconds of speech\n",
      "  warnings.warn('stimuli must have at least 20 seconds of speech')\n",
      "/opt/conda/lib/python3.7/site-packages/pysiib.py:104: UserWarning: stimuli must have at least 20 seconds of speech\n",
      "  warnings.warn('stimuli must have at least 20 seconds of speech')\n",
      "/opt/conda/lib/python3.7/site-packages/pysiib.py:104: UserWarning: stimuli must have at least 20 seconds of speech\n",
      "  warnings.warn('stimuli must have at least 20 seconds of speech')\n",
      "/opt/conda/lib/python3.7/site-packages/pysiib.py:104: UserWarning: stimuli must have at least 20 seconds of speech\n",
      "  warnings.warn('stimuli must have at least 20 seconds of speech')\n",
      "[tflite_quality_mapper.cc : 33] RAW: Loading TF Lattice TFLite model at visqol/model/lattice_tcditugenmeetpackhref_ls2_nl60_lr12_bs2048_learn.005_ep2400_train1_7_raw.tflite\n",
      "INFO: Created TensorFlow Lite XNNPACK delegate for CPU.\n"
     ]
    },
    {
     "name": "stdout",
     "output_type": "stream",
     "text": [
      "Sample training data for discriminator training...\n"
     ]
    },
    {
     "name": "stderr",
     "output_type": "stream",
     "text": [
      "/opt/conda/lib/python3.7/site-packages/pysiib.py:104: UserWarning: stimuli must have at least 20 seconds of speech\n",
      "  warnings.warn('stimuli must have at least 20 seconds of speech')\n",
      "/opt/conda/lib/python3.7/site-packages/pysiib.py:104: UserWarning: stimuli must have at least 20 seconds of speech\n",
      "  warnings.warn('stimuli must have at least 20 seconds of speech')\n",
      "/opt/conda/lib/python3.7/site-packages/pysiib.py:104: UserWarning: stimuli must have at least 20 seconds of speech\n",
      "  warnings.warn('stimuli must have at least 20 seconds of speech')\n",
      "/opt/conda/lib/python3.7/site-packages/pysiib.py:104: UserWarning: stimuli must have at least 20 seconds of speech\n",
      "  warnings.warn('stimuli must have at least 20 seconds of speech')\n",
      "/opt/conda/lib/python3.7/site-packages/pysiib.py:104: UserWarning: stimuli must have at least 20 seconds of speech\n",
      "  warnings.warn('stimuli must have at least 20 seconds of speech')\n",
      "/opt/conda/lib/python3.7/site-packages/pysiib.py:104: UserWarning: stimuli must have at least 20 seconds of speech\n",
      "  warnings.warn('stimuli must have at least 20 seconds of speech')\n",
      "/opt/conda/lib/python3.7/site-packages/pysiib.py:104: UserWarning: stimuli must have at least 20 seconds of speech\n",
      "  warnings.warn('stimuli must have at least 20 seconds of speech')\n",
      "/opt/conda/lib/python3.7/site-packages/pysiib.py:104: UserWarning: stimuli must have at least 20 seconds of speech\n",
      "  warnings.warn('stimuli must have at least 20 seconds of speech')\n",
      "/opt/conda/lib/python3.7/site-packages/pysiib.py:104: UserWarning: stimuli must have at least 20 seconds of speech\n",
      "  warnings.warn('stimuli must have at least 20 seconds of speech')\n",
      "/opt/conda/lib/python3.7/site-packages/pysiib.py:104: UserWarning: stimuli must have at least 20 seconds of speech\n",
      "  warnings.warn('stimuli must have at least 20 seconds of speech')\n",
      "/opt/conda/lib/python3.7/site-packages/pysiib.py:104: UserWarning: stimuli must have at least 20 seconds of speech\n",
      "  warnings.warn('stimuli must have at least 20 seconds of speech')\n",
      "/opt/conda/lib/python3.7/site-packages/pysiib.py:104: UserWarning: stimuli must have at least 20 seconds of speech\n",
      "  warnings.warn('stimuli must have at least 20 seconds of speech')\n",
      "[tflite_quality_mapper.cc : 33] RAW: Loading TF Lattice TFLite model at visqol/model/lattice_tcditugenmeetpackhref_ls2_nl60_lr12_bs2048_learn.005_ep2400_train1_7_raw.tflite\n",
      "INFO: Created TensorFlow Lite XNNPACK delegate for CPU.\n",
      "/opt/conda/lib/python3.7/site-packages/pysiib.py:104: UserWarning: stimuli must have at least 20 seconds of speech\n",
      "  warnings.warn('stimuli must have at least 20 seconds of speech')\n",
      "/opt/conda/lib/python3.7/site-packages/pysiib.py:104: UserWarning: stimuli must have at least 20 seconds of speech\n",
      "  warnings.warn('stimuli must have at least 20 seconds of speech')\n",
      "/opt/conda/lib/python3.7/site-packages/pysiib.py:104: UserWarning: stimuli must have at least 20 seconds of speech\n",
      "  warnings.warn('stimuli must have at least 20 seconds of speech')\n",
      "/opt/conda/lib/python3.7/site-packages/pysiib.py:104: UserWarning: stimuli must have at least 20 seconds of speech\n",
      "  warnings.warn('stimuli must have at least 20 seconds of speech')\n",
      "/opt/conda/lib/python3.7/site-packages/pysiib.py:104: UserWarning: stimuli must have at least 20 seconds of speech\n",
      "  warnings.warn('stimuli must have at least 20 seconds of speech')\n",
      "[tflite_quality_mapper.cc : 33] RAW: Loading TF Lattice TFLite model at visqol/model/lattice_tcditugenmeetpackhref_ls2_nl60_lr12_bs2048_learn.005_ep2400_train1_7_raw.tflite\n",
      "INFO: Created TensorFlow Lite XNNPACK delegate for CPU.\n"
     ]
    },
    {
     "name": "stdout",
     "output_type": "stream",
     "text": [
      "Discriminator training...\n"
     ]
    },
    {
     "name": "stderr",
     "output_type": "stream",
     "text": [
      "100%|██████████| 200/200 [00:58<00:00,  3.45it/s]\n",
      "100%|██████████| 500/500 [02:09<00:00,  3.86it/s]\n",
      "100%|██████████| 200/200 [01:00<00:00,  3.30it/s]\n"
     ]
    },
    {
     "name": "stdout",
     "output_type": "stream",
     "text": [
      "Epoch 46 Finished\n",
      "Generator training (with discriminator fixed)...\n"
     ]
    },
    {
     "name": "stderr",
     "output_type": "stream",
     "text": [
      "100%|██████████| 100/100 [00:19<00:00,  5.07it/s]\n"
     ]
    },
    {
     "name": "stdout",
     "output_type": "stream",
     "text": [
      "Evaluate G by validation data ...\n"
     ]
    },
    {
     "name": "stderr",
     "output_type": "stream",
     "text": [
      "/opt/conda/lib/python3.7/site-packages/pysiib.py:104: UserWarning: stimuli must have at least 20 seconds of speech\n",
      "  warnings.warn('stimuli must have at least 20 seconds of speech')\n",
      "/opt/conda/lib/python3.7/site-packages/pysiib.py:104: UserWarning: stimuli must have at least 20 seconds of speech\n",
      "  warnings.warn('stimuli must have at least 20 seconds of speech')\n",
      "/opt/conda/lib/python3.7/site-packages/pysiib.py:104: UserWarning: stimuli must have at least 20 seconds of speech\n",
      "  warnings.warn('stimuli must have at least 20 seconds of speech')\n",
      "/opt/conda/lib/python3.7/site-packages/pysiib.py:104: UserWarning: stimuli must have at least 20 seconds of speech\n",
      "  warnings.warn('stimuli must have at least 20 seconds of speech')\n",
      "/opt/conda/lib/python3.7/site-packages/pysiib.py:104: UserWarning: stimuli must have at least 20 seconds of speech\n",
      "  warnings.warn('stimuli must have at least 20 seconds of speech')\n",
      "/opt/conda/lib/python3.7/site-packages/pysiib.py:104: UserWarning: stimuli must have at least 20 seconds of speech\n",
      "  warnings.warn('stimuli must have at least 20 seconds of speech')\n",
      "/opt/conda/lib/python3.7/site-packages/pysiib.py:104: UserWarning: stimuli must have at least 20 seconds of speech\n",
      "  warnings.warn('stimuli must have at least 20 seconds of speech')\n",
      "/opt/conda/lib/python3.7/site-packages/pysiib.py:104: UserWarning: stimuli must have at least 20 seconds of speech\n",
      "  warnings.warn('stimuli must have at least 20 seconds of speech')\n",
      "[tflite_quality_mapper.cc : 33] RAW: Loading TF Lattice TFLite model at visqol/model/lattice_tcditugenmeetpackhref_ls2_nl60_lr12_bs2048_learn.005_ep2400_train1_7_raw.tflite\n",
      "INFO: Created TensorFlow Lite XNNPACK delegate for CPU.\n"
     ]
    },
    {
     "name": "stdout",
     "output_type": "stream",
     "text": [
      "Sample training data for discriminator training...\n"
     ]
    },
    {
     "name": "stderr",
     "output_type": "stream",
     "text": [
      "/opt/conda/lib/python3.7/site-packages/pysiib.py:104: UserWarning: stimuli must have at least 20 seconds of speech\n",
      "  warnings.warn('stimuli must have at least 20 seconds of speech')\n",
      "/opt/conda/lib/python3.7/site-packages/pysiib.py:104: UserWarning: stimuli must have at least 20 seconds of speech\n",
      "  warnings.warn('stimuli must have at least 20 seconds of speech')\n",
      "/opt/conda/lib/python3.7/site-packages/pysiib.py:104: UserWarning: stimuli must have at least 20 seconds of speech\n",
      "  warnings.warn('stimuli must have at least 20 seconds of speech')\n",
      "/opt/conda/lib/python3.7/site-packages/pysiib.py:104: UserWarning: stimuli must have at least 20 seconds of speech\n",
      "  warnings.warn('stimuli must have at least 20 seconds of speech')\n",
      "/opt/conda/lib/python3.7/site-packages/pysiib.py:104: UserWarning: stimuli must have at least 20 seconds of speech\n",
      "  warnings.warn('stimuli must have at least 20 seconds of speech')\n",
      "/opt/conda/lib/python3.7/site-packages/pysiib.py:104: UserWarning: stimuli must have at least 20 seconds of speech\n",
      "  warnings.warn('stimuli must have at least 20 seconds of speech')\n",
      "/opt/conda/lib/python3.7/site-packages/pysiib.py:104: UserWarning: stimuli must have at least 20 seconds of speech\n",
      "  warnings.warn('stimuli must have at least 20 seconds of speech')\n",
      "[tflite_quality_mapper.cc : 33] RAW: Loading TF Lattice TFLite model at visqol/model/lattice_tcditugenmeetpackhref_ls2_nl60_lr12_bs2048_learn.005_ep2400_train1_7_raw.tflite\n",
      "INFO: Created TensorFlow Lite XNNPACK delegate for CPU.\n",
      "/opt/conda/lib/python3.7/site-packages/pysiib.py:104: UserWarning: stimuli must have at least 20 seconds of speech\n",
      "  warnings.warn('stimuli must have at least 20 seconds of speech')\n",
      "/opt/conda/lib/python3.7/site-packages/pysiib.py:104: UserWarning: stimuli must have at least 20 seconds of speech\n",
      "  warnings.warn('stimuli must have at least 20 seconds of speech')\n",
      "/opt/conda/lib/python3.7/site-packages/pysiib.py:104: UserWarning: stimuli must have at least 20 seconds of speech\n",
      "  warnings.warn('stimuli must have at least 20 seconds of speech')\n",
      "[tflite_quality_mapper.cc : 33] RAW: Loading TF Lattice TFLite model at visqol/model/lattice_tcditugenmeetpackhref_ls2_nl60_lr12_bs2048_learn.005_ep2400_train1_7_raw.tflite\n",
      "INFO: Created TensorFlow Lite XNNPACK delegate for CPU.\n"
     ]
    },
    {
     "name": "stdout",
     "output_type": "stream",
     "text": [
      "Discriminator training...\n"
     ]
    },
    {
     "name": "stderr",
     "output_type": "stream",
     "text": [
      "100%|██████████| 200/200 [00:45<00:00,  4.42it/s]\n",
      "100%|██████████| 506/506 [02:12<00:00,  3.82it/s]\n",
      "100%|██████████| 200/200 [00:44<00:00,  4.47it/s]\n"
     ]
    },
    {
     "name": "stdout",
     "output_type": "stream",
     "text": [
      "Epoch 47 Finished\n",
      "Generator training (with discriminator fixed)...\n"
     ]
    },
    {
     "name": "stderr",
     "output_type": "stream",
     "text": [
      "100%|██████████| 100/100 [00:21<00:00,  4.74it/s]\n"
     ]
    },
    {
     "name": "stdout",
     "output_type": "stream",
     "text": [
      "Evaluate G by validation data ...\n"
     ]
    },
    {
     "name": "stderr",
     "output_type": "stream",
     "text": [
      "/opt/conda/lib/python3.7/site-packages/pysiib.py:104: UserWarning: stimuli must have at least 20 seconds of speech\n",
      "  warnings.warn('stimuli must have at least 20 seconds of speech')\n",
      "/opt/conda/lib/python3.7/site-packages/pysiib.py:104: UserWarning: stimuli must have at least 20 seconds of speech\n",
      "  warnings.warn('stimuli must have at least 20 seconds of speech')\n",
      "/opt/conda/lib/python3.7/site-packages/pysiib.py:104: UserWarning: stimuli must have at least 20 seconds of speech\n",
      "  warnings.warn('stimuli must have at least 20 seconds of speech')\n",
      "/opt/conda/lib/python3.7/site-packages/pysiib.py:104: UserWarning: stimuli must have at least 20 seconds of speech\n",
      "  warnings.warn('stimuli must have at least 20 seconds of speech')\n",
      "/opt/conda/lib/python3.7/site-packages/pysiib.py:104: UserWarning: stimuli must have at least 20 seconds of speech\n",
      "  warnings.warn('stimuli must have at least 20 seconds of speech')\n",
      "/opt/conda/lib/python3.7/site-packages/pysiib.py:104: UserWarning: stimuli must have at least 20 seconds of speech\n",
      "  warnings.warn('stimuli must have at least 20 seconds of speech')\n",
      "/opt/conda/lib/python3.7/site-packages/pysiib.py:104: UserWarning: stimuli must have at least 20 seconds of speech\n",
      "  warnings.warn('stimuli must have at least 20 seconds of speech')\n",
      "/opt/conda/lib/python3.7/site-packages/pysiib.py:104: UserWarning: stimuli must have at least 20 seconds of speech\n",
      "  warnings.warn('stimuli must have at least 20 seconds of speech')\n",
      "[tflite_quality_mapper.cc : 33] RAW: Loading TF Lattice TFLite model at visqol/model/lattice_tcditugenmeetpackhref_ls2_nl60_lr12_bs2048_learn.005_ep2400_train1_7_raw.tflite\n",
      "INFO: Created TensorFlow Lite XNNPACK delegate for CPU.\n"
     ]
    },
    {
     "name": "stdout",
     "output_type": "stream",
     "text": [
      "Sample training data for discriminator training...\n"
     ]
    },
    {
     "name": "stderr",
     "output_type": "stream",
     "text": [
      "/opt/conda/lib/python3.7/site-packages/pysiib.py:104: UserWarning: stimuli must have at least 20 seconds of speech\n",
      "  warnings.warn('stimuli must have at least 20 seconds of speech')\n",
      "/opt/conda/lib/python3.7/site-packages/pysiib.py:104: UserWarning: stimuli must have at least 20 seconds of speech\n",
      "  warnings.warn('stimuli must have at least 20 seconds of speech')\n",
      "/opt/conda/lib/python3.7/site-packages/pysiib.py:104: UserWarning: stimuli must have at least 20 seconds of speech\n",
      "  warnings.warn('stimuli must have at least 20 seconds of speech')\n",
      "/opt/conda/lib/python3.7/site-packages/pysiib.py:104: UserWarning: stimuli must have at least 20 seconds of speech\n",
      "  warnings.warn('stimuli must have at least 20 seconds of speech')\n",
      "/opt/conda/lib/python3.7/site-packages/pysiib.py:104: UserWarning: stimuli must have at least 20 seconds of speech\n",
      "  warnings.warn('stimuli must have at least 20 seconds of speech')\n",
      "/opt/conda/lib/python3.7/site-packages/pysiib.py:104: UserWarning: stimuli must have at least 20 seconds of speech\n",
      "  warnings.warn('stimuli must have at least 20 seconds of speech')\n",
      "/opt/conda/lib/python3.7/site-packages/pysiib.py:104: UserWarning: stimuli must have at least 20 seconds of speech\n",
      "  warnings.warn('stimuli must have at least 20 seconds of speech')\n",
      "/opt/conda/lib/python3.7/site-packages/pysiib.py:104: UserWarning: stimuli must have at least 20 seconds of speech\n",
      "  warnings.warn('stimuli must have at least 20 seconds of speech')\n",
      "/opt/conda/lib/python3.7/site-packages/pysiib.py:104: UserWarning: stimuli must have at least 20 seconds of speech\n",
      "  warnings.warn('stimuli must have at least 20 seconds of speech')\n",
      "/opt/conda/lib/python3.7/site-packages/pysiib.py:104: UserWarning: stimuli must have at least 20 seconds of speech\n",
      "  warnings.warn('stimuli must have at least 20 seconds of speech')\n",
      "/opt/conda/lib/python3.7/site-packages/pysiib.py:104: UserWarning: stimuli must have at least 20 seconds of speech\n",
      "  warnings.warn('stimuli must have at least 20 seconds of speech')\n",
      "/opt/conda/lib/python3.7/site-packages/pysiib.py:104: UserWarning: stimuli must have at least 20 seconds of speech\n",
      "  warnings.warn('stimuli must have at least 20 seconds of speech')\n",
      "/opt/conda/lib/python3.7/site-packages/pysiib.py:104: UserWarning: stimuli must have at least 20 seconds of speech\n",
      "  warnings.warn('stimuli must have at least 20 seconds of speech')\n",
      "/opt/conda/lib/python3.7/site-packages/pysiib.py:104: UserWarning: stimuli must have at least 20 seconds of speech\n",
      "  warnings.warn('stimuli must have at least 20 seconds of speech')\n",
      "/opt/conda/lib/python3.7/site-packages/pysiib.py:104: UserWarning: stimuli must have at least 20 seconds of speech\n",
      "  warnings.warn('stimuli must have at least 20 seconds of speech')\n",
      "/opt/conda/lib/python3.7/site-packages/pysiib.py:104: UserWarning: stimuli must have at least 20 seconds of speech\n",
      "  warnings.warn('stimuli must have at least 20 seconds of speech')\n",
      "[tflite_quality_mapper.cc : 33] RAW: Loading TF Lattice TFLite model at visqol/model/lattice_tcditugenmeetpackhref_ls2_nl60_lr12_bs2048_learn.005_ep2400_train1_7_raw.tflite\n",
      "INFO: Created TensorFlow Lite XNNPACK delegate for CPU.\n",
      "/opt/conda/lib/python3.7/site-packages/pysiib.py:104: UserWarning: stimuli must have at least 20 seconds of speech\n",
      "  warnings.warn('stimuli must have at least 20 seconds of speech')\n",
      "/opt/conda/lib/python3.7/site-packages/pysiib.py:104: UserWarning: stimuli must have at least 20 seconds of speech\n",
      "  warnings.warn('stimuli must have at least 20 seconds of speech')\n",
      "/opt/conda/lib/python3.7/site-packages/pysiib.py:104: UserWarning: stimuli must have at least 20 seconds of speech\n",
      "  warnings.warn('stimuli must have at least 20 seconds of speech')\n",
      "/opt/conda/lib/python3.7/site-packages/pysiib.py:104: UserWarning: stimuli must have at least 20 seconds of speech\n",
      "  warnings.warn('stimuli must have at least 20 seconds of speech')\n",
      "/opt/conda/lib/python3.7/site-packages/pysiib.py:104: UserWarning: stimuli must have at least 20 seconds of speech\n",
      "  warnings.warn('stimuli must have at least 20 seconds of speech')\n",
      "[tflite_quality_mapper.cc : 33] RAW: Loading TF Lattice TFLite model at visqol/model/lattice_tcditugenmeetpackhref_ls2_nl60_lr12_bs2048_learn.005_ep2400_train1_7_raw.tflite\n",
      "INFO: Created TensorFlow Lite XNNPACK delegate for CPU.\n"
     ]
    },
    {
     "name": "stdout",
     "output_type": "stream",
     "text": [
      "Discriminator training...\n"
     ]
    },
    {
     "name": "stderr",
     "output_type": "stream",
     "text": [
      "100%|██████████| 200/200 [00:56<00:00,  3.56it/s]\n",
      "100%|██████████| 513/513 [02:20<00:00,  3.65it/s]\n",
      "100%|██████████| 200/200 [00:55<00:00,  3.60it/s]\n"
     ]
    },
    {
     "name": "stdout",
     "output_type": "stream",
     "text": [
      "Epoch 48 Finished\n",
      "Generator training (with discriminator fixed)...\n"
     ]
    },
    {
     "name": "stderr",
     "output_type": "stream",
     "text": [
      "100%|██████████| 100/100 [00:21<00:00,  4.71it/s]\n"
     ]
    },
    {
     "name": "stdout",
     "output_type": "stream",
     "text": [
      "Evaluate G by validation data ...\n"
     ]
    },
    {
     "name": "stderr",
     "output_type": "stream",
     "text": [
      "/opt/conda/lib/python3.7/site-packages/pysiib.py:104: UserWarning: stimuli must have at least 20 seconds of speech\n",
      "  warnings.warn('stimuli must have at least 20 seconds of speech')\n",
      "/opt/conda/lib/python3.7/site-packages/pysiib.py:104: UserWarning: stimuli must have at least 20 seconds of speech\n",
      "  warnings.warn('stimuli must have at least 20 seconds of speech')\n",
      "/opt/conda/lib/python3.7/site-packages/pysiib.py:104: UserWarning: stimuli must have at least 20 seconds of speech\n",
      "  warnings.warn('stimuli must have at least 20 seconds of speech')\n",
      "/opt/conda/lib/python3.7/site-packages/pysiib.py:104: UserWarning: stimuli must have at least 20 seconds of speech\n",
      "  warnings.warn('stimuli must have at least 20 seconds of speech')\n",
      "/opt/conda/lib/python3.7/site-packages/pysiib.py:104: UserWarning: stimuli must have at least 20 seconds of speech\n",
      "  warnings.warn('stimuli must have at least 20 seconds of speech')\n",
      "/opt/conda/lib/python3.7/site-packages/pysiib.py:104: UserWarning: stimuli must have at least 20 seconds of speech\n",
      "  warnings.warn('stimuli must have at least 20 seconds of speech')\n",
      "/opt/conda/lib/python3.7/site-packages/pysiib.py:104: UserWarning: stimuli must have at least 20 seconds of speech\n",
      "  warnings.warn('stimuli must have at least 20 seconds of speech')\n",
      "/opt/conda/lib/python3.7/site-packages/pysiib.py:104: UserWarning: stimuli must have at least 20 seconds of speech\n",
      "  warnings.warn('stimuli must have at least 20 seconds of speech')\n",
      "[tflite_quality_mapper.cc : 33] RAW: Loading TF Lattice TFLite model at visqol/model/lattice_tcditugenmeetpackhref_ls2_nl60_lr12_bs2048_learn.005_ep2400_train1_7_raw.tflite\n",
      "INFO: Created TensorFlow Lite XNNPACK delegate for CPU.\n"
     ]
    },
    {
     "name": "stdout",
     "output_type": "stream",
     "text": [
      "Sample training data for discriminator training...\n"
     ]
    },
    {
     "name": "stderr",
     "output_type": "stream",
     "text": [
      "/opt/conda/lib/python3.7/site-packages/pysiib.py:104: UserWarning: stimuli must have at least 20 seconds of speech\n",
      "  warnings.warn('stimuli must have at least 20 seconds of speech')\n",
      "/opt/conda/lib/python3.7/site-packages/pysiib.py:104: UserWarning: stimuli must have at least 20 seconds of speech\n",
      "  warnings.warn('stimuli must have at least 20 seconds of speech')\n",
      "/opt/conda/lib/python3.7/site-packages/pysiib.py:104: UserWarning: stimuli must have at least 20 seconds of speech\n",
      "  warnings.warn('stimuli must have at least 20 seconds of speech')\n",
      "/opt/conda/lib/python3.7/site-packages/pysiib.py:104: UserWarning: stimuli must have at least 20 seconds of speech\n",
      "  warnings.warn('stimuli must have at least 20 seconds of speech')\n",
      "/opt/conda/lib/python3.7/site-packages/pysiib.py:104: UserWarning: stimuli must have at least 20 seconds of speech\n",
      "  warnings.warn('stimuli must have at least 20 seconds of speech')\n",
      "/opt/conda/lib/python3.7/site-packages/pysiib.py:104: UserWarning: stimuli must have at least 20 seconds of speech\n",
      "  warnings.warn('stimuli must have at least 20 seconds of speech')\n",
      "/opt/conda/lib/python3.7/site-packages/pysiib.py:104: UserWarning: stimuli must have at least 20 seconds of speech\n",
      "  warnings.warn('stimuli must have at least 20 seconds of speech')\n",
      "[tflite_quality_mapper.cc : 33] RAW: Loading TF Lattice TFLite model at visqol/model/lattice_tcditugenmeetpackhref_ls2_nl60_lr12_bs2048_learn.005_ep2400_train1_7_raw.tflite\n",
      "INFO: Created TensorFlow Lite XNNPACK delegate for CPU.\n",
      "/opt/conda/lib/python3.7/site-packages/pysiib.py:104: UserWarning: stimuli must have at least 20 seconds of speech\n",
      "  warnings.warn('stimuli must have at least 20 seconds of speech')\n",
      "/opt/conda/lib/python3.7/site-packages/pysiib.py:104: UserWarning: stimuli must have at least 20 seconds of speech\n",
      "  warnings.warn('stimuli must have at least 20 seconds of speech')\n",
      "/opt/conda/lib/python3.7/site-packages/pysiib.py:104: UserWarning: stimuli must have at least 20 seconds of speech\n",
      "  warnings.warn('stimuli must have at least 20 seconds of speech')\n",
      "/opt/conda/lib/python3.7/site-packages/pysiib.py:104: UserWarning: stimuli must have at least 20 seconds of speech\n",
      "  warnings.warn('stimuli must have at least 20 seconds of speech')\n",
      "/opt/conda/lib/python3.7/site-packages/pysiib.py:104: UserWarning: stimuli must have at least 20 seconds of speech\n",
      "  warnings.warn('stimuli must have at least 20 seconds of speech')\n",
      "[tflite_quality_mapper.cc : 33] RAW: Loading TF Lattice TFLite model at visqol/model/lattice_tcditugenmeetpackhref_ls2_nl60_lr12_bs2048_learn.005_ep2400_train1_7_raw.tflite\n",
      "INFO: Created TensorFlow Lite XNNPACK delegate for CPU.\n"
     ]
    },
    {
     "name": "stdout",
     "output_type": "stream",
     "text": [
      "Discriminator training...\n"
     ]
    },
    {
     "name": "stderr",
     "output_type": "stream",
     "text": [
      "100%|██████████| 200/200 [00:55<00:00,  3.61it/s]\n",
      "100%|██████████| 520/520 [02:15<00:00,  3.84it/s]\n",
      "100%|██████████| 200/200 [00:52<00:00,  3.82it/s]\n"
     ]
    },
    {
     "name": "stdout",
     "output_type": "stream",
     "text": [
      "Epoch 49 Finished\n",
      "Generator training (with discriminator fixed)...\n"
     ]
    },
    {
     "name": "stderr",
     "output_type": "stream",
     "text": [
      "100%|██████████| 100/100 [00:18<00:00,  5.49it/s]\n"
     ]
    },
    {
     "name": "stdout",
     "output_type": "stream",
     "text": [
      "Evaluate G by validation data ...\n"
     ]
    },
    {
     "name": "stderr",
     "output_type": "stream",
     "text": [
      "/opt/conda/lib/python3.7/site-packages/pysiib.py:104: UserWarning: stimuli must have at least 20 seconds of speech\n",
      "  warnings.warn('stimuli must have at least 20 seconds of speech')\n",
      "/opt/conda/lib/python3.7/site-packages/pysiib.py:104: UserWarning: stimuli must have at least 20 seconds of speech\n",
      "  warnings.warn('stimuli must have at least 20 seconds of speech')\n",
      "/opt/conda/lib/python3.7/site-packages/pysiib.py:104: UserWarning: stimuli must have at least 20 seconds of speech\n",
      "  warnings.warn('stimuli must have at least 20 seconds of speech')\n",
      "/opt/conda/lib/python3.7/site-packages/pysiib.py:104: UserWarning: stimuli must have at least 20 seconds of speech\n",
      "  warnings.warn('stimuli must have at least 20 seconds of speech')\n",
      "/opt/conda/lib/python3.7/site-packages/pysiib.py:104: UserWarning: stimuli must have at least 20 seconds of speech\n",
      "  warnings.warn('stimuli must have at least 20 seconds of speech')\n",
      "/opt/conda/lib/python3.7/site-packages/pysiib.py:104: UserWarning: stimuli must have at least 20 seconds of speech\n",
      "  warnings.warn('stimuli must have at least 20 seconds of speech')\n",
      "/opt/conda/lib/python3.7/site-packages/pysiib.py:104: UserWarning: stimuli must have at least 20 seconds of speech\n",
      "  warnings.warn('stimuli must have at least 20 seconds of speech')\n",
      "/opt/conda/lib/python3.7/site-packages/pysiib.py:104: UserWarning: stimuli must have at least 20 seconds of speech\n",
      "  warnings.warn('stimuli must have at least 20 seconds of speech')\n",
      "[tflite_quality_mapper.cc : 33] RAW: Loading TF Lattice TFLite model at visqol/model/lattice_tcditugenmeetpackhref_ls2_nl60_lr12_bs2048_learn.005_ep2400_train1_7_raw.tflite\n",
      "INFO: Created TensorFlow Lite XNNPACK delegate for CPU.\n"
     ]
    },
    {
     "name": "stdout",
     "output_type": "stream",
     "text": [
      "Sample training data for discriminator training...\n"
     ]
    },
    {
     "name": "stderr",
     "output_type": "stream",
     "text": [
      "/opt/conda/lib/python3.7/site-packages/pysiib.py:104: UserWarning: stimuli must have at least 20 seconds of speech\n",
      "  warnings.warn('stimuli must have at least 20 seconds of speech')\n",
      "/opt/conda/lib/python3.7/site-packages/pysiib.py:104: UserWarning: stimuli must have at least 20 seconds of speech\n",
      "  warnings.warn('stimuli must have at least 20 seconds of speech')\n",
      "/opt/conda/lib/python3.7/site-packages/pysiib.py:104: UserWarning: stimuli must have at least 20 seconds of speech\n",
      "  warnings.warn('stimuli must have at least 20 seconds of speech')\n",
      "/opt/conda/lib/python3.7/site-packages/pysiib.py:104: UserWarning: stimuli must have at least 20 seconds of speech\n",
      "  warnings.warn('stimuli must have at least 20 seconds of speech')\n",
      "/opt/conda/lib/python3.7/site-packages/pysiib.py:104: UserWarning: stimuli must have at least 20 seconds of speech\n",
      "  warnings.warn('stimuli must have at least 20 seconds of speech')\n",
      "/opt/conda/lib/python3.7/site-packages/pysiib.py:104: UserWarning: stimuli must have at least 20 seconds of speech\n",
      "  warnings.warn('stimuli must have at least 20 seconds of speech')\n",
      "/opt/conda/lib/python3.7/site-packages/pysiib.py:104: UserWarning: stimuli must have at least 20 seconds of speech\n",
      "  warnings.warn('stimuli must have at least 20 seconds of speech')\n",
      "/opt/conda/lib/python3.7/site-packages/pysiib.py:104: UserWarning: stimuli must have at least 20 seconds of speech\n",
      "  warnings.warn('stimuli must have at least 20 seconds of speech')\n",
      "/opt/conda/lib/python3.7/site-packages/pysiib.py:104: UserWarning: stimuli must have at least 20 seconds of speech\n",
      "  warnings.warn('stimuli must have at least 20 seconds of speech')\n",
      "/opt/conda/lib/python3.7/site-packages/pysiib.py:104: UserWarning: stimuli must have at least 20 seconds of speech\n",
      "  warnings.warn('stimuli must have at least 20 seconds of speech')\n",
      "/opt/conda/lib/python3.7/site-packages/pysiib.py:104: UserWarning: stimuli must have at least 20 seconds of speech\n",
      "  warnings.warn('stimuli must have at least 20 seconds of speech')\n",
      "/opt/conda/lib/python3.7/site-packages/pysiib.py:104: UserWarning: stimuli must have at least 20 seconds of speech\n",
      "  warnings.warn('stimuli must have at least 20 seconds of speech')\n",
      "[tflite_quality_mapper.cc : 33] RAW: Loading TF Lattice TFLite model at visqol/model/lattice_tcditugenmeetpackhref_ls2_nl60_lr12_bs2048_learn.005_ep2400_train1_7_raw.tflite\n",
      "INFO: Created TensorFlow Lite XNNPACK delegate for CPU.\n",
      "/opt/conda/lib/python3.7/site-packages/pysiib.py:104: UserWarning: stimuli must have at least 20 seconds of speech\n",
      "  warnings.warn('stimuli must have at least 20 seconds of speech')\n",
      "/opt/conda/lib/python3.7/site-packages/pysiib.py:104: UserWarning: stimuli must have at least 20 seconds of speech\n",
      "  warnings.warn('stimuli must have at least 20 seconds of speech')\n",
      "/opt/conda/lib/python3.7/site-packages/pysiib.py:104: UserWarning: stimuli must have at least 20 seconds of speech\n",
      "  warnings.warn('stimuli must have at least 20 seconds of speech')\n",
      "/opt/conda/lib/python3.7/site-packages/pysiib.py:104: UserWarning: stimuli must have at least 20 seconds of speech\n",
      "  warnings.warn('stimuli must have at least 20 seconds of speech')\n",
      "[tflite_quality_mapper.cc : 33] RAW: Loading TF Lattice TFLite model at visqol/model/lattice_tcditugenmeetpackhref_ls2_nl60_lr12_bs2048_learn.005_ep2400_train1_7_raw.tflite\n",
      "INFO: Created TensorFlow Lite XNNPACK delegate for CPU.\n"
     ]
    },
    {
     "name": "stdout",
     "output_type": "stream",
     "text": [
      "Discriminator training...\n"
     ]
    },
    {
     "name": "stderr",
     "output_type": "stream",
     "text": [
      "100%|██████████| 200/200 [00:49<00:00,  4.02it/s]\n",
      "100%|██████████| 526/526 [02:25<00:00,  3.62it/s]\n",
      "100%|██████████| 200/200 [00:49<00:00,  4.03it/s]"
     ]
    },
    {
     "name": "stdout",
     "output_type": "stream",
     "text": [
      "Epoch 50 Finished\n",
      "Finished\n"
     ]
    },
    {
     "name": "stderr",
     "output_type": "stream",
     "text": [
      "\n"
     ]
    }
   ],
   "source": [
    "Test_HASPI = []\n",
    "Test_ESTOI = []\n",
    "Test_SIIB = []\n",
    "Test_PESQ = []\n",
    "Test_VISQOL = []\n",
    "\n",
    "Previous_Discriminator_training_list = []\n",
    "shutil.rmtree(output_path)\n",
    "\n",
    "step_g = 0\n",
    "step_d = 0\n",
    "\n",
    "cuda_device = '0'\n",
    "os.environ[\"CUDA_VISIBLE_DEVICES\"] = cuda_device\n",
    "\n",
    "try:\n",
    "\tfor gan_epoch in np.arange(1, GAN_epoch+1):\n",
    "\n",
    "\t\t# Prepare directories\n",
    "\t\tcreatdir(output_path+\"/epoch\"+str(gan_epoch))\n",
    "\t\tcreatdir(output_path+\"/epoch\"+str(gan_epoch)+\"/\"+\"Test_epoch\"+str(gan_epoch))\n",
    "\t\tcreatdir(output_path+'/For_discriminator_training')\n",
    "\t\tcreatdir(output_path+'/temp')\n",
    "\n",
    "\t\t# random sample some training data  \n",
    "\t\trandom.shuffle(Generator_Train_paths)\n",
    "\t\tgenloader = create_dataloader(Generator_Train_paths[0:round(1*num_of_sampling)],Train_Noise_path)\n",
    "\n",
    "\t\tif gan_epoch>=2:\n",
    "\t\t\tprint('Generator training (with discriminator fixed)...')\n",
    "\t\t\tfor clean_band, clean_mag, clean_phase, noise_band, noise_mag, noise_phase, target, target_qua, filename in tqdm(genloader):\n",
    "\t\t\t\tclean_band = clean_band.cuda()\n",
    "\t\t\t\tnoise_band = noise_band.cuda()\n",
    "\t\t\t\ttarget = target.cuda()\n",
    "\t\t\t\ttarget_qua = target_qua.cuda()\n",
    "\n",
    "\t\t\t\tmask = G(clean_band, noise_band) # outout mask is actually alpha^2 shown in paper, which should be applied to power spectrum \n",
    "\n",
    "\t\t\t\t# Do utterance-level energy normalization\n",
    "\t\t\t\tclean_power = torch.pow(clean_band.detach(), inv_p)\n",
    "\t\t\t\tbeta_2 = torch.sum(clean_power) / torch.sum(mask*clean_power)\n",
    "\t\t\t\tbeta_p = beta_2 ** p_power\n",
    "\n",
    "\t\t\t\tenh_band = clean_band * torch.pow(mask, p_power) * beta_p\n",
    "\t\t\t\tref_band = clean_band.detach()\n",
    "\n",
    "\t\t\t\tenh_band = enh_band.view(1,1,enh_band.shape[1],enh_band.shape[2]).transpose(2,3).contiguous()\n",
    "\t\t\t\tnoise_band = noise_band.view(1,1,noise_band.shape[1],noise_band.shape[2]).transpose(2,3).contiguous()\n",
    "\t\t\t\tref_band = ref_band.view(1,1,ref_band.shape[1],ref_band.shape[2]).transpose(2,3).contiguous()\n",
    "\t\t\t\td_inputs = torch.cat((enh_band,noise_band,ref_band),dim=1)\n",
    "\t\t\t\td_inputs_qua = torch.cat((enh_band, ref_band),dim=1)\n",
    "\n",
    "\t\t\t\tscore = D(d_inputs)\n",
    "\t\t\t\tscore_qua = D_Qua(d_inputs_qua)\n",
    "\n",
    "\t\t\t\tloss = MSELoss(score, target) + weight_qua * MSELoss(score_qua, target_qua)\n",
    "\t\t\t\toptimizer_g.zero_grad()\n",
    "\t\t\t\tloss.backward()\n",
    "\t\t\t\toptimizer_g.step()\n",
    "\t\t\t\tstep_g += 1\n",
    "\n",
    "\n",
    "\t\t# Evaluate the performance of generator in a validation set.\n",
    "\t\tinterval_epoch = 1\n",
    "\t\tif gan_epoch % interval_epoch == 0: \n",
    "\t\t\tprint('Evaluate G by validation data ...')\n",
    "\t\t\tTest_enhanced_Name = []\n",
    "\t\t\tutterance = 0\n",
    "\t\t\tG.eval()\n",
    "\t\t\twith torch.no_grad():\n",
    "\t\t\t\tfor i, path in enumerate(Generator_Test_paths[0:num_of_valid_sample]):\n",
    "\t\t\t\t\tS = path.split('/')\n",
    "\t\t\t\t\twave_name = S[-1]\n",
    "\n",
    "\t\t\t\t\tclean_wav,sr = librosa.load(path, sr=None)\n",
    "\t\t\t\t\tassert sr==16000\n",
    "\t\t\t\t\tnoise_wav,sr = librosa.load(Test_Noise_path+wave_name, sr=None)\n",
    "\t\t\t\t\tassert sr==16000\n",
    "\n",
    "\t\t\t\t\tclean_band, clean_mag, clean_phase = Sp_and_phase_Speech(clean_wav, power=p_power, Normalization=True)\n",
    "\t\t\t\t\tnoise_band, noise_mag, noise_phase = Sp_and_phase_Noise(noise_wav, power=p_power, Normalization=True)\n",
    "\t\t\t\t\t\n",
    "\t\t\t\t\tclean_in = clean_band.reshape(1,clean_band.shape[0],-1)\n",
    "\t\t\t\t\tclean_in = torch.from_numpy(clean_in).cuda()\n",
    "\t\t\t\t\tnoise_in = noise_band.reshape(1,noise_band.shape[0],-1)\n",
    "\t\t\t\t\tnoise_in = torch.from_numpy(noise_in).cuda()\n",
    "\n",
    "\t\t\t\t\tmask = G(clean_in, noise_in)\n",
    "\t\t\t\t\tclean_power = torch.pow(clean_in, inv_p)\n",
    "\t\t\t\t\tbeta_2 = torch.sum(clean_power) / torch.sum(mask*clean_power)\n",
    "\t\t\t\t\t# beta_2 = torch.sum(clean_power, dim=2) / torch.sum(mask*clean_power, dim=2)\n",
    "\t\t\t\t\t# beta_2 = beta_2.unsqueeze(2)\n",
    "\t\t\t\t\tmask = mask * beta_2 # normed alpha2\n",
    "\t\t\t\t\tmask = mask.detach().cpu().squeeze(0).numpy()\n",
    "\t\t\t\t\tenh_wav = SP_to_wav(mask, clean_mag, clean_phase)\n",
    "\n",
    "\t\t\t\t\tif utterance<20: # Only seperatly save the firt 20 utterance for listening comparision \n",
    "\t\t\t\t\t\tenhanced_name=output_path+\"/epoch\"+str(gan_epoch)+\"/\"+\"Test_epoch\"+str(gan_epoch)+\"/\"+ wave_name[0:-4]+\"@\"+str(gan_epoch)+wave_name[-4:]\n",
    "\t\t\t\t\telse:\n",
    "\t\t\t\t\t\tenhanced_name=output_path+\"/temp\"+\"/\"+ wave_name[0:-4]+\"@\"+str(gan_epoch)+wave_name[-4:]\n",
    "\t\t\t\t\n",
    "\t\t\t\t\tsf.write(enhanced_name, enh_wav, fs,'PCM_16')\n",
    "\t\t\t\t\tutterance+=1      \n",
    "\t\t\t\t\tTest_enhanced_Name.append(enhanced_name) \n",
    "\t\t\t\t\t#print(i)\n",
    "\t\t\tG.train()\n",
    "\n",
    "\t\t\t# Calculate True HASPI\n",
    "\t\t\ttest_HASPI = read_batch_HASPI(Test_Clean_path, Test_Noise_path, Test_enhanced_Name, norm=False)\n",
    "\t\t\tTest_HASPI.append(np.mean(test_HASPI))\n",
    "\n",
    "\t\t\t# Calculate True ESTOI\n",
    "\t\t\ttest_ESTOI = read_batch_STOI(Test_Clean_path, Test_Noise_path, Test_enhanced_Name, norm=False)\n",
    "\t\t\tTest_ESTOI.append(np.mean(test_ESTOI))\n",
    "\n",
    "\t\t\t# Calculate True SIIB\n",
    "\t\t\ttest_SIIB = read_batch_SIIB(Test_Clean_path, Test_Noise_path, Test_enhanced_Name, norm=False)\n",
    "\t\t\tTest_SIIB.append(np.mean(test_SIIB))\n",
    "\n",
    "\t\t\t# Calculate True PESQ\n",
    "\t\t\ttest_PESQ = read_batch_PESQ(Test_Clean_path, Test_enhanced_Name, norm=False)\n",
    "\t\t\tTest_PESQ.append(np.mean(test_PESQ))\n",
    "\t\t\t\n",
    "\t\t\t# Calculate True VISQOL\n",
    "\t\t\ttest_VISQOL = read_batch_VISQOL(Test_Clean_path, Test_enhanced_Name, norm=False)\n",
    "\t\t\tTest_VISQOL.append(np.mean(test_VISQOL))\n",
    "\n",
    "\t\t\twith open('./log.txt','a') as f:\n",
    "\t\t\t\tf.write('SIIB is %.3f, HASPI is %.3f, ESTOI is %.3f, PESQ is %.3f, VISQOL is %.3f, EPOCH:%d \\n'%(np.mean(test_SIIB), np.mean(test_HASPI), np.mean(test_ESTOI), np.mean(test_PESQ), np.mean(test_VISQOL), gan_epoch))\n",
    "\t\t\t# Plot learning curves\n",
    "\t\t\tplt.figure(1)\n",
    "\t\t\tplt.plot(range(1,gan_epoch+1,interval_epoch),Test_HASPI,'b',label='ValidHASPI')\n",
    "\t\t\tplt.xlim([1,gan_epoch])\n",
    "\t\t\tplt.xlabel('GAN_epoch')\n",
    "\t\t\tplt.ylabel('HASPI')\n",
    "\t\t\tplt.grid(True)\n",
    "\t\t\tplt.savefig(output_path+'/Test_HASPI.png', dpi=150)\n",
    "\t\t\t\n",
    "\t\t\tplt.figure(2)\n",
    "\t\t\tplt.plot(range(1,gan_epoch+1,interval_epoch),Test_SIIB,'r',label='ValidSIIB')\n",
    "\t\t\tplt.xlim([1,gan_epoch])\n",
    "\t\t\tplt.xlabel('GAN_epoch')\n",
    "\t\t\tplt.ylabel('SIIB')\n",
    "\t\t\tplt.grid(True)\n",
    "\t\t\tplt.savefig(output_path+'/Test_SIIB.png', dpi=150)\n",
    "\n",
    "\t\t\tplt.figure(3)\n",
    "\t\t\tplt.plot(range(1,gan_epoch+1,interval_epoch),Test_ESTOI,'b',label='ValidESTOI')\n",
    "\t\t\tplt.xlim([1,gan_epoch])\n",
    "\t\t\tplt.xlabel('GAN_epoch')\n",
    "\t\t\tplt.ylabel('ESTOI')\n",
    "\t\t\tplt.grid(True)\n",
    "\t\t\tplt.savefig(output_path+'/Test_ESTOI.png', dpi=150)\n",
    "\n",
    "\t\t\tplt.figure(4)\n",
    "\t\t\tplt.plot(range(1,gan_epoch+1,interval_epoch),Test_PESQ,'b',label='ValidPESQ')\n",
    "\t\t\tplt.xlim([1,gan_epoch])\n",
    "\t\t\tplt.xlabel('GAN_epoch')\n",
    "\t\t\tplt.ylabel('PESQ')\n",
    "\t\t\tplt.grid(True)\n",
    "\t\t\tplt.savefig(output_path+'/Test_PESQ.png', dpi=150)\n",
    "\n",
    "\t\t\tplt.figure(5)\n",
    "\t\t\tplt.plot(range(1,gan_epoch+1,interval_epoch),Test_VISQOL,'b',label='ValidVISQOL')\n",
    "\t\t\tplt.xlim([1,gan_epoch])\n",
    "\t\t\tplt.xlabel('GAN_epoch')\n",
    "\t\t\tplt.ylabel('VISQOL')\n",
    "\t\t\tplt.grid(True)\n",
    "\t\t\tplt.savefig(output_path+'/Test_VISQOL.png', dpi=150)\n",
    "\n",
    "\t\t# save the current enhancement model\n",
    "\t\tsave_path = os.path.join(pt_dir, 'chkpt_%d.pt' % gan_epoch)\n",
    "\t\ttorch.save({\n",
    "\t\t\t'enhance-model': G.state_dict(),\n",
    "\t\t\t'intel-model': D.state_dict(),\n",
    "\t\t}, save_path)\n",
    "\n",
    "\t\tprint('Sample training data for discriminator training...')\n",
    "\t\tD_paths = Generator_Train_paths[0:num_of_sampling]\n",
    "\n",
    "\t\tEnhanced_name = []\n",
    "\n",
    "\t\tG.eval()\n",
    "\t\t# Generate samples for discriminator training\n",
    "\t\twith torch.no_grad():\n",
    "\t\t\tfor path in D_paths:\n",
    "\t\t\t\tS = path.split('/')\n",
    "\t\t\t\twave_name = S[-1]\n",
    "\t\t\t\tclean_wav, sr = librosa.load(path, sr=fs)\n",
    "\t\t\t\tassert sr==16000\n",
    "\t\t\t\tnoise_wav, _ = librosa.load(Train_Noise_path+wave_name, sr=fs)\n",
    "\n",
    "\t\t\t\tclean_band, clean_mag, clean_phase = Sp_and_phase_Speech(clean_wav, power=p_power, Normalization=True)\n",
    "\t\t\t\tnoise_band, noise_mag, noise_phase = Sp_and_phase_Noise(noise_wav, power=p_power, Normalization=True)\n",
    "\t\t\t\t\n",
    "\t\t\t\tclean_in = clean_band.reshape(1,clean_band.shape[0],-1)\n",
    "\t\t\t\tclean_in = torch.from_numpy(clean_in).cuda()\n",
    "\t\t\t\tnoise_in = noise_band.reshape(1,noise_band.shape[0],-1)\n",
    "\t\t\t\tnoise_in = torch.from_numpy(noise_in).cuda()\n",
    "\n",
    "\t\t\t\t# Energy normalization\n",
    "\t\t\t\tmask = G(clean_in, noise_in)\n",
    "\t\t\t\tclean_power = torch.pow(clean_in, inv_p)\n",
    "\t\t\t\tbeta_2 = torch.sum(clean_power) / torch.sum(mask*clean_power)\n",
    "\t\t\t\t# beta_2 = torch.sum(clean_power, dim=2) / torch.sum(mask*clean_power, dim=2)\n",
    "\t\t\t\t# beta_2 = beta_2.unsqueeze(2)\n",
    "\t\t\t\tmask = mask * beta_2 # normed alpha2\n",
    "\t\t\t\tmask = mask.detach().cpu().squeeze(0).numpy()\n",
    "\t\t\t\tenh_wav = SP_to_wav(mask, clean_mag, clean_phase)\n",
    "\n",
    "\t\t\t\tenhanced_name=output_path+\"/For_discriminator_training/\"+ wave_name[0:-4]+\"@\"+str(gan_epoch)+wave_name[-4:]\n",
    "\t\t\t\tsf.write(enhanced_name, enh_wav, fs,'PCM_16')\n",
    "\t\t\t\tEnhanced_name.append(enhanced_name)\n",
    "\n",
    "\t\tG.train()\n",
    "\n",
    "\t\t# Calculate True SIIB score\n",
    "\t\ttrain_SIIB = read_batch_SIIB(Train_Clean_path, Train_Noise_path, Enhanced_name)\n",
    "\t\ttrain_HASPI = read_batch_HASPI(Train_Clean_path, Train_Noise_path, Enhanced_name)\n",
    "\t\ttrain_ESTOI = read_batch_STOI(Train_Clean_path, Train_Noise_path, Enhanced_name)\n",
    "\t\ttrain_PESQ = read_batch_PESQ(Train_Clean_path, Enhanced_name)\n",
    "\t\ttrain_VISQOL = read_batch_VISQOL(Train_Clean_path, Enhanced_name)\n",
    "\n",
    "\n",
    "\t\ttrain_SIIB = List_concat_5scores(train_SIIB, train_HASPI, train_ESTOI, train_PESQ, train_VISQOL) # SIIB, HASPI, ESTOI, PESQ, VISQOL\n",
    "\t\tcurrent_sampling_list=List_concat(train_SIIB, Enhanced_name) # This list is used to train discriminator.\n",
    "\n",
    "\t\t# DRC_Enhanced_name = [Train_Enhan_path+'Train_'+S.split('/')[-1].split('_')[-1].split('@')[0]+'.wav' for S in Enhanced_name]\n",
    "\t\tDRC_Enhanced_name = [Train_Enhan_path+S.split('/')[-1].split('@')[0]+'.wav' for S in Enhanced_name]\n",
    "\t\t#pdb.set_trace()\n",
    "\t\ttrain_SIIB_DRC = read_batch_SIIB_DRC(Train_Clean_path, Train_Noise_path, DRC_Enhanced_name)\n",
    "\t\ttrain_HASPI_DRC = read_batch_HASPI_DRC(Train_Clean_path, Train_Noise_path, DRC_Enhanced_name)\n",
    "\t\ttrain_ESTOI_DRC = read_batch_STOI_DRC(Train_Clean_path, Train_Noise_path, DRC_Enhanced_name)\n",
    "\t\ttrain_PESQ_DRC = read_batch_PESQ_DRC(Train_Clean_path, DRC_Enhanced_name)\n",
    "\t\ttrain_VISQOL_DRC = read_batch_VISQOL_DRC(Train_Clean_path, DRC_Enhanced_name)\n",
    "\n",
    "\t\ttrain_SIIB_DRC = List_concat_5scores(train_SIIB_DRC, train_HASPI_DRC, train_ESTOI_DRC, train_PESQ_DRC, train_VISQOL_DRC) # SIIB, HASPI, ESTOI\n",
    "\t\tCo_DRC_list = List_concat(train_SIIB_DRC, DRC_Enhanced_name)\n",
    "\n",
    "\t\tprint(\"Discriminator training...\")\n",
    "\t\t# Training for current list\n",
    "\t\tCurrent_Discriminator_training_list = current_sampling_list+Co_DRC_list\n",
    "\n",
    "\t\trandom.shuffle(Current_Discriminator_training_list)\n",
    "\t\tdisloader = create_dataloader(Current_Discriminator_training_list, Train_Noise_path, Train_Clean_path, loader='D')\n",
    "\n",
    "\t\tfor x, x_qua, target, target_qua in tqdm(disloader):\n",
    "\t\t\tx = x.cuda()\n",
    "\t\t\tx_qua = x_qua.cuda()\n",
    "\t\t\ttarget = target.cuda()\n",
    "\t\t\ttarget_qua = target_qua.cuda()\n",
    "\t\t\tscore = D(x)\n",
    "\t\t\tscore_qua = D_Qua(x_qua)\n",
    "\n",
    "\t\t\tloss = MSELoss(score, target)\n",
    "\t\t\toptimizer_d.zero_grad()\n",
    "\t\t\tloss.backward()\n",
    "\t\t\toptimizer_d.step()\n",
    "\n",
    "\t\t\tloss_qua = MSELoss(score_qua, target_qua)\n",
    "\t\t\toptimizer_dqua.zero_grad()\n",
    "\t\t\tloss_qua.backward()\n",
    "\t\t\toptimizer_dqua.step()\n",
    "\n",
    "\t\t\tstep_d += 1\n",
    "\t\t\n",
    "\n",
    "\t\t## Training for current list + Previous list (like replay buffer in RL, optional)\n",
    "\t\trandom.shuffle(Previous_Discriminator_training_list)\n",
    "\n",
    "\t\tTotal_Discriminator_training_list=Previous_Discriminator_training_list[0:len(Previous_Discriminator_training_list)//30]+Current_Discriminator_training_list # Discriminator_Train_list is the list used for pretraining.\n",
    "\t\trandom.shuffle(Total_Discriminator_training_list)\n",
    "\n",
    "\t\tdisloader_past = create_dataloader(Total_Discriminator_training_list, Train_Noise_path, Train_Clean_path, loader='D')\n",
    "\n",
    "\t\tfor x, x_qua, target, target_qua in tqdm(disloader_past):\n",
    "\t\t\tx = x.cuda()\n",
    "\t\t\tx_qua = x_qua.cuda()\n",
    "\t\t\ttarget = target.cuda()\n",
    "\t\t\ttarget_qua = target_qua.cuda()\n",
    "\t\t\tscore = D(x)\n",
    "\t\t\tscore_qua = D_Qua(x_qua)\n",
    "\n",
    "\t\t\tloss = MSELoss(score, target)\n",
    "\t\t\toptimizer_d.zero_grad()\n",
    "\t\t\tloss.backward()\n",
    "\t\t\toptimizer_d.step()\n",
    "\n",
    "\t\t\tloss_qua = MSELoss(score_qua, target_qua)\n",
    "\t\t\toptimizer_dqua.zero_grad()\n",
    "\t\t\tloss_qua.backward()\n",
    "\t\t\toptimizer_dqua.step()\n",
    "\n",
    "\t\t\tstep_d += 1\n",
    "\t\t\t#if step_d % 1000 ==0:\n",
    "\t\t\t#    print('Step %d: Loss in D training is %.3f'%(step_d,loss.item()))\n",
    "\t\t\t\n",
    "\t\t# Update the history list\n",
    "\t\tPrevious_Discriminator_training_list=Previous_Discriminator_training_list+Current_Discriminator_training_list \n",
    "\t\t\n",
    "\t\t# Training current list again\n",
    "\t\tfor x, x_qua, target, target_qua in tqdm(disloader):\n",
    "\t\t\tx = x.cuda()\n",
    "\t\t\tx_qua = x_qua.cuda()\n",
    "\t\t\ttarget = target.cuda()\n",
    "\t\t\ttarget_qua = target_qua.cuda()\n",
    "\t\t\tscore = D(x)\n",
    "\t\t\tscore_qua = D_Qua(x_qua)\n",
    "\n",
    "\t\t\tloss = MSELoss(score, target)\n",
    "\t\t\toptimizer_d.zero_grad()\n",
    "\t\t\tloss.backward()\n",
    "\t\t\toptimizer_d.step()\n",
    "\n",
    "\t\t\tloss_qua = MSELoss(score_qua, target_qua)\n",
    "\t\t\toptimizer_dqua.zero_grad()\n",
    "\t\t\tloss_qua.backward()\n",
    "\t\t\toptimizer_dqua.step()\n",
    "\n",
    "\t\t\tstep_d += 1\n",
    "\t\t\t#if step_d % 1000 ==0:\n",
    "\t\t\t#    print('Step %d: Loss in D training is %.3f'%(step_d,loss.item()))\n",
    "\t\t\n",
    "\t\tshutil.rmtree(output_path+'/temp')\n",
    "\t\tprint('Epoch %d Finished' % gan_epoch)\n",
    "except KeyboardInterrupt:\n",
    "\t# save the current enhancement model\n",
    "\tsave_path = os.path.join(pt_dir, 'chkpt_final.pt')\n",
    "\ttorch.save({\n",
    "\t\t'enhance-model': G.state_dict(),\n",
    "\t\t'intel-model': D.state_dict(),\n",
    "\t}, save_path)\n",
    "\n",
    "print('Finished')"
   ]
  },
  {
   "cell_type": "code",
   "execution_count": 13,
   "metadata": {},
   "outputs": [
    {
     "data": {
      "image/png": "[encoded data removed]",
      "text/plain": [
       "<Figure size 1500x900 with 5 Axes>"
      ]
     },
     "metadata": {},
     "output_type": "display_data"
    }
   ],
   "source": [
    "# Display training plots\n",
    "metrics = [\"SIIB\", \"HASPI\", \"ESTOI\", \"PESQ\", \"VISQOL\"]\n",
    "\n",
    "# Create a new figure\n",
    "fig = plt.figure()\n",
    "fig.set_size_inches(15,9)\n",
    "\n",
    "# Loop through the image files and display each one\n",
    "for i, metric in enumerate(metrics):\n",
    "    image_file = f\"output/Test_{metric}.png\"\n",
    "    img = imread(image_file)\n",
    "    ax = fig.add_subplot(2, 3, i + 1)  # 2x3 grid for five images\n",
    "    ax.imshow(img)\n",
    "    ax.set_title(metric)\n",
    "    ax.axis('off')  # Turn off axis labels\n",
    "\n",
    "fig.suptitle(\"Metrics on validation data during training\")\n",
    "# Adjust the layout of subplots for better spacing\n",
    "plt.tight_layout(rect=[0, 0.03, 1, 0.95])\n",
    "# Show the figure\n",
    "plt.show()"
   ]
  },
  {
   "cell_type": "markdown",
   "metadata": {},
   "source": [
    "# Test the model"
   ]
  },
  {
   "cell_type": "markdown",
   "metadata": {},
   "source": [
    "In this section we will compare the performance of the model on the unseen test samples.\n",
    "\n",
    "As well as including unseen clean samples, this dataset also includes two types of noise not encountered during training or validation."
   ]
  },
  {
   "cell_type": "markdown",
   "metadata": {},
   "source": [
    "## Generate enhanced speech on test data"
   ]
  },
  {
   "cell_type": "code",
   "execution_count": 14,
   "metadata": {},
   "outputs": [
    {
     "data": {
      "text/plain": [
       "<All keys matched successfully>"
      ]
     },
     "execution_count": 14,
     "metadata": {},
     "output_type": "execute_result"
    }
   ],
   "source": [
    "# Set the paths for the test data\n",
    "Test_Noise_path ='data/Test/Noise/'\n",
    "Test_Clean_path = 'data/Test/Clean/'\n",
    "Generator_Test_paths = get_filepaths('data/Test/Clean/')\n",
    "\n",
    "G = Generator_Conv1D_cLN().cuda()\n",
    "D = Discriminator().cuda()\n",
    "MSELoss = nn.MSELoss().cuda()\n",
    "\n",
    "Test_HASPI = []\n",
    "Test_ESTOI = []\n",
    "Test_SIIB = []\n",
    "Test_PESQ = []\n",
    "Test_VISQOL = []\n",
    "\n",
    "# Load the model from the last training epoch\n",
    "chkpt_path = 'chkpt/chkpt_50.pt'\n",
    "G.load_state_dict(torch.load(chkpt_path)['enhance-model'])"
   ]
  },
  {
   "cell_type": "code",
   "execution_count": null,
   "metadata": {},
   "outputs": [],
   "source": [
    "# Generate the enhanced speech\n",
    "fs = 16000\n",
    "p_power = (1/6) # or 0.15\n",
    "inv_p = 6\n",
    "Test_enhanced_Name = []\n",
    "utterance = 0\n",
    "output_path = \"test-enhanced-data\"\n",
    "os.makedirs(output_path, exist_ok=True)\n",
    "G.eval()\n",
    "with torch.no_grad():\n",
    "    for i, path in enumerate(Generator_Test_paths):\n",
    "        print(i)\n",
    "        S = path.split('/')\n",
    "        wave_name = S[-1]\n",
    "\n",
    "        clean_wav,sr = librosa.load(path, sr=None)\n",
    "        assert sr==16000\n",
    "        noise_wav,sr = librosa.load(Test_Noise_path+wave_name, sr=None)\n",
    "        assert sr==16000\n",
    "\n",
    "        clean_band, clean_mag, clean_phase = Sp_and_phase_Speech(clean_wav, power=p_power, Normalization=True)\n",
    "        noise_band, noise_mag, noise_phase = Sp_and_phase_Noise(noise_wav, power=p_power, Normalization=True)\n",
    "        \n",
    "        clean_in = clean_band.reshape(1,clean_band.shape[0],-1)\n",
    "        clean_in = torch.from_numpy(clean_in).cuda()\n",
    "        noise_in = noise_band.reshape(1,noise_band.shape[0],-1)\n",
    "        noise_in = torch.from_numpy(noise_in).cuda()\n",
    "        \n",
    "        # Energy normalization\n",
    "        mask = G(clean_in, noise_in)\n",
    "        clean_power = torch.pow(clean_in, inv_p)\n",
    "\n",
    "        beta_2 = torch.sum(clean_power) / torch.sum(mask*clean_power)\n",
    "\n",
    "        mask = mask * beta_2 # normed alpha2\n",
    "        mask = mask.detach().cpu().squeeze(0).numpy()\n",
    "        enh_wav = SP_to_wav(mask, clean_mag, clean_phase) # enh_wav has approximately same energy as input, but not strictlly same since calculation error\n",
    "        enh_wav = enh_wav / rms(enh_wav) * 0.030 # Normalize enh_wav into exactly same energy level as input (here rms is set to 0.03 because we pre-normalized input speech into 0.03 RMS)\n",
    "\n",
    "        enhanced_name=output_path+\"/\"+ wave_name[:-4]+'@1.wav'\n",
    "\n",
    "    \n",
    "        # # librosa.output.write_wav(enhanced_name, enh_wav, fs)\n",
    "        sf.write(enhanced_name, enh_wav, fs,'PCM_16')\n",
    "        # utterance+=1\n",
    "        Test_enhanced_Name.append(enhanced_name)\n",
    "\n",
    "Test_enhanced_Name_Backup = Test_enhanced_Name"
   ]
  },
  {
   "cell_type": "markdown",
   "metadata": {},
   "source": [
    "## Test on the different enhanced signals"
   ]
  },
  {
   "cell_type": "code",
   "execution_count": 18,
   "metadata": {},
   "outputs": [],
   "source": [
    "def test_enhanced_signals(clean_wav_root, noise_wav_root, enhanced_file_list):\n",
    "    # Calculate True HASPI\n",
    "    test_HASPI = read_batch_HASPI(clean_wav_root, noise_wav_root, enhanced_file_list, norm=False)\n",
    "\n",
    "    # Calculate True ESTOI\n",
    "    test_ESTOI = read_batch_STOI(clean_wav_root, noise_wav_root, enhanced_file_list, norm=False)\n",
    "\n",
    "    # Calculate True SIIB\n",
    "    test_SIIB = read_batch_SIIB(clean_wav_root, noise_wav_root, enhanced_file_list, norm=False)\n",
    "\n",
    "    # Calculate True PESQ\n",
    "    test_PESQ = read_batch_PESQ(clean_wav_root, enhanced_file_list, norm=False)\n",
    "\n",
    "    # Calculate True VISQOL\n",
    "    test_VISQOL = read_batch_VISQOL(clean_wav_root, enhanced_file_list, norm=False)\n",
    "\n",
    "    return test_HASPI, test_ESTOI, test_SIIB, test_PESQ, test_VISQOL"
   ]
  },
  {
   "cell_type": "code",
   "execution_count": 21,
   "metadata": {},
   "outputs": [
    {
     "name": "stdout",
     "output_type": "stream",
     "text": [
      "Testing NELE-GAN enhanced signals\n"
     ]
    }
   ],
   "source": [
    "clean_wav_root = \"data/Test/Clean/\"\n",
    "noise_wav_root = \"data/Test/Noise/\"\n",
    "\n",
    "print(\"Testing NELE-GAN enhanced signals\")\n",
    "nele_gan_enhanced_list = [ \"test-enhanced-data/\"+file for file in os.listdir(\"test-enhanced-data\") ]\n",
    "nele_gan_scores = test_enhanced_signals(clean_wav_root, noise_wav_root, nele_gan_enhanced_list)\n",
    "\n",
    "print(\"Testing wSSDRC enhanced signals\")\n",
    "wssdrc_enhanced_list = [ \"data/Test/MultiEnh/\"+file for file in os.listdir(\"data/Test/MultiEnh\") ]\n",
    "wssdrc_scores = test_enhanced_signals(clean_wav_root, noise_wav_root, wssdrc_enhanced_list)\n",
    "\n",
    "print(\"Testing clean signals\")\n",
    "clean_list = [ clean_wav_root+file for file in os.listdir(clean_wav_root) ]\n",
    "clean_scores = test_enhanced_signals(clean_wav_root, noise_wav_root, clean_list)"
   ]
  },
  {
   "cell_type": "code",
   "execution_count": null,
   "metadata": {},
   "outputs": [],
   "source": [
    "# Metric names\n",
    "metrics = ('HASPI', 'ESTOI', 'SIIB', 'PESQ', 'VISQOL')\n",
    "\n",
    "# Number of metrics\n",
    "num_metrics = len(metrics)\n",
    "\n",
    "# Create an array of indices for the x-axis\n",
    "x = np.arange(num_metrics)\n",
    "\n",
    "# Width of each bar\n",
    "bar_width = 0.2\n",
    "\n",
    "# Create a figure and axis\n",
    "fig, ax = plt.subplots()\n",
    "\n",
    "# Set the figure size\n",
    "fig.set_size_inches(10, 6)\n",
    "\n",
    "# Create clustered bars for each metric\n",
    "nele_gan_bars = ax.bar(x - bar_width, nele_gan_scores, bar_width, label='NELE-GAN', color='royalblue', alpha=0.8)\n",
    "wssdrc_bars = ax.bar(x, wssdrc_scores, bar_width, label='wSSDRC', color='dodgerblue', alpha=0.8)\n",
    "clean_bars = ax.bar(x + bar_width, clean_scores, bar_width, label='Clean (no enhancement)', color='deepskyblue', alpha=0.8)\n",
    "\n",
    "# Set the x-axis ticks and labels\n",
    "ax.set_xticks(x)\n",
    "ax.set_xticklabels(metrics)\n",
    "ax.grid(axis='x')\n",
    "\n",
    "# Set labels and title\n",
    "ax.set_xlabel('Metrics')\n",
    "ax.set_ylabel('Scores')\n",
    "ax.set_title('Comparison of Scores for Test Data Enhanced with Different Models')\n",
    "\n",
    "# Add a legend\n",
    "ax.legend()\n",
    "\n",
    "# Display the plot\n",
    "plt.show()"
   ]
  },
  {
   "cell_type": "markdown",
   "metadata": {},
   "source": [
    "## Generate demonstration samples"
   ]
  },
  {
   "cell_type": "markdown",
   "metadata": {},
   "source": []
  }
 ],
 "metadata": {
  "kernelspec": {
   "display_name": "Python 3",
   "language": "python",
   "name": "python3"
  },
  "language_info": {
   "codemirror_mode": {
    "name": "ipython",
    "version": 3
   },
   "file_extension": ".py",
   "mimetype": "text/x-python",
   "name": "python",
   "nbconvert_exporter": "python",
   "pygments_lexer": "ipython3",
   "version": "3.7.12"
  },
  "orig_nbformat": 4
 },
 "nbformat": 4,
 "nbformat_minor": 2
}
